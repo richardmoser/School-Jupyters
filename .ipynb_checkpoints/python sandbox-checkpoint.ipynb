{
 "cells": [
  {
   "cell_type": "code",
   "execution_count": 16,
   "metadata": {},
   "outputs": [],
   "source": [
    "import statistics\n",
    "# returns the mean median and mode of a list\n",
    "def mean_median_mode(list):\n",
    "    mean = sum(list)/len(list)\n",
    "    median = statistics.median(list)\n",
    "    mode = statistics.mode(list)\n",
    "    return mean, median, mode\n",
    "# fills a list with 46, 41, 43, 42, 41, 47, 40, 42, 48, 50, 43, 40, 42, 46, 46,\n",
    "# 48, 44, 41, 43, 44, 47, 47, 44, 45, 43, 46, 47, 46, 47, 45\n",
    "\n",
    "def fill_list(list):\n",
    "    list.append(46)\n",
    "    list.append(41)\n",
    "    list.append(43)\n",
    "    list.append(42)\n",
    "    list.append(41)\n",
    "    list.append(47)\n",
    "    list.append(40)\n",
    "    list.append(42)\n",
    "    list.append(48)\n",
    "    list.append(50)\n",
    "    list.append(43)\n",
    "    list.append(40)\n",
    "    list.append(42)\n",
    "    list.append(46)\n",
    "    list.append(46)\n",
    "    list.append(48)\n",
    "    list.append(44)\n",
    "    list.append(41)\n",
    "    list.append(43)\n",
    "    list.append(44)\n",
    "    list.append(47)\n",
    "    list.append(47)\n",
    "    list.append(44)\n",
    "    list.append(45)\n",
    "    list.append(43)\n",
    "    list.append(46)\n",
    "    list.append(47)\n",
    "    list.append(46)\n",
    "    list.append(47)\n",
    "    list.append(45)\n",
    "    return list\n"
   ]
  },
  {
   "cell_type": "code",
   "execution_count": 23,
   "metadata": {},
   "outputs": [
    {
     "ename": "StatisticsError",
     "evalue": "no unique mode; found 2 equally common values",
     "output_type": "error",
     "traceback": [
      "\u001B[0;31m---------------------------------------------------------------------------\u001B[0m",
      "\u001B[0;31mStatisticsError\u001B[0m                           Traceback (most recent call last)",
      "\u001B[0;32m<ipython-input-23-62386c7a47f7>\u001B[0m in \u001B[0;36m<module>\u001B[0;34m\u001B[0m\n\u001B[1;32m      2\u001B[0m \u001B[0mcool_list\u001B[0m \u001B[0;34m=\u001B[0m \u001B[0mfill_list\u001B[0m\u001B[0;34m(\u001B[0m\u001B[0mcool_list\u001B[0m\u001B[0;34m)\u001B[0m\u001B[0;34m\u001B[0m\u001B[0;34m\u001B[0m\u001B[0m\n\u001B[1;32m      3\u001B[0m \u001B[0;31m# mean, median, mode = mean_median_mode(cool_list)\u001B[0m\u001B[0;34m\u001B[0m\u001B[0;34m\u001B[0m\u001B[0;34m\u001B[0m\u001B[0m\n\u001B[0;32m----> 4\u001B[0;31m \u001B[0mprint\u001B[0m\u001B[0;34m(\u001B[0m\u001B[0mstatistics\u001B[0m\u001B[0;34m.\u001B[0m\u001B[0mmode\u001B[0m\u001B[0;34m(\u001B[0m\u001B[0mcool_list\u001B[0m\u001B[0;34m)\u001B[0m\u001B[0;34m)\u001B[0m\u001B[0;34m\u001B[0m\u001B[0;34m\u001B[0m\u001B[0m\n\u001B[0m\u001B[1;32m      5\u001B[0m \u001B[0;34m\u001B[0m\u001B[0m\n\u001B[1;32m      6\u001B[0m \u001B[0;31m# print(\"Mean: \", mean)\u001B[0m\u001B[0;34m\u001B[0m\u001B[0;34m\u001B[0m\u001B[0;34m\u001B[0m\u001B[0m\n",
      "\u001B[0;32m/usr/lib/python3.6/statistics.py\u001B[0m in \u001B[0;36mmode\u001B[0;34m(data)\u001B[0m\n\u001B[1;32m    505\u001B[0m     \u001B[0;32melif\u001B[0m \u001B[0mtable\u001B[0m\u001B[0;34m:\u001B[0m\u001B[0;34m\u001B[0m\u001B[0;34m\u001B[0m\u001B[0m\n\u001B[1;32m    506\u001B[0m         raise StatisticsError(\n\u001B[0;32m--> 507\u001B[0;31m                 \u001B[0;34m'no unique mode; found %d equally common values'\u001B[0m \u001B[0;34m%\u001B[0m \u001B[0mlen\u001B[0m\u001B[0;34m(\u001B[0m\u001B[0mtable\u001B[0m\u001B[0;34m)\u001B[0m\u001B[0;34m\u001B[0m\u001B[0;34m\u001B[0m\u001B[0m\n\u001B[0m\u001B[1;32m    508\u001B[0m                 )\n\u001B[1;32m    509\u001B[0m     \u001B[0;32melse\u001B[0m\u001B[0;34m:\u001B[0m\u001B[0;34m\u001B[0m\u001B[0;34m\u001B[0m\u001B[0m\n",
      "\u001B[0;31mStatisticsError\u001B[0m: no unique mode; found 2 equally common values"
     ]
    }
   ],
   "source": [
    "cool_list = []\n",
    "cool_list = fill_list(cool_list)\n",
    "# mean, median, mode = mean_median_mode(cool_list)\n",
    "print(statistics.mode(cool_list))\n",
    "\n",
    "# print(\"Mean: \", mean)\n",
    "# print(\"Median: \", median)\n",
    "# print(\"Mode: \", mode)"
   ]
  },
  {
   "cell_type": "code",
   "execution_count": null,
   "metadata": {},
   "outputs": [],
   "source": []
  },
  {
   "cell_type": "code",
   "execution_count": null,
   "metadata": {},
   "outputs": [],
   "source": []
  },
  {
   "cell_type": "code",
   "execution_count": null,
   "metadata": {},
   "outputs": [],
   "source": []
  },
  {
   "cell_type": "code",
   "execution_count": null,
   "metadata": {},
   "outputs": [],
   "source": []
  }
 ],
 "metadata": {
  "kernelspec": {
   "display_name": "Python 3",
   "language": "python",
   "name": "python3"
  },
  "language_info": {
   "codemirror_mode": {
    "name": "ipython",
    "version": 3
   },
   "file_extension": ".py",
   "mimetype": "text/x-python",
   "name": "python",
   "nbconvert_exporter": "python",
   "pygments_lexer": "ipython3",
   "version": "3.6.9"
  }
 },
 "nbformat": 4,
 "nbformat_minor": 1
}
