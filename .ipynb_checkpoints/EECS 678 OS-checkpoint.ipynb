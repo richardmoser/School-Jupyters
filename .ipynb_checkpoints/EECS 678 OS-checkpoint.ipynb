{
 "cells": [
  {
   "cell_type": "markdown",
   "id": "6ba54715-6441-49ec-b6e1-5c08e59b9eb1",
   "metadata": {},
   "source": [
    "### Intro to OS"
   ]
  },
  {
   "cell_type": "markdown",
   "id": "3c4a3489-ea93-4bbc-8bb7-fc4deb63df94",
   "metadata": {},
   "source": [
    "* Definition\n",
    "    * a program that acts as an intermediary between users and the computer hardware\n",
    "* User view\n",
    "    * makes it easier to write programs\n",
    "    * provide more powerful instructions to the ISA\n",
    "    * make it easy to run programs\n",
    "    * multi user management\n",
    "    * "
   ]
  },
  {
   "cell_type": "markdown",
   "id": "298ff6c8-574c-48b9-9dbe-a4df1c8ad2dd",
   "metadata": {},
   "source": []
  }
 ],
 "metadata": {
  "kernelspec": {
   "display_name": "Python 3 (ipykernel)",
   "language": "python",
   "name": "python3"
  },
  "language_info": {
   "codemirror_mode": {
    "name": "ipython",
    "version": 3
   },
   "file_extension": ".py",
   "mimetype": "text/x-python",
   "name": "python",
   "nbconvert_exporter": "python",
   "pygments_lexer": "ipython3",
   "version": "3.10.6"
  }
 },
 "nbformat": 4,
 "nbformat_minor": 5
}
