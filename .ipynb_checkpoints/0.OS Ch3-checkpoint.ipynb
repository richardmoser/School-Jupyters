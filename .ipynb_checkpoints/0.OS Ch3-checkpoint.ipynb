{
 "cells": [
  {
   "cell_type": "markdown",
   "source": [
    "### Processes\n",
    "- Process\n",
    "    - a program in execution\n",
    "    - an instance of a program running on a computer \n",
    "    - also called a job\n",
    "    - process is active, program is passive\n",
    "    - program becomes a process when it is loaded into memory\n",
    "        - each new execution creates a new process\n",
    "-  process in memory\n",
    "    - <img src=\"images/process_memory.png\" alt=\"drawing\" width=\"400\"/> \n",
    "    - stack\n",
    "        - local variables (function parameters)\n",
    "        - calling a function allocates memory on the stack \n",
    "    - heap\n",
    "        - dynamic memory allocation (variables)\n",
    "        - can grow and shrink during execution\n",
    "    - data\n",
    "        - global variables\n",
    "        - static variables\n",
    "    - text\n",
    "        - functions\n",
    "    - <img src=\"images/process_memory2.png\" alt=\"drawing\" width=\"1000\"/> \n",
    "        - local variables are only available in the function\n",
    "            - because they are deallocated from the stack when the function returns\n",
    "        - global variables are available to all functions\n",
    "            - because they are not deallocated when the function returns and exist on the heap\n",
    "        - garbage collection is performed on the heap\n",
    "            - not all languages have garbage collection\n",
    "- Process States \n",
    "    - new - process is being created\n",
    "    - running - instructions are being executed\n",
    "    - waiting - process is waiting for some event to occur\n",
    "    - ready - process is waiting to be assigned to a processor\n",
    "    - terminated - process has finished execution\n",
    "    - every process must be in exactly one of the above states\n",
    "    - each processor can only execute one process at a time\n",
    "- process transitions\n",
    "    - **looks like an exam question** "
   ],
   "metadata": {
    "collapsed": false
   },
   "id": "c1d78861f5becdd4"
  },
  {
   "cell_type": "markdown",
   "source": [
    "### Process Control Block\n",
    "- represents a process in the operating system\n",
    "    - maintains information about the process\n",
    "    - necessary for scheduling\n",
    "- contains\n",
    "    - process state\n",
    "    - program counter\n",
    "        - address of the next instruction to be executed\n",
    "    - CPU registers\n",
    "        - contents of all process registers\n",
    "            - CPU can only hold one process at a time\n",
    "            - registers must be saved somewhere when a process is interrupted so it can be restored\n",
    "    - CPU scheduling information\n",
    "        - priority\n",
    "        - scheduling queue pointers\n",
    "    - memory management information\n",
    "        - page table\n",
    "        - segment table\n",
    "    - accounting information\n",
    "        - CPU used\n",
    "        - clock time elapsed\n",
    "    - I/O status information\n",
    "        - list of I/O devices allocated to the process\n",
    "        - list of open files\n",
    "- process representation in Linux\n",
    "    - contained in a C struct\n",
    "- context switching\n",
    "    - the process of storing and restoring the CPU state, called a context\n",
    "    -  used in multiprogramming or time-shared systems\n",
    "    - involves time overhead\n",
    "        - time to stop and save one process\n",
    "        - time to restore and start another\n",
    "        - amount of overhead depends on the hardware\n",
    "            - e.g. register speed, number of registers, etc.\n",
    "        - OS will try to minimize the overhead\n",
    "- mode switching\n",
    "    - switching from user to kernel mode or vice versa\n",
    "    - all context switches require a mode switch into kernel mode"
   ],
   "metadata": {
    "collapsed": false
   },
   "id": "23a51494e89afb5d"
  },
  {
   "cell_type": "markdown",
   "source": [
    "### Scheduling\n",
    "- goal\n",
    "    - maximize CPU utilization in a multiprogramming environment\n",
    "    - provide the illusion of multiple processes running simultaneously on one CPU\n",
    "- scheduling queues\n",
    "    - job queue\n",
    "        - set of all processes in the system\n",
    "    - ready queue\n",
    "        - set of all processes residing in main memory, ready and waiting to execute\n",
    "    - device queue\n",
    "        - set of processes waiting for an I/O device\n",
    "    - processes migrate between the various queues\n",
    "- <img src=\"images/process_scheduling.png\">\n",
    "- schedulers\n",
    "    - long-term (job scheduler)\n",
    "        - **not used in many devices and not discussed in depth in this course**\n",
    "        - selects which processes should be brought into the ready queue\n",
    "        - controls the degree of multiprogramming\n",
    "        - controls the mix of I/O bound and CPU bound processes\n",
    "            - has a target ratio\n",
    "        - invoked very infrequently\n",
    "        - can afford more time to select the best processes\n",
    "    - short-term (CPU scheduler)\n",
    "        - **primary scheduler discussed in this course** \n",
    "        -  selects the process to be executed next\n",
    "        - invoked very frequently\n",
    "        - necessary to limit scheduling overhead\n",
    "    - key difference\n",
    "        - long-term scheduler is more selective\n",
    "            - selects from the job queue \n",
    "        - short-term scheduler is more frequent\n",
    "            - selects from the ready queue"
   ],
   "metadata": {
    "collapsed": false
   },
   "id": "6d0c1c1586c871e5"
  },
  {
   "cell_type": "markdown",
   "source": [
    "### Process Creation\n",
    "- processes are created and destroyed dynamically\n",
    "- any process can create a new process \n",
    "    - starts with a *primordial process*\n",
    "        - the first process created by the OS\n",
    "            - pid = 0\n",
    "        - all other processes are descendants of this process\n",
    "    - parent process\n",
    "        - the process that created the new process\n",
    "    - child process\n",
    "        - the process that was created\n",
    "    - managed by pid (process identifier)\n",
    "        - pid of parent is stored in the child process\n",
    "        - pid of child is returned to the parent\n",
    "- resource sharing options\n",
    "    - parent and child share all resources\n",
    "    - children share a subset of the parent's resources\n",
    "    - parent and child share no resources\n",
    "        - e.g. UNIX pipes\n",
    "- execution options\n",
    "    - parent and child execute concurrently\n",
    "        - parent, or child, or an entirely different process can execute first\n",
    "        - e.g. UNIX shell\n",
    "    - parent waits until child terminates\n",
    "        - e.g. on UNIX, parent can explicitly call wait() to wait for child to finish\n",
    "- address space options\n",
    "    - child is a duplicate of the parent\n",
    "        - e.g. UNIX fork() system call\n",
    "    - child has a new program loaded into it\n",
    "        - e.g. UNIX exec() system call"
   ],
   "metadata": {
    "collapsed": false
   },
   "id": "1b3a9da664d3b127"
  },
  {
   "cell_type": "markdown",
   "source": [
    "### fork example\n",
    "\n",
    "~~~ C\n",
    "int main()\n",
    "{\n",
    "    pid_t  ret;\n",
    "    /* fork another process */\n",
    "    ret = fork();\n",
    "    if (ret < 0) { /* error occurred */\n",
    "        fprintf(stderr, \"Fork Failed\");\n",
    "        exit(-1);\n",
    "    }\n",
    "    else if (ret == 0) { /* child process */\n",
    "        execlp(\"/bin/ls\", \"ls\", NULL);\n",
    "    }\n",
    "    else { /* parent process */\n",
    "        /* parent will wait for the child to complete */\n",
    "        wait (NULL);\n",
    "        printf (\"Child Complete\");\n",
    "        exit(0);\n",
    "    }\n",
    "}\n",
    "~~~\n",
    "- the only difference between the parent and child is the return value of fork()\n",
    "    - the child gets a return value of 0\n",
    "    - the parent gets the pid of the child"
   ],
   "metadata": {
    "collapsed": false
   },
   "id": "23b1a35d017545f8"
  },
  {
   "cell_type": "markdown",
   "source": [
    "~~~ C\n",
    "int main(){\n",
    "   pid_t  ret;\n",
    "\t/* fork another process */\n",
    "\tret = fork();\n",
    "\t\n",
    "   printf (\"0: Value %d\\n\", ret);\n",
    "\tif (ret == 0) { /* child process */\n",
    "      execlp(\"/bin/ls\", \"ls\", NULL);\n",
    "      printf (\"1: Process %d\\n\", getpid()); // this line will not be executed because the child process is replaced by the ls command\n",
    "\t}\n",
    "\telse { /* parent process */\n",
    "\t   wait (NULL);\n",
    "\t\t  printf (\"2: Process %d\\n\", getpid());\n",
    "\t}\n",
    "}\n",
    "~~~\n",
    "Assume:\n",
    "- parent process has pid 100 \n",
    "- child process has pid 200. \n",
    "Output:\n",
    "0: value 200\n",
    "0: value 0\n",
    "*some output of the ls command*\n",
    "2: process 100"
   ],
   "metadata": {
    "collapsed": false
   },
   "id": "12ec055678200cb6"
  },
  {
   "cell_type": "markdown",
   "source": [
    "~~~ C\n",
    "int main(){\n",
    "   pid_t  ret;\n",
    "\t/* fork another process */\n",
    "\tret = fork();\n",
    "\t\n",
    "\tif (ret == 0) { /* child process */\n",
    "      execlp(\"/bin/ls\", \"ls\", NULL);\n",
    "      printf (\"1: Process %d\\n\", getpid());\n",
    "\t}\n",
    "\telse { /* parent process */\n",
    "\t   wait (NULL);\n",
    "\t\t  printf (\"2: Process %d\\n\", getpid());\n",
    "\t}\n",
    "   printf (\"3: Process %d\\n\", getpid());\n",
    "}\n",
    "~~~\n",
    "Assume:\n",
    "- parent process has pid 100 \n",
    "- child process has pid 200. \n",
    "Output:\n",
    "*some ls output*\n",
    "2: process 100\n",
    "3: process 100"
   ],
   "metadata": {
    "collapsed": false
   },
   "id": "2e8cebe7dbcf2377"
  },
  {
   "cell_type": "markdown",
   "source": [
    "~~~ C\n",
    "int main(){\n",
    "   pid_t  ret;\n",
    "\t/* fork another process */\n",
    "\tret = fork();\n",
    "\t\n",
    "\tif (ret == 0) { /* child process */\n",
    "\t\t  sleep(5);\n",
    "      printf (\"1: Process %d, parent: %d\\n\", getpid(), getppid());\n",
    "\t}\n",
    "\telse { /* parent process */\n",
    "\t   printf (\"2: Process %d\\n\", getpid());\n",
    "\t}\n",
    "   printf (\"3: Process %d\\n\", getpid());\n",
    "}\n",
    "~~~\n",
    "Assume:\n",
    "- parent process has pid 100 \n",
    "- child process has pid 200. \n",
    "Output:\n",
    "2: process 100\n",
    "3: process 100\n",
    "- the child is still sleeping\n",
    "1: process 200, parent: 1\n",
    "- the parent has finished executing so a new parent PID is assigned to the child\n",
    "3: process 200\n"
   ],
   "metadata": {
    "collapsed": false
   },
   "id": "b54ce75df2d989fe"
  },
  {
   "cell_type": "markdown",
   "source": [
    "~~~ C\n",
    "int main(){\n",
    "   pid_t  ret; //pid_t is an integer type\n",
    "\t/* fork another process */\n",
    "ret = fork(); \n",
    "ret = fork();\n",
    "\n",
    "\tif (ret == 0) { /* child process */\n",
    "      printf (\"1: Process %d\\n\", getpid());\n",
    "\t}\n",
    "\telse { /* parent process */\n",
    "\t   printf (\"2: Process %d\\n\", getpid());\n",
    "\t}\n",
    "}\n",
    "~~~\n",
    "total number of processes is $2^n$ where $n$ is the number of fork() calls\n",
    "- 1 fork() call creates 2 processes\n"
   ],
   "metadata": {
    "collapsed": false
   },
   "id": "a00301deb4aba973"
  },
  {
   "cell_type": "markdown",
   "source": [
    "total number of processes is $2^n$ where $n$ is the number of fork() calls\n",
    "- 1 fork() call creates 2 processes"
   ],
   "metadata": {
    "collapsed": false
   },
   "id": "4e5cd523aa422ea4"
  },
  {
   "cell_type": "markdown",
   "source": [
    "~~~ C\n",
    "int global = 100;\n",
    "\n",
    "int main(int argc, char *argv[]) {\n",
    "  pid_t ret;\n",
    "  int local = 100;\n",
    "\n",
    "  ret = fork();\n",
    "  if(ret == 0){ // child\n",
    "    local = 20;\n",
    "    global = 20;\n",
    "  }\n",
    "  else { // parent\n",
    "    wait(NULL); // wait for child process to finish\n",
    "    printf(\"Global: %d; Local: %d\\n\", global, local);\n",
    "  }\n",
    "  exit(0);\n",
    "}\n",
    "~~~\n",
    "Assume:\n",
    "Output:\n",
    "Global: 100; Local: 100\n",
    "- the child process has a copy of the parent's memory"
   ],
   "metadata": {
    "collapsed": false
   },
   "id": "ea44d3798bf18f37"
  },
  {
   "cell_type": "markdown",
   "source": [
    "### Multiprocess Architecture"
   ],
   "metadata": {
    "collapsed": false
   },
   "id": "9df19f31d87e9995"
  },
  {
   "cell_type": "markdown",
   "source": [
    "### Models of IPC\n",
    "- shared memory\n",
    "    - two or more processes share a region of memory\n",
    "    - requires synchronization\n",
    "        - to ensure that processes do not overwrite each other's data\n",
    "    - fast, convenient communication\n",
    "- message passing\n",
    "    - processes communicate with each other without sharing memory\n",
    "    - requires a mechanism for processes to exchange messages\n",
    "    - slower than shared memory\n",
    "    - typically involve smaller amounts of data\n",
    "    - can work for inter-computer communication\n",
    "    - easier to implement\n",
    "    - typically messages do not overwrite each other\n",
    "        - no need for conflict resolution"
   ],
   "metadata": {
    "collapsed": false
   },
   "id": "59f5d938be6e228"
  },
  {
   "cell_type": "markdown",
   "source": [
    "### Message Passing\n",
    "- can be employed for client-server communication\n",
    "- provides at least a send and receive function\n",
    "- if P and Q wish to communicate, they need to:\n",
    "    - establish a connection between them\n",
    "    - exchange messages\n",
    "    - close the connection when done\n",
    "- implementation issues\n",
    "    - how are links established?\n",
    "    - can a link be associated with more than two processes?\n",
    "    - how many links can there be between every pair of communicating processes?\n",
    "    - what is the capacity of a link?\n",
    "    - is the size of a message that the link can accommodate fixed or variable?\n",
    "    - is a link unidirectional or bi-directional?\n",
    "- direct communication\n",
    "    - processes name each other explicitly\n",
    "    - disadvantage\n",
    "        - processes need to know each other's identity\n",
    "            - must be hard coded values\n",
    "- indirect communication\n",
    "    - messages are sent to and received from mailboxes (ports)\n",
    "    - each mailbox has a unique id\n",
    "    - processes can communicate without knowing each other's identity\n",
    "        - they must share a mailbox\n",
    "    - mailbox exists until explicitly deleted\n",
    "        - even if process ends (assuming mailbox is not deleted by the process)\n",
    "    - can be held in a process address space or the kernel\n",
    "    - communication link\n",
    "        - link may be associated with multiple processes\n",
    "        - each pair of processes may have multiple links\n",
    "        - links may be unidirectional or bi-directional\n",
    "        - multiple receivers may need synchronization\n",
    "    - advantages\n",
    "        - processes do not need to know each other's identity\n",
    "        - processes can communicate even if they are not executing at the same time\n",
    "    - disadvantages\n",
    "        - system call overhead\n",
    "        - kernel involvement\n",
    "- synchronization\n",
    "    - blocking send\n",
    "        - sender blocks until message is received\n",
    "    - blocking receive\n",
    "        - receiver blocks until message is available\n",
    "    - non-blocking send\n",
    "        - sender sends the message and continues\n",
    "    - non-blocking receive\n",
    "        - receiver receives a valid message or null\n",
    "- buffering\n",
    "    - zero capacity\n",
    "        - 0 messages\n",
    "        - sender blocks (waits) until receiver receives the message\n",
    "    - bounded capacity\n",
    "        - finite length of n messages\n",
    "        - sender blocks until space is available\n",
    "    - unbounded capacity\n",
    "        - infinite length\n",
    "        - sender never waits\n",
    "        - receiver may block if no messages are available"
   ],
   "metadata": {
    "collapsed": false
   },
   "id": "7ba2cceb22f28efc"
  },
  {
   "cell_type": "markdown",
   "source": [
    "#### Examples of IPC\n",
    "- pipes\n",
    "    - most basic form of IPC on UNIX\n",
    "        - powerful CLI tool\n",
    "    - ordinarily require parent-child relationships between processes\n",
    "    - generally unidirectional\n",
    "    - issues\n",
    "        - one-way communication\n",
    "    - anonymous pipes can only be used between related processes\n",
    "        - e.g. parent-child\n",
    "    - processes must be controlled by the same OS\n",
    "    - process exit closes the pipe\n",
    "        - may cause data loss\n",
    "    - FIFO only\n",
    "##### pipe example\n",
    "~~~ C\n",
    "#include <unistd.h>\n",
    "#include <stdio.h>\n",
    "#include <string.h>\n",
    "              \n",
    "main()         \n",
    "{              \n",
    "  char *s, buf[1024];\n",
    "  int fds[2];       \n",
    "  s  = \"EECS 678\\n\";\n",
    "                                  \n",
    "  /* open a pipe. fd[0] is opened for reading, \n",
    "     and fd[1] for writing.*/\n",
    "  pipe(fds);             \n",
    "                          \n",
    "  /* write to the write-end of the pipe */ \n",
    "  write(fds[1], s, strlen(s));     \n",
    "                                  \n",
    "  /* This can be read from the other end of the pipe */ \n",
    "  read(fds[0], buf, strlen(s));  \n",
    "                              \n",
    "  printf(\"fds[0]=%d, fds[1]=%d\\n\", fds[0], fds[1]);\n",
    "  write(1, buf, strlen(s));  \n",
    "}\n",
    "~~~\n",
    "- the headers list the functions that are used in the program\n",
    "    - unistd.h\n",
    "        - contains the pipe() function\n",
    "    - stdio.h\n",
    "        - contains the printf() function\n",
    "    - string.h\n",
    "        - contains the strlen() function\n",
    "    - they are not libraries\n",
    "        - they are header files\n",
    "            - they contain the function prototypes\n",
    "            - tell the compiler how much memory to allocate for the function\n",
    "                - i.e. the data types of the parameters\n",
    "- fd[0] is the read end of the pipe\n",
    "- fd[1] is the write end of the pipe\n",
    "- output:\n",
    "```\n",
    "fds[0]=3, fds[1]=4\n",
    "EECS 678\n",
    "``` "
   ],
   "metadata": {
    "collapsed": false
   },
   "id": "b1da5dd4a46ad07c"
  },
  {
   "cell_type": "markdown",
   "source": [
    "### something something aside on memory and labs\n",
    "- in memory, a file descriptor table is created\n",
    "    - each entry in the table points to a file, pipe, or socket\n",
    "    - each process has its own file descriptor table\n",
    "        - the file descriptor table is copied when a process is forked\n",
    "        - the child process has a copy of the parent's file descriptor table\n",
    "    - may point to things from header files\n",
    "        - e.g. stdin, stdout, stderr\n",
    "    - may point to files\n",
    "        - e.g. a file opened by the process\n",
    "    - may point to pipes\n",
    "        - e.g. a pipe created by the process"
   ],
   "metadata": {
    "collapsed": false
   },
   "id": "29381ef996f0f274"
  },
  {
   "cell_type": "markdown",
   "source": [
    "~~~ C\n",
    "main()              \n",
    "{               \n",
    "  char *s, buf[1024];         \n",
    "  int fds[2];                   \n",
    "  s  = \"EECS 678. Pipe program 3\\n\";\n",
    "                          \n",
    "  /* create a pipe */    \n",
    "  pipe(fds);          \n",
    "                    \n",
    "  if (fork() == 0) { \n",
    "                     \n",
    "    /* child process. */    \n",
    "    printf(\"Child line 1\\n\"); \n",
    "    read(fds[0], s, strlen(s));\n",
    "    printf(\"Child line 2\\n\"); \n",
    "  } else {  \n",
    "              \n",
    "    /* parent process */\n",
    "    printf(\"Parent line 1\\n\"); \n",
    "     write(fds[1], buf, strlen(s));\n",
    "    printf(\"Parent line 2\\n\"); \n",
    "  }                                \n",
    "}\n",
    "~~~\n",
    "- **the read() function blocks until there is something to read**\n",
    "    - the parent process writes to the pipe\n",
    "    - the child process reads from the pipe \n",
    "- output:\n",
    "- `Parent line 1` must be printed before `Child line 1` because the parent process is executed first"
   ],
   "metadata": {
    "collapsed": false
   },
   "id": "b4bd5da64da7938c"
  },
  {
   "cell_type": "markdown",
   "source": [
    "### Pipes in UNIX\n",
    "- commonly used in UNIX shells\n",
    "    - output from one command is piped to the input of another command\n",
    "        - e.g. `ls | wc -l`\n",
    "    - `dup` system call\n",
    "        - duplicates a file descriptor to the smallest available file descriptor\n",
    "        - e.g. `dup(fd[1])` duplicates the write end of the pipe\n",
    "            - `fd[1]` is the write end of the pipe\n",
    "    - `dup2` system call\n",
    "        - duplicates a file descriptor to a specific file descriptor\n",
    "        - e.g. `dup2(fd[1], 1)` duplicates the write end of the pipe to stdout\n",
    "            - `fd[1]` is the write end of the pipe\n",
    "            - `1` is the file descriptor for stdout\n",
    "    - stdin, stdout, and stderr are file descriptors\n",
    "        - stdin is 0\n",
    "        - stdout is 1\n",
    "        - stderr is 2\n",
    "        - **for the lab we hijack the stdout file descriptor**\n",
    "            - we redirect it to the write end of the pipe\n",
    "                - close(1) - this closes stdout\n",
    "                - dup(fd[1]) - this duplicates the write end of the pipe to stdout on the smallest available file descriptor\n",
    "                - close(0) - this closes stdin\n",
    "                - dup(fd[0]) - this duplicates the read end of the pipe to stdin on the smallest available file descriptor\n",
    "                - close(fd[0]) - this closes the read end of the pipe\n",
    "                - close(fd[1]) - this closes the write end of the pipe\n",
    "                    - we don't need to read or write to the pipe anymore\n",
    "            - it is good practice to close the file descriptors that you are not using\n",
    "                - e.g. close(fd[0]) and close(fd[1])\n",
    "                - otherwise weird behavior can occur\n",
    "                    - probably similar to garbage empty pointer data\n",
    "            - this allows us to write to the pipe using printf()"
   ],
   "metadata": {
    "collapsed": false
   },
   "id": "30cad26ca6408f3c"
  },
  {
   "cell_type": "markdown",
   "source": [
    "- named pipes (FIFOs)\n",
    "    - any process that knows the name of the pipe can access it\n",
    "        - not just related processes\n",
    "    - allows bidirectional communication\n",
    "    - exist even after the process that created them has terminated\n",
    "    - effectively just files\n",
    "    - only allow half duplex communication\n",
    "        - one process can write to the pipe\n",
    "        - another process can read from the pipe\n",
    "        - not both at the same time\n",
    "    - communicating processes must be on the same machine \n"
   ],
   "metadata": {
    "collapsed": false
   },
   "id": "13270b2bcbdabbb7"
  },
  {
   "cell_type": "markdown",
   "source": [
    "- producer code (writes to the pipe):\n",
    "``` C\n",
    "main()           \n",
    "{               \n",
    "  char str[MAX_LENGTH]; \n",
    "  int num, fd;   \n",
    "                  \n",
    "  mkfifo(FIFO_NAME, 0666); // create FIFO file\n",
    "        \n",
    "  printf(\"waiting for readers...\");\n",
    "  fd = open(FIFO_NAME, O_WRONLY); // open FIFO for writing\n",
    "  printf(\"got a reader !\\n\");\n",
    "                         \n",
    "  printf(\"Enter text to write in the FIFO file: \");\n",
    "  fgets(str, MAX_LENGTH, stdin);\n",
    "  while(!(feof(stdin))){  \n",
    "    if ((num = write(fd, str, strlen(str))) == -1)\n",
    "      perror(\"write\");   \n",
    "    else                 \n",
    "      printf(\"producer: wrote %d bytes\\n\", num);\n",
    "    fgets(str, MAX_LENGTH, stdin);\n",
    "  }                          \n",
    "}\n",
    "``` "
   ],
   "metadata": {
    "collapsed": false
   },
   "id": "c06a758101852c31"
  },
  {
   "cell_type": "markdown",
   "source": [
    "- message queues\n",
    "- shared memory\n",
    "- sockets"
   ],
   "metadata": {
    "collapsed": false
   },
   "id": "78d40dfb406783f1"
  },
  {
   "cell_type": "code",
   "execution_count": 1,
   "outputs": [
    {
     "name": "stdout",
     "output_type": "stream",
     "text": [
      "test\n"
     ]
    }
   ],
   "source": [
    "print(\"test\")"
   ],
   "metadata": {
    "collapsed": false,
    "ExecuteTime": {
     "end_time": "2023-09-15T19:33:59.791649800Z",
     "start_time": "2023-09-15T19:33:59.777650500Z"
    }
   },
   "id": "6f77f8817645909a"
  },
  {
   "cell_type": "code",
   "execution_count": null,
   "outputs": [],
   "source": [],
   "metadata": {
    "collapsed": false
   },
   "id": "3fab60b257a9f58f"
  }
 ],
 "metadata": {
  "kernelspec": {
   "display_name": "Python 3",
   "language": "python",
   "name": "python3"
  },
  "language_info": {
   "codemirror_mode": {
    "name": "ipython",
    "version": 2
   },
   "file_extension": ".py",
   "mimetype": "text/x-python",
   "name": "python",
   "nbconvert_exporter": "python",
   "pygments_lexer": "ipython2",
   "version": "2.7.6"
  }
 },
 "nbformat": 4,
 "nbformat_minor": 5
}
