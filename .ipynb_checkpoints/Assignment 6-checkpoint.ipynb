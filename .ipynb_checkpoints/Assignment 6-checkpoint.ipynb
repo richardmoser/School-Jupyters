{
 "cells": [
  {
   "cell_type": "code",
   "execution_count": null,
   "id": "f1d412fd",
   "metadata": {},
   "outputs": [
    {
     "data": {
      "text/plain": [
       "[1,2,3,4]"
      ]
     },
     "metadata": {},
     "output_type": "display_data"
    }
   ],
   "source": [
    "double x = x + x\n",
    "\n",
    "take (double 2) [1,2,3,4,5,6]"
   ]
  },
  {
   "cell_type": "code",
   "execution_count": null,
   "id": "b0a943ba",
   "metadata": {},
   "outputs": [],
   "source": []
  }
 ],
 "metadata": {
  "kernelspec": {
   "display_name": "Haskell",
   "language": "haskell",
   "name": "haskell"
  },
  "language_info": {
   "codemirror_mode": "ihaskell",
   "file_extension": ".hs",
   "mimetype": "text/x-haskell",
   "name": "haskell",
   "pygments_lexer": "Haskell",
   "version": "9.2.7"
  }
 },
 "nbformat": 4,
 "nbformat_minor": 5
}
