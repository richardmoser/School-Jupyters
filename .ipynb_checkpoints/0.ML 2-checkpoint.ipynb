{
 "cells": [
  {
   "cell_type": "markdown",
   "source": [
    "### Deep Learning Classifiers\n",
    "- deep refers to the number of layers in the neural network, not any deeper understanding\n",
    "#### Deep Belief Networks\n",
    "- a multilayer neural network that is trained in a greedy layer-wise fashion\n",
    "- a stack of restricted Boltzmann machines (RBMs) in which each RBM layer communicates with the previous and next layer\n",
    "- RBMs are another name for the simple neural network nodes we've been using\n",
    "- uses a softmax output layer to classify the data\n",
    "    - softmax is a generalization of the logistic function that squashes a K-dimensional vector of arbitrary real values to a K-dimensional vector of real values in the range (0, 1) that add up to 1\n",
    "    - i.e. it converts a vector of real values to a probability distribution that sums to 1\n",
    "    - <img src=\"images/softmax.png\">\n",
    "    - e.g. `Softmax([1.0, 2.0, 3.0, 4.0, 1.0, 2.0, 3.0])`\n",
    "        - = `[0.024, 0.064, 0.175, 0.475, 0.024, 0.064, 0.175])`\n",
    "    - the output puts most of the weight where the 4 was in the input"
   ],
   "metadata": {
    "collapsed": false
   },
   "id": "9be06f6bdd87fe5f"
  },
  {
   "cell_type": "markdown",
   "source": [
    "#### Convolutional Neural Networks (CNNs)\n",
    "- a type of deep neural network that is often used for image recognition\n",
    "- regularized version of neural networks that use convolutional layers\n",
    "- convolution reduces the number of free parameters, reducing the chance of overfitting\n",
    "    - i.e. pictures have a lot of pixels, so the number of free parameters in a neural network would be huge\n",
    "- inputs are called tensors\n",
    "    - tensors are multidimensional arrays\n",
    "    - a 2D tensor is a matrix\n",
    "    - a 3D tensor is a cube\n",
    "    - a 4D tensor is a cube with multiple channels\n",
    "- hidden layers consist of\n",
    "    - convolutional layers\n",
    "    - pooling layers\n",
    "    - ReLU layers\n",
    "        - ReLU stands for rectified linear unit\n",
    "- convolutional layer\n",
    "    - a window slides over the input tensor and performs a function on each part of the input\n",
    "    - the window is called a kernel\n",
    "    - the kernel is a matrix of weights\n",
    "    - the kernel is applied to each part of the input\n",
    "    - <img src=\"images/sliding_pane_CNN.png\">\n",
    "    - reduces the feature map size via some function\n",
    "- pooling layer\n",
    "    - a window slides over the feature map and takes the average or max value in each window\n",
    "    - e.g. max pooling\n",
    "        - takes the max value in each window\n",
    "        - <img src=\"images/max_pooling.png\">\n",
    "- ReLU layer\n",
    "    - applies the ReLU function to each element of the feature map\n",
    "        - ReLU(x) = max(0, x)\n",
    "            - i.e. if x is negative, it is replaced with 0, otherwise it is left alone\n",
    "    - <img src=\"images/relu.png\">\n",
    "- Keras (https://keras.io/) has probably the best python CNN setup out of the box"
   ],
   "metadata": {
    "collapsed": false
   },
   "id": "cde3e5ffd85d2ece"
  },
  {
   "cell_type": "markdown",
   "source": [
    "### IC 14Sep23\n",
    "1. "
   ],
   "metadata": {
    "collapsed": false
   },
   "id": "57306627fdd9050b"
  },
  {
   "cell_type": "code",
   "execution_count": 1,
   "outputs": [],
   "source": [
    "import numpy as np"
   ],
   "metadata": {
    "collapsed": false,
    "ExecuteTime": {
     "end_time": "2023-09-14T21:27:56.185096500Z",
     "start_time": "2023-09-14T21:27:55.962087200Z"
    }
   },
   "id": "7849b2a1edf93a72"
  },
  {
   "cell_type": "code",
   "execution_count": null,
   "outputs": [],
   "source": [],
   "metadata": {
    "collapsed": false
   },
   "id": "ebe10c9557251864"
  }
 ],
 "metadata": {
  "kernelspec": {
   "display_name": "Python 3",
   "language": "python",
   "name": "python3"
  },
  "language_info": {
   "codemirror_mode": {
    "name": "ipython",
    "version": 2
   },
   "file_extension": ".py",
   "mimetype": "text/x-python",
   "name": "python",
   "nbconvert_exporter": "python",
   "pygments_lexer": "ipython2",
   "version": "2.7.6"
  }
 },
 "nbformat": 4,
 "nbformat_minor": 5
}
