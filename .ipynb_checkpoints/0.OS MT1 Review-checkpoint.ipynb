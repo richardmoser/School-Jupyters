{
 "cells": [
  {
   "cell_type": "markdown",
   "source": [
    "# Midterm 1 is chapters 1-4, i.e. nothing below\n",
    "- Wednesday, 06Oct2023"
   ],
   "metadata": {
    "collapsed": false
   },
   "id": "6499b8007088ee14"
  },
  {
   "cell_type": "markdown",
   "source": [
    "## Practice Questions"
   ],
   "metadata": {
    "collapsed": false
   },
   "id": "77a19e914a216dd6"
  },
  {
   "cell_type": "markdown",
   "source": [
    "### 1 Chapter 1\n",
    "1. Explain the User’s and System’s view of the operating system.\n",
    "2. Explain the operating system goals.\n",
    "3. What is a multiprogramming OS? How does it differ from a batch OS? How does it differ from a time-sharing OS?\n",
    "    - A/2: \n",
    "        - a multiprogramming system will keep running a program until it is blocked by I/O or another event\n",
    "        - a batch system will run a program until it is finished\n",
    "        - a time-sharing system will run a program for a certain amount of time and then switch to another program\n",
    "            - best for user interactive systems\n",
    "        - in an infinite loop situation:\n",
    "            - a multiprogramming system will run the program forever\n",
    "            - a batch system will run the program forever\n",
    "            - a time-sharing system will run the program for a certain amount of time and then switch to another program\n",
    "4. How does an OS ensure protection between two user processes?\n",
    "5. How does an OS ensure its own protection as well as that of the other system resources?\n",
    "6. Sort the following levels of storage hierarchy by their access time and size.\n",
    "(a) Registers, (b) cache, (c) disk\n",
    "    - A/2: Registers, cache, disk (fastest to slowest)\n",
    "    - A/2: Registers, cache, disk (smallest to largest in size)\n",
    "7. What factors restrict the number of architected registers?\n",
    "8. What factors restrict the size of the cache? Why have multiple levels of caches?\n",
    "    - A/2: two main reasons\n",
    "        1. speed of access (larger cache is slower)\n",
    "        2. location/chip real estate (closer to CPU is faster but takes up space on the chip)\n",
    "            - this is why L1 is small and close to CPU, L2 is larger and further away, L3 is even larger and further away\n",
    "9. Explain if true or false:\n",
    "(a) The architecture registers are managed by the hardware.\n",
    "    - A/2 B: poorly worded, will be rephrased if on test. User level process cannot control the disk \n",
    "(b) The user can directly manage the disk.\n",
    "10. The OS provides a virtualization. Explain."
   ],
   "metadata": {
    "collapsed": false
   },
   "id": "52dba8b9df9dbbf2"
  },
  {
   "cell_type": "markdown",
   "source": [
    "### 2 Chapter 2\n",
    "1. Name a few OS services to help the user.\n",
    "2. Name a few OS services for efficient system operation.\n",
    "3. What are system calls? How do they differ from other function calls?\n",
    "    - A/2: \n",
    "        - system calls are the interface between the OS and the user\n",
    "        - system calls require a context switch\n",
    "        - system calls have more overhead than other function calls\n",
    "4. What is an API? How is an API call different from a system call? Which one would you prefer to use in your high-level program?\n",
    "    - A/2: \n",
    "        - API is a set of functions that are available to the programmer. \n",
    "        - system calls are the interface between the OS and the user and require a context switch.\n",
    "        - APIs are preferable. System calls require assembly code to call them which is difficult and architecture dependent.\n",
    "            - i.e. it will only work on a specific type of machine whereas APIs are portable\n",
    "5. What are the limitations of passing function arguments in registers? How are these limitations overcome?\n",
    "    - A/2: \n",
    "        - there are a limited number of registers and thus a limited number of arguments that can be passed\n",
    "        - the registers are small\n",
    "        - the registers are architecture dependent\n",
    "        - these limitations are overcome by passing function arguments on the stack\n",
    "6. What do the following system tools do: \n",
    "(a) compiler, (b) assembler, (c) linker, and (d)loader?"
   ],
   "metadata": {
    "collapsed": false
   },
   "id": "3bfb1655bded72e1"
  },
  {
   "cell_type": "markdown",
   "source": [
    "### Chapter 3\n",
    "1. Define process. How is a process different from a program?\n",
    "2. Illustrate (draw) the process address space. What component of your high-level C program goes into each section of the process address space?\n",
    "3. The process state diagram below shows all the possible process states, but only two process transitions. Complete the figure by illustrating how the process changes states on the following events: \n",
    "(a) interrupt, (b) scheduler dispatch, (c) I/O or event completion, and (d) I/0 or event wait\n",
    "- <img src=\"images/os_mt1_review_qs.png\">\n",
    "4. Which of the following typical kinds of CPU instructions should be privileged? Explain your reasoning briefly.\n",
    "(a) Set value for hardware timer\n",
    "(b) Read hardware clock\n",
    "(c) Set a value in the shared memory region.\n",
    "(d) Switch from user to OS execution mode\n",
    "(e) Turn off hardware interrupts.\n",
    "    - A/2: A, C, E\n",
    "        - A because it can affect other processes\n",
    "        - not B because reading the clock can't hurt anything\n",
    "        - C because it can affect other processes\n",
    "        - not D because if the user couldn't switch to OS mode, you couldn't do OS calls\n",
    "            - it is a controlled and fixed entry point so it is not a security risk\n",
    "        - E because it can affect other processes\n",
    "            - disabling hardware interrupts is a global change (at least for the purposes of this exam)\n",
    "5. Describe what a kernel must do to switch context between two processes. What are the benefits and drawbacks of context switching for an OS?\n",
    "    - A/2: \n",
    "        - process:\n",
    "            - save the context of the current process (PC, registers, etc.) to PCB\n",
    "            - load the context of the next process from PCB\n",
    "        - benefits: \n",
    "            - allows for multitasking\n",
    "                - provides the illusion of multiple processes running at the same time\n",
    "                - e.g. a process can be waiting for I/O while another process is running\n",
    "        - drawbacks: \n",
    "            - overhead\n",
    "            - every unit of time spent context switching is time not spent running the processes\n",
    "6. What is the purpose of the fork and exec system calls?\n",
    "7. Using appropriate system calls, have the program below create a new process, and execute the program /bin/ps. It is not important to get all the function arguments and their positions correct.\n",
    "```c\n",
    "int main()\n",
    "{\n",
    "    pid_t pid;\n",
    "    /*create a new process*/\n",
    "    pid =\n",
    "    if(pid == 0){\n",
    "        2\n",
    "    }\n",
    "    else if(pid < 0){   \n",
    "\n",
    "    }\n",
    "else if (pid > 0){\n",
    "    }\n",
    "}\n",
    "```\n",
    "8. Compare the shared memory and message passing IPC models as regards: (a) characteristics\n",
    "(b) efficiency (c) ease of use. Explain\n",
    "    - A/2:\n",
    "        a. \n",
    "            - shared memory: \n",
    "                - processes share a region of memory\n",
    "                - processes can read and write to the shared memory\n",
    "                - processes can communicate by reading and writing to the shared memory\n",
    "                - can cause data to be overwritten\n",
    "            - message passing: \n",
    "                - processes do not share memory\n",
    "                - processes communicate by sending messages to each other\n",
    "        b.\n",
    "            - shared memory: \n",
    "                - faster\n",
    "                - no overhead\n",
    "            - message passing: \n",
    "                - slower\n",
    "                - overhead\n",
    "        c. \n",
    "            - ultimately a matter of preference and what you are trying to do\n",
    "            - shared memory: \n",
    "                - easy to use\n",
    "                - need to worry about synchronization to avoid data being overwritten\n",
    "            - message passing: \n",
    "                - harder to use\n",
    "                - need to worry about synchronization to avoid deadlock\n",
    "9. Consider the program below:\n",
    "```c\n",
    "int main()\n",
    "{\n",
    "    pid_t pid;  /* process id */\n",
    "    int shared_num = 0;  /* shared variable */\n",
    "    /* create a pipe */  \n",
    "    ...\n",
    "    /* create a process */\n",
    "    pid = fork();  \n",
    "    if(pid > 0){  \n",
    "        /* parent process */\n",
    "        /* write numbers to the shared variable*/\n",
    "        int i;  \n",
    "        for(i=0 ; i<10000 ; i++) \n",
    "        shared_num += 1;  \n",
    "        wait();\n",
    "        fprintf(stdout, \"Shared variable = %d\\n\", shared_num);\n",
    "    }\n",
    "    else{\n",
    "        /* child process */\n",
    "        int i;\n",
    "        for(i=0 ; i<10000 ; i++)\n",
    "        shared_num -= 1;\n",
    "    }\n",
    "}\n",
    "```\n",
    "- Use pipes to synchronize access to the shared variable so that the final result printed in the parent process is 0. (You need to first understand why the answer printed may be different from 0).\n",
    "    - A/2: \n",
    "        - the answer printed may be different from 0 because the parent and child processes are running concurrently and the parent process may print the value of shared_num before the child process has finished executing\n",
    "        - to fix this, we need to synchronize the parent and child processes so that the parent process waits for the child process to finish executing before printing the value of shared_num\n",
    "        - we can do this by using a pipe\n",
    "            - the parent process will write to the pipe and the child process will read from the pipe\n",
    "            - the parent process will wait for the child process to finish reading from the pipe before printing the value of shared_num\n",
    "10. Compare shared memory based IPC with message passing based IPC.\n",
    "11. What are the advantages and limitations of pipes IPC? How do some other IPC mechanisms\n",
    "address these drawbacks?\n",
    "12. List and explain in a line the system calls used to setup a shared memory segment.\n",
    "13. Explain the (a) server and (b) client side sequence of calls to set a socket between a client\n",
    "and a server."
   ],
   "metadata": {
    "collapsed": false
   },
   "id": "1d971fbd2a35d14f"
  },
  {
   "cell_type": "markdown",
   "source": [
    "### Chapter 4\n",
    "1. Draw the process address space of a process with two threads. Indicate the stack, heap, text, and data space of the two threads. How is the process address space different if we had two processes instead of two threads?\n",
    "2. What the (a) advantages and (b) disadvantages of threads over processes?\n",
    "3. Differentiate between (a) user-level and (b) kernel-level threads. What are their advantages and disadvantages over each other?\n",
    "4. Name and illustrate the three multithreading models.\n",
    "5. What is the main disadvantage of the many-to-one multithreading model?\n",
    "6. What system call is used to create threads in Linux?\n",
    "7. Write a simple program that contains two global variables num1 and num2. The program then: \n",
    "- (a) creates two threads\n",
    "- (b) Thread-1 performs num1+num2 and returns the result\n",
    "- (c) Thread-2 performs num1-num2 and returns the result\n",
    "- (d) Main thread displays the two returned results and exits.\n",
    "8. How do system calls fork and exec operate if invoked from multi-threaded programs? (You may use Linux as an example.)\n",
    "    - A/2: \n",
    "        - fork() creates a new process with a single thread. The new process is a copy of the parent process, including all threads. \n",
    "        - exec() replaces the current process image with a new process image. The new process has a single thread.\n",
    "9. Explain the two mechanisms of thread cancellation.\n",
    "10. How are synchronous and asynchronous signals handled in a multi-threaded program?\n",
    "11. What advantages do multicore computers have over multiprocessor systems?"
   ],
   "metadata": {
    "collapsed": false
   },
   "id": "39c641d5fd78b0f"
  },
  {
   "cell_type": "markdown",
   "source": [
    "### Format, etc\n",
    "- similar to quizzes\n",
    "- only covering material covered in lectures"
   ],
   "metadata": {
    "collapsed": false
   },
   "id": "537e3ed5170a8831"
  },
  {
   "cell_type": "code",
   "execution_count": null,
   "outputs": [],
   "source": [
    "print(\"done\")"
   ],
   "metadata": {
    "collapsed": false,
    "is_executing": true
   },
   "id": "179fd76ae8109dcd"
  },
  {
   "cell_type": "code",
   "execution_count": null,
   "outputs": [],
   "source": [],
   "metadata": {
    "collapsed": false
   },
   "id": "ab66ffac92f8a342"
  }
 ],
 "metadata": {
  "kernelspec": {
   "display_name": "Python 3",
   "language": "python",
   "name": "python3"
  },
  "language_info": {
   "codemirror_mode": {
    "name": "ipython",
    "version": 2
   },
   "file_extension": ".py",
   "mimetype": "text/x-python",
   "name": "python",
   "nbconvert_exporter": "python",
   "pygments_lexer": "ipython2",
   "version": "2.7.6"
  }
 },
 "nbformat": 4,
 "nbformat_minor": 5
}
