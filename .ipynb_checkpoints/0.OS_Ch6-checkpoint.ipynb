{
 "cells": [
  {
   "cell_type": "markdown",
   "source": [
    "# Chapter 6: CPU Scheduling\n",
    "- multiprogramming\n",
    "    - goal: maximize CPU utilization\n",
    "    - most processes will alternate between CPU bursts and IO bursts\n",
    "        - CPU burst: process is running on the CPU\n",
    "        - IO burst: process is waiting for IO to complete\n",
    "    - schedule other processes while one is waiting for something\n",
    "- CPU bound process\n",
    "    - bounded by the CPU speed\n",
    "    - spends most of it's time in the CPU\n",
    "    - at least a few long CPU bursts\n",
    "- I/O bound process\n",
    "    - bounded by I/O speed\n",
    "    - spends most of it's time doing I/O\n",
    "    - many short CPU bursts\n",
    "### CPU Scheduler\n",
    "- selects from among the processes in memory that are ready to execute\n",
    "    - part of the OS dispatcher\n",
    "    - based on a particular scheduling algorithm\n",
    "- occurs when\n",
    "  1. process switches from running to waiting state\n",
    "  2. process switches from running to ready state\n",
    "  3. process switches from waiting/new to ready\n",
    "  4. process terminates\n",
    "- preemptive vs non-preemptive\n",
    "    - preemptive: scheduler can interrupt a process\n",
    "    - non-preemptive\n",
    "        - process gives up the CPU voluntarily\n",
    "        - easy, requires no special hardware\n",
    "        - poor response time for interactive and real-time systems\n",
    "    - preemptive\n",
    "        - OS can force a process to give up the CPU\n",
    "            - when process exceeds time slot\n",
    "            - when a higher priority process becomes ready\n",
    "        - requires special hardware (timer)\n",
    "        - may require synchronization \n",
    "        - favored by most OSes\n",
    "    - scheduling is non-preemptive under 1 and 4\n",
    "        - the process voluntarily gives up the CPU \n",
    "    - scheduling is preemptive under all other conditions\n",
    "        - the process is forced to give up the CPU"
   ],
   "metadata": {
    "collapsed": false
   },
   "id": "8fa7ddc89b880ec"
  },
  {
   "cell_type": "markdown",
   "source": [
    "### Dispatcher\n",
    "- functions\n",
    "    - get the new process from scheduler\n",
    "    - switch out the context of the current process\n",
    "    - give control of the CPU to the new process\n",
    "    - jump to the proper location in the new process\n",
    "- dispatch latency\n",
    "    - time taken by the dispatcher to stop one process and start another\n",
    "### Scheduling Queues\n",
    "- job queue\n",
    "    - set of all processes in the system\n",
    "    - scheduled by the long-term scheduler\n",
    "        - some OSes may not have a long-term scheduler\n",
    "            - e.g. phones, embedded systems, etc\n",
    "- ready queue\n",
    "    - set of all processes residing in main memory, ready and waiting to execute\n",
    "    - scheduled by the short-term or CPU scheduler\n",
    "- device queue\n",
    "    - set of processes waiting for an I/O device\n",
    "    - scheduled by the I/O scheduler\n",
    "    - I/O completion moves the process to the ready queue\n",
    "    - multiple processes can be waiting for the same device"
   ],
   "metadata": {
    "collapsed": false
   },
   "id": "fa26f329481586b3"
  },
  {
   "cell_type": "markdown",
   "source": [
    "# Scheduling\n",
    "### Performance Metrics\n",
    "- CPU utilization\n",
    "    - keep the CPU as busy as possible\n",
    "        - i.e. keep the CPU utilization as close to 100% as possible\n",
    "    - 0% to 100%\n",
    "- Throughput\n",
    "    - number of processes that complete their execution per time unit\n",
    "- Turnaround time\n",
    "    - amount of time to execute a particular process\n",
    "    - time from submission to completion\n",
    "- Waiting time\n",
    "    - amount of time a process has been waiting in the ready queue\n",
    "- Response time\n",
    "    - amount of time it takes from when a request was submitted until the first response is produced\n",
    "    - for time-sharing systems\n",
    "    - may not be the same as turnaround time\n",
    "- Scheduling goals\n",
    "    - maximize CPU utilization\n",
    "    - minimize turnaround, wait, and response times\n",
    "    - fairness to processes and users\n",
    "        - starvation: a process may never be scheduled\n",
    "        - aging: increase priority of processes that have been waiting for a long time\n",
    "        - priority: some processes are more important than others\n",
    "        - interactive response time: users expect a quick response"
   ],
   "metadata": {
    "collapsed": false
   },
   "id": "b20960927928c325"
  },
  {
   "cell_type": "markdown",
   "source": [
    "### Evaluation Methods\n",
    "- Criteria\n",
    "    - specify relative importance of metrics\n",
    "    - consider system specific goals and measures\n",
    "- Deterministic modeling\n",
    "    - takes a particular predetermined workload and defines the performance of each algorithm for that workload\n",
    "        - i.e. a test workload simulation\n",
    "            - each algorithm is run on the same workload and the results are compared\n",
    "            - the workload is usually a set of processes with known CPU and IO bursts\n",
    "            - the results are usually the average of several runs\n",
    "    - simple and fast\n",
    "        - gives exact numbers\n",
    "    - difficult to generalize\n",
    "    - can recognize patterns over several inputs\n",
    "    - used for explaining and predicting behavior of algorithms\n",
    "### Workload Models and Grantt Charts\n",
    "- workload model\n",
    "    - set of processes that are submitted to the system\n",
    "    - may be real or synthetic\n",
    "    - <img src=\"images/workloadmodel.png\">\n",
    "        - the burst times are the CPU bursts of the processes\n",
    "        - it is not the actual CPU burst times of the processes\n",
    "            - it is the burst time which the process would like to have\n",
    "- Grantt chart\n",
    "    - bar chart ilustrating a schedule\n",
    "    - <img src=\"images/granttchart.png\">\n",
    "        - this figure shows a batch schedule \n",
    "            - i.e. a FCFS schedule\n",
    "            - ordered from P1 to P4 because they are submitted in that order\n",
    "    - chart will be different for different scheduling algorithms and different workloads\n",
    "- interpreting a Grantt chart\n",
    "    - <img src=\"images/granttinterp.png\">\n",
    "        - A, B, and C are processes submitted at $t_0$\n",
    "        - turnaround time is the time from submission to completion\n",
    "            - $t_f - t_0$\n",
    "        - waiting time is the time spent in the ready queue\n",
    "            - e.g. for A it is the sum of the lengths of other processes before it's final burst\n",
    "                - i.e. B & C + B & C +nC\n",
    "        - response time is the time from submission to first response\n",
    "            - e.g. for A it is 0 because it starts executing immediately"
   ],
   "metadata": {
    "collapsed": false
   },
   "id": "2019954c3633afc0"
  },
  {
   "cell_type": "markdown",
   "source": [
    "### Scheduling Algorithms\n",
    "- First Come First Serve\n",
    "    - schedules processes in the order they arrive in the ready queue\n",
    "    - non-preemptive\n",
    "    - implemented by FIFO queue\n",
    "    - advantages\n",
    "        - simple and easy to understand\n",
    "        - good for batch systems\n",
    "    - disadvantages\n",
    "        - average waiting time may be too long\n",
    "            - large variation based on arrival time\n",
    "        - cannot balance CPU and IO bound processes\n",
    "            - convoy effect - short process behind a long process\n",
    "        - not good for interactive systems or time-sharing systems"
   ],
   "metadata": {
    "collapsed": false
   },
   "id": "aa8f7e35f33e107e"
  },
  {
   "cell_type": "markdown",
   "source": [],
   "metadata": {
    "collapsed": false
   },
   "id": "e4e4f6d845503ba1"
  },
  {
   "cell_type": "markdown",
   "source": [],
   "metadata": {
    "collapsed": false
   },
   "id": "899dc7a66fa233f2"
  }
 ],
 "metadata": {
  "kernelspec": {
   "display_name": "Python 3",
   "language": "python",
   "name": "python3"
  },
  "language_info": {
   "codemirror_mode": {
    "name": "ipython",
    "version": 2
   },
   "file_extension": ".py",
   "mimetype": "text/x-python",
   "name": "python",
   "nbconvert_exporter": "python",
   "pygments_lexer": "ipython2",
   "version": "2.7.6"
  }
 },
 "nbformat": 4,
 "nbformat_minor": 5
}
