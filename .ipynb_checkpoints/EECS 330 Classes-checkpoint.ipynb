{
 "cells": [
  {
   "cell_type": "markdown",
   "id": "aabe3c0b",
   "metadata": {},
   "source": [
    "### Classes\n",
    "- .h files basically get tacked on to the beginning of main.cc by the compiler\n",
    "    - in case of multiple headers, use\n",
    "    \n",
    "`#ifndef myheader_H\n",
    "#define myheader_H`\n",
    "\n",
    "    - tells the compiler to disregard anything that is already defined\n",
    "        - e.g. if myheader1.h has a function bob() and myheader2.h includes mhyeader1.h, on compilation, the compiler pastes myheader1.h to the tope of main.cc and then myheader2.cc but when it hits the include myheader1.h line in myheader2.h, it doesn't paste myheader1.h again"
   ]
  },
  {
   "cell_type": "code",
   "execution_count": 1,
   "id": "bb15271c",
   "metadata": {},
   "outputs": [],
   "source": [
    "class Num\n",
    "{\n",
    "    public:\n",
    "    // constructor: like __init__\n",
    "    // must be named the same thing as the class\n",
    "    Num(const int value){ // can have arguments but shouldn't return anything\n",
    "        data = new int;\n",
    "        *data = value;\n",
    "        std::cout << \"hello, constructor\" << std::endl;\n",
    "    }\n",
    "    \n",
    "    \n",
    "    // destructor: last function called before destruction of object\n",
    "    ~Num(){ // collect the memory which has been allocated for any variables created\n",
    "        delete data;\n",
    "        std::cout << \"goodbye, destructor\" << std::endl;\n",
    "\n",
    "    }\n",
    "    Num(const Num& x){\n",
    "        //data = x.data;\n",
    "        *data = *x.data;\n",
    "        std::cout << \"hello, copy constructor\" << std::endl;\n",
    "    }\n",
    "    \n",
    "    void print(void){\n",
    "        std::cout << *data << std::endl;\n",
    "    }\n",
    "    \n",
    "    \n",
    "    private:\n",
    "        int *data = nullptr; // using a pointer forces the data to be stored in heap\n",
    "        \n",
    "}"
   ]
  },
  {
   "cell_type": "code",
   "execution_count": 2,
   "id": "90ebd689",
   "metadata": {},
   "outputs": [
    {
     "name": "stdout",
     "output_type": "stream",
     "text": [
      "hello, constructor\n",
      "4\n"
     ]
    }
   ],
   "source": [
    "Num bob(4);\n",
    "// Num b(a);\n",
    "bob.print();"
   ]
  },
  {
   "cell_type": "code",
   "execution_count": 5,
   "id": "dfd23955",
   "metadata": {},
   "outputs": [],
   "source": []
  },
  {
   "cell_type": "code",
   "execution_count": null,
   "id": "66aa453c",
   "metadata": {},
   "outputs": [],
   "source": []
  },
  {
   "cell_type": "code",
   "execution_count": null,
   "id": "a209e5fa",
   "metadata": {},
   "outputs": [],
   "source": []
  }
 ],
 "metadata": {
  "kernelspec": {
   "display_name": "ROOT C++",
   "language": "c++",
   "name": "root"
  },
  "language_info": {
   "codemirror_mode": "text/x-c++src",
   "file_extension": ".C",
   "mimetype": " text/x-c++src",
   "name": "c++"
  }
 },
 "nbformat": 4,
 "nbformat_minor": 5
}
