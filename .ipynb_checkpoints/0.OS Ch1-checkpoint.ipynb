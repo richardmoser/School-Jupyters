{
 "cells": [
  {
   "cell_type": "code",
   "execution_count": 2,
   "outputs": [
    {
     "name": "stdout",
     "output_type": "stream",
     "text": []
    }
   ],
   "source": [
    "print(\"\")"
   ],
   "metadata": {
    "collapsed": false,
    "ExecuteTime": {
     "end_time": "2023-10-03T17:57:47.715777600Z",
     "start_time": "2023-10-03T17:57:47.702779600Z"
    }
   },
   "id": "9eee68fcacf72a65"
  },
  {
   "cell_type": "markdown",
   "id": "6ba54715-6441-49ec-b6e1-5c08e59b9eb1",
   "metadata": {},
   "source": [
    "# Intro to OS"
   ]
  },
  {
   "cell_type": "markdown",
   "id": "3c4a3489-ea93-4bbc-8bb7-fc4deb63df94",
   "metadata": {},
   "source": [
    "### Overview\n",
    "* Definition (kindof)\n",
    "    * a program that acts as an intermediary between users and the computer hardware\n",
    "    * whatever the vendor ships you on the CD when you order an OS\n",
    "        * drivers, UI, kernel, etc.\n",
    "* User view\n",
    "    * makes it easier to write programs\n",
    "    * provide more powerful instructions to the ISA\n",
    "        * system calls\n",
    "    * make it easy to run programs\n",
    "        * handle memory, increment PC, etc.\n",
    "    * multi user management\n",
    "* System view\n",
    "    *  resource allocation\n",
    "        * manage CPU time, memory space, etc.\n",
    "        * resolve conflicting requests for hardware\n",
    "    * control I/O devices"
   ]
  },
  {
   "cell_type": "markdown",
   "id": "298ff6c8-574c-48b9-9dbe-a4df1c8ad2dd",
   "metadata": {},
   "source": [
    "### Computer System Components\n",
    "* Hardware level\n",
    "* OS level\n",
    "* System and application level\n",
    "\n",
    "* operation process\n",
    "    * bootstrapping - uses simple programs to load the OS or other more complex software\n",
    "        * lives in firmware\n",
    "        * initialize CPU registers, devices, memory\n",
    "        * locate and load OS kernel\n",
    "    * OS starts, waits for some event to occur\n",
    "        * interrupt driven program\n",
    "            * by itself, it doesn't do anything\n",
    "    * Interrupts\n",
    "        * processor checks for interrupts\n",
    "                * transfer control to ISR, usually through interrupt trap vector table (IVT)\n",
    "                * execute associated interrupt service routine\n",
    "                * return to interrupted program\n",
    "        * software or hardware interrupts"
   ]
  },
  {
   "cell_type": "markdown",
   "source": [
    "### Evolution of Operating Systems\n",
    "* Batch Systems\n",
    "    * earliest OSs\n",
    "    * users submit jobs or a batch of jobs\n",
    "    * processed in order\n",
    "    * Problems:\n",
    "        * job 2 cannot start until job 1 is completed\n",
    "        * I/O activity stalls the CPU process\n",
    "            * cannot use CPU and I/O functions at the same time\n",
    "            * CPU under-utilized\n",
    "        * low to no interactivity\n",
    "* Multiprogramming\n",
    "    * a single job cannot monopolize CPU and I/O devices\n",
    "    * OS allows multiple jobs to run at a time\n",
    "    * when job has to wait (e.g. for I/O), switches to another job\n",
    "    * I/O and CPU computation can overlap\n",
    "    * OS goal: maximize system throughput\n",
    "* "
   ],
   "metadata": {
    "collapsed": false
   },
   "id": "e0ab66571382708d"
  },
  {
   "cell_type": "markdown",
   "source": [
    "Missed a friday"
   ],
   "metadata": {
    "collapsed": false
   },
   "id": "dc41209cf85a51f1"
  },
  {
   "cell_type": "markdown",
   "source": [
    "### Operating System Tasks"
   ],
   "metadata": {
    "collapsed": false
   },
   "id": "57a22cfea8a0720a"
  },
  {
   "cell_type": "markdown",
   "source": [
    "- preventing collision between two user applications or between application and OS\n",
    "    - assign per application memory space\n",
    "    - hardware controlled via privileged vs unprivileged instructions \n",
    "    - privilege bit is set to 1 during trap calls and 0 during normal execution\n",
    "- Process Management\n",
    "    - program in execution\n",
    "        - a process is an active entity\n",
    "        - a program is a passive entity\n",
    "    - single thread processes have one program counter\n",
    "    - multiple threads have multiple program counters\n",
    "- scheduling\n",
    "- deadlock handling\n",
    "- memory management\n",
    "    - track which parts of memory are in use and by whom\n",
    "    - allocate and deallocate memory\n",
    "    - decide which processes and data to move into and out of memory\n",
    "- storage management\n",
    "    - OS provides uniform logical view of information storage\n",
    "    - abstracts physical properties to logical storage unit\n",
    "        - keeps the user from having to know the physical location of data\n",
    "    - file system management\n",
    "        - files are logical units of information created by users\n",
    "        - OS maps logical file to physical storage\n",
    "        - OS provides file permission protection"
   ],
   "metadata": {
    "collapsed": false
   },
   "id": "2b2c1601fd7c15ef"
  },
  {
   "cell_type": "markdown",
   "source": [
    "### Some Hardware Considerations for Memory\n",
    "- most of the physical CPU is dedicated to cache\n",
    "- most CPUs have 8 or 16 registers\n",
    "    - each additional register requires more cache space\n",
    "        - instructions have to specify which register to use\n",
    "        - more registers means more bits to specify which register to use\n",
    "        - the compiler determines which registers to use\n",
    "- cache\n",
    "    - CMOS SRAM\n",
    "    - on CPU or close by on motherboard\n",
    "        - L1, L2, L3\n",
    "            - L1 is private to each core\n",
    "            - L2 is shared between cores\n",
    "                - not on the physical CPU\n",
    "            - L3 is shared between CPUs\n",
    "                - not all CPUs have L3\n",
    "            - L1 is the fastest, L3 is the slowest\n",
    "            - L1 is the smallest, L3 is the largest\n",
    "    - hardware controlled\n",
    "    - bigger cache takes longer to access\n",
    "    - cache is faster than main memory (RAM) \n",
    "    - main memory is faster than disk\n",
    "- main memory\n",
    "    - DRAM or CMOS SRAM\n",
    "    - on motherboard\n",
    "    - hardware controlled\n",
    "    - bigger memory takes longer to access\n",
    "    - main memory is faster than disk\n",
    "- I/O\n",
    "    - OS hides the details of I/O devices from the user\n",
    "    - manage memory buffers, caches, spooling, etc\n",
    "        - buffering - store data temporarily while it is being transferred\n",
    "            - minimizes the number of I/O operations for small transfers\n",
    "        - spooling - holding data in a buffer while waiting for a device to be ready\n",
    "            - allows multiple processes to use a single device\n",
    "            - allows for better use of slow devices\n",
    "            - e.g. print spooler\n",
    "    - device-driver interface\n",
    "- protection and security\n",
    "    - protection - any mechanism for controlling access of processes or users to resources defined by the OS\n",
    "    - security - defense of the system against internal and external attacks\n",
    "        - internal - users should not be able to access files or memory of other users\n",
    "        - external - from outside the system\n",
    "    - users get IDs and passwords\n",
    "    - user IDs can be added to groups\n",
    "    - privilege escalation - user can gain more privileges\n",
    "        - e.g. sudo or changing the computer password\n",
    "    - "
   ],
   "metadata": {
    "collapsed": false
   },
   "id": "747838c21a28b387"
  }
 ],
 "metadata": {
  "kernelspec": {
   "display_name": "Python 3 (ipykernel)",
   "language": "python",
   "name": "python3"
  },
  "language_info": {
   "codemirror_mode": {
    "name": "ipython",
    "version": 3
   },
   "file_extension": ".py",
   "mimetype": "text/x-python",
   "name": "python",
   "nbconvert_exporter": "python",
   "pygments_lexer": "ipython3",
   "version": "3.10.6"
  }
 },
 "nbformat": 4,
 "nbformat_minor": 5
}
