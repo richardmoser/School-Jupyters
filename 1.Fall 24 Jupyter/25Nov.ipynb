{
 "cells": [
  {
   "metadata": {},
   "cell_type": "markdown",
   "source": [
    "Write a short essay answering the questions below about the following Case Study (700-\n",
    "800 words).\n",
    "Case Study:\n",
    "- The Internet is plagued by a new worm that exploits a hole in a popular operating system.\n",
    "- Tim Smart creates an anti-worm that exploits the same security hole.\n",
    "- Tim’s anti-worm fixes PCs it infects.\n",
    "- It also uses these PCs as a launch pad to reach new PCs.\n",
    "- Tim launches the anti-worm, taking pains to keep it from being traced back to him.\n",
    "- The anti-worm quickly spreads through the Internet, infecting millions of computers.\n",
    "- System administrators around the world combat the anti-worm.\n",
    "Questions:\n",
    "1. Read the guidelines accompanying each principle of the Code and identify which\n",
    "principles Tim violated. Explain your answer.\n",
    "2. How could Tim have handled the situation better to avoid violating the Code?\n",
    "3. Who is hurt the most by Tim's actions?\n",
    "4. Should Tim pay retribution for his actions? If so, how?"
   ],
   "id": "624445f2f3bba931"
  },
  {
   "metadata": {},
   "cell_type": "markdown",
   "source": [
    "utilitarian - Tim's solution removes freedom for users to determine their own security but it also removes the forced choice caused by the worm which acts to separate the users from following their preferences.\n",
    "\n",
    "Act test: depends on the speed of response by the powers that be if he were to notify them of the fix.\n",
    "Cost/Benefit: he almost certainly saved people significant amounts of money\n",
    "Rule test: probably where it could be argued that he failed most clearly. Utility would absolutely be maximized if every person who was capable of correctly fixing large scale problems did so, but people are not capable of being right every time and this scenario ignores people who are interested in doing harm.\n",
    "\n",
    "Respect-for-persons - the opposite of what he did\n",
    "\n",
    "Golden rule test - Tim would probably be willing to have someone else do the same thing in his position\n",
    "Self Defeating test"
   ],
   "id": "a3a21ec684412456"
  },
  {
   "metadata": {},
   "cell_type": "markdown",
   "source": [
    "- 1.3 - be honest and trustworthy\n",
    "- 1.6 - respect privacy\n",
    "- 2.3 - know and respect existing laws pertaining to professional work\n",
    "- 2.8 - access computing and communication resources only when authorized\n",
    "- 4.1 - adhere to the code\n",
    "- 4.2 - report violations of the code\n",
    "    - he may have self reported\n",
    "\n",
    "\n",
    "- 1.1 - contribute to society and human well-being\n",
    "- 1.2 - avoid harm\n",
    "    - he prevented harm to the users of the computers\n",
    "- 1.4 - be fair and take action not to discriminateasdfasdf\n",
    "    - he did not discriminate\n",
    "- 1.6 - respect privacy\n",
    "    - he did not respect privacy in his comandeering of the computers\n",
    "    - he did respect privacy in that he did not steal any information\n",
    "    - he did respect privacy in that he prevented the worm from stealing information\n",
    "- 1.7 - honor confidentiality\n",
    "    - as with 1.6, he violated by accessing the computers but upheld by not stealing information and preventing the worm from stealing information\n",
    "- 2.6 perform work only in areas of competence\n",
    "    - he was competent in this area\n",
    "- 3.1 - ensure that the public good is the central concern\n",
    "    - he did this\n",
    "- 4.1 - adhere to the code\n",
    "    - he did not adhere to the code\n",
    "    - but he did create a tool to stop more a more dangerous code violation"
   ],
   "id": "ee3e9cffadbb1d8d"
  },
  {
   "metadata": {},
   "cell_type": "markdown",
   "source": "",
   "id": "a9292eba63785b40"
  },
  {
   "metadata": {},
   "cell_type": "markdown",
   "source": [
    "1. Tim violated the following principles of the Code:\n",
    "    - 1.3: by obfuscating his identity, Tim was not honest and trustworthy\n",
    "    - 1.6: by using the computers of others without their permission, Tim did not respect privacy\n",
    "    - 2.3: he did not have legal permission to access the computers he did\n",
    "    - 2.8: same as 2.3\n",
    "    - 4.1: he did not adhere to the code\n",
    "    - 4.2: he did not self report his violation of the code\n",
    "At the same time, Tim did uphold the code in the following ways:\n",
    "    - 1.1: he contributed to society and human well-being by stopping the worm\n",
    "    - 1.2: he avoided harm by stopping the worm\n",
    "    - 1.4: he was fair and did not discriminate in his solution\n",
    "    - 1.6: while he did access the computers without the user's consent, he did not steal any information and prevented the worm from stealing information\n",
    "    - 1.7: as with 1.6, he violated this principle by accessing the computers but upheld it by not stealing information and preventing the worm from stealing information\n",
    "    - 2.6: he was clearly competent in this area if he swiftly wrote and deployed a self replicating and self fixing solution\n",
    "    - 3.1: he ensured that the public good was the central concern by stopping the malicious worm\n",
    "    - 4.1: while he did not adhere to the code, he did create a tool to stop a more dangerous code violation\n",
    "2. This case study is based on seven bullet points so these answers rely on a lot of assumptions. Assuming *the powers that be* had the awareness, interest, and skill to stop the worm, Tim could have handled the situation better by notifying them of the fix. This would have allowed them to deploy the fix in a way that would not have violated the code, or at least it would have been a more democratized choice to violate the code deliberately for the greater good. If the powers that be were not capable of stopping the worm in a reasonable period of time, then Tim's actions may have been the best possible solution. It is possible that creating some kind of internet group, i.e. becoming the powers that be, would have been a better solution than acting alone but this also would have violated the code and may have tipped the attacker off, allowing them to modify and harden the worm.\n",
    "Ultimately I do not want to advocate for vigilante justice, but exponential growth is a powerful force and it is most likely that any effective solution would have to be deployed in a similar way to Tim's. Telling users to perform some action to stop the worm in order to increase their agency risks innumerable people not performing the action and the worm continuing to spread. The fix had to be mandatory and the only way to do that is to take control of the computers; the ethics of this case study are really only discussing the who and how long the world can afford to wait for the fix.\n",
    "\n",
    "3. Tim's actions, as described, prevent real potential harm to the users of the computers through (again undescribed but assumed) malware, ransomware, or other malicious software. It could be argued that accessing the user's computers itself was harmful but again, it is unlikely that any fix would not have acted in this way. The person or group who is most hurt is whoever is behind the worm that Tim stopped. While the users were temporarily not completely in control of their computers, they were also protected from much more permanent harms such as loss of data, loss of money, or loss of privacy.\n",
    "\n",
    "Tim's actions can be compared to those of a bystander we'll call Tom who looks through the window of a jewelry store and sees a figure in a skimask sweeping items off shelves and into a bag. Tom then breaks the door in the least destructive way possible and stops the thief. Tom has violated the store's privacy and has broken the law by breaking the door, but he has also prevented a much more serious crime from occurring. In this case study, Tom would generally be considered a hero and would likely be celebrated by the public. The difference between Tim and Tom is that Tim broke down the doors of millions of stores and Tom only broke down one.\n",
    "\n",
    "4. I am torn in this answer in the same way I am whenever someone violates what I would consider to be generally good laws for the greater good. I think that what Tim did, as described in 7 bullet points and assuming no government or other entity was prepared to respond in a timely manner, was the best solution. While I don't think Tim deserves punishment, I also don't think that other people should see Tim and try to take other people's security into their own, probably less capable and altruistic hands.\n",
    "Tim did attempt to cover his tracks, but in all honesty he was deliberately breaking laws and the criminal justice system is not known for taking the context of the intent and actual outcome of an \"illegal\" action into consideration. I think that a solution that balances this desire not to punish a good deed with the need to discourage people from taking the law into their own hands is to not release Tim's name to the public and to assign him some kind of community service that would allow him to use his skills for the greater good in a more legal way along with a probationary warning that if he were to do something similar in the future, he would be punished more severely. As with Tom the good samaratin of the jewelry store, the public should be made aware of the good that Tim did, but the public should also be made aware that Tim's actions were illegal and that if he finds himself breaking down another door, he won't be let off so easily."
   ],
   "id": "e9b1402994ef2a5e"
  }
 ],
 "metadata": {
  "kernelspec": {
   "display_name": "Python 3",
   "language": "python",
   "name": "python3"
  },
  "language_info": {
   "codemirror_mode": {
    "name": "ipython",
    "version": 2
   },
   "file_extension": ".py",
   "mimetype": "text/x-python",
   "name": "python",
   "nbconvert_exporter": "python",
   "pygments_lexer": "ipython2",
   "version": "2.7.6"
  }
 },
 "nbformat": 4,
 "nbformat_minor": 5
}
