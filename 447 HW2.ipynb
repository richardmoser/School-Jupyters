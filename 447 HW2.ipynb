{
 "cells": [
  {
   "metadata": {},
   "cell_type": "markdown",
   "source": [
    "Consider the following library database schema. The primary key attribute(s) are in boldface.\n",
    "1. **book**(**book_id**, title, publisher_id, genre, publication_year)\n",
    "FK: publisher_id → publisher.publisher_id\n",
    "2. **publisher**(**publisher_id**, name, location, founding_year)\n",
    "3. **author**(**author_id**, name, nationality, birth_year)\n",
    "4. **writes**(**author_id**, book_id)\n",
    "FK: author_id → author.author_id\n",
    "FK: book_id → book.book_id\n",
    "5. **library_branch**(**branch_id**, name, location, established_year)\n",
    "6. **copy**(**copy_id**, book_id, branch_id, status)\n",
    "FK: book_id → book.book_id\n",
    "FK: branch_id → library_branch.branch_id\n",
    "7. **borrower**(**borrower_id**, name, email, join_date)\n",
    "8. **loan**(**loan_id**, copy_id, borrower_id, loan_date, due_date, return_date)\n",
    "FK: copy_id → copy.copy_id\n",
    "FK: borrower_id → borrower.borrower_id\n",
    "9. **genre**(**genre_id**, genre_name)\n",
    "10. **book_genre**(**book_id**, genre_id)\n",
    "FK: book_id → book.book_id\n",
    "FK: genre_id → genre.genre_id"
   ],
   "id": "a51d95ca330208b4"
  },
  {
   "metadata": {},
   "cell_type": "markdown",
   "source": [
    "Write the following queries in relational algebra, using the library schema:\n",
    "- a. Find the ID and name of each author who has written at least one book in the \"Science\" genre.\n",
    "- b. Find the ID and name of each borrower who has borrowed at least one book from the \"Downtown\"\n",
    "library branch.\n",
    "- c. Find the ID and name of each borrower who has borrowed at least one book published by \"Penguin\n",
    "Books\".\n",
    "- d. Find the ID and name of each borrower who has not returned any books by the due date.\n",
    "- e. Find the ID and name of each book that has never been borrowed.\n",
    "- f. Find the ID and name of each borrower who has borrowed at least one book from every genre."
   ],
   "id": "8b7c810bc8232fa3"
  },
  {
   "metadata": {},
   "cell_type": "markdown",
   "source": [
    "- a. Find the ID and name of each author who has written at least one book in the \"Science\" genre.\n",
    "    - $\\pi_{author.author_id, author.name}(\\sigma_{genre.genre_name = 'Science'}(author \\bowtie writes \\bowtie book_genre \\bowtie genre))$"
   ],
   "id": "35b7000c690903c5"
  }
 ],
 "metadata": {
  "kernelspec": {
   "display_name": "Python 3",
   "language": "python",
   "name": "python3"
  },
  "language_info": {
   "codemirror_mode": {
    "name": "ipython",
    "version": 2
   },
   "file_extension": ".py",
   "mimetype": "text/x-python",
   "name": "python",
   "nbconvert_exporter": "python",
   "pygments_lexer": "ipython2",
   "version": "2.7.6"
  }
 },
 "nbformat": 4,
 "nbformat_minor": 5
}
