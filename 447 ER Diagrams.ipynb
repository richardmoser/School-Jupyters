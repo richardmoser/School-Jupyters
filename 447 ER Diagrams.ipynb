{
 "cells": [
  {
   "metadata": {},
   "cell_type": "markdown",
   "source": [
    "# ER Diagrams\n",
    "- entities: rectangles\n",
    "- relationships: diamonds or labels directly on the connecting lines\n",
    "- multiplicity: add parenthesized intervals on or near the connecting lines to represent the number of entities that can be involved in a relationship\n",
    "    - often represented as `(min, max)`, `(min, N)`, `(min, *)`, min...max`, `min...N`, etc\n",
    "    - (*) represents 0 or more\n",
    "- unary relationship: draw a line to the relationship diamond and back to the entity\n",
    "- mandatory relationship: double line connecting an entity to a relationship \n",
    "    - e.g. it is mandatory that a `student` `takes` the minimum number of `course`s\n",
    "- **RL does not have arrows so you have to find other ways to indicate directionality**\n",
    "    - *allegedly*\n",
    "        - how do you know if it is `(1, 1)` manager per `(10, 20)` employees or `(10, 20)` managers per `(1, 1)` employee?\n",
    "    - can specify with a text label by the interval\n",
    "        - e.g. `(1,1) managers` and `(10, 20) employees`"
   ],
   "id": "86399705e5b81543"
  },
  {
   "metadata": {},
   "cell_type": "markdown",
   "source": [
    "### e.g. a company\n",
    "<img src=\"images/company_example.JPEG\" width=\"1000\">\n",
    "- a project **must** be controlled by a department but a department does not have to control any projects\n",
    "    - hence only one side is double lined\n",
    "- employees **must** `work for` a department and a department **must** `have` employees\n",
    "    - hence both sides are double lined\n",
    "- `dependent_of` is double outlined be\n"
   ],
   "id": "addde67cdceb581d"
  },
  {
   "metadata": {},
   "cell_type": "markdown",
   "source": "",
   "id": "890064d6a11848cc"
  },
  {
   "metadata": {},
   "cell_type": "markdown",
   "source": "",
   "id": "588353832b53528f"
  },
  {
   "metadata": {},
   "cell_type": "markdown",
   "source": "",
   "id": "c4be4c2ed4b016ef"
  },
  {
   "metadata": {},
   "cell_type": "markdown",
   "source": "",
   "id": "8be7e30114ea5d31"
  },
  {
   "metadata": {},
   "cell_type": "markdown",
   "source": "",
   "id": "5099d0701fd23473"
  },
  {
   "metadata": {},
   "cell_type": "markdown",
   "source": "",
   "id": "8d3eb3033d20ad7a"
  },
  {
   "metadata": {},
   "cell_type": "markdown",
   "source": "",
   "id": "6d1db4c001f79bf2"
  }
 ],
 "metadata": {
  "kernelspec": {
   "display_name": "Python 3",
   "language": "python",
   "name": "python3"
  },
  "language_info": {
   "codemirror_mode": {
    "name": "ipython",
    "version": 2
   },
   "file_extension": ".py",
   "mimetype": "text/x-python",
   "name": "python",
   "nbconvert_exporter": "python",
   "pygments_lexer": "ipython2",
   "version": "2.7.6"
  }
 },
 "nbformat": 4,
 "nbformat_minor": 5
}
