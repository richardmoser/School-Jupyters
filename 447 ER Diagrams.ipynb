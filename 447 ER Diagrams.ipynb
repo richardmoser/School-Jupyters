{
 "cells": [
  {
   "cell_type": "code",
   "id": "b1b6b07b54b342ab",
   "metadata": {
    "ExecuteTime": {
     "end_time": "2025-02-28T19:46:40.664122Z",
     "start_time": "2025-02-28T19:46:40.662567Z"
    }
   },
   "source": [],
   "outputs": [],
   "execution_count": null
  },
  {
   "cell_type": "markdown",
   "id": "28d7779b710f7c31",
   "metadata": {},
   "source": [
    "# General Course stuff and ER "
   ]
  },
  {
   "cell_type": "markdown",
   "id": "f1a3419785c6a7ed",
   "metadata": {},
   "source": [
    "## **mini exam Tuesday Feb 11th**\n",
    "- laptop with full screen brightness\n",
    "- use only a browser with a single tab open\n",
    "    - no other files/apps\n",
    "- alternatively a paper version will be available\n",
    "- format:\n",
    "    - on Canvas\n",
    "    - 29 questions, 62 total points\n",
    "    - mostly MC and T/F\n",
    "    - one or two short answer questions\n",
    "    - an ER diagram will be printed and provided\n",
    "        - 10 questions will be about interpreting the ER diagram\n",
    "    - **sign the attendance sheet at the back of the room before leaving**\n"
   ]
  },
  {
   "cell_type": "markdown",
   "id": "733f2e3086c1df38",
   "metadata": {},
   "source": [
    "## likely exam Qs\n",
    "- schema: a description of a particular collection of data\n",
    "    - includes the data structures, operations on the data\n",
    "    - for a relational database, the schema is usually described as a set of tables\n",
    "        - format: `student(SID: string, name: string, age: integer)`\n",
    "        - the table name is `student`\n",
    "        - the attributes or keys are `SID`, `name`, and `age`\n",
    "- instances: the actual content of the database at a particular point in time\n",
    "    - the schema is static, the instances are dynamic\n",
    "- **three-schema architecture** (will be an exam Q)\n",
    "    - goal of the three-schema architecture is to separate the user applications from the physical database\n",
    "    - levels\n",
    "        - external schema\n",
    "            - user views\n",
    "            - describes the part of the database that a particular user group is interested in\n",
    "            - hides irrelevant details\n",
    "        - conceptual schema\n",
    "            - community view\n",
    "            - describes the entire database for the community\n",
    "            - hides details not relevant to the entire community\n",
    "        - internal schema\n",
    "            - physical view\n",
    "            - describes the physical storage of the database\n",
    "            - hides the details of the storage structure\n",
    "            - can be indexed, hashed, etc\n",
    "    <img src=\"images/three-schema.jpg\">\n",
    "- schema vs instance\n",
    "    - schema: a description of the structure of a database\n",
    "        - for a relational database, the schema is usually described as a set of tables\n",
    "    - instances: the actual content of the database at a particular point in time\n",
    "        - the schema is static, the instances are dynamic\n",
    "- formal definition of a relation (a table)\n",
    "    - a **subset** of the cartesian product of the domains of the attribute data types\n",
    "        - a relation in the mathematical sense\n",
    "        - **n** domains are denoted by $D_1, D_2, ..., D_n$\n",
    "        - if **r** is a relation on these domains, then **r** $\\subseteq D_1 \\times D_2 \\times ... \\times D_n$ \n",
    "        - cartesian product: the set of all possible ordered pairs of elements from the two sets\n",
    "            - e.g. $a \\times b = \\{(x,y) | x \\in a \\land y \\in b\\}$\n",
    "                - creates a matrix of all possible combinations of elements from the sets $a$ and $b$\n",
    "        - **hence, it is a set of tuples**"
   ]
  },
  {
   "cell_type": "markdown",
   "id": "86399705e5b81543",
   "metadata": {},
   "source": [
    "# ER Diagrams\n",
    "- entities: rectangles\n",
    "- attributes: ovals\n",
    "    - multivalued attributes: double outlined\n",
    "- relationships: diamonds or labels directly on the connecting lines\n",
    "- multiplicity: add parenthesized intervals on or near the connecting lines to represent the number of entities that can be involved in a relationship\n",
    "    - often represented as `(min, max)`, `(min, N)`, `(min, *)`, min...max`, `min...N`, etc\n",
    "    - (*) represents 0 or more\n",
    "- unary relationship: draw a line to the relationship diamond and back to the entity\n",
    "- mandatory relationship: double line connecting an entity to a relationship \n",
    "    - e.g. it is mandatory that a `student` `takes` the minimum number of `course`s\n",
    "- **RL does not have arrows so you have to find other ways to indicate directionality**\n",
    "    - *allegedly*\n",
    "        - how do you know if it is `(1, 1)` manager per `(10, 20)` employees or `(10, 20)` managers per `(1, 1)` employee?\n",
    "    - can specify with a text label by the interval\n",
    "        - e.g. `(1,1) managers` and `(10, 20) employees`\n",
    "- specialization (or generalization): use a triangle to indicate the specialization of an entity\n",
    "    - e.g. `student` is a specialization of `person`\n",
    "    - considered an extension of ER\n"
   ]
  },
  {
   "metadata": {},
   "cell_type": "markdown",
   "source": [
    "# Relation Schemes\n",
    "- i.e. tables\n",
    "- a primary key is underlined\n"
   ],
   "id": "10eafd379ab91502"
  },
  {
   "cell_type": "markdown",
   "id": "addde67cdceb581d",
   "metadata": {},
   "source": [
    "### e.g. a company\n",
    "<img src=\"images/company_example.JPEG\" width=\"1000\">\n",
    "\n",
    "- a project **must** be controlled by a department but a department does not have to control any projects\n",
    "    - hence only one side is double lined\n",
    "- employees **must** `work for` a department and a department **must** `have` employees\n",
    "    - hence both sides are double lined\n",
    "- `dependent_of` is double outlined be\n"
   ]
  },
  {
   "cell_type": "markdown",
   "id": "890064d6a11848cc",
   "metadata": {},
   "source": [
    "<img src=\"images/ER_Diagram1.png\" width=\"800\">\n",
    "<img src=\"images/ER_Diagram2.png\" width=\"800\">\n",
    "<img src=\"images/ER_Diagram3.png\" width=\"800\">\n",
    "<img src=\"images/ER_Diagram4.png\" width=\"800\">\n",
    "<img src=\"images/ER_Diagram5.png\" width=\"800\">\n",
    "<img src=\"images/ER_Diagram6.png\" width=\"800\">"
   ]
  },
  {
   "cell_type": "markdown",
   "id": "588353832b53528f",
   "metadata": {},
   "source": [
    "### table $\\rightarrow$ code notation\n",
    "<img src=\"images/table_notation.png\" width=\"800\">\n",
    "\n",
    "- Course(`Course_name`, `Course_number`, `Credit_hours`, `Department`)\n",
    "### Terminology Conversion\n",
    "- relation $\\rightarrow$ table\n",
    "- tuple $\\rightarrow$ row/record\n",
    "- attribute $\\rightarrow$ column/field\n",
    "- key $\\rightarrow$ unique identifier\n",
    "- domain $\\rightarrow$ data type\n"
   ]
  },
  {
   "cell_type": "markdown",
   "id": "c4be4c2ed4b016ef",
   "metadata": {},
   "source": []
  },
  {
   "cell_type": "markdown",
   "id": "8be7e30114ea5d31",
   "metadata": {},
   "source": [
    "### Mini-Exam 2\n",
    "- Tuesday, March 4th\n",
    "- relational algebra\n",
    "    - operators\n",
    "    - keys\n",
    "    - min or max tuples after an operation\n",
    "        - e.g. after a union\n",
    "    - write an RA query\n",
    "    - how could you define an operator via other operators\n",
    "        - e.g. left join via regular join\n",
    "            - won't be on exam but I guess something similar could\n",
    "    - what operators can be applied to non union-compatible relations\n",
    "    - what makes something union-compatible\n",
    "    - why are integrity and referential integrity inportant\n",
    "        - entity integrity: individual tables\n",
    "        - referential integrity: relationships between tables\n",
    "    - what about the other integrity constraints and their importance\n",
    "    - keys\n",
    "        - primary, candidate, superkey, foreign\n",
    "        - if A is a key and B is a key, B is also a key\n",
    "        - if $A \\subseteq B$, an B is a superkey, A may be a key\n",
    "    - given\n",
    "        - Stu(SSSN, name, dept, status) -status is grad or undergrad\n",
    "        - RA(SSN, advisor, dept)\n",
    "        - TA(SSN, course, dept)\n",
    "        - find names of all grad students who are not TAs or RAs\n",
    "            - get all grad students\n",
    "                - $all_grad \\leftarrow \\sigma_{status='grad'}(Stu)$\n",
    "            - get all TAs & RAs\n",
    "                - $all_RATA_SSN \\leftarrow (TA_SSN \\rightarrow \\pi_{SSN} TA) \\cup (RA_SSN \\rightarrow \\pi_{SSN} RA)$\n",
    "            - get all grad students who are not TAs or RAs\n",
    "                - $\\pi_{name}(all_grad - all_RATA_SSN)$\n",
    "        - could be a one liner, but step by step is more clear\n",
    "- given an expression in RA, find an equivalent expression from the answer bank\n",
    "    - $A \\cap B = {x | x \\in A \\land x \\in B} = A - (A - B) = (A \\cup B) - ((A - B) \\cup (B - A))$\n",
    "- under what circumstancces is $\\sigma_C(R*s) = (\\sigma_C(R)) *\\sigma_C(S)$\n",
    "    - valid when the predicate $C$ only involves the attributes which are shared between $R$ and $S$\n",
    "        - otherwise, $R$ or $S$ could have empty sets\n",
    "- $R \\times S \\neq R \\bowtie S$\n",
    "    - they are not equivalent\n",
    "- given two tables, what is the result of a certain operation\n",
    "    - e.g. $R \\bowtie S$\n",
    "    - tables will be provided \n",
    "- given a database relation\n",
    "    - check for integrity rule violations\n",
    "    - given inserting some specific record\n",
    "        - e.g. entering a duplicate SSN\n"
   ]
  },
  {
   "cell_type": "markdown",
   "id": "5099d0701fd23473",
   "metadata": {},
   "source": []
  },
  {
   "cell_type": "markdown",
   "id": "8d3eb3033d20ad7a",
   "metadata": {},
   "source": []
  },
  {
   "cell_type": "markdown",
   "id": "6d1db4c001f79bf2",
   "metadata": {},
   "source": []
  }
 ],
 "metadata": {
  "kernelspec": {
   "display_name": "Python 3 (ipykernel)",
   "language": "python",
   "name": "python3"
  },
  "language_info": {
   "codemirror_mode": {
    "name": "ipython",
    "version": 3
   },
   "file_extension": ".py",
   "mimetype": "text/x-python",
   "name": "python",
   "nbconvert_exporter": "python",
   "pygments_lexer": "ipython3",
   "version": "3.10.12"
  }
 },
 "nbformat": 4,
 "nbformat_minor": 5
}
