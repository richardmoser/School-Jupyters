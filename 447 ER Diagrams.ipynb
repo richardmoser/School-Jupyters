{
 "cells": [
  {
   "metadata": {},
   "cell_type": "markdown",
   "source": "# General Course stuff and ER ",
   "id": "28d7779b710f7c31"
  },
  {
   "metadata": {},
   "cell_type": "markdown",
   "source": [
    "## **mini exam Tuesday Feb 11th**\n",
    "- laptop with full screen brightness\n",
    "- use only a browser with a single tab open\n",
    "    - no other files/apps\n",
    "- alternatively a paper version will be available\n",
    "- format:\n",
    "    - on Canvas\n",
    "    - 29 questions, 62 total points\n",
    "    - mostly MC and T/F\n",
    "    - one or two short answer questions\n",
    "    - an ER diagram will be printed and provided\n",
    "        - 10 questions will be about interpreting the ER diagram\n",
    "    - **sign the attendance sheet at the back of the room before leaving**\n"
   ],
   "id": "f1a3419785c6a7ed"
  },
  {
   "metadata": {},
   "cell_type": "markdown",
   "source": [
    "## likely exam Qs\n",
    "- schema vs instance\n",
    "    - schema: a description of the structure of a database\n",
    "        - for a relational database, the schema is usually described as a set of tables\n",
    "    - instances: the actual content of the database at a particular point in time\n",
    "        - the schema is static, the instances are dynamic\n",
    "- formal definition of a relation (a table)\n",
    "    - a **subset** of the cartesian product of the domains of the attribute data types\n",
    "        - a relation in the mathematical sense\n",
    "        - **n** domains are denoted by $D_1, D_2, ..., D_n$\n",
    "        - if **r** is a relation on these domains, then **r** $\\subseteq D_1 \\times D_2 \\times ... \\times D_n$ \n",
    "        - cartesian product: the set of all possible ordered pairs of elements from the two sets\n",
    "            - e.g. $a \\times b = \\{(x,y) | x \\in a \\land y \\in b\\}$\n",
    "                - creates a matrix of all possible combinations of elements from the sets $a$ and $b$\n",
    "        - **hence, it is a set of tuples**\n",
    "- "
   ],
   "id": "733f2e3086c1df38"
  },
  {
   "metadata": {},
   "cell_type": "markdown",
   "source": [
    "# ER Diagrams\n",
    "- entities: rectangles\n",
    "- relationships: diamonds or labels directly on the connecting lines\n",
    "- multiplicity: add parenthesized intervals on or near the connecting lines to represent the number of entities that can be involved in a relationship\n",
    "    - often represented as `(min, max)`, `(min, N)`, `(min, *)`, min...max`, `min...N`, etc\n",
    "    - (*) represents 0 or more\n",
    "- unary relationship: draw a line to the relationship diamond and back to the entity\n",
    "- mandatory relationship: double line connecting an entity to a relationship \n",
    "    - e.g. it is mandatory that a `student` `takes` the minimum number of `course`s\n",
    "- **RL does not have arrows so you have to find other ways to indicate directionality**\n",
    "    - *allegedly*\n",
    "        - how do you know if it is `(1, 1)` manager per `(10, 20)` employees or `(10, 20)` managers per `(1, 1)` employee?\n",
    "    - can specify with a text label by the interval\n",
    "        - e.g. `(1,1) managers` and `(10, 20) employees`\n",
    "- specialization (or generalization): use a triangle to indicate the specialization of an entity\n",
    "    - e.g. `student` is a specialization of `person`\n",
    "    - considered an extension of ER\n"
   ],
   "id": "86399705e5b81543"
  },
  {
   "metadata": {},
   "cell_type": "markdown",
   "source": [
    "### e.g. a company\n",
    "<img src=\"images/company_example.JPEG\" width=\"1000\">\n",
    "- a project **must** be controlled by a department but a department does not have to control any projects\n",
    "    - hence only one side is double lined\n",
    "- employees **must** `work for` a department and a department **must** `have` employees\n",
    "    - hence both sides are double lined\n",
    "- `dependent_of` is double outlined be\n"
   ],
   "id": "addde67cdceb581d"
  },
  {
   "metadata": {},
   "cell_type": "markdown",
   "source": [
    "<img src=\"images/ER_Diagram1.png\" width=\"800\">\n",
    "<img src=\"images/ER_Diagram2.png\" width=\"800\">\n",
    "<img src=\"images/ER_Diagram3.png\" width=\"800\">\n",
    "<img src=\"images/ER_Diagram4.png\" width=\"800\">\n",
    "<img src=\"images/ER_Diagram5.png\" width=\"800\">\n",
    "<img src=\"images/ER_Diagram6.png\" width=\"800\">"
   ],
   "id": "890064d6a11848cc"
  },
  {
   "metadata": {},
   "cell_type": "markdown",
   "source": [
    "### table $\\rightarrow$ code notation\n",
    "<img src=\"images/table_notation.png\" width=\"800\">\n",
    "- Course(`Course_name`, `Course_number`, `Credit_hours`, `Department`)\n",
    "### Terminology Conversion\n",
    "- relation $\\rightarrow$ table\n",
    "- tuple $\\rightarrow$ row/record\n",
    "- attribute $\\rightarrow$ column/field\n",
    "- key $\\rightarrow$ unique identifier\n",
    "- domain $\\rightarrow$ data type\n"
   ],
   "id": "588353832b53528f"
  },
  {
   "metadata": {},
   "cell_type": "markdown",
   "source": "",
   "id": "c4be4c2ed4b016ef"
  },
  {
   "metadata": {},
   "cell_type": "markdown",
   "source": "",
   "id": "8be7e30114ea5d31"
  },
  {
   "metadata": {},
   "cell_type": "markdown",
   "source": "",
   "id": "5099d0701fd23473"
  },
  {
   "metadata": {},
   "cell_type": "markdown",
   "source": "",
   "id": "8d3eb3033d20ad7a"
  },
  {
   "metadata": {},
   "cell_type": "markdown",
   "source": "",
   "id": "6d1db4c001f79bf2"
  }
 ],
 "metadata": {
  "kernelspec": {
   "display_name": "Python 3",
   "language": "python",
   "name": "python3"
  },
  "language_info": {
   "codemirror_mode": {
    "name": "ipython",
    "version": 2
   },
   "file_extension": ".py",
   "mimetype": "text/x-python",
   "name": "python",
   "nbconvert_exporter": "python",
   "pygments_lexer": "ipython2",
   "version": "2.7.6"
  }
 },
 "nbformat": 4,
 "nbformat_minor": 5
}
