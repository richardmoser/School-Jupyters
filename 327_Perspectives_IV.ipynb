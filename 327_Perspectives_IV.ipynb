{
 "cells": [
  {
   "cell_type": "code",
   "execution_count": null,
   "id": "initial_id",
   "metadata": {
    "collapsed": true
   },
   "outputs": [],
   "source": [
    ""
   ]
  },
  {
   "metadata": {},
   "cell_type": "markdown",
   "source": "# **Unit 3, Section 1**",
   "id": "95cd45114652cfd5"
  },
  {
   "metadata": {},
   "cell_type": "markdown",
   "source": "#### Homoeroticism and Homosexuality in Islam",
   "id": "322f45341fce7e2d"
  },
  {
   "metadata": {},
   "cell_type": "markdown",
   "source": "- ",
   "id": "493e5f11ce943d7d"
  },
  {
   "metadata": {},
   "cell_type": "markdown",
   "source": [
    "### 25Mar25 Readings\n",
    "#### Transing and Transpassing Across Sex-Gender Walls in Iran\n",
    "- gender affirming surgeries and hormonal treatments have been available since at least the 1970s\n",
    "- only recently (as of 2008) has there begun to be significant media interest in this topic\n",
    "- in addition to increased publicity, there has also been an increase in the number of surgeries and treatments being performed\n",
    "- homosexuality is illegal in Iran and SRS is legally, medically, and sometimes religiously sanctioned as a \"cure for a diseased abnormality\"\n",
    "    - the author argues that while this can create pressure for individuals to undergo SRS, it more importantly creates a space for individuals to be able to live their lives as they wish\n",
    "        - i.e. it gives them a position and identity within the social order which is seen as more legitimate\n",
    "- classical Islamic discourse contains a flexibly gender binary which accounts for hermaphrodites\n",
    "    - hence there is at least some understanding that gender may not always be strictly categorized along binary lines\n",
    "    - at the time of this piece's writing, transexuality is considered an extension of this understanding and is allowed on the basis that it is not explicitly forbidden in the Qur'an\n",
    "    - SRS is not required for a diagnosed transsexual unless they have religious concerns about sinning in their current body\n",
    "- increased knowledge and coverage has not necessarily led to increased acceptance but has led to increased visibility and understanding\n",
    "    - tabloids may still sensationalize the topic but they won't cover homosexuality at all\n",
    "- MtF individuals are often less accepted and are more likely to be thrown out of their homes than FtM individuals\n",
    "    - this is largely driven by the shame associated with homosexuality and anal sex (even though SRS would open them to other possibilities)\n",
    "        - many trans individuals state that they had never received penetrative intercourse before their surgeries and marriage\n",
    "- transsexual people often have to distance themselves from homosexuality in order to be accepted\n",
    "- the transition process involves a \"filter\" aimed to separate \"true transexuals\" from \"opportunist homosexuals\" who are trying to avoid persecution\n",
    "    - Islamic spiritual therapists in particular can be hostile and traumatizing\n",
    "- the author argues that by creating a semi legitimate space for transsexuality and a means to transition to it, the Islamic Republic has actually created a space for homosexuality to exist\n",
    "    - i.e. by creating gates between the two sides of the binary wall, it is possible to pass between them **and also to exist in the middle**\n",
    "    - legal and religious officials do not like when a certified transexual does not pursue hormones and SRS but they cannot legally force them to do so\n",
    "        - someone may occupy the middle space for as long as they wish before deciding to transition (or not)\n",
    "- some progress has been made to form alliance between the trans and homosexual communities\n"
   ],
   "id": "1d7c55bea7952f3c"
  },
  {
   "metadata": {},
   "cell_type": "markdown",
   "source": [
    "### 26Mar25 Class\n",
    "- Think - Pair - Share\n",
    "    - How is transsexuality constructed in Iran?\n",
    "        - transness is seen as an extension of the hermaphroditic \"ambiguety\" case in the Qur'an and religio-socio-legal framework\n",
    "    - Why do transsexuals distinguish themselves from Homosexuals?\n",
    "        - homosexuality is still not accepted in Iran and is illegal but transexuality is more frequently accepted and can sometimes be seen as a \"cure\" for homosexuality which creates a \"legitimate\" identity within the social order.\n",
    "        - hence some people will seek to be categorized as transexual regardless of whether or not they want to pursue homrones, SRS, etc.\n",
    "    - Compare and contrast transition in Iran and the US\n",
    "        - In the US, popular (i.e. media, not super deep in the theory or community) discourse generally centers around trying to pass and fit into the binary. Surgical and hormonal treatments are more or less assumed to be the end goal of transition.\n",
    "        - In Iran it sounds like there is more awareness of the middle space and acceptance begins when someone identifies as trans, not when they have completed surgeries or treatments.\n",
    "    - How do the 4 major social systems shape transexuality in Iran?\n",
    "        - Religion: Classical teachings have been, at least in some ways, used to create legitimate space for transsexuality and gender ambiguity\n",
    "        - Legal: SRS is legally allowed and in many ways encouraged\n",
    "        - Science: SRS is seen as a medical treatment for what is considered to be a diseased abnormality\n",
    "        - Media: Increased visibility and understanding but also sensationalism and tabloidization\n"
   ],
   "id": "fc8c57a7f28e0ce0"
  },
  {
   "metadata": {},
   "cell_type": "markdown",
   "source": "",
   "id": "649afc62f3303634"
  },
  {
   "metadata": {},
   "cell_type": "markdown",
   "source": "",
   "id": "4a34f2a105bb7abc"
  }
 ],
 "metadata": {
  "kernelspec": {
   "display_name": "Python 3",
   "language": "python",
   "name": "python3"
  },
  "language_info": {
   "codemirror_mode": {
    "name": "ipython",
    "version": 2
   },
   "file_extension": ".py",
   "mimetype": "text/x-python",
   "name": "python",
   "nbconvert_exporter": "python",
   "pygments_lexer": "ipython2",
   "version": "2.7.6"
  }
 },
 "nbformat": 4,
 "nbformat_minor": 5
}
