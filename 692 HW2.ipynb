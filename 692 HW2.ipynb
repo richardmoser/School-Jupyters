{
 "cells": [
  {
   "cell_type": "markdown",
   "id": "0817a706-2d8c-4471-b178-5d362644c14e",
   "metadata": {},
   "source": [
    "- 1. a) Convert the Maxwell–Boltzmann momentum probability ( p) (Eq. 3.11) to the velocity probability (v) (Eq. 5.29) and (5.30). Follow the suggestions in the text.\n",
    "    - equations:\n",
    "        - (3.11): $P(p)dp = \\left(\\frac{1}{2\\pi m k T}\\right)^{3/2} $exp$[-\\frac{p^2}{2 m k T}] 4 \\pi p^2 dp$ \n",
    "            - Probability of finding a particle with **momentum of magnitude p**\n",
    "        - (5.29): $P(v)dv = P(\\mathbf{v}) 4 \\pi v^2 d$v \n",
    "            - Probability of finding a particle with **velocivty of magnitude v**\n",
    "        - (5.30): $P(\\mathbf{v}) = \\left(\\frac{m}{2 \\pi k T}\\right)^{3/2}$exp$[-\\frac{m \\vec{v}^2}{2 k T}]$ \n",
    "            - Probability of finding a particle with **3D velocity vector** $\\mathbf{v}$\n",
    "        - (5.29 & 5.30): $P(v)dv = \\left(\\frac{m}{2 \\pi k T}\\right)^{3/2}$exp$[-\\frac{m \\vec{v}^2}{2 k T}] 4 \\pi v^2 dv$\n",
    "    - rearrange: \n",
    "        - $P(p)dp = \\left(\\frac{1}{2\\pi m k T}\\right)^{3/2} $exp$[-\\frac{p^2}{2 m k T}] 4 \\pi p^2 dp$ \n",
    "            - $p = mv$, $dp = m dv$\n",
    "        - $P(v)dv = \\left(\\frac{1}{2 \\pi m k T}\\right)^{3/2}$exp$[-\\frac{p^2}{2 m k T}] 4 \\pi (mv)^2 m dv$\n",
    "            - rearrange the exponent\n",
    "            - $-\\frac{p^2}{2 m k T} = -\\frac{m^2 v^2}{2 m k T} = -\\frac{m v^2}{2 k T}$\n",
    "        - $P(v)dv = \\left(\\frac{1}{2 \\pi m k T}\\right)^{3/2}$exp$[-\\frac{m v^2}{2 k T}] 4 \\pi (mv)^2 m dv$\n",
    "            - rearrange the m terms\n",
    "        - $P(v)dv = \\left(\\frac{1}{2 \\pi m k T}\\right)^{3/2}$exp$[-\\frac{m v^2}{2 k T}] 4 \\pi m^3 v^2 dv$\n",
    "        - $P(v)dv = m^3 \\left(\\frac{1}{2 \\pi m k T}\\right)^{3/2}$exp$[-\\frac{m v^2}{2 k T}] 4 \\pi v^2 dv$\n",
    "        - $P(v)dv = \\left(\\frac{m}{2 \\pi k T}\\right)^{3/2}$exp$[-\\frac{m v^2}{2 k T}] 4 \\pi v^2 dv$\n",
    "            - define $\\boxed{P(\\mathbf{v}) = \\left(\\frac{m}{2 \\pi k T}\\right)^{3/2}exp[-\\frac{m v^2}{2 k T}]}$\n",
    "            - $\\rightarrow \\boxed{P(v)dv = P(\\mathbf{v}) 4 \\pi v^2 dv}$\n"
   ]
  },
  {
   "cell_type": "markdown",
   "id": "a6a4db17-afb5-4e0d-ae6f-ba2b0dd6d4f8",
   "metadata": {},
   "source": [
    "- 1. b) Argue from your result that the probability of finding vector velocity v is that given in (Eq. 5.30)\n",
    "    - If it is accepted that 3.11 is true and the probability of finding a particle with momentum of magnitude p is given by the equation, then it follows that manipulating the equation into the form of 5.30 will yield the probability of finding a particle with 3D velocity vector $\\mathbf{v}$. Momentum is the product of velocity and mass, for some mass $m$, the probability of finding an $m$-massed particle with momentum $p$ is the probability of finding an $m$-massed particle with momentum $m v$. If you know the mass, only the velocity is relevant to the probability of finding the particle. "
   ]
  },
  {
   "cell_type": "markdown",
   "id": "cc80ab4c-5341-43fc-a854-54bb36bd7755",
   "metadata": {},
   "source": [
    "2. (20 points) This question gives a case where Bremsstrahlung emission is important. A hydrogen plasma from a companion star accretes ( flows) onto a white dwarf star of radius 8000 km and mass 0.5M⊙. The rate of plasma ow onto the white dwarf is 10−9 M⊙ year−1. The plasma is guided to one pole of the white dwarf by the magnetic eld in such a way that it impinges on only 1% of the star’s surface. The kinetic energy of the plasma gained in the fall from “infinity” is suddenly reduced to near zero as the matter is abruptly slowed in a shock just above the surface (NOTE - a shock is where the speed of the material exceeds the local sounds speed); thematter then settles slowly down to the surface. The thin (d = 1 m deep) region just below the shock e ectively absorbs all the infall energy. This thin region thus contains a very hot plasma; it is optically thin with mass density ρ = 10−2 kg/m3. A sketch of this process is shown here.\n",
    "Solve the following problems:\n",
    "\n",
    "- 2. a) What is the number density of ions $n_i$ just below the shock region? Assume a plasma of pure hydrogen.\n",
    "    - $n_i = \\frac{\\rho}{m_H}$\n",
    "        - $\\rho = 10^{-2} kg/m^3$\n",
    "        - $m_H = 1.67 \\cdot 10^{-27} kg$\n",
    "    - $n_i = \\frac{10^{-2}}{1.67 \\cdot 10^{-27}}$\n",
    "    - $\\boxed{n_i \\approx 5.99 \\cdot 10^{24} m^{-3}}$"
   ]
  },
  {
   "cell_type": "markdown",
   "id": "e0adf2bb-1fd4-457b-b816-b76908115cd0",
   "metadata": {},
   "source": [
    "- 2. b) Calculate the potential energy lost per second (J/s) by the accreting material as it falls from “infinity.”\n",
    "- $M_{WD} = 0.5 M_{\\odot} = 0.5 (2 \\cdot 10^{30} kg) = 1 \\cdot 10^{30} kg$\n",
    "- potential: \n",
    "    - $U(r) = -\\frac{G M m}{r}$\n",
    "    - $r = \\infty \\implies U(\\infty) = 0$\n",
    "    - $r = R_{WD} = 8000 km = 8 \\cdot 10^6 m$\n",
    "        - $G = 6.674 \\cdot 10^{-11} m^3 kg^{-1} s^{-2}$\n",
    "    - $U(R_{WD}) = -\\frac{(6.674 \\cdot 10^{-11} m^3 kg^{-1} s^{-2})(0.5 \\cdot 2 \\cdot 10^{30} kg)}{8 \\cdot 10^6 m}$ = $-8.343 \\cdot 10^{12} J$ per kg\n",
    "    - $U_{lost} = 8.343 \\cdot 10^{12} J$ per kg\n",
    "- flow rate:\n",
    "    - $10^{-9} M_{\\odot} year^{-1} = \\frac{10^{-9} \\cdot 2 \\cdot 10^{30} kg}{(365 \\cdot 24 \\cdot 60 \\cdot 60) s} = 6.342 \\cdot 10^{13} kg s^{-1}$\n",
    "- energy loss per second:\n",
    "    - loss per kg $\\cdot$ kg per second\n",
    "    - $8.343 \\cdot 10^{12} J \\cdot 6.342 \\cdot 10^{13} kg s^{-1}$\n",
    "    - $\\boxed{5.291 \\cdot 10^{26} J s^{-1}}$"
   ]
  },
  {
   "cell_type": "markdown",
   "id": "7020fc2b-9c8a-4608-930d-b68028397f98",
   "metadata": {},
   "source": [
    "- 2. c) This energy is converted to thermal energy in the thin postshock region that is 1 meter thick. What is the power (J/s) deposited in 1 m$^3$ of this region?\n",
    "- surface area of the region:\n",
    "    - $A_{total} = 4 \\pi R_{WD}^2 = 4 \\pi (8 \\cdot 10^6 m)^2 = 2.01 \\cdot 10^{14} m^2$\n",
    "    - $A_{shock} = 0.01 \\cdot 2.01 \\cdot 10^{14} m^2 = 2.01 \\cdot 10^{12} m^2$\n",
    "- volume of the region\n",
    "    - $V = A_{shock} \\cdot 1 m = 2.01 \\cdot 10^{12} m^3$\n",
    "- power deposited in 1 m$^3$ of the region\n",
    "    - total power deposited: $5.29 \\cdot 10^{26} J s^{-1}$\n",
    "    - power per m$^3$: $\\frac{5.29 \\cdot 10^{26} J s^{-1}}{2.01 \\cdot 10^{12} m^3}$\n",
    "    - $\\boxed{2.632 \\cdot 10^{14} J s^{-1} m^{-3}}$"
   ]
  },
  {
   "cell_type": "markdown",
   "id": "7fb5f9f7-1914-43b0-ac09-fb01cc793a8f",
   "metadata": {},
   "source": [
    "- 2. d) Because this is a steady state system that neither gains or loses total energy, the radiated power from this region equals the input accretion power (J/s). Use $j(T)$ (5.39) to find the equilibrium temperature of the plasma. Let the Gaunt factor be unity ( that means =1).\n",
    "- (5.39): $j(T) = 1.44 \\cdot 10^{-40} \\bar{g}(T, Z) Z^2 n_e n_i T^{1/2}$\n",
    "- simplify:\n",
    "    - set the Gaunt factor to 1\n",
    "    - $j(T) = 1.44 \\cdot 10^{-40} Z^2 n_e n_i T^{1/2}$\n",
    "    - set Z = 1 for hydrogen\n",
    "    - $j(T) = 1.44 \\cdot 10^{-40} n_e n_i T^{1/2}$\n",
    "    - assuming $n_e = n_i$\n",
    "    - $j(T) = 1.44 \\cdot 10^{-40} n_e^2 T^{1/2}$\n",
    "- determine $n_i$:\n",
    "    - $\\rho = 10^{-2} kg m^{-3}$\n",
    "    - $n_e = \\frac{\\rho}{m_H}$\n",
    "        - $m_H = 1.67 \\cdot 10^{-27} kg$\n",
    "    - $n_e = \\frac{10^{-2}}{1.67 \\cdot 10^{-27}} = 5.988 \\cdot 10^{24} m^{-3}$\n",
    "- power in = power out $\\implies j(T) = 2.632 \\cdot 10^{14} J s^{-1} m^{-3}$\n",
    "    - $2.632 \\cdot 10^{14} = 1.44 \\cdot 10^{-40} (5.988 \\cdot 10^{24})^2 T^{1/2}$\n",
    "    - $T^{1/2} = \\frac{2.632 \\cdot 10^{14}}{1.44 \\cdot 10^{-40} (5.988 \\cdot 10^{24})^2}$\n",
    "    - $T^{1/2} = 50975.3$\n",
    "    - $\\boxed{T = 2.598 \\cdot 10^9 K}$"
   ]
  },
  {
   "cell_type": "markdown",
   "id": "6b987ae2-36e0-4e53-97f4-5731fd0850de",
   "metadata": {},
   "source": [
    "- 2. e) What is the band of radiation (radio? gamma ray?, etc.) that is emitted by a gas at this temperature?\n",
    "    - $\\nu_{peak} = 5.88 \\cdot 10^{10} T Hz$\n",
    "    - $\\nu_{peak} = 5.88 \\cdot 10^{10} \\cdot 2.598 \\cdot 10^9 Hz$\n",
    "    - $\\nu_{peak} = 1.528 \\cdot 10^{20} Hz$\n",
    "    - $10^{20} Hz$ is in the gamma ray band"
   ]
  },
  {
   "cell_type": "markdown",
   "id": "42715d8f-130e-4191-867f-e05ee1ac3a17",
   "metadata": {},
   "source": [
    "- 3. (15 points) A small celestial radio source projects onto the sky as a uniformly filled circle of angular diameter $\\theta_d = 5 \\cdot 10^{-4}$''. What is the maximum spectral ux density $S(\\nu) [W m^{-2} Hz^{-1}]$ that one could plausibly expect from it at the radio frequency of 10 GHz under the assumption that it is a thermal source and that the maximum possible temperature is $T_{max} = 10^{12} K$?\n",
    "- work: \n",
    "    - $10GHz = 10^{10} Hz$\n",
    "        - this is well below the peak of the Planck function curve for $10^{12} K$, so the Rayleigh-Jeans approximation should be valid"
   ]
  },
  {
   "cell_type": "markdown",
   "id": "76ba41622e9963ae",
   "metadata": {},
   "source": [
    "\n",
    "**Reflection Statement:**\n",
    "I used GitHub Copilot in the IDE in which I use Jupyter Notebooks. It performs inline suggestions for finishing a line of code/text. It is good for formatting LaTex but not great at math or predicting the entire next step in a problem. It is helpful for saving time with LaTex but I don't feel that it detracts from my input to the work. I have to keep a pretty close eye on it to make sure it doesn't add any extra characters or symbols, which requires me to know what a formula should actually look like to begin with.\n"
   ]
  },
  {
   "cell_type": "code",
   "execution_count": null,
   "id": "4bcc9be8e4509c9c",
   "metadata": {
    "ExecuteTime": {
     "end_time": "2025-02-21T20:50:10.306223Z",
     "start_time": "2025-02-21T20:50:10.304542Z"
    }
   },
   "outputs": [],
   "source": []
  },
  {
   "cell_type": "code",
   "execution_count": null,
   "id": "3972d3e11af7d73d",
   "metadata": {},
   "outputs": [],
   "source": []
  }
 ],
 "metadata": {
  "kernelspec": {
   "display_name": "Python 3 (ipykernel)",
   "language": "python",
   "name": "python3"
  },
  "language_info": {
   "codemirror_mode": {
    "name": "ipython",
    "version": 3
   },
   "file_extension": ".py",
   "mimetype": "text/x-python",
   "name": "python",
   "nbconvert_exporter": "python",
   "pygments_lexer": "ipython3",
   "version": "3.10.12"
  }
 },
 "nbformat": 4,
 "nbformat_minor": 5
}
