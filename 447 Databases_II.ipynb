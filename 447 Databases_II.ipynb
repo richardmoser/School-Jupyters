{
 "cells": [
  {
   "cell_type": "code",
   "execution_count": null,
   "id": "initial_id",
   "metadata": {
    "ExecuteTime": {
     "end_time": "2025-04-10T18:08:15.822663Z",
     "start_time": "2025-04-10T18:08:15.820979Z"
    },
    "collapsed": true,
    "jupyter": {
     "outputs_hidden": true
    }
   },
   "outputs": [],
   "source": []
  },
  {
   "cell_type": "markdown",
   "id": "cf76fbcb318276f6",
   "metadata": {},
   "source": [
    "### 10Apr25\n",
    "#### Database Normalization and Algorithms\n",
    "- designing a database\n",
    "    - generative AI is actually pretty good at identifying potential data properties and generating test data\n",
    "    - what makes a bad relation?\n",
    "        - attributes that don't belong together\n",
    "        - attributes with lots of NULL values\n",
    "    - general guidelines\n",
    "        - each tuple should represent a single entity or relationship instance\n",
    "            - the schema should be easilly explained relation by relation\n",
    "            - attributes should be easy to interpret\n",
    "            - foreign keys should be used to refer to other entities\n",
    "                - entity and relationship attributes should be kept separate as much as possible\n",
    "        - design a schema that avoids anomalies from insert/delete/updates\n",
    "            - consider `EMP_PROJ(Emp#, Proj#, Hours)`\n",
    "                - you cannot insert a project without an employee assigned to it\n",
    "                - deleting the project will delete the employees associated with it\n",
    "                - updating the project will require updating all employees associated with it\n",
    "                    - probably not efficiently\n",
    "        - relations should be designed to minimize NULL values in their tuples\n",
    "            - attributes that are frequently NULL may be better off in a separate relation\n",
    "        - relations should be designed to satisfy lossless join\n",
    "            - no spurious tuples should be generated when joining relations\n",
    "            - non-additive or losslessness of joins\n",
    "                - **Lossless Join Property:** a join operation on two relations R1 and R2 is lossless if the result of the join contains all the tuples in R1 and R2\n",
    "                    - **exam question^**\n",
    "                - **Lossy Join:**: a join operation on two relations R1 and R2 is lossy if the result of the join does not contain all the tuples in R1 and R2\n",
    "                    - **exam question^**\n",
    "                - if you join two relations, you should be able to get back the original relation\n",
    "                - if you join two relations and get back a relation that is not the original, then it is a spurious tuple\n",
    "            - preservation of dependencies\n",
    "                - if you join two relations and get back a relation that does not satisfy the original dependencies, then it is a spurious tuple\n",
    "- how to do this? Normalization\n",
    "    - multiple formats\n",
    "        - these formats are not mutually exclusive\n",
    "        - dictate how to design a database\n",
    "        - each normal format builds on the previous one\n",
    "        - progressively refine the design to minimize redundancy and improve integrity of data\n",
    "        - help to prevent anomalies from poorly structured relations and data\n",
    "        - 1NF, 2NF, 3NF, BCNF\n",
    "            - 3NF is the most commonly used in industry\n",
    "            - BCNF is stronger and more restrictive\n",
    "                - it is easier to define than 3NF\n",
    "            - a well designed ER model will automatically yield relational tables in BCNF or even 4NF\n",
    "    - how?\n",
    "        - refining the schema\n",
    "        - decomposing relations with undesirable properties into smaller relations\n",
    "            - these follow a series of rules called normal forms\n",
    "    - objectives\n",
    "        - reduce data redundancy\n",
    "            - minimize storage space\n",
    "        - improve data integrity\n",
    "            - ensure accuracy, consistency, and reliability of data by preventing anomalies\n",
    "        - simplify maintenance\n",
    "            - reducing complexity and risk for error\n",
    "    - determining the normal form:\n",
    "        - the form is determined by the **primary keys** and **functional dependencies**\n",
    "            - Functional dependencies are the relationships between attributes in a relation\n",
    "        - i.e. you must understand how one piece of data relates to another within the entity\n",
    "        - the key helps determine if there are partial or transitive dependencies\n",
    "            - partial dependency: a functional dependency where a non-prime attribute is functionally dependent on part of a candidate key\n",
    "                - i.e. if the primary key is a composite key, then a non-prime attribute is dependent on only part of the composite key\n",
    "                - this is bad because it means that the relation is not in 2NF\n",
    "            - transitive dependency: a functional dependency where a non-prime attribute is functionally dependent on another non-prime attribute\n",
    "                - i.e. if the primary key is a composite key, then a non-prime attribute is dependent on another non-prime attribute\n",
    "                - this is bad because it means that the relation is not in 3NF\n",
    "        - the functional dependencies help identify potential redundancies and other areas of concern\n",
    "            - i.e. if the same data is stored in multiple places, then it is redundant\n",
    "            - FD e.g.\n",
    "                - ZIP_CODE -> CITY means:\n",
    "                    - for every ZIP_CODE, there is a unique CITY\n",
    "                    - if two records have the same ZIP_CODE, they must have the same CITY\n",
    "                    - a zip code is a unique identifier for a city\n",
    "                    - the city is functionally dependent on the zip code\n",
    "                    - knowing the zip code allows you to determine the city\n",
    "                    - attribute ZIP_CODE functionally determines CITY\n",
    "                    - attribute CITY is functionally dependent on ZIP_CODE\n",
    "    - determining the normal form\n",
    "        - more to follow\n",
    "- functional dependencies\n",
    "    - constraints derived from the meaning and interrelationships of data attributes\n",
    "    - a set of attributes X functionally determines a set of attributes Y if each value of X is associated with exactly one value of Y\n",
    "        - i.e. if you know the value of X, you can determine the value of Y\n",
    "    - X -> Y holds if for all tuples with the same X have the same Y\n",
    "    - an FD is like a partial key\n",
    "        - it uniquely determines some but not all attributes\n",
    "    - a key is a special case of an FD\n",
    "        - a key uniquely determines all attributes in the relation\n",
    "    - these are derived from real-world constraints\n",
    "        - e.g. a student ID uniquely identifies a student\n",
    "        - e.g. a course code uniquely identifies a course\n",
    "    - e.g.\n",
    "        -   ```sql\n",
    "            Courses (cid, title, prof, office)\n",
    "            prof -> office\n",
    "            ```\n",
    "    -   e.g. within the company database\n",
    "        - ```sql\n",
    "            project_number -> {project_name, project_location}\n",
    "            {SSN, project_number} -> hours\n",
    "            ```\n",
    "    - keys vs FDs\n",
    "        - see slides around 25\n",
    "        - e.g. what FDs hold in the following relation?\n",
    "            - `Offerings (Course_id, Teacher_id, Hour, Room, Stu_id, Grade)`\n",
    "                -\n"
   ]
  },
  {
   "cell_type": "markdown",
   "id": "347d088f91b721b8",
   "metadata": {},
   "source": []
  },
  {
   "cell_type": "markdown",
   "id": "8a07c04a20c0a0b9",
   "metadata": {},
   "source": []
  },
  {
   "cell_type": "markdown",
   "id": "9b450b75e9a2daf3",
   "metadata": {},
   "source": []
  },
  {
   "cell_type": "markdown",
   "id": "84f210c0b07d8265",
   "metadata": {},
   "source": []
  },
  {
   "cell_type": "markdown",
   "id": "d236aaef7dbad6fe",
   "metadata": {},
   "source": []
  },
  {
   "cell_type": "markdown",
   "id": "a17a87c57f96d537",
   "metadata": {},
   "source": []
  },
  {
   "cell_type": "markdown",
   "id": "c4122ce674d1dc3d",
   "metadata": {},
   "source": []
  },
  {
   "cell_type": "markdown",
   "id": "d1eca0ce880f0bb1",
   "metadata": {},
   "source": []
  },
  {
   "cell_type": "markdown",
   "id": "c4580eed4ddab713",
   "metadata": {},
   "source": []
  },
  {
   "cell_type": "markdown",
   "id": "46523d3ba81f9588",
   "metadata": {},
   "source": []
  },
  {
   "cell_type": "markdown",
   "id": "954da34053bf876d",
   "metadata": {},
   "source": []
  },
  {
   "cell_type": "markdown",
   "id": "36c6ee994f4d021",
   "metadata": {},
   "source": []
  }
 ],
 "metadata": {
  "kernelspec": {
   "display_name": "Python 3 (ipykernel)",
   "language": "python",
   "name": "python3"
  },
  "language_info": {
   "codemirror_mode": {
    "name": "ipython",
    "version": 3
   },
   "file_extension": ".py",
   "mimetype": "text/x-python",
   "name": "python",
   "nbconvert_exporter": "python",
   "pygments_lexer": "ipython3",
   "version": "3.10.12"
  }
 },
 "nbformat": 4,
 "nbformat_minor": 5
}
