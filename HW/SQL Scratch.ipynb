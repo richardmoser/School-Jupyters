{
 "cells": [
  {
   "metadata": {},
   "cell_type": "markdown",
   "source": [
    "Given schema:\n",
    "\n",
    "```sql\n",
    "CREATE TABLE author (\n",
    "  author_id INT,\n",
    "  name VARCHAR,\n",
    "  nationality VARCHAR,\n",
    "  birth_year INT,\n",
    "  PRIMARY KEY (author_id)\n",
    ");\n",
    "\n",
    "CREATE TABLE book (\n",
    "  book_id INT,\n",
    "  title VARCHAR,\n",
    "  publisher_id INT,\n",
    "  genre VARCHAR,\n",
    "  publication_year INT,\n",
    "  PRIMARY KEY (book_id)\n",
    ");\n",
    "\n",
    "CREATE TABLE genre (\n",
    "  genre_id INT,\n",
    "  genre_name VARCHAR,\n",
    "  PRIMARY KEY (genre_id)\n",
    ");\n",
    "\n",
    "CREATE TABLE writes (\n",
    "  author_id INT,\n",
    "  book_id INT,\n",
    "  FOREIGN KEY (author_id) REFERENCES author(author_id),\n",
    "  FOREIGN KEY (book_id) REFERENCES book(book_id)\n",
    ");\n",
    "\n",
    "CREATE TABLE book_genre (\n",
    "  book_id INT,\n",
    "  genre_id INT,\n",
    "  FOREIGN KEY (genre_id) REFERENCES genre(genre_id),\n",
    "  FOREIGN KEY (book_id) REFERENCES book(book_id)\n",
    ");\n",
    "```"
   ],
   "id": "2b59350e5c72193"
  },
  {
   "metadata": {},
   "cell_type": "markdown",
   "source": [
    "Find the ID and name of each author who has written at least one book in the \"Science\" genre.\n",
    "```sql\n",
    "SELECT DISTINCT a.author_id, a.name\n",
    "FROM author a\n",
    "JOIN writes w ON a.author_id = w.author_id\n",
    "JOIN book_genre bg ON w.book_id = bg.book_id\n",
    "JOIN genre g ON bg.genre_id = g.genre_id\n",
    "WHERE g.genre_name = 'Science';\n",
    "```"
   ],
   "id": "ab16f9ce0b3be140"
  },
  {
   "metadata": {},
   "cell_type": "markdown",
   "source": "",
   "id": "dbdb56fc654dad37"
  },
  {
   "metadata": {},
   "cell_type": "markdown",
   "source": "",
   "id": "b32a355771dee144"
  },
  {
   "metadata": {},
   "cell_type": "markdown",
   "source": "",
   "id": "186660e331526e0e"
  },
  {
   "metadata": {},
   "cell_type": "markdown",
   "source": "",
   "id": "8755f817da704b8b"
  },
  {
   "metadata": {},
   "cell_type": "markdown",
   "source": "",
   "id": "a82440623b657c5b"
  },
  {
   "metadata": {},
   "cell_type": "markdown",
   "source": "",
   "id": "a715e63ffea85fd2"
  }
 ],
 "metadata": {
  "kernelspec": {
   "display_name": "Python 3",
   "language": "python",
   "name": "python3"
  },
  "language_info": {
   "codemirror_mode": {
    "name": "ipython",
    "version": 2
   },
   "file_extension": ".py",
   "mimetype": "text/x-python",
   "name": "python",
   "nbconvert_exporter": "python",
   "pygments_lexer": "ipython2",
   "version": "2.7.6"
  }
 },
 "nbformat": 4,
 "nbformat_minor": 5
}
