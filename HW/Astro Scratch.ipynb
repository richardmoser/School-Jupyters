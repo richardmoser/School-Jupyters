{
 "cells": [
  {
   "cell_type": "code",
   "execution_count": null,
   "id": "2c3b126a42625222",
   "metadata": {
    "ExecuteTime": {
     "end_time": "2025-02-07T20:49:56.393387Z",
     "start_time": "2025-02-07T20:49:56.391746Z"
    }
   },
   "outputs": [],
   "source": []
  },
  {
   "cell_type": "markdown",
   "id": "39ba1a75a88e740d",
   "metadata": {},
   "source": [
    "**Astronomy 692**\n",
    "\n",
    "**Spring 2025**\n",
    "\n",
    "**Homework #1**\n",
    "\n",
    "**Richard Moser**\n",
    "#### 1. (15 points)\n",
    "##### a) What is the kinetic energy $E_k$ of a particle in terms of $\\gamma$, $m$, and $c$?\n",
    "\n"
   ]
  },
  {
   "cell_type": "markdown",
   "id": "b58736d57798988c",
   "metadata": {},
   "source": [
    "##### b) What is the speed parameter $\\beta$ in terms of $\\gamma$?"
   ]
  },
  {
   "cell_type": "markdown",
   "id": "39833c0ca4ae9a09",
   "metadata": {},
   "source": [
    "- $U = \\gamma m c^2 = E_{kinetic} + E_{rest}$\n",
    "- $E_{rest} = m c^2$\n",
    "- $\\gamma m c^2 = E_{kinetic} + m c^2$\n",
    "- $E_{kinetic} = \\gamma m c^2 - m c^2$\n",
    "- <div class=\"boxed\"> $E_{kinetic} = (\\gamma - 1) m c^2$ </div>"
   ]
  },
  {
   "cell_type": "markdown",
   "id": "79fb747ea13dfaee",
   "metadata": {},
   "source": [
    "- $\\gamma = (1 - \\beta^2)^{-1/2} =$ Lorentz factor\n",
    "- $\\gamma^2 = \\frac{1}{1 - \\beta^2}$\n",
    "- $\\gamma^{-2} = 1 - \\beta^2$\n",
    "- $\\gamma^{-2} - 1 = -\\beta^2$\n",
    "- $1 - \\gamma^{-2} = \\beta^2$\n",
    "- <div class=\"boxed\"> $\\beta = \\sqrt{1 - \\gamma^{-2}}$ </div> \n"
   ]
  },
  {
   "cell_type": "markdown",
   "id": "9b69ebe8deb57342",
   "metadata": {},
   "source": [
    "##### c) Consider a particle of mass $m$. For each of the Lorentz factors ($\\gamma = 1.01, 1.1, 1.5, 2, 3, 10,$ and $100$), find:\n",
    "- i) the values of $E_k$ in units of $mc^2$\n",
    "- ii) the total energy $U$ in units of $mc^2$\n",
    "- iii) the numerical value of the speed parameter $\\beta = v/c$. Present your results in tabular form."
   ]
  },
  {
   "cell_type": "markdown",
   "id": "a3bfdbccc0a2c1ed",
   "metadata": {},
   "source": [
    "- recalling that:\n",
    "    - $E_{kinetic} = (\\gamma - 1) m c^2$\n",
    "    - $U = \\gamma m c^2$\n",
    "    - $\\beta = \\sqrt{1 - \\gamma^{-2}}$ \n",
    "table:\n",
    "$\\gamma$ | $E_k$ | $U$ | $\\beta$\n",
    "--- | --- | --- | ---\n",
    "1.01 | 0.01 | 1.01 | 0.14\n",
    "1.1 | 0.1 | 1.1 | 0.417\n",
    "1.5 | 0.5 | 1.5 | 0.745\n",
    "2 | 1 | 2 | 0.866\n",
    "3 | 2 | 3 | 0.943\n",
    "10 | 9 | 10 | 0.995\n",
    "100 | 99 | 100 | 1.0"
   ]
  },
  {
   "metadata": {
    "ExecuteTime": {
     "end_time": "2025-02-13T19:06:14.077440Z",
     "start_time": "2025-02-13T19:06:14.072271Z"
    }
   },
   "cell_type": "code",
   "source": [
    "\"\"\" test code \"\"\" \n",
    "# fibinacci function\n",
    "def fib(n):\n",
    "    a, b = 0, 1\n",
    "    while a < n:\n",
    "        print(a, end=' ')\n",
    "        a, b = b, a+b\n",
    "    print()\n",
    "fib(1000)\n",
    "\n",
    "print(55/62)"
   ],
   "id": "45c0b2a49ec76ddf",
   "outputs": [
    {
     "name": "stdout",
     "output_type": "stream",
     "text": [
      "0 1 1 2 3 5 8 13 21 34 55 89 144 233 377 610 987 \n",
      "0.8870967741935484\n"
     ]
    }
   ],
   "execution_count": 1
  },
  {
   "metadata": {},
   "cell_type": "markdown",
   "source": "",
   "id": "6e58f77c2647f18c"
  },
  {
   "cell_type": "markdown",
   "id": "57b8425d0e0f40d4",
   "metadata": {},
   "source": [
    "#### 2. (15 points) Let’s see how light from the Hβ transition of hydrogen (wavelength 486.13 nm) is affected by the relativistic Doppler effect and time dilation.\n",
    "##### a) Consider debris from a supernova moving directly toward an observer on Earth with a speed $v=18,000 km s^{-1}$. At what wavelength would the Hβ spectral line from the debris be observed?"
   ]
  },
  {
   "cell_type": "markdown",
   "id": "e25fe3c4eef8b52f",
   "metadata": {},
   "source": [
    "- $v = 18,000 km s^{-1}$, $\\lambda = 486.13 nm$\n",
    "- $\\lambda_{obs} = \\lambda_{emitted} (\\frac{1-\\beta}{1+\\beta})^{1/2}$\n",
    "    - $\\beta = \\frac{v}{c} = \\frac{1.8 \\times 10^7}{3 \\times 10^8} = 0.06$\n",
    "- $\\lambda_{obs} = 486.13 nm (\\frac{1-0.06}{1+0.06})^{1/2}$\n",
    "- $\\lambda_{obs} = 486.13 nm (0.942)^{1/2}$\n",
    "- $\\lambda_{obs} = 486.13 nm (0.974)$\n",
    "- <div class=\"boxed\"> $\\lambda_{obs} = 471.75 nm$ </div>\n",
    "\n"
   ]
  },
  {
   "cell_type": "markdown",
   "id": "d140aec676235a44",
   "metadata": {},
   "source": [
    "##### b) Imagine instead the debris is moving perpendicular to our line of sight (i.e., “in the plane of the sky”) with a transverse velocity $v=18,000 km s^{-1}$. Now at what wavelength would the Hβ line be observed? Hint: you can consider the light to be a “clock” with a frequency.\n",
    "- $v = 18,000 km s^{-1}$, $\\lambda = 486.13 nm$\n",
    "- $\\frac{\\nu_{obs}}{\\nu_{emitted}} = \\frac{1}{\\gamma(1 - \\beta cos \\theta)} = \\frac{(1-\\beta)^{1/2}}{\\gamma(1 - \\beta cos \\theta)}$\n",
    "- for $\\theta = 90^{\\circ}$, $\\frac{\\nu_{obs}}{\\nu_{emitted}} = \\frac{1}{\\gamma}$\n",
    "- $\\lambda_{obs} = \\lambda_{emitted} \\gamma$\n",
    "- $\\lambda_{obs} = 486.13 nm (\\frac{1}{\\sqrt{1 - 0.06^2}})$\n",
    "- $\\lambda_{obs} = 486.13 nm (1.002)$\n",
    "- <div class=\"boxed\"> $\\lambda_{obs} = 487.01 nm$ </div>\n",
    "\n",
    "\n"
   ]
  },
  {
   "cell_type": "markdown",
   "id": "20d77dfe609de4ba",
   "metadata": {},
   "source": [
    "##### c) What would the predicted wavelengths have been for parts (a) and (b) if we had ignored special relativity and used the “classical” Doppler formula?\n",
    "- $\\frac{\\Delta \\lambda}{\\lambda} = \\frac{v_{radial}}{c}$"
   ]
  },
  {
   "cell_type": "markdown",
   "id": "332989c08008a315",
   "metadata": {},
   "source": [
    "- for part a:\n",
    "    - $\\frac{\\Delta \\lambda}{\\lambda} = \\frac{1.8 \\times 10^7}{3 \\times 10^8}$\n",
    "        - (all velocity is radial when moving directly towards the observer)\n",
    "    - $\\Delta \\lambda = 486.13 nm (\\frac{1.8 \\times 10^7}{3 \\times 10^8})$\n",
    "    - $\\Delta \\lambda = 486.13 nm (0.06)$\n",
    "    - $\\Delta \\lambda = 29.17 nm$\n",
    "    - $\\lambda_{obs} = 486.13 nm - 29.17 nm$\n",
    "    - <div class=\"boxed\"> $\\lambda_{obs} = 456.96 nm$ </div>\n",
    "- for part b:\n",
    "    - $\\Delta \\lambda = 486.13 nm (\\frac{0}{3 \\times 10^8})$\n",
    "        - (no radial component when moving perpendicular to the observer)\n",
    "    - $\\Delta \\lambda = 0$\n",
    "    - <div class=\"boxed\"> $\\lambda_{obs} = 486.13 nm$ </div>"
   ]
  },
  {
   "cell_type": "markdown",
   "id": "c669d2a598aa8da5",
   "metadata": {},
   "source": [
    "#### 3. (20 points)\n",
    "##### a) Find the angle $\\theta_{max}$ as a function of $\\beta$ for which superluminal motion $\\beta_a \\equiv \\beta_{t,a,apr}$ (Eqn. 88) is a maximum; see Fig. 7.13. Also, express your answer in terms of $\\gamma$.\n",
    "##### figure 7.13:\n",
    "<img src=\"fig7.13.png\" alt=\"fig7.13\" width=\"600\"/>\n",
    "\n",
    "##### equation 7.88:\n",
    "- $\\beta_{t,a,apr} = \\frac{\\nu_{t,a,apr}}{c} = \\frac{\\beta sin \\theta}{1 - \\beta cos \\theta}$\n"
   ]
  },
  {
   "cell_type": "markdown",
   "id": "9b76e721da9a1707",
   "metadata": {},
   "source": [
    "- $\\beta_{t,a,apr} = \\frac{\\beta sin \\theta}{1 - \\beta cos \\theta}$\n",
    "- $\\beta_{a,max}$ occurs when $\\frac{d}{d\\theta}(\\beta_{t,a,apr}) = 0$\n",
    "- $\\frac{d}{d\\theta}(\\beta_{t,a,apr}) = \\frac{d}{d\\theta}(\\frac{\\beta sin \\theta}{1 - \\beta cos \\theta})$\n",
    "- $ = \\beta \\frac{d}{d\\theta}(\\frac{sin \\theta}{1 - \\beta cos \\theta})$\n",
    "- $ = \\beta \\frac{(\\frac{d}{d\\theta}(sin \\theta)(1 - \\beta cos \\theta) - sin \\theta \\frac{d}{d\\theta}(1 - \\beta cos \\theta))}{(1 - \\beta cos \\theta)^2}$\n",
    "- $ = \\beta \\frac{(cos \\theta)(1 - \\beta cos \\theta) - sin \\theta (\\beta sin \\theta)}{(1 - \\beta cos \\theta)^2}$\n",
    "    - only the numerator is needed to find the maximum\n",
    "- $0 = \\beta ((cos \\theta)(1 - \\beta cos \\theta) - sin \\theta (\\beta sin \\theta))$\n",
    "\n"
   ]
  },
  {
   "cell_type": "markdown",
   "id": "7ce73757f6b4476e",
   "metadata": {},
   "source": [
    "- $\\beta (cos \\theta)(1 - \\beta cos \\theta) = \\beta (sin \\theta(\\beta sin \\theta))$\n",
    "- $\\beta cos \\theta - \\beta^2 cos^2 \\theta = \\beta^2 sin^2 \\theta$\n",
    "- $\\beta cos \\theta = \\beta^2 (sin^2 \\theta + cos^2 \\theta)$\n",
    "    - $sin^2 \\theta + cos^2 \\theta = 1$\n",
    "- $\\beta cos \\theta = \\beta^2$\n",
    "- $cos \\theta = \\beta$\n",
    "- $\\theta = cos^{-1}(\\beta)$\n",
    "- $\\beta = (1-\\frac{1}{\\gamma})^{1/2}$\n",
    "- <div class=\"boxed\"> $\\theta_{max} = cos^{-1}(\\beta) = cos^{-1}((1-\\frac{1}{\\gamma})^{1/2})$ </div>"
   ]
  },
  {
   "cell_type": "markdown",
   "id": "e5d8c9e8fed2b5a0",
   "metadata": {},
   "source": [
    "##### b) What is the value of $\\beta_{a,max} \\equiv \\beta_{t,a,apr,max}$ at this angle in terms of $\\beta$, $\\gamma$ or both?"
   ]
  },
  {
   "cell_type": "markdown",
   "id": "3a1495e90f8ab6ee",
   "metadata": {},
   "source": [
    "**Reflection Statement:**\n",
    "I did not use AI in the course of this assignment"
   ]
  }
 ],
 "metadata": {
  "kernelspec": {
   "display_name": "Python 3 (ipykernel)",
   "language": "python",
   "name": "python3"
  },
  "language_info": {
   "codemirror_mode": {
    "name": "ipython",
    "version": 3
   },
   "file_extension": ".py",
   "mimetype": "text/x-python",
   "name": "python",
   "nbconvert_exporter": "python",
   "pygments_lexer": "ipython3",
   "version": "3.10.12"
  }
 },
 "nbformat": 4,
 "nbformat_minor": 5
}
