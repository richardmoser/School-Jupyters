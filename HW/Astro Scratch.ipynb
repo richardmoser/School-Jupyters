{
 "cells": [
  {
   "cell_type": "code",
   "execution_count": null,
   "id": "2c3b126a42625222",
   "metadata": {
    "ExecuteTime": {
     "end_time": "2025-02-07T20:49:56.393387Z",
     "start_time": "2025-02-07T20:49:56.391746Z"
    }
   },
   "outputs": [],
   "source": []
  },
  {
   "cell_type": "markdown",
   "id": "39ba1a75a88e740d",
   "metadata": {},
   "source": [
    "**Astronomy 692**\n",
    "\n",
    "**Spring 2025**\n",
    "\n",
    "**Homework #1**\n",
    "\n",
    "**Richard Moser**\n",
    "#### 1. (15 points)\n",
    "##### a) What is the kinetic energy $E_k$ of a particle in terms of $\\gamma$, $m$, and $c$?\n",
    "\n"
   ]
  },
  {
   "cell_type": "markdown",
   "id": "b58736d57798988c",
   "metadata": {},
   "source": [
    "##### b) What is the speed parameter $\\beta$ in terms of $\\gamma$?"
   ]
  },
  {
   "cell_type": "markdown",
   "id": "39833c0ca4ae9a09",
   "metadata": {},
   "source": [
    "- $U = \\gamma m c^2 = E_{kinetic} + E_{rest}$\n",
    "- $E_{rest} = m c^2$\n",
    "- $\\gamma m c^2 = E_{kinetic} + m c^2$\n",
    "- $E_{kinetic} = \\gamma m c^2 - m c^2$\n",
    "- <div class=\"boxed\"> $E_{kinetic} = (\\gamma - 1) m c^2$ </div>"
   ]
  },
  {
   "cell_type": "markdown",
   "id": "79fb747ea13dfaee",
   "metadata": {},
   "source": [
    "- $\\gamma = (1 - \\beta^2)^{-1/2} =$ Lorentz factor\n",
    "- $\\gamma^2 = \\frac{1}{1 - \\beta^2}$\n",
    "- $\\gamma^{-2} = 1 - \\beta^2$\n",
    "- $\\gamma^{-2} - 1 = -\\beta^2$\n",
    "- $1 - \\gamma^{-2} = \\beta^2$\n",
    "- <div class=\"boxed\"> $\\beta = \\sqrt{1 - \\gamma^{-2}}$ </div> \n"
   ]
  },
  {
   "cell_type": "markdown",
   "id": "9b69ebe8deb57342",
   "metadata": {},
   "source": [
    "##### c) Consider a particle of mass $m$. For each of the Lorentz factors ($\\gamma = 1.01, 1.1, 1.5, 2, 3, 10,$ and $100$), find:\n",
    "- i) the values of $E_k$ in units of $mc^2$\n",
    "- ii) the total energy $U$ in units of $mc^2$\n",
    "- iii) the numerical value of the speed parameter $\\beta = v/c$. Present your results in tabular form."
   ]
  },
  {
   "cell_type": "markdown",
   "id": "a3bfdbccc0a2c1ed",
   "metadata": {},
   "source": [
    "- recalling that:\n",
    "    - $E_{kinetic} = (\\gamma - 1) m c^2$\n",
    "    - $U = \\gamma m c^2$\n",
    "    - $\\beta = \\sqrt{1 - \\gamma^{-2}}$ \n",
    "table:\n",
    "$\\gamma$ | $E_k$ | $U$ | $\\beta$\n",
    "--- | --- | --- | ---\n",
    "1.01 | 0.01 | 1.01 | 0.14\n",
    "1.1 | 0.1 | 1.1 | 0.417\n",
    "1.5 | 0.5 | 1.5 | 0.745\n",
    "2 | 1 | 2 | 0.866\n",
    "3 | 2 | 3 | 0.943\n",
    "10 | 9 | 10 | 0.995\n",
    "100 | 99 | 100 | 1.0"
   ]
  },
  {
   "metadata": {
    "ExecuteTime": {
     "end_time": "2025-02-13T19:06:14.077440Z",
     "start_time": "2025-02-13T19:06:14.072271Z"
    }
   },
   "cell_type": "code",
   "source": [
    "\"\"\" test code \"\"\" \n",
    "# fibinacci function\n",
    "def fib(n):\n",
    "    a, b = 0, 1\n",
    "    while a < n:\n",
    "        print(a, end=' ')\n",
    "        a, b = b, a+b\n",
    "    print()\n",
    "fib(1000)\n",
    "\n",
    "print(55/62)"
   ],
   "id": "45c0b2a49ec76ddf",
   "outputs": [
    {
     "name": "stdout",
     "output_type": "stream",
     "text": [
      "0 1 1 2 3 5 8 13 21 34 55 89 144 233 377 610 987 \n",
      "0.8870967741935484\n"
     ]
    }
   ],
   "execution_count": 1
  },
  {
   "metadata": {},
   "cell_type": "markdown",
   "source": "",
   "id": "6e58f77c2647f18c"
  },
  {
   "cell_type": "markdown",
   "id": "57b8425d0e0f40d4",
   "metadata": {},
   "source": [
    "#### 2. (15 points) Let’s see how light from the Hβ transition of hydrogen (wavelength 486.13 nm) is affected by the relativistic Doppler effect and time dilation.\n",
    "##### a) Consider debris from a supernova moving directly toward an observer on Earth with a speed $v=18,000 km s^{-1}$. At what wavelength would the Hβ spectral line from the debris be observed?"
   ]
  },
  {
   "cell_type": "markdown",
   "id": "e25fe3c4eef8b52f",
   "metadata": {},
   "source": [
    "- $v = 18,000 km s^{-1}$, $\\lambda = 486.13 nm$\n",
    "- $\\lambda_{obs} = \\lambda_{emitted} (\\frac{1-\\beta}{1+\\beta})^{1/2}$\n",
    "    - $\\beta = \\frac{v}{c} = \\frac{1.8 \\cdot 10^7}{3 \\cdot 10^8} = 0.06$\n",
    "- $\\lambda_{obs} = 486.13 nm (\\frac{1-0.06}{1+0.06})^{1/2}$\n",
    "- $\\lambda_{obs} = 486.13 nm (0.942)^{1/2}$\n",
    "- $\\lambda_{obs} = 486.13 nm (0.974)$\n",
    "- <div class=\"boxed\"> $\\lambda_{obs} = 471.75 nm$ </div>\n",
    "\n"
   ]
  },
  {
   "cell_type": "markdown",
   "id": "d140aec676235a44",
   "metadata": {},
   "source": [
    "##### b) Imagine instead the debris is moving perpendicular to our line of sight (i.e., “in the plane of the sky”) with a transverse velocity $v=18,000 km s^{-1}$. Now at what wavelength would the Hβ line be observed? Hint: you can consider the light to be a “clock” with a frequency.\n",
    "- $v = 18,000 km s^{-1}$, $\\lambda = 486.13 nm$\n",
    "- $\\frac{\\nu_{obs}}{\\nu_{emitted}} = \\frac{1}{\\gamma(1 - \\beta cos \\theta)} = \\frac{(1-\\beta)^{1/2}}{\\gamma(1 - \\beta cos \\theta)}$\n",
    "- for $\\theta = 90^{\\circ}$, $\\frac{\\nu_{obs}}{\\nu_{emitted}} = \\frac{1}{\\gamma}$\n",
    "- $\\lambda_{obs} = \\lambda_{emitted} \\gamma$\n",
    "- $\\lambda_{obs} = 486.13 nm (\\frac{1}{\\sqrt{1 - 0.06^2}})$\n",
    "- $\\lambda_{obs} = 486.13 nm (1.002)$\n",
    "- <div class=\"boxed\"> $\\lambda_{obs} = 487.01 nm$ </div>\n",
    "\n",
    "\n"
   ]
  },
  {
   "cell_type": "markdown",
   "id": "20d77dfe609de4ba",
   "metadata": {},
   "source": [
    "##### c) What would the predicted wavelengths have been for parts (a) and (b) if we had ignored special relativity and used the “classical” Doppler formula?\n",
    "- $\\frac{\\Delta \\lambda}{\\lambda} = \\frac{v_{radial}}{c}$"
   ]
  },
  {
   "cell_type": "markdown",
   "id": "332989c08008a315",
   "metadata": {},
   "source": [
    "- for part a:\n",
    "    - $\\frac{\\Delta \\lambda}{\\lambda} = \\frac{1.8 \\cdot 10^7}{3 \\cdot 10^8}$\n",
    "        - (all velocity is radial when moving directly towards the observer)\n",
    "    - $\\Delta \\lambda = 486.13 nm (\\frac{1.8 \\cdot 10^7}{3 \\cdot 10^8})$\n",
    "    - $\\Delta \\lambda = 486.13 nm (0.06)$\n",
    "    - $\\Delta \\lambda = 29.17 nm$\n",
    "    - $\\lambda_{obs} = 486.13 nm - 29.17 nm$\n",
    "    - <div class=\"boxed\"> $\\lambda_{obs} = 456.96 nm$ </div>\n",
    "- for part b:\n",
    "    - $\\Delta \\lambda = 486.13 nm (\\frac{0}{3 \\cdot 10^8})$\n",
    "        - (no radial component when moving perpendicular to the observer)\n",
    "    - $\\Delta \\lambda = 0$\n",
    "    - <div class=\"boxed\"> $\\lambda_{obs} = 486.13 nm$ </div>"
   ]
  },
  {
   "cell_type": "markdown",
   "id": "c669d2a598aa8da5",
   "metadata": {},
   "source": [
    "#### 3. (20 points)\n",
    "##### a) Find the angle $\\theta_{max}$ as a function of $\\beta$ for which superluminal motion $\\beta_a \\equiv \\beta_{t,a,apr}$ (Eqn. 88) is a maximum; see Fig. 7.13. Also, express your answer in terms of $\\gamma$.\n",
    "##### figure 7.13:\n",
    "<img src=\"fig7.13.png\" alt=\"fig7.13\" width=\"600\"/>\n",
    "\n",
    "##### equation 7.88:\n",
    "- $\\beta_{t,a,apr} = \\frac{\\nu_{t,a,apr}}{c} = \\frac{\\beta sin \\theta}{1 - \\beta cos \\theta}$\n"
   ]
  },
  {
   "cell_type": "markdown",
   "id": "9b76e721da9a1707",
   "metadata": {},
   "source": [
    "- $\\beta_{t,a,apr} = \\frac{\\beta sin \\theta}{1 - \\beta cos \\theta}$\n",
    "- $\\beta_{a,max}$ occurs when $\\frac{d}{d\\theta}(\\beta_{t,a,apr}) = 0$\n",
    "- $\\frac{d}{d\\theta}(\\beta_{t,a,apr}) = \\frac{d}{d\\theta}(\\frac{\\beta sin \\theta}{1 - \\beta cos \\theta})$\n",
    "- $ = \\beta \\frac{d}{d\\theta}(\\frac{sin \\theta}{1 - \\beta cos \\theta})$\n",
    "- $ = \\beta \\frac{(\\frac{d}{d\\theta}(sin \\theta)(1 - \\beta cos \\theta) - sin \\theta \\frac{d}{d\\theta}(1 - \\beta cos \\theta))}{(1 - \\beta cos \\theta)^2}$\n",
    "- $ = \\beta \\frac{(cos \\theta)(1 - \\beta cos \\theta) - sin \\theta (\\beta sin \\theta)}{(1 - \\beta cos \\theta)^2}$\n",
    "    - only the numerator is needed to find the maximum\n",
    "- $0 = \\beta ((cos \\theta)(1 - \\beta cos \\theta) - sin \\theta (\\beta sin \\theta))$\n",
    "\n"
   ]
  },
  {
   "cell_type": "markdown",
   "id": "7ce73757f6b4476e",
   "metadata": {},
   "source": [
    "- $\\beta (cos \\theta)(1 - \\beta cos \\theta) = \\beta (sin \\theta(\\beta sin \\theta))$\n",
    "- $\\beta cos \\theta - \\beta^2 cos^2 \\theta = \\beta^2 sin^2 \\theta$\n",
    "- $\\beta cos \\theta = \\beta^2 (sin^2 \\theta + cos^2 \\theta)$\n",
    "    - $sin^2 \\theta + cos^2 \\theta = 1$\n",
    "- $\\beta cos \\theta = \\beta^2$\n",
    "- $cos \\theta = \\beta$\n",
    "- $\\theta = cos^{-1}(\\beta)$\n",
    "- $\\beta = (1-\\frac{1}{\\gamma})^{1/2}$\n",
    "- <div class=\"boxed\"> $\\theta_{max} = cos^{-1}(\\beta) = cos^{-1}((1-\\frac{1}{\\gamma})^{1/2})$ </div>"
   ]
  },
  {
   "cell_type": "markdown",
   "id": "e5d8c9e8fed2b5a0",
   "metadata": {},
   "source": [
    "##### b) What is the value of $\\beta_{a,max} \\equiv \\beta_{t,a,apr,max}$ at this angle in terms of $\\beta$, $\\gamma$ or both?"
   ]
  },
  {
   "cell_type": "markdown",
   "id": "3a1495e90f8ab6ee",
   "metadata": {},
   "source": [
    "**Reflection Statement:**\n",
    "I did not use AI in the course of this assignment"
   ]
  },
  {
   "metadata": {},
   "cell_type": "markdown",
   "source": "",
   "id": "8a80420ea59d6f97"
  },
  {
   "metadata": {},
   "cell_type": "markdown",
   "source": "",
   "id": "74c735dd38d7e436"
  },
  {
   "metadata": {},
   "cell_type": "markdown",
   "source": [
    "1. (15 points)\n",
    "    - a) Convert the Maxwell–Boltzmann momentum probability ( p) (Eq. 3.11) to the velocity probability (v) (Eq. 5.29) and (5.30). Follow the suggestions in the text. \n",
    "    - b) Argue from your result that the probability of nding vector velocity v is that given in (Eq. 5.30)\n",
    "2. (20 points) This question gives a case where Bremsstrahlung emission is important. A hydrogen plasma from a companion star accretes ( ows) onto a white dwarf star of radius 8000 km and mass 0.5M⊙. The rate of plasma ow onto the white dwarf is 10−9 M⊙ year−1. The plasma is guided to one pole of the white dwarf by the magnetic eld in such a way that it impinges on only 1% of the star’s surface. The kinetic energy of the plasma gained in the fall from “in nity” is suddenly reduced to near zero as the matter is abruptly slowed in a shock just above the surface (NOTE - a shock is where the speed of the material exceeds the local sounds speed); thematter then settles slowly down to the surface. The thin (d = 1 m deep) region just below the shock e ectively absorbs all the infall energy. This thin region thus contains a very hot plasma; it is optically thin with mass density ρ = 10−2 kg/m3. A sketch of this process is shown here.\n",
    "Solve the following problems:\n",
    "    - a) What is the number density of ions ni just below the shock region? Assume a plasma of pure hydrogen.\n",
    "    - b) Calculate the potential energy lost per second (J/s) by the accreting material as it falls from “in nity.”\n",
    "    - c) This energy is converted to thermal energy in the thin postshock region that is 1 meter thick. What is the power (J/s) deposited in 1 m3 of this region?\n",
    "    - d) Because this is a steady state system that neither gains or loses total energy, the radiated power from this region equals the input accretion power (J/s). Use j(T ) (5.39) to nd the equilibrium temperature of the plasma. Let the Gaunt factor be unity ( that means =1).\n",
    "    - e) What is the band of radiation (radio? gamma ray?, etc.) that is emitted by a gas at this temperature?\n",
    "3. (15 points) A small celestial radio source projects onto the sky as a uniformly lled circle of angular diameter θd = 5 × 10−4′′. What is the maximum spectral ux density S(ν) [W m−2 Hz−1]) that one could plausibly expect from it at the radio frequency of 10 GHz under the assumption that it is a thermal source and that the maximum possible temperature is Tmax = 1012 K?"
   ],
   "id": "5f6e46b3fc2a9c9b"
  },
  {
   "metadata": {},
   "cell_type": "markdown",
   "source": [
    "- 1. a) Convert the Maxwell–Boltzmann momentum probability ( p) (Eq. 3.11) to the velocity probability (v) (Eq. 5.29) and (5.30). Follow the suggestions in the text.\n",
    "    - equations:\n",
    "        - (3.11): $P(p)dp = \\left(\\frac{1}{2\\pi m k T}\\right)^{3/2} $exp$[-\\frac{p^2}{2 m k T}] 4 \\pi p^2 dp$ \n",
    "            - Probability of finding a particle with **momentum of magnitude p**\n",
    "        - (5.29): $P(v)dv = P(\\mathbf{v}) 4 \\pi v^2 d$v \n",
    "            - Probability of finding a particle with **velocivty of magnitude v**\n",
    "        - (5.30): $P(\\mathbf{v}) = \\left(\\frac{m}{2 \\pi k T}\\right)^{3/2}$exp$[-\\frac{m \\vec{v}^2}{2 k T}]$ \n",
    "            - Probability of finding a particle with **3D velocity vector** $\\mathbf{v}$\n",
    "        - (5.29 & 5.30): $P(v)dv = \\left(\\frac{m}{2 \\pi k T}\\right)^{3/2}$exp$[-\\frac{m \\vec{v}^2}{2 k T}] 4 \\pi v^2 dv$\n"
   ],
   "id": "6cd9977aa818cc30"
  },
  {
   "metadata": {},
   "cell_type": "markdown",
   "source": [
    "- work:\n",
    "    - $P(p)dp = \\left(\\frac{1}{2\\pi m k T}\\right)^{3/2} $exp$[-\\frac{p^2}{2 m k T}] 4 \\pi p^2 dp$ \n",
    "        - $p = mv$, $dp = m dv$\n",
    "    - $P(v)dv = \\left(\\frac{1}{2 \\pi m k T}\\right)^{3/2}$exp$[-\\frac{p^2}{2 m k T}] 4 \\pi (mv)^2 m dv$\n",
    "        - rearrange the exponent\n",
    "        - $-\\frac{p^2}{2 m k T} = -\\frac{m^2 v^2}{2 m k T} = -\\frac{m v^2}{2 k T}$\n",
    "    - $P(v)dv = \\left(\\frac{1}{2 \\pi m k T}\\right)^{3/2}$exp$[-\\frac{m v^2}{2 k T}] 4 \\pi (mv)^2 m dv$\n",
    "        - rearrange the m terms\n",
    "    - $P(v)dv = \\left(\\frac{1}{2 \\pi m k T}\\right)^{3/2}$exp$[-\\frac{m v^2}{2 k T}] 4 \\pi m^3 v^2 dv$\n",
    "    - $P(v)dv = m^3 \\left(\\frac{1}{2 \\pi m k T}\\right)^{3/2}$exp$[-\\frac{m v^2}{2 k T}] 4 \\pi v^2 dv$\n",
    "    - $P(v)dv = \\left(\\frac{m}{2 \\pi k T}\\right)^{3/2}$exp$[-\\frac{m v^2}{2 k T}] 4 \\pi v^2 dv$\n",
    "        - define $\\boxed{P(\\mathbf{v}) = \\left(\\frac{m}{2 \\pi k T}\\right)^{3/2}exp[-\\frac{m v^2}{2 k T}]}$\n",
    "        - $\\rightarrow \\boxed{P(v)dv = P(\\mathbf{v}) 4 \\pi v^2 dv}$\n",
    "\n"
   ],
   "id": "8c492fc4388ba033"
  },
  {
   "metadata": {},
   "cell_type": "markdown",
   "source": "",
   "id": "ad19567432101ff5"
  },
  {
   "metadata": {},
   "cell_type": "markdown",
   "source": [
    "- 1. b) Argue from your result that the probability of finding vector velocity v is that given in (Eq. 5.30)\n",
    "    - If it is accepted that 3.11 is true and the probability of finding a particle with momentum of magnitude p is given by the equation, then it follows that manipulating the equation into the form of 5.30 will yield the probability of finding a particle with 3D velocity vector $\\mathbf{v}$. Momentum is the product of velocity and mass, for some mass $m$, the probability of finding an $m$-massed particle with momentum $p$ is the probability of finding an $m$-massed particle with momentum $m v$. If you know the mass, only the velocity is relevant to the probability of finding the particle. \n"
   ],
   "id": "f2aaf707329b932c"
  },
  {
   "metadata": {},
   "cell_type": "markdown",
   "source": [
    "- 2. (20 points) This question gives a case where Bremsstrahlung emission is important. A hydrogen plasma from a companion star accretes ( ows) onto a white dwarf star of radius 8000 km and mass 0.5M⊙. The rate of plasma ow onto the white dwarf is 10−9 M⊙ year−1. The plasma is guided to one pole of the white dwarf by the magnetic eld in such a way that it impinges on only 1% of the star’s surface. The kinetic energy of the plasma gained in the fall from “infinity” is suddenly reduced to near zero as the matter is abruptly slowed in a shock just above the surface (NOTE - a shock is where the speed of the material exceeds the local sounds speed); thematter then settles slowly down to the surface. The thin (d = 1 m deep) region just below the shock e ectively absorbs all the infall energy. This thin region thus contains a very hot plasma; it is optically thin with mass density ρ = 10−2 kg/m3. A sketch of this process is shown here.\n",
    "Solve the following problems:\n"
   ],
   "id": "60dea4525e38b2ee"
  },
  {
   "metadata": {},
   "cell_type": "markdown",
   "source": [
    "- a) What is the number density of ions $n_i$ just below the shock region? Assume a plasma of pure hydrogen.\n",
    "    - $n_i = \\frac{\\rho}{m_H}$\n",
    "        - $\\rho = 10^{-2} kg/m^3$\n",
    "        - $m_H = 1.67 \\cdot 10^{-27} kg$\n",
    "    - $n_i = \\frac{10^{-2}}{1.67 \\cdot 10^{-27}}$\n",
    "    - $\\boxed{n_i \\approx 5.99 \\cdot 10^{24} m^{-3}}$\n",
    "\n"
   ],
   "id": "64d3e8b62164c560"
  },
  {
   "metadata": {},
   "cell_type": "markdown",
   "source": [
    "- b) Calculate the potential energy lost per second (J/s) by the accreting material as it falls from “infinity.”\n",
    "- $M_{WD} = 0.5 M_{\\odot} = 0.5 (2 \\cdot 10^{30} kg) = 1 \\cdot 10^{30} kg$\n",
    "- potential: \n",
    "    - $U(r) = -\\frac{G M m}{r}$\n",
    "    - $r = \\infty \\implies U(\\infty) = 0$\n",
    "    - $r = R_{WD} = 8000 km = 8 \\cdot 10^6 m$\n",
    "        - $G = 6.674 \\cdot 10^{-11} m^3 kg^{-1} s^{-2}$\n",
    "    - $U(R_{WD}) = -\\frac{(6.674 \\cdot 10^{-11} m^3 kg^{-1} s^{-2})(0.5 \\cdot 2 \\cdot 10^{30} kg)}{8 \\cdot 10^6 m}$ = $-8.343 \\cdot 10^{12} J$ per kg\n",
    "    - $U_{lost} = 8.343 \\cdot 10^{12} J$ per kg\n",
    "- flow rate:\n",
    "    - $10^{-9} M_{\\odot} year^{-1} = \\frac{10^{-9} \\cdot 2 \\cdot 10^{30} kg}{(365 \\cdot 24 \\cdot 60 \\cdot 60) s} = 6.342 \\cdot 10^{13} kg s^{-1}$\n",
    "- energy loss per second:\n",
    "    - loss per kg $\\cdot$ kg per second\n",
    "    - $8.343 \\cdot 10^{12} J \\cdot 6.342 \\cdot 10^{13} kg s^{-1}$\n",
    "    - $\\boxed{5.291 \\cdot 10^{26} J s^{-1}}$"
   ],
   "id": "cd6bb678b0fbfd39"
  },
  {
   "metadata": {},
   "cell_type": "markdown",
   "source": [
    "- c) This energy is converted to thermal energy in the thin postshock region that is 1 meter thick. What is the power (J/s) deposited in 1 m$^3$ of this region?\n",
    "- surface area of the region:\n",
    "    - $A_{total} = 4 \\pi R_{WD}^2 = 4 \\pi (8 \\cdot 10^6 m)^2 = 2.01 \\cdot 10^{14} m^2$\n",
    "    - $A_{shock} = 0.01 \\cdot 2.01 \\cdot 10^{14} m^2 = 2.01 \\cdot 10^{12} m^2$\n",
    "- volume of the region\n",
    "    - $V = A_{shock} \\cdot 1 m = 2.01 \\cdot 10^{12} m^3$\n",
    "- power deposited in 1 m$^3$ of the region\n",
    "    - total power deposited: $5.29 \\cdot 10^{26} J s^{-1}$\n",
    "    - power per m$^3$: $\\frac{5.29 \\cdot 10^{26} J s^{-1}}{2.01 \\cdot 10^{12} m^3}$\n",
    "    - $\\boxed{2.632 \\cdot 10^{14} J s^{-1} m^{-3}}$\n"
   ],
   "id": "6499cb55d97ff8f7"
  },
  {
   "metadata": {},
   "cell_type": "markdown",
   "source": [
    "- d) Because this is a steady state system that neither gains or loses total energy, the radiated power from this region equals the input accretion power (J/s). Use $j(T)$ (5.39) to find the equilibrium temperature of the plasma. Let the Gaunt factor be unity ( that means =1).\n",
    "- (5.39): $j(T) = 1.44 \\cdot 10^{-40} \\bar{g}(T, Z) Z^2 n_e n_i T^{1/2}$\n",
    "- simplify:\n",
    "    - set the Gaunt factor to 1\n",
    "    - $j(T) = 1.44 \\cdot 10^{-40} Z^2 n_e n_i T^{1/2}$\n",
    "    - set Z = 1 for hydrogen\n",
    "    - $j(T) = 1.44 \\cdot 10^{-40} n_e n_i T^{1/2}$\n",
    "    - assuming $n_e = n_i$\n",
    "    - $j(T) = 1.44 \\cdot 10^{-40} n_e^2 T^{1/2}$\n",
    "- determine $n_i$:\n",
    "    - $\\rho = 10^{-2} kg m^{-3}$\n",
    "    - $n_e = \\frac{\\rho}{m_H}$\n",
    "        - $m_H = 1.67 \\cdot 10^{-27} kg$\n",
    "    - $n_e = \\frac{10^{-2}}{1.67 \\cdot 10^{-27}} = 5.988 \\cdot 10^{24} m^{-3}$\n",
    "- power in = power out $\\implies j(T) = 2.632 \\cdot 10^{14} J s^{-1} m^{-3}$\n",
    "    - $2.632 \\cdot 10^{14} = 1.44 \\cdot 10^{-40} (5.988 \\cdot 10^{24})^2 T^{1/2}$\n",
    "    - $T^{1/2} = \\frac{2.632 \\cdot 10^{14}}{1.44 \\cdot 10^{-40} (5.988 \\cdot 10^{24})^2}$\n",
    "    - $T^{1/2} = 50975.3$\n",
    "    - $\\boxed{T = 2.598 \\cdot 10^9 K}$"
   ],
   "id": "5bdbdefca0bc0e95"
  },
  {
   "metadata": {},
   "cell_type": "markdown",
   "source": [
    "- e) What is the band of radiation (radio? gamma ray?, etc.) that is emitted by a gas at this temperature?\n",
    "    - $\\nu_{peak} = 5.88 \\cdot 10^{10} T Hz$\n",
    "    - $\\nu_{peak} = 5.88 \\cdot 10^{10} \\cdot 2.598 \\cdot 10^9 Hz$\n",
    "    - $\\nu_{peak} = 1.528 \\cdot 10^{20} Hz$\n",
    "    - $10^{20} Hz$ is in the gamma ray band"
   ],
   "id": "d1ee39ac4a94da7"
  },
  {
   "metadata": {},
   "cell_type": "markdown",
   "source": "",
   "id": "db3cafa840247595"
  },
  {
   "metadata": {},
   "cell_type": "markdown",
   "source": "",
   "id": "48f537cb0b279477"
  },
  {
   "metadata": {},
   "cell_type": "markdown",
   "source": "",
   "id": "de01d854a8a5ad44"
  },
  {
   "metadata": {},
   "cell_type": "markdown",
   "source": "",
   "id": "c48a2d580b30df5b"
  },
  {
   "metadata": {},
   "cell_type": "markdown",
   "source": "- 3. (15 points) A small celestial radio source projects onto the sky as a uniformly filled circle of angular diameter $\\theta_d = 5 \\cdot 10^{-4}$''. What is the maximum spectral ux density $S(\\nu) [W m^{-2} Hz^{-1}]$ that one could plausibly expect from it at the radio frequency of 10 GHz under the assumption that it is a thermal source and that the maximum possible temperature is $T_{max} = 10^{12} K$?",
   "id": "e5ca2bf84f5b2e82"
  },
  {
   "metadata": {},
   "cell_type": "markdown",
   "source": [
    "- work: \n",
    "    - $10GHz = 10^{10} Hz$\n",
    "        - this is well below the peak of the Planck function curve for $10^{12} K$, so the Rayleigh-Jeans approximation should be valid\n",
    "    - \n"
   ],
   "id": "fc7ef2c8656a48f2"
  },
  {
   "metadata": {},
   "cell_type": "markdown",
   "source": "$S(\\nu, T) = \\int \\int I(\\nu, T) d\\Omega$\n",
   "id": "3209aa6e7fdd8d0a"
  },
  {
   "metadata": {},
   "cell_type": "markdown",
   "source": "",
   "id": "3b16de3ce994b833"
  },
  {
   "metadata": {},
   "cell_type": "markdown",
   "source": "",
   "id": "9d557134b5b7203d"
  },
  {
   "metadata": {},
   "cell_type": "markdown",
   "source": [
    "**Reflection Statement:**\n",
    "\n"
   ],
   "id": "29d533ec11dc02be"
  },
  {
   "metadata": {},
   "cell_type": "markdown",
   "source": [
    "A reflection statement that includes:\n",
    "- If you used generative AI, \n",
    "    - explain which tool you used\n",
    "    - how you used it, and to what extent. \n",
    "- Also explain what you learned from the process. \n",
    "- Were AI tools helpful? \n",
    "    - If so, what approaches do you want to use next time and what approaches should you avoid?\n",
    "- Did the use of generative AI make the assignment feel less like your own work or were\n",
    "you able to edit and use other strategies to shape the work into your own?"
   ],
   "id": "6f0a6000abe43572"
  },
  {
   "metadata": {},
   "cell_type": "markdown",
   "source": "",
   "id": "8e29e7802f500c95"
  },
  {
   "metadata": {},
   "cell_type": "markdown",
   "source": "",
   "id": "38f6ddce976e849a"
  },
  {
   "metadata": {},
   "cell_type": "markdown",
   "source": "",
   "id": "c5933e7fe4674ec4"
  },
  {
   "metadata": {},
   "cell_type": "markdown",
   "source": "",
   "id": "ab7fd4c33bc04959"
  },
  {
   "metadata": {},
   "cell_type": "markdown",
   "source": "",
   "id": "6ccaf0defeb5191b"
  },
  {
   "metadata": {},
   "cell_type": "markdown",
   "source": "",
   "id": "905b90fd9d71e132"
  },
  {
   "metadata": {},
   "cell_type": "markdown",
   "source": "",
   "id": "91d65529a0e08a91"
  }
 ],
 "metadata": {
  "kernelspec": {
   "display_name": "Python 3 (ipykernel)",
   "language": "python",
   "name": "python3"
  },
  "language_info": {
   "codemirror_mode": {
    "name": "ipython",
    "version": 3
   },
   "file_extension": ".py",
   "mimetype": "text/x-python",
   "name": "python",
   "nbconvert_exporter": "python",
   "pygments_lexer": "ipython3",
   "version": "3.10.12"
  }
 },
 "nbformat": 4,
 "nbformat_minor": 5
}
