{
 "cells": [
  {
   "cell_type": "code",
   "execution_count": null,
   "id": "initial_id",
   "metadata": {
    "collapsed": true
   },
   "outputs": [],
   "source": [
    ""
   ]
  },
  {
   "metadata": {},
   "cell_type": "markdown",
   "source": "",
   "id": "e7f625251eed280b"
  },
  {
   "metadata": {},
   "cell_type": "markdown",
   "source": "",
   "id": "c5114146a589405b"
  },
  {
   "metadata": {},
   "cell_type": "markdown",
   "source": [
    "    ### George Take: Fighting for Infinite Diversity in Infinite Combinations\n",
    "#### Richard Moser\n",
    "\n",
    "Throughout the series' history, the promise of Star Trek has been showing a future where humanity overcomes its differences to pursue peace and scientific understanding. A key part of this is the idea of \"Infinite Diversity in Infinite Combinations\", a Vulcan philosophy which celebrated the differences inherent to life in an infinite universe. While the show and the real life humans involved have not always lived up to this ideal, one person who has is George Takei, the actor who portrayed Hikaru Sulu in the original series. George Takei is an important figure in LGBTQ history as a now openly gay public figure and civil rights activist whose life also intersects with the history of Japanese American internment during World War II. Takei's experiences demonstrate how American society's understanding of sexuality has changed over time. In this paper, I will explore the effect of these cultural understandings on Takei's life and career.\n",
    "\n",
    "\tGeorge Takei was born in 1937 in Los Angeles California, where he was raised until the beginning of Japanese-American internment following Executive Order 9066 in 1942. At only 4 years old, he and his family were imprisoned in a camp in Arkansas for over three years. Even upon returning to Los Angeles after the camps were closed, anti-Japanese sentiments were strong and he faced discrimination from both students and teachers. This taught Takei from a young age that he was different from those around him and that society viewed differences as dangerous. George knew that he was different in other ways too, eventually realizing that he didn’t feel the same attraction which the other boys in his school began expressing.\n",
    "Well, I thought Monica and Sally were nice, but it was Bobby who really got me excited. That’s not the way the other guys thought, though, and I wanted to be part of the gang. So I acted like Monica was hot and I huffed and puffed with the other guys and even started dating female friends. I’d go out on double dates with my buddy, but actually I was more interested in him than in my date! (Takei)\n",
    "\tTakei pursued a career in acting which eventually led to a main cast role in the original series of Star Trek in the late 1960s. He was one of the first Asian Americans to be cast in a major role which wasn’t built around offensive stereotypes. He returned to this role  for an animated series and several films into the early 90s. Despite the generally progressive content and intent behind Star Trek, he continued to keep his sexuality a secret to protect his career.\n",
    "\tIt wasn’t until 2005 when then governor Arnold Schwarzenegger vetoed a bill which would have recognized same sex marriage in the state of California that Takei would come out publicly alongside his longtime partner Brad Altman. Since then, he has leveraged his celebrity status as an outspoken advocate for the rights of LGBTQ individuals, Asian Americans, and a number of other minority groups and progressive causes.\n",
    "\n",
    "George Takei's life has been shaped by his dual identities as a Japanese American and as a gay American. Facing physical imprisonment for a time as a child, he continued to be imprisoned by societal norms and fear of reprisal until he was nearly 70. Hollywod's rigid norms were bent in the creation of a three dimensional character in Hikaru Sulu, but they were not ready to be broken. At this time in history, homosexuality was still considered a mental disorder and illegal in many states. Celebrities who publicly revealed their sexuality faced the end of their careers and personal lives. At best, certain studios would arrange \"lavender marriages\" between two actors to maintain the public illusion of heterosexuality.\n",
    "\n",
    "The landscape of American society changed drastically between the 1960s and the 2000s. By the time Takei came out, several states were discussing or already had legalized same sex marriage. Public opinion had shifted significantly and it was more acceptable for public figures to be openly gay. Takei later stated that his decision to come out was motivated by the hipocracy of Arnold Schwarzenegger's veto of the bill recognizing same sex marriage. \"Why did I come out when I did? Because Schwarzenegger presented himself as a movie star who had worked and was friends with gays and lesbians, many of whom voted for him, but then vetoed that bill\"\n",
    "\n",
    "Takei has embraced social media, such as Twitter and Facebook, which he uses as a platform for activism. He often uses humor to engage with his audience, coining a signature phrase \"Oh Myyy\" in his unique voice. Takei has spoken and written extensively about his experiences as an internment camp survivor and drawn parallels between the treatment of Japanese Americans in the 1940s and that of other marginalized groups today. He has appeared on television and spoken at universities, Pride events, and conventions to push for social and legal change around a number of issues.\n",
    "\n",
    "When compared to Takei's early life and career, it is clear that American society has progressed significantly and is more accepting of its diverse population.The presence and good-faith representation of LGBTQ and racial minority characters in media has increased significantly since the 1960s. In 2008, Takei was able to marry his partner of several decades and in 2015, the Supreme Court ruled that same sex marriage was constitutionally protected in all 50 states. Despite this progress, there is still much work to be done to achieve the ideal of Infinite Diversity in Infinite Combinations. Homophobia and racism are still prevalent in both society and problematic representations in media.\n",
    "\n",
    "It is possible that a young George Takei could have become a successful openly gay Asian American actor in modern Hollywood, but it many challenges still exist. The industry is still dominated by straight white men and content is still largely produced for that demographic. While his coming out was a major step and required a great deal of courage, it also came after he was already well established and the majority of his career was behind him, reducing the potential loss of job prospects that a younger actor might have faced at the time. Still, Takei's life and career have undoubtedly had an impact on the world and future generations of actors and activists of all backgrounds.\n",
    "\n",
    "George Takei’s life exemplifies the shift in American society’s understanding of sexuality in the 20th and 21st centuries. For much of his life, he was shaped by the barriers imposed by a white supremacist, heteronormative society. However, he has since become a prominent figure, leveraging his position to remove those barriers for others. His activism and advocacy have made him an important figure in both LGBTQ and Asian American history and his work continues to be an inspiration to many. Infinite Diversity in Infinite Combinations might've been written to sell action figures, but it becomes more than a hollow slogan when real people like George Takei embody it and work to make it a reality.\n",
    "\n"
   ],
   "id": "a31acc2ab4e4b2d"
  },
  {
   "metadata": {},
   "cell_type": "markdown",
   "source": "",
   "id": "ce4ac65d8e3e2331"
  },
  {
   "metadata": {},
   "cell_type": "markdown",
   "source": "",
   "id": "85c0f5a0ca356849"
  },
  {
   "metadata": {},
   "cell_type": "markdown",
   "source": "",
   "id": "a25b41d7c26952bf"
  }
 ],
 "metadata": {
  "kernelspec": {
   "display_name": "Python 3",
   "language": "python",
   "name": "python3"
  },
  "language_info": {
   "codemirror_mode": {
    "name": "ipython",
    "version": 2
   },
   "file_extension": ".py",
   "mimetype": "text/x-python",
   "name": "python",
   "nbconvert_exporter": "python",
   "pygments_lexer": "ipython2",
   "version": "2.7.6"
  }
 },
 "nbformat": 4,
 "nbformat_minor": 5
}
