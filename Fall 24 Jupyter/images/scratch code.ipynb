{
 "cells": [
  {
   "metadata": {},
   "cell_type": "markdown",
   "source": [
    "- Radiative Quantities for the Sun and Earth [14 pts]. Consider two astronomical objects: the Earth with T ≈ 300 K and the Sun with T ≈ 5800 K:\n",
    "    - Use the Planck Blackbody function to calculate and plot the surface brightness (i.e. the intensity, Bν) for the two objects on the same axes as a function of wavelength. (Note that all plots you make in this class should have the axes and scales labeled, units specified, and can be either linearly or logarithmically scaled on either axis. You can use your favorite program – Python, GNUPlot, Mathematica, or even a spreadsheet program – to make your plots.) For this plot, your plotting range should extend at least from 0.2 to 20 μm, and your Y-axis will need to be logarithmic to show both spectra at the same time. [6 pts]\n"
   ],
   "id": "bd8f02c429f721fa"
  },
  {
   "metadata": {
    "ExecuteTime": {
     "end_time": "2024-09-06T06:32:54.085462Z",
     "start_time": "2024-09-06T06:32:54.079460Z"
    }
   },
   "cell_type": "code",
   "source": [
    "import numpy as np\n",
    "import matplotlib.pyplot as plt\n",
    "# from matplotlib.sphinxext.plot_directive import PlotDirective\n",
    "# from parso.python.tree import WithStmt\n",
    "from scipy.constants import sigma, c"
   ],
   "id": "33b9474222e64b0f",
   "outputs": [],
   "execution_count": 71
  },
  {
   "metadata": {
    "ExecuteTime": {
     "end_time": "2024-09-06T06:32:54.116981Z",
     "start_time": "2024-09-06T06:32:54.104982Z"
    }
   },
   "cell_type": "code",
   "source": [
    "# Constants\n",
    "T_sun = 5800\n",
    "T_earth = 300\n",
    "# Stefan-Boltzmann Law\n",
    "F_sun = sigma * T_sun**4\n",
    "F_earth = sigma * T_earth**4\n",
    "print(F_sun, F_earth)"
   ],
   "id": "4c4ebd612e8b79db",
   "outputs": [
    {
     "name": "stdout",
     "output_type": "stream",
     "text": [
      "64168769.43111582 459.300327939\n"
     ]
    }
   ],
   "execution_count": 72
  },
  {
   "metadata": {
    "ExecuteTime": {
     "end_time": "2024-09-06T06:32:54.210494Z",
     "start_time": "2024-09-06T06:32:54.196984Z"
    }
   },
   "cell_type": "code",
   "source": [
    "# Planck Blackbody function\n",
    "def planck(wavelength, T):\n",
    "    return 2 * h * c**2 / wavelength**5 * 1 / (np.exp(h * c / (wavelength * k * T)) - 1)"
   ],
   "id": "d62b28f28e358d25",
   "outputs": [],
   "execution_count": 73
  },
  {
   "metadata": {
    "ExecuteTime": {
     "end_time": "2024-09-06T06:32:54.241493Z",
     "start_time": "2024-09-06T06:32:54.226495Z"
    }
   },
   "cell_type": "code",
   "source": [
    "# Constants\n",
    "h = 6.626e-34\n",
    "k = 1.38e-23"
   ],
   "id": "c488cbb28551faf5",
   "outputs": [],
   "execution_count": 74
  },
  {
   "metadata": {
    "ExecuteTime": {
     "end_time": "2024-09-06T06:32:54.273493Z",
     "start_time": "2024-09-06T06:32:54.258494Z"
    }
   },
   "cell_type": "code",
   "source": [
    "# Wavelength range\n",
    "wavelength = np.linspace(0, 20e-6, 1000)"
   ],
   "id": "a4ce48a556016254",
   "outputs": [],
   "execution_count": 75
  },
  {
   "metadata": {
    "ExecuteTime": {
     "end_time": "2024-09-06T06:32:54.305017Z",
     "start_time": "2024-09-06T06:32:54.290497Z"
    }
   },
   "cell_type": "code",
   "source": [
    "# Calculate the intensity\n",
    "intensity_sun = planck(wavelength, T_sun)\n",
    "intensity_earth = planck(wavelength, T_earth)"
   ],
   "id": "43aa29c8011c2dcf",
   "outputs": [
    {
     "name": "stderr",
     "output_type": "stream",
     "text": [
      "C:\\Users\\rj\\AppData\\Local\\Temp\\ipykernel_21048\\689022752.py:3: RuntimeWarning: divide by zero encountered in divide\n",
      "  return 2 * h * c**2 / wavelength**5 * 1 / (np.exp(h * c / (wavelength * k * T)) - 1)\n",
      "C:\\Users\\rj\\AppData\\Local\\Temp\\ipykernel_21048\\689022752.py:3: RuntimeWarning: invalid value encountered in divide\n",
      "  return 2 * h * c**2 / wavelength**5 * 1 / (np.exp(h * c / (wavelength * k * T)) - 1)\n",
      "C:\\Users\\rj\\AppData\\Local\\Temp\\ipykernel_21048\\689022752.py:3: RuntimeWarning: overflow encountered in exp\n",
      "  return 2 * h * c**2 / wavelength**5 * 1 / (np.exp(h * c / (wavelength * k * T)) - 1)\n"
     ]
    }
   ],
   "execution_count": 76
  },
  {
   "metadata": {
    "ExecuteTime": {
     "end_time": "2024-09-06T06:32:54.385022Z",
     "start_time": "2024-09-06T06:32:54.370020Z"
    }
   },
   "cell_type": "code",
   "source": [
    "# Plot\n",
    "# plt.figure()\n",
    "# plt.plot(wavelength*1e6, intensity_earth, label='Earth')\n",
    "# \n",
    "# plt.plot(wavelength*1e6, intensity_sun, label='Sun')\n",
    "# plt.xlabel('Wavelength (μm)')\n",
    "# plt.ylabel('Intensity (W/m^2/Hz)')\n",
    "# plt.yscale('log')\n",
    "# plt.legend()\n",
    "# plt.show()\n",
    "\n",
    "# plt.savefig(\"I vs Lambda\", dpi=500)\n",
    "# "
   ],
   "id": "969c11c52580fdb",
   "outputs": [],
   "execution_count": 77
  },
  {
   "metadata": {},
   "cell_type": "markdown",
   "source": [
    "regenerate the Plot using Rayleigh-Jean's approximation\n",
    "Planck Blackbody function\n",
    "Rayleigh-Jean's approximation: e^x = 1+x\n",
    "$\\frac{2v^2kT}{c^2}$\n",
    "\n"
   ],
   "id": "220abbec4fb7bc7e"
  },
  {
   "metadata": {
    "ExecuteTime": {
     "end_time": "2024-09-06T06:32:54.416538Z",
     "start_time": "2024-09-06T06:32:54.401541Z"
    }
   },
   "cell_type": "code",
   "source": [
    "# Planck Blackbody function\n",
    "def planck(wavelength, T):\n",
    "    return 2 * h * c**2 / wavelength**5 * 1 / (np.exp(h * c / (wavelength * k * T)) - 1)\n",
    "\n",
    "# Rayleigh-Jean's approximation\n",
    "def rayleigh_jean(wavelength, T):\n",
    "    return 2 * wavelength**2 * k * T / c**2"
   ],
   "id": "77636362efb3784c",
   "outputs": [],
   "execution_count": 78
  },
  {
   "metadata": {
    "ExecuteTime": {
     "end_time": "2024-09-06T06:32:54.448538Z",
     "start_time": "2024-09-06T06:32:54.433539Z"
    }
   },
   "cell_type": "code",
   "source": [
    "\n",
    "# Calculate the intensity\n",
    "intensity_sun = rayleigh_jean(wavelength, T_sun)\n",
    "intensity_earth = rayleigh_jean(wavelength, T_earth)\n",
    "intensity_sun2 = planck(wavelength, T_sun)\n",
    "intensity_earth2 = planck(wavelength, T_earth)"
   ],
   "id": "929e5c5c81e8eab8",
   "outputs": [
    {
     "name": "stderr",
     "output_type": "stream",
     "text": [
      "C:\\Users\\rj\\AppData\\Local\\Temp\\ipykernel_21048\\1216080145.py:3: RuntimeWarning: divide by zero encountered in divide\n",
      "  return 2 * h * c**2 / wavelength**5 * 1 / (np.exp(h * c / (wavelength * k * T)) - 1)\n",
      "C:\\Users\\rj\\AppData\\Local\\Temp\\ipykernel_21048\\1216080145.py:3: RuntimeWarning: invalid value encountered in divide\n",
      "  return 2 * h * c**2 / wavelength**5 * 1 / (np.exp(h * c / (wavelength * k * T)) - 1)\n",
      "C:\\Users\\rj\\AppData\\Local\\Temp\\ipykernel_21048\\1216080145.py:3: RuntimeWarning: overflow encountered in exp\n",
      "  return 2 * h * c**2 / wavelength**5 * 1 / (np.exp(h * c / (wavelength * k * T)) - 1)\n"
     ]
    }
   ],
   "execution_count": 79
  },
  {
   "metadata": {
    "ExecuteTime": {
     "end_time": "2024-09-06T06:35:10.986410Z",
     "start_time": "2024-09-06T06:35:10.074172Z"
    }
   },
   "cell_type": "code",
   "source": [
    "\n",
    "# Plot\n",
    "plt.figure()\n",
    "plt.plot(wavelength*1e6, intensity_earth, label='Earth-Rayleigh-Jean', color='blue')\n",
    "plt.plot(wavelength*1e6, intensity_earth2, label='Earth-Planck', color='darkblue', linestyle='--')\n",
    "plt.plot(wavelength*1e6, intensity_sun, label='Sun-Rayleigh-Jean', color='red')\n",
    "\n",
    "plt.plot(wavelength*1e6, intensity_sun2, label='Sun-Planck', color='darkred', linestyle='--')\n",
    "\n",
    "\n",
    "plt.xlabel('Wavelength [μm]')\n",
    "plt.ylabel('Intensity [W/m^2/Hz/sr]')\n",
    "plt.yscale('log')\n",
    "plt.legend()\n",
    "# show the grid\n",
    "plt.grid()\n",
    "plt.ylim(1e-55, 1e15)\n",
    "\n",
    "\n",
    "plt.savefig(\"C:\\\\Users\\\\rj\\\\IdeaProjects\\\\ASTR691\\\\IvsLambda\", dpi=900)"
   ],
   "id": "1ff3ade1cf8d70ab",
   "outputs": [
    {
     "data": {
      "text/plain": [
       "<Figure size 640x480 with 1 Axes>"
      ],
      "image/png": "[encoded data removed]"
     },
     "metadata": {},
     "output_type": "display_data"
    }
   ],
   "execution_count": 89
  },
  {
   "metadata": {
    "ExecuteTime": {
     "end_time": "2024-09-06T06:32:55.427651Z",
     "start_time": "2024-09-06T06:32:55.414653Z"
    }
   },
   "cell_type": "code",
   "source": "",
   "id": "cda37fbbd475a48e",
   "outputs": [],
   "execution_count": null
  },
  {
   "metadata": {
    "ExecuteTime": {
     "end_time": "2024-09-06T06:32:55.461660Z",
     "start_time": "2024-09-06T06:32:55.451660Z"
    }
   },
   "cell_type": "code",
   "source": "",
   "id": "20dffaac98f1f282",
   "outputs": [],
   "execution_count": null
  }
 ],
 "metadata": {
  "kernelspec": {
   "display_name": "Python 3",
   "language": "python",
   "name": "python3"
  },
  "language_info": {
   "codemirror_mode": {
    "name": "ipython",
    "version": 2
   },
   "file_extension": ".py",
   "mimetype": "text/x-python",
   "name": "python",
   "nbconvert_exporter": "python",
   "pygments_lexer": "ipython2",
   "version": "2.7.6"
  }
 },
 "nbformat": 4,
 "nbformat_minor": 5
}
