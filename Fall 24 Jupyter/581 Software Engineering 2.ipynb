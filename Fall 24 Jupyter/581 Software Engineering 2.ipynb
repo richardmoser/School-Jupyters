{
 "cells": [
  {
   "metadata": {},
   "cell_type": "markdown",
   "source": "30Aug",
   "id": "675035d47ef7c2fb"
  },
  {
   "metadata": {},
   "cell_type": "markdown",
   "source": "### Team Organization",
   "id": "7a152307a31ffe50"
  },
  {
   "metadata": {},
   "cell_type": "markdown",
   "source": [
    "- Democratic\n",
    "    - theoretically \"egoless\"\n",
    "    - no single leader\n",
    "    - management may have difficulty with this\n",
    "    - advantage\n",
    "        - positive attitude towards finding faults\n",
    "    disadvantage\n",
    "        - senior programmers may not appreciate junior programmer feedback"
   ],
   "id": "3f3238643b8234be"
  },
  {
   "metadata": {},
   "cell_type": "markdown",
   "source": [
    "- Classical Chief Programmer\n",
    "    - less common nowadays\n",
    "    - one person in charge\n",
    "    - programmers do nothing but program\n",
    "    - programming secretary handles all other aspects\n",
    "        - sounds like a lot of paperwork\n",
    "    - backup programmer acts as backup to chief\n",
    "        -   now you need someone as good as the chief but who is fine with not being the chief\n",
    "    - advantage\n",
    "        - clear responsibility\n",
    "        - clear authority\n",
    "    - disadvantage\n",
    "        - bottleneck\n",
    "        - single point of failure\n",
    "            - have to find a skilled programmer who is also a skilled manager"
   ],
   "id": "d52844c43f7caee6"
  },
  {
   "metadata": {},
   "cell_type": "markdown",
   "source": [
    "### Team Manager and Team Leader\n",
    "- team manager handles people issues\n",
    "- team leader handles technical issues\n",
    "- scales well\n",
    "    - additional layers can be added\n",
    "        - e.g. project leader over team leaders"
   ],
   "id": "651d57b2bd336ab0"
  },
  {
   "metadata": {},
   "cell_type": "markdown",
   "source": [
    "### Agile Teams\n",
    "- Scrum\n",
    "    - a scam\n",
    "    - teams of ten or less\n",
    "    - break goals down to sprints (1-4 weeks)\n",
    "    - daily standup meetings called a scrum\n",
    "        - nominally 15 minutes\n",
    "    - sprint review is held at the end of the sprint\n",
    "    - **this is what we will do for the GTA team meetings**\n",
    "    - roles\n",
    "        - product owner\n",
    "            - represents the product stakeholders\n",
    "                - usually someone in marketing\n",
    "            - the go between between stakeholders and the team\n",
    "                - represents the team to the stakeholders\n",
    "                - represents the stakeholders to the team\n",
    "        - development team\n",
    "            - 3-9 people\n",
    "            - do the work\n",
    "        - scrum master\n",
    "            - remove impediments \n",
    "            - not a lead but a buffer between the team and distractions\n",
    "            - knows what the fuck scrum is"
   ],
   "id": "cdd81b51710fde5b"
  },
  {
   "metadata": {},
   "cell_type": "markdown",
   "source": [
    "### Disciplined Agile Delivery\n",
    "- roles\n",
    "    - stakeholder\n",
    "        - someone who actually will use the software\n",
    "    - product owner\n",
    "        - the person who thinks the existing product needs to change\n",
    "        - the voice of the theoretical customers\n",
    "    - team member\n",
    "        - does the work\n",
    "    - team lead\n",
    "        - facilitates communication and removes obstacles\n",
    "    - architecture owner\n",
    "        - handles architecture\n",
    "- potential additional roles\n",
    "    - specialist/technical expert\n",
    "        - could know a lot about databases, UX, or security\n",
    "    - domain expert\n",
    "        - more niche than stakeholder\n",
    "            - could know federal regulations or something\n",
    "    - independent tester\n",
    "        - good at testing\n",
    "    - integrator \n",
    "        - good at putting smaller pieces together into a larger whole"
   ],
   "id": "8498b8c31ea7e560"
  },
  {
   "metadata": {},
   "cell_type": "markdown",
   "source": [
    "In Class 30Aug24\n",
    "1. Describe the roles of a hypothetical 5-member 581 team\n",
    "    - As listed below, I think this course lends itself well to a mostly democratic team organization. The project sounds small enough that a 5 person team should be able to make decisions together without too much difficulty. Each person could take on a specialization such as menu and UI elements, art generation, and game mechanics, but significant overlap in skills and labor would be expected.\n",
    "2. Why do you think that team organization would be effective for 581?\n",
    "    - I think a democratic team makes the most sense, at least for my team members or a similar team. We are at similar skill levels but have different areas of expertise. Self organization of tasks should work well for us as people can take on what they are best at or what they are most interested in.\n",
    "3. Which of the following team organizations would you like for your first job and why?\n",
    "    – Team Manager & Team Leader. I think that based off of past (negative) work experience, the more clearly defined separation of technical management from interpersonal/nontechnical management would be a nice change of pace. This would still allow for a clear chain of command and a clear division of labor if implemented correctly. \n"
   ],
   "id": "6cfd81afcfadb7"
  },
  {
   "metadata": {},
   "cell_type": "markdown",
   "source": "",
   "id": "12f940c7df3ff4d4"
  }
 ],
 "metadata": {
  "kernelspec": {
   "display_name": "Python 3",
   "language": "python",
   "name": "python3"
  },
  "language_info": {
   "codemirror_mode": {
    "name": "ipython",
    "version": 2
   },
   "file_extension": ".py",
   "mimetype": "text/x-python",
   "name": "python",
   "nbconvert_exporter": "python",
   "pygments_lexer": "ipython2",
   "version": "2.7.6"
  }
 },
 "nbformat": 4,
 "nbformat_minor": 5
}
