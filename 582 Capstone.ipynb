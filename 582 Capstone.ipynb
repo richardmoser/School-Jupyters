{
 "cells": [
  {
   "metadata": {},
   "cell_type": "markdown",
   "source": [
    "### Attendance is required\n",
    "- monitored via the usual in class assignments?"
   ],
   "id": "5f037538ebf93793"
  },
  {
   "metadata": {},
   "cell_type": "markdown",
   "source": [
    "# 27Jan25\n",
    "- Pitch DayFor each Pitch:\n",
    "- Name of Presenter(s)\n",
    "- Organization of Presenter(s)\n",
    "- Summary of the project they are pitching (150-500 words)\n",
    "- Potential problems with undertaking the project (150-500 words)-"
   ],
   "id": "879226a826ce0127"
  },
  {
   "metadata": {},
   "cell_type": "markdown",
   "source": [
    "Name of Presenter(s):\n",
    "- Jamie Shew\n",
    "Organization of Presenter(s):\n",
    "- Douglas County Clerk/County Election Officer\n",
    "Summary of the project they are pitching:\n",
    "- The presenter wants a team to create a more robust live ballot tracking system which starts at the ballot box rather than once it is in the postal service. This would allow for tracking of which ballot envelopes were placed in a box so that the voters could be notified and new ballots could be submitted if the original was lost. Ballots already come with complex barcodes which should allow ballots to be scanned and tracked earlier than they currently are. The box should count ballots, have an alarm/camera system, retain scanned images, and preferably communicate the live data to the county clerk's office and the dashboard which is visible to the voter. \n",
    "Potential problems with undertaking the project:\n",
    "- There would be security procedures which would have to be followed due to the nature of the data involved. Physical hardware will be a component of this project, power demands, power delivery, etc. will all be considerations. The organization is not married to the boxes that they have currently, so the team has the flexibility to design a new box if they wish, but this would require additional work.\n",
    "Name of Presenter(s):\n",
    "- John A. Haug, Chien-Ho Ko (not present)\n",
    "Organization of Presenter(s):\n",
    "- Craig and Diane Martin National Center for Construction Safety\n",
    "Summary of the project they are pitching:\n",
    "- Material support and up to $\\$$400 in scholarships are available. Scaffolding accidents account for ~4500 injuries and $90 million dollars of lost workday productivity each year \n",
    "- project 1:\n",
    "    - This project would be a smart hook for scaffolding systems, identifying worker status and when a worker falls as well as alerting other workers and supervisors. A Mechanical Engineering capstone team is designing the hardware, they require software engineering to handle transmission of data from the sensors, send safety alerts to supervisors and administrators, and secure the data in a storage system for ready access by safety administrators. \n",
    "- project 2:\n",
    "    - This project would be a smart scaffolding deformation tracking system. It would track and transmit deformation data from sensors, translate the data into a model capable of monitoring stability, and secure the data in a storage system for ready access by safety administrators. The hardware for this is not developed by an ME capstone team but the Construction Safety group has hardware either developed or in development. Ideally the product should be plug and play, i.e. it should be adaptable to any scaffolding system.\n",
    "Potential problems with undertaking the projects:\n",
    "    - The team would have to work with the hardware team and fit the software to their hardware. The team for project 1 has been working on hardware since August and this semester they are starting on physical construction. Because these are personnel safety based projects, significant testing will be required to ensure that the software is reliable and accurate. These should also be easy to use and understand by the end user.\n",
    "\n"
   ],
   "id": "d27c5e8fad92fe78"
  },
  {
   "metadata": {},
   "cell_type": "markdown",
   "source": "Name of presenters",
   "id": "4137711cf4d4f57f"
  },
  {
   "metadata": {},
   "cell_type": "markdown",
   "source": [
    "#### Name of Presenter(s):\n",
    "- Dr. Johnson\n",
    "#### Organization of Presenter(s):\n",
    "- KU EECS\n",
    "#### Summary of the project they are pitching:\n",
    "- hardware is available for a variety of projects\n",
    "- project 1: The EECS department has several AWS robot cars which are prepared for development and modification.\n",
    "- project 2: humanoid and arm robots\n",
    "    - nao can play games like soccer, dance. Can continue Johnson's MNetherlands research. Loads of available documentation and information\n",
    "- project 3: EECS has 3 VR/AVR systems\n",
    "    - past project examples:\n",
    "        - virtual escape rooms\n",
    "        - interactive 3d game\n",
    "#### Potential problems with undertaking the projects:\n",
    "- AWS cars may need battery repair, are old. Tom Colwell in the shop should be able to help with maintenance. No additional permission is required, he knows that capstone students may be requiring access to robots. Additionally, funding from the EECS department is available to reimburse hardware and software costs for projects."
   ],
   "id": "eb391eec06a10d4b"
  },
  {
   "metadata": {},
   "cell_type": "markdown",
   "source": [
    "Report Format:\n",
    "- Date of Presentation\n",
    "- Time of Presentation\n",
    "- Name of Presentation\n",
    "- Name of Presenter(s)\n",
    "- Summary of presentation (150-500 words)\n",
    "- What did you learn from the presentation (50-150 words)?\n",
    "- What will you do different because of this presentation (75-250 words)?"
   ],
   "id": "5f65356d3605e341"
  },
  {
   "metadata": {},
   "cell_type": "markdown",
   "source": [
    "### 03Feb Career Thing\n",
    "#### Date of Presentation:\n",
    "- 03Feb\n",
    "#### Time of Presentation:\n",
    "- 12:00\n",
    "#### Name of Presentation:\n",
    "- no specific title\n",
    "#### Name of Presenter(s): \n",
    "- Aleksander Eskilson\n",
    "#### Summary of presentation (150-500 words):\n",
    "- varied career path.\n",
    "- now works for Oracle\n",
    "- worked at Cerner on R&D & deployment for early machine learning models.\n",
    "- worked for startup in KC area with natural language processing on radiology documents for aneurysms. Specifically looking at cases where the radiologist noted the aneurysm but it was not followed up on, i.e. the patient was not told.\n",
    "- evaluated fairness metrics and AI ethics\n",
    "- then worked for a startup, Ronin, doing clinical machine learning until the company ran out of money\n",
    "- Then recruited into Oracle\n",
    "\n",
    "- re: building out machine learning infrastructure for a company without any\n",
    "    - recurring theme in his career is coming in to an organization in need of new systems and infrastructure and then helping to develop that.\n",
    "- re: joining a compilers team (or other specific niche)\n",
    "    - **ask weird and direct questions**\n",
    "        - he asked who worked on the compiler projects and asked to interview with that team\n",
    "        - early career engineers are considered \"mobile\" and it should be understood that your skillset is not fully understood yet\n",
    "            - usually easy to do internal hires/transfers in large corporations\n",
    "    - **now is a great time to get into compilers**\n",
    "        - due to the AI push, compilers and optimization is huge\n",
    "        - e.g. pyTorch gets compiled down to CUDA code for NVIDIA GPUs\n",
    "        - grad school is still probably the move and this will be a competitive field\n",
    "- a lot of your work experience comes down to your supervisor.\n",
    "    - don't rely on the company to make introductions for you\n",
    "    - they may have education programs for early career devs but those may also go away and shouldn't be counted on\n",
    "    - not all engineers should be or want to be managers, not all managers are or were engineers\n",
    "        - **ask to interview with your prospective manager**\n",
    "        - **you should be interviewing teams/supervisors as much as they are interviewing you**\n",
    "- re: why leave corporate life for startups\n",
    "    - old manager departed and the new one resulted in a change in the work environment.\n",
    "    - motivated by interesting projects and reasonable pay\n",
    "    - his career was largely lead by following interesting projects\n",
    "    - **don't drink the founder's kool-aid**, it's a job and it is more likely to fail than succeed\n",
    "        - startups do generally provide more ownership over the code/product \n",
    "- re: interdisciplinary work\n",
    "    - a concurrent degree/program is obviously useful but not required to thrive\n",
    "    - you can learn to translate between domain experts by asking good questions\n",
    "        - each domain teaches not just the subject matter but also **how to think about problems and the world**\n",
    "        - it is important to recognize these different ways of thinking and to be able to translate between them\n",
    "        - know when the way you are speaking and thinking about something is not the same as the way someone else is\n",
    "- re: how to mitigate management into the ground and when to jump ship\n",
    "    - defend your time\n",
    "    - you will know what you don't know in the important ways\n",
    "        - sometimes the best answer is that you don't know\n",
    "            - \"I don't know how long it will take to figure out X, but I should have a good idea in X period of time\"\n",
    "    - a good manager/supervisor should help fend off project managers etc. who are pushing for unreasonable timelines\n",
    "    - when to bail\n",
    "        - you will be able to tell very quickly if the corporation is allowing you to do your best work\n",
    "        - if you are doing your thing and other people's unrelated fires are suddenly becoming your fires and detracting from your work, that's a bad sign\n",
    "- re: work-life balance\n",
    "    - **do some analysis of your own values**\n",
    "        - what is important to you?\n",
    "            - e.g. are you willing to work longer hours if the project is really interesting?\n",
    "            - e.g. are you willing to work longer hours if the pay is good?\n",
    "            - e.g. do you really value workplace connections?\n",
    "        - does a job fulfill the needs of your value system?\n",
    "        - weigh your professional and personal values\n",
    "            - e.g. does an interesting project outweigh a lack of time at home?\n",
    "- re: would you do anything differently\n",
    "    - \"think about how you feel and what you want\"\n",
    "        - could have spent less time expending energy in unhealthy environments if there had been more introspection and checking in with himself\n",
    "\n",
    "#### What did you learn from the presentation: (50-150 words)?\n",
    "- \"you can tell a lot about how a company is poised by how they take the question of how new something is\"\n",
    "    - i.e. do they treat research questions the same as a user story, expecting significant tangible results per sprint\n",
    "    - research can get \"managed into the ground\" \n",
    "        - research projects cannot be treated the same as other SE projects\n",
    "    - research questions are by nature often hard to measure\n",
    "        - you are by definition trying to figure out if it is feasible and/or even useful to do the thing\n",
    "\n",
    "\n",
    "#### What will you do different because of this presentation: (75-250 words)?\n",
    "- I will be more open to asking questions and gently asserting my interests in a particular area. \n",
    "- I find myself very driven by interesting projects; knowing that you can navigate a career by following interesting projects is very reassuring.\n",
    "- As I look forward to graduate school and employment opportunities, I plan to make a dedicated effort to interrogate my values and pin down what things I actually want from life. I want to ensure that I am moving towards experiences which which I will actually find fulfilling and not just the things which \"sound right\" or may seem like   \n"
   ],
   "id": "d70808b4924f7bf4"
  },
  {
   "metadata": {},
   "cell_type": "markdown",
   "source": "",
   "id": "76159b12d96edd9b"
  },
  {
   "metadata": {},
   "cell_type": "markdown",
   "source": "",
   "id": "49417c79a54fc0d6"
  },
  {
   "metadata": {},
   "cell_type": "markdown",
   "source": "",
   "id": "e837db53e1f5d00"
  },
  {
   "metadata": {},
   "cell_type": "markdown",
   "source": "",
   "id": "fd8b31798387e4c1"
  },
  {
   "metadata": {},
   "cell_type": "markdown",
   "source": "",
   "id": "2ef64539cfa8a2e6"
  }
 ],
 "metadata": {
  "kernelspec": {
   "display_name": "Python 3",
   "language": "python",
   "name": "python3"
  },
  "language_info": {
   "codemirror_mode": {
    "name": "ipython",
    "version": 2
   },
   "file_extension": ".py",
   "mimetype": "text/x-python",
   "name": "python",
   "nbconvert_exporter": "python",
   "pygments_lexer": "ipython2",
   "version": "2.7.6"
  }
 },
 "nbformat": 4,
 "nbformat_minor": 5
}
