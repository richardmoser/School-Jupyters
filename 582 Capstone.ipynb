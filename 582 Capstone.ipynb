{
 "cells": [
  {
   "metadata": {},
   "cell_type": "markdown",
   "source": [
    "### Attendance is required\n",
    "- monitored via the usual in class assignments?"
   ],
   "id": "5f037538ebf93793"
  },
  {
   "metadata": {},
   "cell_type": "markdown",
   "source": [
    "# 27Jan25\n",
    "- Pitch DayFor each Pitch:\n",
    "- Name of Presenter(s)\n",
    "- Organization of Presenter(s)\n",
    "- Summary of the project they are pitching (150-500 words)\n",
    "- Potential problems with undertaking the project (150-500 words)-"
   ],
   "id": "879226a826ce0127"
  },
  {
   "metadata": {},
   "cell_type": "markdown",
   "source": [
    "Name of Presenter(s):\n",
    "- Jamie Shew\n",
    "Organization of Presenter(s):\n",
    "- Douglas County Clerk/County Election Officer\n",
    "Summary of the project they are pitching:\n",
    "- The presenter wants a team to create a more robust live ballot tracking system which starts at the ballot box rather than once it is in the postal service. This would allow for tracking of which ballot envelopes were placed in a box so that the voters could be notified and new ballots could be submitted if the original was lost. Ballots already come with complex barcodes which should allow ballots to be scanned and tracked earlier than they currently are. The box should count ballots, have an alarm/camera system, retain scanned images, and preferably communicate the live data to the county clerk's office and the dashboard which is visible to the voter. \n",
    "Potential problems with undertaking the project:\n",
    "- There would be security procedures which would have to be followed due to the nature of the data involved. Physical hardware will be a component of this project, power demands, power delivery, etc. will all be considerations. The organization is not married to the boxes that they have currently, so the team has the flexibility to design a new box if they wish, but this would require additional work.\n",
    "Name of Presenter(s):\n",
    "- John A. Haug, Chien-Ho Ko (not present)\n",
    "Organization of Presenter(s):\n",
    "- Craig and Diane Martin National Center for Construction Safety\n",
    "Summary of the project they are pitching:\n",
    "- Material support and up to $\\$$400 in scholarships are available. Scaffolding accidents account for ~4500 injuries and $90 million dollars of lost workday productivity each year \n",
    "- project 1:\n",
    "    - This project would be a smart hook for scaffolding systems, identifying worker status and when a worker falls as well as alerting other workers and supervisors. A Mechanical Engineering capstone team is designing the hardware, they require software engineering to handle transmission of data from the sensors, send safety alerts to supervisors and administrators, and secure the data in a storage system for ready access by safety administrators. \n",
    "- project 2:\n",
    "    - This project would be a smart scaffolding deformation tracking system. It would track and transmit deformation data from sensors, translate the data into a model capable of monitoring stability, and secure the data in a storage system for ready access by safety administrators. The hardware for this is not developed by an ME capstone team but the Construction Safety group has hardware either developed or in development. Ideally the product should be plug and play, i.e. it should be adaptable to any scaffolding system.\n",
    "Potential problems with undertaking the projects:\n",
    "    - The team would have to work with the hardware team and fit the software to their hardware. The team for project 1 has been working on hardware since August and this semester they are starting on physical construction. Because these are personnel safety based projects, significant testing will be required to ensure that the software is reliable and accurate. These should also be easy to use and understand by the end user.\n",
    "\n"
   ],
   "id": "d27c5e8fad92fe78"
  },
  {
   "metadata": {},
   "cell_type": "markdown",
   "source": "Name of presenters",
   "id": "4137711cf4d4f57f"
  },
  {
   "metadata": {},
   "cell_type": "markdown",
   "source": [
    "Name of Presenter(s):\n",
    "    - Dr. Johnson\n",
    "Organization of Presenter(s):\n",
    "    - KU EECS\n",
    "Summary of the project they are pitching:\n",
    "    - hardware is available for a variety of projects\n",
    "    - project 1: The EECS department has several AWS robot cars which are prepared for development and modification.\n",
    "    - project 2: humanoid and arm robots\n",
    "        - nao can play games like soccer, dance. Can continue Johnson's MNetherlands research. Loads of available documentation and information\n",
    "    - project 3: EECS has 3 VR/AVR systems\n",
    "        - past project examples:\n",
    "            - virtual escape rooms\n",
    "            - interactive 3d game\n",
    "Potential problems with undertaking the projects:\n",
    "    - AWS cars may need battery repair, are old. Tom Colwell in the shop should be able to help with maintenance. No additional permission is required, he knows that capstone students may be requiring access to robots. Additionally, funding from the EECS department is available to reimburse hardware and software costs for projects."
   ],
   "id": "eb391eec06a10d4b"
  },
  {
   "metadata": {},
   "cell_type": "markdown",
   "source": "",
   "id": "d70808b4924f7bf4"
  },
  {
   "metadata": {},
   "cell_type": "markdown",
   "source": "",
   "id": "76159b12d96edd9b"
  },
  {
   "metadata": {},
   "cell_type": "markdown",
   "source": "",
   "id": "49417c79a54fc0d6"
  },
  {
   "metadata": {},
   "cell_type": "markdown",
   "source": "",
   "id": "e837db53e1f5d00"
  },
  {
   "metadata": {},
   "cell_type": "markdown",
   "source": "",
   "id": "fd8b31798387e4c1"
  },
  {
   "metadata": {},
   "cell_type": "markdown",
   "source": "",
   "id": "2ef64539cfa8a2e6"
  }
 ],
 "metadata": {
  "kernelspec": {
   "display_name": "Python 3",
   "language": "python",
   "name": "python3"
  },
  "language_info": {
   "codemirror_mode": {
    "name": "ipython",
    "version": 2
   },
   "file_extension": ".py",
   "mimetype": "text/x-python",
   "name": "python",
   "nbconvert_exporter": "python",
   "pygments_lexer": "ipython2",
   "version": "2.7.6"
  }
 },
 "nbformat": 4,
 "nbformat_minor": 5
}
