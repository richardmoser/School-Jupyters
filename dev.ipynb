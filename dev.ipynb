{
 "cells": [
  {
   "metadata": {},
   "cell_type": "code",
   "outputs": [],
   "execution_count": null,
   "source": "# convert untitled.wav to 16 bit audio",
   "id": "6c457c2565d38663"
  },
  {
   "metadata": {},
   "cell_type": "code",
   "outputs": [],
   "execution_count": null,
   "source": [
    "import soundfile\n",
    "\n",
    "data, samplerate = soundfile.read('untitled.wav')\n",
    "soundfile.write('untitled_16bit.wav', data, samplerate, subtype='PCM_16')"
   ],
   "id": "cc4b137687dab50"
  },
  {
   "metadata": {},
   "cell_type": "code",
   "outputs": [],
   "execution_count": null,
   "source": "",
   "id": "8128a566e801d7c5"
  },
  {
   "metadata": {},
   "cell_type": "code",
   "outputs": [],
   "execution_count": null,
   "source": [
    "import numpy as np\n",
    "import matplotlib.pyplot as plt\n",
    "\n",
    "# Stellar mass range (in solar masses)\n",
    "M = np.linspace(0.5, 1.0, 100)\n",
    "\n",
    "# Luminosity scaling: L ∝ M^6\n",
    "L = M**6\n",
    "\n",
    "# Plot\n",
    "plt.figure(figsize=(8, 6))\n",
    "plt.plot(M, L, color='blue', linewidth=2)\n",
    "plt.xlabel(r'Stellar Mass $M_*/M_\\odot$', fontsize=12)\n",
    "plt.ylabel(r'Luminosity $L_*/L_\\odot$', fontsize=12)\n",
    "plt.title('Stellar Luminosity vs. Stellar Mass (M, K, and G Dwarfs)', fontsize=14)\n",
    "plt.grid(True)\n",
    "plt.show()\n"
   ],
   "id": "18ea1967ec104207"
  }
 ],
 "metadata": {},
 "nbformat": 5,
 "nbformat_minor": 9
}
