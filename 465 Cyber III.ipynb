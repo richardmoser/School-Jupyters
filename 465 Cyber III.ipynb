{
 "cells": [
  {
   "metadata": {},
   "cell_type": "markdown",
   "source": "# 07Nov",
   "id": "2db33506679a8c8c"
  },
  {
   "metadata": {},
   "cell_type": "markdown",
   "source": [
    "### Wireless Security\n",
    "- sniffing can be done without being connected to the network\n",
    "    - it is just RF signal\n",
    "    - wardriving/walking/biking/etc\n",
    "        - travel around looking for wireless networks\n",
    "        - tools:\n",
    "            - Wifite (Linux)\n",
    "            - WiFiman (Android and iOS)\n",
    "            - the legitimate use case is to find open networks and channels that are not crowded\n",
    "    - sniffing\n",
    "        - can run into compatibility issues\n",
    "            - not all wifi cards can be put into promiscuous mode\n",
    "                - people have created dedicated hardware to get around this\n",
    "                - e.g. WiFi Pineapple\n",
    "                - many of these are actually better than the built-in wifi cards\n",
    "                    - simply owning a promiscuous wifi device is not illegal\n",
    "- Wireless security protocols\n",
    "    - WEP (Wired Equivalent Privacy)\n",
    "        - not secure\n",
    "        - uses stream cipher RC4 for confidentiality, CRC-32 checksum for integrity\n",
    "        - has numerous vulnerabilities\n",
    "        - now deprecated\n",
    "        - why it is bad\n",
    "            - \"the pigeonhole principle\"\n",
    "                - the minimum number of pigeons to fill n pigeonholes \n",
    "                - if you have n+1 pigeons, then at least one pigeonhole will have more than one pigeon\n",
    "            - \"the birthday paradox\"\n",
    "                - the minimum number of people in a room for a 100% chance that two people share a birthday is 367\n",
    "                    - i.e. one more than the number of days in a year\n",
    "                - the minimum number of people in a room for a 99% chance that two people share a birthday is 57\n",
    "                - the minimum number of people in a room for a 50% chance that two people share a birthday is 23\n",
    "            - stream ciphers\n",
    "                - computationally efficient but not secure\n",
    "                - need a new key for every message to or from the router\n",
    "                - WEP uses a 24-bit initialization vector (IV)\n",
    "                    - 24 bits = 2^24 = 16,777,216\n",
    "                    - after 16,777,216 packets, the IV will repeat\n",
    "                    - the pigeonhole principle says that after 16,777,216 packets, there is a 100% chance of a collision\n",
    "                    - the birthday paradox says that after 4,096 packets, there is a 50% chance of a collision\n",
    "                - when two packets have the same IV, the same key is used to encrypt both packets\n",
    "                    - the Vernam Cipher is decrypted by XORing the ciphertext with the key\n",
    "                        - an XOR of the two packets will reveal the plaintext of both packets\n",
    "                - a true one-time pad assumes a truly random key\n",
    "                    - can't be implemented actually because it would require an infinite key to never repeat\n",
    "    - WPA\n",
    "    - WPA2\n",
    "    - WPA3 "
   ],
   "id": "8a6af6f0bfad9d56"
  },
  {
   "metadata": {},
   "cell_type": "markdown",
   "source": "",
   "id": "870d208f4b82b598"
  },
  {
   "metadata": {},
   "cell_type": "markdown",
   "source": "",
   "id": "64c338731f783c92"
  },
  {
   "metadata": {},
   "cell_type": "markdown",
   "source": "",
   "id": "55a07df84fea5433"
  },
  {
   "metadata": {},
   "cell_type": "markdown",
   "source": "",
   "id": "fb9ab965bd3590f6"
  },
  {
   "metadata": {},
   "cell_type": "markdown",
   "source": "",
   "id": "12163909ea7fbd"
  },
  {
   "metadata": {},
   "cell_type": "markdown",
   "source": "",
   "id": "983e36ee5b768fd4"
  },
  {
   "metadata": {},
   "cell_type": "markdown",
   "source": "",
   "id": "7c608ea851905400"
  },
  {
   "metadata": {},
   "cell_type": "markdown",
   "source": "",
   "id": "33097b476e90efb0"
  },
  {
   "metadata": {},
   "cell_type": "markdown",
   "source": "",
   "id": "2be8c9b3d74909c1"
  },
  {
   "metadata": {},
   "cell_type": "markdown",
   "source": "",
   "id": "b8b29badf7d62a0"
  },
  {
   "metadata": {},
   "cell_type": "markdown",
   "source": "",
   "id": "50cbd18e04dce05f"
  },
  {
   "metadata": {},
   "cell_type": "markdown",
   "source": "",
   "id": "1a1d822e566981f"
  }
 ],
 "metadata": {
  "kernelspec": {
   "display_name": "Python 3",
   "language": "python",
   "name": "python3"
  },
  "language_info": {
   "codemirror_mode": {
    "name": "ipython",
    "version": 2
   },
   "file_extension": ".py",
   "mimetype": "text/x-python",
   "name": "python",
   "nbconvert_exporter": "python",
   "pygments_lexer": "ipython2",
   "version": "2.7.6"
  }
 },
 "nbformat": 4,
 "nbformat_minor": 5
}
