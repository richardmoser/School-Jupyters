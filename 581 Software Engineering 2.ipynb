{
 "cells": [
  {
   "metadata": {},
   "cell_type": "markdown",
   "source": "30Aug",
   "id": "675035d47ef7c2fb"
  },
  {
   "metadata": {},
   "cell_type": "markdown",
   "source": "### Team Organization",
   "id": "7a152307a31ffe50"
  },
  {
   "metadata": {},
   "cell_type": "markdown",
   "source": [
    "- Democratic\n",
    "    - theoretically \"egoless\"\n",
    "    - no single leader\n",
    "    - management may have difficulty with this\n",
    "    - advantage\n",
    "        - positive attitude towards finding faults\n",
    "    disadvantage\n",
    "        - senior programmers may not appreciate junior programmer feedback\n",
    "         "
   ],
   "id": "3f3238643b8234be"
  },
  {
   "metadata": {},
   "cell_type": "markdown",
   "source": [
    "# 20Sep\n",
    "- Report Format:\n",
    "- Date of Event\n",
    "- Time of Event\n",
    "- Name of Event\n",
    "- Name of Presenter(s)\n",
    "- Summary of event (150-500 words)\n",
    "- What did you learn from the event (50-150 words)?\n",
    "- What will you do different because of this event (75-250 words)?\n",
    "By completing the report, you are acknowledging that you attended the entire presentation or if you\n",
    "were late, it was because of circumstances beyond your control (e.g., stuck in traffic, late bus).\n",
    "Remember making false statements is considered Academic Misconduct and can lead to dismissal from\n",
    "the University.\n"
   ],
   "id": "651d57b2bd336ab0"
  },
  {
   "metadata": {},
   "cell_type": "markdown",
   "source": "",
   "id": "cdd81b51710fde5b"
  },
  {
   "metadata": {},
   "cell_type": "markdown",
   "source": [
    "20Sep2024\n",
    "4PM - 5PM\n",
    "CS Career Panel\n",
    "Gary Handy, Alek Eskilson, Julia ___, and Clay (couldn't hear well enough to spell)\n",
    "    - Netsmart\n",
    "    - Garmin\n",
    "    - Oracle\n",
    "\n",
    "Summary:\n",
    "The panelists discussed their current positions as well as the paths which led them there. They also covered advice to graduating students such as how to adjust to being a junior developer, asking questions, and acknowledging imposter syndrome. Alek discussed the work life balance and their experience with good and bad workplace climates around demands and expectations. They cited Programming Paradigms as a class that was particularly helpful in their career, particularly in teaching them object oriented and declarative coding. Operating Systems and Compilers were cited as particularly helpful in learning C and C++ which they utilize in their industry positions. Julia called out a lack of gender representation in the field. Alek discussed his career path in greater detail through several companies, startups, and workplace cultures, as well as a wide array of projects.\n",
    "\n",
    "What did you learn from the event?\n",
    "I learned that there can be many paths to success in the field of computer science. I also found Julia's comments about the benefits and disadvantages of being the sole person who understands and maintains a particular system to be particularly interesting and relevant to my own experience. Alek's commentary on finding your people and maintaining social connections in a new city was also something that I will keep in mind as I move forward in my career.\n",
    "\n",
    "What will you do different because of this event?\n",
    "I think my primary takeaway was that the work-life balance is something that I will need to take a very active role in maintaining. I feel a lot more confident as someone who is already on a nontraditional path; it certainly sounded like Alek in particular but even Julia and Clay also had fairly nonlinear paths to success. The panelists' discussion of the validity and importance of salary negotiation at the entry level was definitely something that I found valuable and  will pursue in my own career. \n",
    "\n"
   ],
   "id": "8498b8c31ea7e560"
  },
  {
   "metadata": {},
   "cell_type": "markdown",
   "source": [
    "I Will Teach You To Be Rich by Ramit Sethi\n",
    "- recommended by Alek"
   ],
   "id": "6cfd81afcfadb7"
  },
  {
   "metadata": {},
   "cell_type": "markdown",
   "source": "",
   "id": "549c44db9426232d"
  },
  {
   "metadata": {},
   "cell_type": "code",
   "outputs": [],
   "execution_count": null,
   "source": [
    "Describe each of these common techniques used for requirements elicitation in your own words.\n",
    "• You don’t need to describe the strength and weaknesses, just how the technique works.\n",
    "1. On-Site Customer\n",
    "2. Face-to-Face Interviews\n",
    "3. Electronic Interviews\n",
    "4. Focus Groups\n",
    "5. Joint Application Design (JAD)\n",
    "6. Observation"
   ],
   "id": "b548fbca674a9fcf"
  },
  {
   "metadata": {},
   "cell_type": "markdown",
   "source": [
    "1. On-Site Customer\n",
    "    - A number of people are on hand to answer questions and provide feedback on the software as it is developed. They act as a voice for the customer to ensure that the software meets their needs."
   ],
   "id": "f805759e474fcb9c"
  },
  {
   "metadata": {},
   "cell_type": "markdown",
   "source": [
    "2. Face-to-Face Interviews\n",
    "    - A meeting is scheduled between the developer and the customer to discuss their needs and expectations for the software. The developer can ask questions and get feedback directly from the customer. "
   ],
   "id": "a4a5644343183d3b"
  },
  {
   "metadata": {},
   "cell_type": "markdown",
   "source": [
    "3. Electronic Interviews\n",
    "    - These are effectively face-to-face interviews except that they are conducted by some electronic communication medium such as Zoom, email, or telephone calls."
   ],
   "id": "3039a36dcbb4036a"
  },
  {
   "metadata": {},
   "cell_type": "markdown",
   "source": [
    "4. Focus Groups\n",
    "    - A group of people is brought in to discuss their needs and expectations for the software. They discuss topics collaboratively which allows for more ideas to be shared and developed as well as dissenting opinions to be voiced and resolved."
   ],
   "id": "8c3d841d5f7a9eec"
  },
  {
   "metadata": {},
   "cell_type": "markdown",
   "source": [
    "5. Joint Application Design (JAD)\n",
    "    - A group of people is brought in to discuss requirements and action items according to a pre-established agenda. The meeting follows a formal structure and is facilitated by a specific person."
   ],
   "id": "23e79a48d9387d72"
  },
  {
   "metadata": {},
   "cell_type": "markdown",
   "source": [
    "6. Observation\n",
    "    - The developer watches the customer use the software in order to understand how they actually operate in a real environment. The observer allows the subject to perform tasks generally without interference but they are also able to seek clarification on the subject's actions and motivations."
   ],
   "id": "68406914f54c2bd4"
  },
  {
   "metadata": {},
   "cell_type": "markdown",
   "source": "",
   "id": "de7ec08ba33c25c8"
  },
  {
   "metadata": {},
   "cell_type": "markdown",
   "source": "",
   "id": "8ee78baba87a7873"
  }
 ],
 "metadata": {
  "kernelspec": {
   "display_name": "Python 3",
   "language": "python",
   "name": "python3"
  },
  "language_info": {
   "codemirror_mode": {
    "name": "ipython",
    "version": 2
   },
   "file_extension": ".py",
   "mimetype": "text/x-python",
   "name": "python",
   "nbconvert_exporter": "python",
   "pygments_lexer": "ipython2",
   "version": "2.7.6"
  }
 },
 "nbformat": 4,
 "nbformat_minor": 5
}
