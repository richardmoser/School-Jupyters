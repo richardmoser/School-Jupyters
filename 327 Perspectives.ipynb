{
 "cells": [
  {
   "metadata": {},
   "cell_type": "markdown",
   "source": [
    "### Readings 31Jan25\n",
    "#### Settler Colonialism Primer (2014)\n",
    "- Colonialism: occupies and usurps land, resources, and labor from indigenous peoples\n",
    "- types of colonialism\n",
    "    - exploitation colonialism: a small number of colonists exploit resources and indigenous labor for export to the colonizing country\n",
    "        - the colonists are not interested in the land itself, only the resources\n",
    "    - **settler colonialism**: focuses on land and the elimination of indigenous peoples to make way for settlers\n",
    "        - the colonists are interested in the land itself\n",
    "    - plantation colonialism: a mix of exploitation and settler colonialism, where the colonists are primarily interested in the land and the resources it can produce\n",
    "- indigenous peoples are erased via genocide, assimilation, or interbreeding\n",
    "- a settler is anyone who is not indigenous to the land in a settler colonial context\n",
    "    - e.g. any non-indigenous person in the US\n",
    "    - intersects with other identities such as race, class, etc.\n",
    "        - not all settlers are equal or chose to be settlers\n",
    "- primitive accumulation: the process of acquiring land and resources from a group of people who are not capitalists.\n",
    "    - i.e. stealing land to create a landless working class\n",
    "    - without land to farm or resources to sell, people are forced to work for wages to survive\n",
    "    - \"entry point into capitalism\"\n",
    "- racial formation: the process of creating racial categories and attributing characteristics to them in order to justify the exploitation of certain groups\n",
    "    - used to maximize exploitation and minimize benefits to the exploited groups\n",
    "        - you must be a minimum percent genetically indigenous to be be deemed a tribal member\n",
    "        - a maximum of \"one drop\" (any) of black blood made you black per the \"one drop rule\" \n",
    "    - \"whiteness\" must then be defined in opposition to these racial categories\n",
    "        - whiteness is defined as the absence of the characteristics attributed to the exploited groups\n",
    "            - there is no definition of \"white\", only what is not white\n",
    "- assigning innocence to settlers\n",
    "    - settler nativism\n",
    "        - settlers find or invent an indigenous ancestor to absolve themselves of any possible blame or guilt\n",
    "        - even if true, it is likely that your indigenous great-grandmother did not have a choice in marrying a settler\n",
    "    - fantasizing adoption\n",
    "        - settlers adopt practices and knowledge of indigenous peoples or cite narratives of the dwindling indigenous people handing over the land to settlers for safe-keeping\n",
    "    - colonial equivocation\n",
    "        - settlers conflate colonialism with other forms of oppression\n",
    "            - \"we are all colonized\" does not mean \"none of us are settlers\"\n",
    "    - conscientization/mental decolonialization\n",
    "        - yes we must free our minds, but we must also free the land\n",
    "        - consciousness raising is a comfortable way of avoiding the hard work of decolonization\n"
   ],
   "id": "3b1cd4316458eada"
  },
  {
   "metadata": {},
   "cell_type": "markdown",
   "source": [
    "#### Decolonizing Feminism: Challenging Connections between Settler Colonialism and Heteropatriarchy (2013)\n",
    "- indigenous communities are often less interested in equality and civil rights from the colonial state and more interested in independence and sovereignty from the colonial state\n",
    "    - the colonial state is not a neutral arbiter of social justice, but a colonizer itself\n",
    "- First Challenge: problematize and theorize the intersections of settler colonialism, heteropatriarchy, and heteropaternalism - Second Challenge: refuse the erasure of Indigenous women within gender and women’s studies and reconsider the implications of the end game of (only) inclusion\n",
    "- Third Challenge: actively seek alliances in which differences are respected and issues of land and tribal belonging are not erased in order to create solidarity, but rather, relationships to settler colonialism are acknowledged as issues that are critical to social justice and political work that must be addressed\n",
    "- Fourth Challenge: to recognize the persistence of Indigenous concepts and epistemologies, or ways of knowing.\n",
    "    - recognizing the persistence of Indigenous concepts and epistemologies does not mean blindly copying or performing them oneself, nor does such recognition require excavating “authentic” Indigenous traditions out of a distant past; instead, feminists must recognize Indigenous peoples as the authors of important theories about the world we all live in\n",
    "    - land is not just property, it is a relationship and a source of knowledge\n",
    "    - sovereignty is not only derived by the colonial state; tribal lands, councils, and other institutions are benefits granted by and powers derived from the dominant settler state and thus are not truly sovereign. They come with problematic strings attached.\n",
    "- Fifth Challenge: to question how the discursive and material practices of gender and women’s studies and the academy writ large may participate in the dispossession of Indigenous peoples’ lands, livelihoods, and futures, and to then divest from these practices"
   ],
   "id": "70f6202c1dac02e"
  },
  {
   "metadata": {},
   "cell_type": "markdown",
   "source": [
    "### 31Jan25 Class\n",
    "- Question: What tribal land does KU sit on?\n",
    "    - per the land acknowledgement, it sits on land that was forcibly ceded by the Kaw, Osage, and Shawnee peoples among others\n",
    "- if this material is interesting, there is a Native Feminisms course in the department\n",
    "- our education system tends to teach colonialism as a thing of the past\n",
    "    - something that happened, not something that is happening\n",
    "    - there is no such thing as true post-colonialism\n",
    "        - it is a massive amount of structural harm in addition to generational trauma and multiple genocides \n",
    "        - e.g. KU discovering that they have a collection of indigenous remains in recent years and resisting returning them to their tribes\n",
    "- primitive accumulation\n",
    "    - settlers set able to norms because they've stolen the resources, land, and power\n",
    "        - gender binaries are constructed and enforced by settlers to maintain power and control\n",
    "        - racial formation\n",
    "- racial formation \n",
    "    - creates a racial hierarchy which can also be used to justify who is granted or \"deserving of\" rights and who is not\n",
    "    - arbitrarily defines a \"white\" race and **establishes it as the norm** \n",
    "        - norm is assumed to mean \"correct\" and \"right\"\n",
    "- decolonization\n",
    "    - literal unsettling\n",
    "    - complete reparation of land\n",
    "    - for the settler this means facing that \n",
    "        - there is not necessarily a place for you in the new society\n",
    "        - settler destiny and narratives no longer take center stage\n",
    "    - decolonization is accountable to indigenous sovereignty and futurity\n",
    "        - not to settlers and settler futurity\n",
    "    - self-accepting colonizer\n",
    "        - a settler who accepts that they are a colonizer\n",
    "            - either knowingly or unknowingly\n",
    "    - self-rejecting colonizer\n",
    "        - a settler who will fight for a world which may not include them\n",
    "        - you can't claim to be an ally, it may be possible to be designated as such by the oppressed group\n",
    "    - approaches discussed in groups in class\n",
    "        - systemic changes such as K-12 education\n",
    "        - reparations \n",
    "        - returning land\n",
    "        - electing/bringing indigenous people into existing systems of power \n",
    "        - center indigenous voices and narratives in all of these processes \n",
    "            - many or all of these are highly complex and difficult to achieve\n",
    "            - it is vital that we leverage privilege to elevate these voices to power **but then shut up and let them speak and make policy**\n",
    "- five challenges to decolonizing feminism\n",
    "    - native feminisms must be not only added to curriculum as a discrete topic, but also integrated into all other topics\n",
    "    - the roots of many or most issues along gender lines are in settler colonialism\n",
    "        - i.e. indigenous cultures didn't have these issues until settlers arrived and imposed their norms\n",
    "    - allyship cannot be a trend or a part time job in the way some political movements are\n",
    "        - it must be a full time commitment to conscious action and policy\n",
    "        - it is on the settlers to do the work, not the oppressed\n",
    "            - it is not their job to teach you how to be an ally\n",
    "    - recognize indigenous knowledge and epistemologies without appropriating them\n",
    "        - this knowledge and these concepts are current and ongoing, not historical\n",
    "    - divest from practices that harm indigenous peoples\n",
    "        - this is difficult work\n",
    "        - reform curricula and practices to be more inclusive and less harmful\n",
    "- cut for time: TEDxSFU talk on Canadian indigenous issues "
   ],
   "id": "b17b278294de9064"
  },
  {
   "metadata": {},
   "cell_type": "markdown",
   "source": "",
   "id": "e484f0aad6714b64"
  },
  {
   "metadata": {},
   "cell_type": "markdown",
   "source": "",
   "id": "4e287218b35cd7d5"
  },
  {
   "metadata": {},
   "cell_type": "markdown",
   "source": "",
   "id": "733ba60ddb39d578"
  },
  {
   "metadata": {},
   "cell_type": "markdown",
   "source": "",
   "id": "3a70458bd966d14f"
  },
  {
   "metadata": {},
   "cell_type": "markdown",
   "source": "",
   "id": "6d8b0fafbc40a94f"
  },
  {
   "metadata": {},
   "cell_type": "markdown",
   "source": "",
   "id": "67308806355cc7d7"
  },
  {
   "metadata": {},
   "cell_type": "markdown",
   "source": "",
   "id": "56718902c5aadf1f"
  },
  {
   "metadata": {},
   "cell_type": "markdown",
   "source": "",
   "id": "fccb56c15f1d442a"
  },
  {
   "metadata": {},
   "cell_type": "markdown",
   "source": "",
   "id": "4e9ea1b7815da923"
  },
  {
   "metadata": {},
   "cell_type": "markdown",
   "source": "",
   "id": "3441625d735597f0"
  },
  {
   "metadata": {},
   "cell_type": "markdown",
   "source": "",
   "id": "dce0664d9470e37b"
  },
  {
   "metadata": {},
   "cell_type": "markdown",
   "source": "",
   "id": "184831a681c8039b"
  },
  {
   "metadata": {},
   "cell_type": "markdown",
   "source": "",
   "id": "b795075df02d3ee3"
  }
 ],
 "metadata": {
  "kernelspec": {
   "display_name": "Python 3",
   "language": "python",
   "name": "python3"
  },
  "language_info": {
   "codemirror_mode": {
    "name": "ipython",
    "version": 2
   },
   "file_extension": ".py",
   "mimetype": "text/x-python",
   "name": "python",
   "nbconvert_exporter": "python",
   "pygments_lexer": "ipython2",
   "version": "2.7.6"
  }
 },
 "nbformat": 4,
 "nbformat_minor": 5
}
