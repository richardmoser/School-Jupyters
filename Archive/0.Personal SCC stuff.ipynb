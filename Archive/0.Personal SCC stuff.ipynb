{
 "cells": [
  {
   "cell_type": "markdown",
   "source": [
    "### TODO:\n",
    "- cluster install for sinstallation process\n",
    "- local install for testing software itself\n",
    "- get with James \n",
    "    - to deconflict schedule\n",
    "    - figure out who is working on what software\n",
    "        - James - 3Dsomething\n",
    "        - Me - 3MPAS-A\n",
    "- Talk to Abir about MPI\n",
    "    - look at SCC recommendation for MPI version "
   ],
   "metadata": {
    "collapsed": false
   },
   "id": "a10afda668a35996"
  },
  {
   "cell_type": "markdown",
   "source": [
    "### Webinar Notes"
   ],
   "metadata": {
    "collapsed": false
   },
   "id": "a1e30c07ceb7dd6b"
  },
  {
   "cell_type": "markdown",
   "source": [
    "#### Expectations for SCC23 (minor modifications possible))\n",
    "- Build libraries\n",
    "- Use VCS\n",
    "    - **fork**, don't branch\n",
    "- Use GNU Make to build\n",
    "    - may need to modify makefiles\n",
    "        - **this is TBD**\n",
    "- Prepare simulation for run\n",
    "    - prep data\n",
    "        - **this is TBD**\n",
    "    - link/copy executable and files\n",
    "    - modify runtime configs and I/O options\n",
    "        - example setup script (slide 6)\n",
    "            - https://www2.mmm.ucar.edu/people/duda/files/mpas/sources/\n",
    "    - partition meshes for parallel runs\n",
    "- Run simulation\n"
   ],
   "metadata": {
    "collapsed": false
   },
   "id": "e46a1cb546c52b6e"
  },
  {
   "cell_type": "markdown",
   "source": [
    "#### Compiling\n",
    "- `make target CORE=core <options>`\n",
    "    - target is either clean\n",
    "- Makefile\n",
    "    - may have to modify BUILDTARGET sectoin for:\n",
    "        - hardware\n",
    "        - compiler\n",
    "        - debug flags \n",
    "- builds are \"in-place\" -slide 13, ~15 minutes in video\n",
    "    - must use make clean to remove old build"
   ],
   "metadata": {
    "collapsed": false
   },
   "id": "ca674a0a010c3f40"
  },
  {
   "cell_type": "code",
   "execution_count": null,
   "outputs": [],
   "source": [],
   "metadata": {
    "collapsed": false
   },
   "id": "7011778203942092"
  }
 ],
 "metadata": {
  "kernelspec": {
   "display_name": "Python 3",
   "language": "python",
   "name": "python3"
  },
  "language_info": {
   "codemirror_mode": {
    "name": "ipython",
    "version": 2
   },
   "file_extension": ".py",
   "mimetype": "text/x-python",
   "name": "python",
   "nbconvert_exporter": "python",
   "pygments_lexer": "ipython2",
   "version": "2.7.6"
  }
 },
 "nbformat": 4,
 "nbformat_minor": 5
}
