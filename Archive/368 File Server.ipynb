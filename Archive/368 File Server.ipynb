{
 "cells": [
  {
   "cell_type": "markdown",
   "id": "13fdb474",
   "metadata": {},
   "source": [
    "### Node.js Server\n",
    "- file writing\n",
    "    - uses handler methods.PUT\n",
    "\n",
    "```node.js\n",
    "const {createWriteStream} = require(\"fs\");\n",
    "function pipeStream(from, to) { //creates a promise around the outcome of calling pipe\n",
    "    return new Promise((resolve, reject) => {\n",
    "        from.on(\"error\", reject); // handles errors in opening the file\n",
    "        to.on(\"error\", reject); // handles errors in returning the file (e.g. network error)\n",
    "        to.on(\"finish\", resolve);\n",
    "        from.pipe(to);\n",
    "    });\n",
    "}\n",
    "methods.PUT = async function(request) {\n",
    "    let path = urlPath(request.url);\n",
    "    await pipeStream(request, createWriteStream(path));\n",
    "    return {status: 204};\n",
    "};\n",
    "```\n",
    "    - returns error stream when something goes wrong"
   ]
  },
  {
   "cell_type": "markdown",
   "id": "cf8d6735",
   "metadata": {},
   "source": [
    "### curl\n",
    "- for Unix and Unix-like systems\n",
    "- can be used to make HTTP requests\n",
    "~~~ \n",
    "$ curl http://localhost:8000/file.txt\n",
    "File not found\n",
    "$ curl -X PUT -d Hello http://localhost:8000/file.txt #creates the file\n",
    "$ curl http://localhost:8000/file.txt\n",
    "Hello\n",
    "$ curl -X DELETE http://localhost:8000/file.txt\n",
    "$ curl http://localhost:8000/file.txt\n",
    "File not found\n",
    "~~~\n",
    "You could also write a browser app in HTML and JavaScript with buttons for\n",
    "each server action:\n",
    "- Read files using the HTTP GET method.\n",
    "- Write files using the HTTP PUT method.\n",
    "- Delete files using the HTTP DELETE method\n",
    "- Create directory using the HTTP MKCOL method (Assignment 5)\n",
    "    - mkdir in fs module is used to make directory\n",
    "- Use text field to display return status messages from server\n",
    "- Use another text field for reading and writing files and directories\n"
   ]
  },
  {
   "cell_type": "markdown",
   "id": "0c0fba0d",
   "metadata": {},
   "source": [
    "### Assignment 5\n",
    "Please review the student demo video at the link below.\n",
    "- It will tell you how you can create, test, and submit Assignment 5.\n",
    "- If you have any questions, please contact our SI, Soujanya Ambati at:\n",
    "saisoujanyaambati@ku.edu.\n",
    "https://drive.google.com/drive/folders/1n1R5b3YihQcbCVyQwUjVBD1IMGMdEvBE"
   ]
  },
  {
   "cell_type": "markdown",
   "id": "05fabba3",
   "metadata": {},
   "source": []
  },
  {
   "cell_type": "markdown",
   "id": "d3f5973f",
   "metadata": {},
   "source": []
  },
  {
   "cell_type": "markdown",
   "id": "f6a63e7d",
   "metadata": {},
   "source": []
  }
 ],
 "metadata": {
  "kernelspec": {
   "display_name": "Python 3",
   "language": "python",
   "name": "python3"
  },
  "language_info": {
   "codemirror_mode": {
    "name": "ipython",
    "version": 3
   },
   "file_extension": ".py",
   "mimetype": "text/x-python",
   "name": "python",
   "nbconvert_exporter": "python",
   "pygments_lexer": "ipython3",
   "version": "3.6.9"
  }
 },
 "nbformat": 4,
 "nbformat_minor": 5
}
