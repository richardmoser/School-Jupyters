{
 "cells": [
  {
   "cell_type": "markdown",
   "id": "13e0affc",
   "metadata": {
    "collapsed": false
   },
   "source": [
    "### Final\n",
    "- similar to the midterm\n",
    "- cumulative"
   ]
  },
  {
   "cell_type": "code",
   "execution_count": null,
   "id": "200a0ec7",
   "metadata": {
    "collapsed": false
   },
   "outputs": [],
   "source": []
  },
  {
   "cell_type": "markdown",
   "id": "7d455828",
   "metadata": {
    "collapsed": false
   },
   "source": [
    "### look up whatever he was doing on 4/21\n"
   ]
  }
 ],
 "metadata": {
  "kernelspec": {
   "display_name": "ROOT C++",
   "language": "c++",
   "name": "root"
  },
  "language_info": {
   "codemirror_mode": "text/x-c++src",
   "file_extension": ".C",
   "mimetype": " text/x-c++src",
   "name": "c++"
  }
 },
 "nbformat": 4,
 "nbformat_minor": 5
}
