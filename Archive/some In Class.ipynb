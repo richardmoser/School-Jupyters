{
 "cells": [
  {
   "cell_type": "markdown",
   "id": "94fd899e",
   "metadata": {},
   "source": [
    "### In Class 4-05"
   ]
  },
  {
   "cell_type": "code",
   "execution_count": 3,
   "id": "8ff39fef",
   "metadata": {},
   "outputs": [],
   "source": [
    "-- tail accepts a list and returns the list without the first element\n",
    "-- safetail accepts a list and returns the list without the first element if the list is not empty and returns an empty list if the list is empty\n",
    "\n",
    "-- 1. conditional expression\n",
    "safetail :: [a] -> [a]\n",
    "safetail xs = if null xs then [] else tail xs\n",
    "\n",
    "-- 2. guarded equations\n",
    "safetail :: [a] -> [a]\n",
    "safetail xs | null xs = []\n",
    "            | otherwise = tail xs\n",
    "\n",
    "-- 3. pattern matching\n",
    "safetail :: [a] -> [a]\n",
    "safetail [] = []\n",
    "safetail (_:xs) = xs"
   ]
  },
  {
   "cell_type": "code",
   "execution_count": 1,
   "id": "900b6698",
   "metadata": {},
   "outputs": [
    {
     "data": {
      "text/plain": [
       "[2,3]"
      ]
     },
     "metadata": {},
     "output_type": "display_data"
    },
    {
     "data": {
      "text/plain": [
       "[]"
      ]
     },
     "metadata": {},
     "output_type": "display_data"
    }
   ],
   "source": [
    "safetail :: [a] -> [a]\n",
    "safetail xs = if null xs then [] else tail xs\n",
    "\n",
    "-- example usage\n",
    "safetail [1,2,3]\n",
    "safetail []"
   ]
  },
  {
   "cell_type": "code",
   "execution_count": 2,
   "id": "7a136ff0",
   "metadata": {
    "pycharm": {
     "is_executing": true
    }
   },
   "outputs": [
    {
     "data": {
      "text/plain": [
       "[2,3]"
      ]
     },
     "metadata": {},
     "output_type": "display_data"
    },
    {
     "data": {
      "text/plain": [
       "[]"
      ]
     },
     "metadata": {},
     "output_type": "display_data"
    }
   ],
   "source": [
    "safeTail :: [a] -> [a]\n",
    "safeTail xs | null xs = []\n",
    "            | otherwise = tail xs\n",
    "\n",
    "-- example usage\n",
    "safeTail [1,2,3]\n",
    "safeTail []"
   ]
  },
  {
   "cell_type": "code",
   "execution_count": null,
   "id": "a78cf87e",
   "metadata": {
    "pycharm": {
     "is_executing": true
    },
    "scrolled": true
   },
   "outputs": [
    {
     "data": {
      "text/plain": [
       "[2,3]"
      ]
     },
     "metadata": {},
     "output_type": "display_data"
    },
    {
     "data": {
      "text/plain": [
       "[]"
      ]
     },
     "metadata": {},
     "output_type": "display_data"
    }
   ],
   "source": [
    "safeTail :: [a] -> [a]\n",
    "safeTail [] = []\n",
    "safeTail (_:xs) = xs\n",
    "\n",
    "-- example usage\n",
    "safeTail [1,2,3]\n",
    "safeTail []"
   ]
  },
  {
   "cell_type": "code",
   "execution_count": null,
   "id": "85192ae0",
   "metadata": {},
   "outputs": [],
   "source": []
  }
 ],
 "metadata": {
  "kernelspec": {
   "display_name": "Haskell",
   "language": "haskell",
   "name": "haskell"
  },
  "language_info": {
   "codemirror_mode": "ihaskell",
   "file_extension": ".hs",
   "mimetype": "text/x-haskell",
   "name": "haskell",
   "pygments_lexer": "Haskell",
   "version": "9.2.7"
  }
 },
 "nbformat": 4,
 "nbformat_minor": 5
}
