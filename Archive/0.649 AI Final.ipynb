{
 "cells": [
  {
   "metadata": {},
   "cell_type": "markdown",
   "source": [
    "### Final\n",
    "- Comprehensive but focus on topics after the midterm\n",
    "- will have 6 questions\n",
    "- not all questions on the study guide apply to this course\n",
    "    - they are delineated in the study guide\n",
    "        - X means it is not on the final\n",
    "        - check marks mean it is on the final\n",
    "        - arrow means it is covered in the review session\n",
    "- **know Bayes rule**\n",
    "    - $P(A|B) = \\frac{P(B|A) \\cdot P(A)}{P(B)}$\n",
    "- guest lecture material is fair game\n",
    "\n",
    "- Topic Coverage: all lectures; all assigned reading in R&N (selections across Chs. 1-7, 11-13, 16-22, 27, ...), Turing’s paper, Braitenberg’s Vehicles; Problem Sets 1-12; Mini PS\n",
    "- How to study: read/review notes and book, “skim” problem sets, do sample exam, read chapter summaries, ...\n"
   ],
   "id": "7ad9c720d7d36d1f"
  },
  {
   "metadata": {},
   "cell_type": "markdown",
   "source": [
    "- **Q function**\n",
    "- problem c\n",
    "    - 3\n",
    "- problem d\n",
    "    - 14625723 and 85346761 crossover at cross point between 4th and 5th digits\n",
    "    - answer: 14626761 and 85345723\n",
    "        - i.e. \"1462\" + \"6723\" and \"8534\" + \"5761\"\n",
    "- **problem e**\n",
    "    - **need to know entropy equation**\n",
    "    - $H(X) = -\\sum p(x) \\log_2 p(x)$\n",
    "    - for 1, 3, 2, 3, 1, 3, 3, 2\n",
    "    - $H(X) = $\n",
    "- problem f\n",
    "    - why prune a decision tree\n",
    "    - avoid overfitting\n",
    "- problem g\n",
    "    - **must know how to draw/describe Naive Bayes Nets**\n",
    "        - non-descendant nodes are independent given the parent\n",
    "        - all the attributes are conditionally independent given the class\n",
    "- problem h\n",
    "    - XOR can be learned by a 1 layer neural network\n",
    "        - 1 layer NN can fit anything (technically)\n",
    "            - would take a lot of neurons/hidden features\n",
    "- problem e\n",
    "    - bfs worst case is $O(b^d)$ where b is the branching factor and d is the depth\n",
    "    - **better to just know how bfs works**\n",
    "- problem l\n",
    "    - there is a tie in the matrix game which is tricky\n",
    "    - to prove it isn't a Nash equilibrium, you only have to show one counter example\n",
    "        - i.e. one player can change their strategy to get a better outcome\n",
    "    - to prove it is a Nash equilibrium, you have to prove every possible strategy change would result in a worse outcome\n",
    "- problem m\n",
    "    -  can disregard all of column D since P2 chooses C\n",
    "- problem n\n",
    "    - draw the game to solve it\n",
    "        - for this 2x2 game you need a 3x3 grid\n",
    "        - bottom row is $R_p = p \\cdot A + (1-p) \\cdot B$ \n",
    "        - right column is $R_q = q \\cdot C + (1-q) \\cdot D$\n",
    "        - bottom right $U = p \\cdot q \\cdot 2 + p(1-q) \\cdot 0 + (1-p)(1-q) \\cdot  1$ \n",
    "            - $U = 2pq + (1-p)(1-q)$\n",
    "            - $\\frac{\\partial U}{\\partial p} = 2q - (1-q)$\n",
    "            - set equal to 0 to find the Nash equilibrium\n",
    "            - 3q = 1\n",
    "            - q = $\\frac{1}{3}$\n",
    "            - p = $\\frac{1}{3}$ because it is symmetric"
   ],
   "id": "7bc4ec17b55e19b6"
  },
  {
   "metadata": {},
   "cell_type": "markdown",
   "source": [
    "- problem p\n",
    "    - 4 boolean values\n",
    "    - $P(B_1, B_2, B_3, B_4)\n",
    "        - each one is boolean $\\implies 2^4 = 16$ possible values\n",
    "        - 15 is also a valid answer\n",
    "        - i.e. either 2^n or 2^n - 1\n",
    "        - if it was 4 variables with 3 possible values, it would be $3^4$\n",
    "- problem q\n",
    "    a. can know formula or consider a venn diagram\n",
    "        - P(A|B) is the size of A,B given the size of B\n",
    "        - multiply by P(B) to get the size of A,B, i.e. what is the chance of B\n",
    "        - P(A,B) = P(A|B)P(B)\n",
    "        - or remember that $P(A|B) = \\frac{P(A,B)}{P(B)}$\n",
    "            - think of the line as a division sign\n",
    "    b. P(B|A) can use the same trick (or Bayes Rule)\n",
    "        - $P(B|A) = \\frac{P(A,B)}{P(A)}$\n",
    "    c. A and B are not independent\n",
    "        - $P(A,B) \\neq P(A)P(B)$\n",
    "- problem s\n",
    "    - policy iteration and value iteration both converge to the optimal policy\n",
    "        - hence neither is better than the other"
   ],
   "id": "398de002136939e1"
  },
  {
   "metadata": {},
   "cell_type": "markdown",
   "source": [
    "- game tree search\n",
    "    - max at root node\n",
    "        - lowest max row reads 8, 9, 4, 5, 9, 9, 8, 3, 8, 4\n",
    "            - the 6th node on that row is 6, 4, 8 (the 8 may be hard to see)\n",
    "        - the min row reads 4, 5, 3\n",
    "    - alpha beta pruning\n",
    "        - lowest max row \n",
    "            - left $\\geq 8$, update first min to $leq 8$\n",
    "            - next $\\geq 9$, prune the 2 and 3\n",
    "            - next $\\geq 4$, update first min to 4 and update top max to $geq 4$\n",
    "            - next $\\geq 5$, update second min to $leq 5$\n",
    "            - next $\\geq 9$, prune the 8\n",
    "            - next $\\geq 6$, 4 and 5, update second min to 5 and update top max to 5\n",
    "            - next $\\geq 3$, update third min to $leq 3$"
   ],
   "id": "a3249740c5db44ba"
  },
  {
   "metadata": {},
   "cell_type": "markdown",
   "source": [
    "- do problem 3\n",
    "    - too time consuming to do in class but solution video will be posted"
   ],
   "id": "33925384a59a18d0"
  },
  {
   "metadata": {},
   "cell_type": "markdown",
   "source": [
    "- problem 4\n",
    "    - a. 5 queens\n",
    "        - 5! possible states (ways to place the queens)\n",
    "            - going row by row\n",
    "            - 5 options for the first queen\n",
    "            - 4 options for the second queen because it can't be in the same column\n",
    "            - 3 options for the third queen\n",
    "            - and so on\n",
    "    - b. steepest ascent hill climbing from figure 1 -> what is final state\n",
    "        - initial state was evaluated at 8\n",
    "        - successor states have lower values\n",
    "        - the final state is 8 because it is the highest\n",
    "        - hence, hill climbing is not a solution for this problem (you would want a minimum number of attacks)\n",
    "- problem 6\n",
    "    - 4 instructors, 3 rooms, 4 time slots for classes\n",
    "        - time slots are 9-11, 10-14, 13-17, 13-15\n",
    "        - overlap $\\implies$ less complex\n",
    "    - a. for I1, R1 and R2 are the initial domain because they are the only rooms that can fit the class\n",
    "        - forward checking assigns variabels in order\n",
    "            - start with I1, assign R1\n",
    "            - I2 can be assigned to R2 \n",
    "                - it can't be assigned to R1 because R1 is already assigned\n",
    "            - I3 must be \n",
    "        - first row : R1, R2, R1, R3"
   ],
   "id": "5a3d0ce6be8846fe"
  },
  {
   "metadata": {},
   "cell_type": "markdown",
   "source": "",
   "id": "918cc75c266db7ab"
  },
  {
   "metadata": {},
   "cell_type": "markdown",
   "source": "",
   "id": "9e64f9d1dce3df4a"
  }
 ],
 "metadata": {
  "kernelspec": {
   "display_name": "Python 3",
   "language": "python",
   "name": "python3"
  },
  "language_info": {
   "codemirror_mode": {
    "name": "ipython",
    "version": 2
   },
   "file_extension": ".py",
   "mimetype": "text/x-python",
   "name": "python",
   "nbconvert_exporter": "python",
   "pygments_lexer": "ipython2",
   "version": "2.7.6"
  }
 },
 "nbformat": 4,
 "nbformat_minor": 5
}
