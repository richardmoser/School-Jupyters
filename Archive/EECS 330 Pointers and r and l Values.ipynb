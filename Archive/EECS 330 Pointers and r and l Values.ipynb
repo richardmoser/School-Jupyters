{
 "cells": [
  {
   "cell_type": "markdown",
   "id": "a51026b9",
   "metadata": {},
   "source": [
    "# Pass by reference vs value "
   ]
  },
  {
   "cell_type": "markdown",
   "id": "07fedab1",
   "metadata": {},
   "source": [
    "\n",
    "<img src=\"https://blog.penjee.com/wp-content/uploads/2015/02/pass-by-reference-vs-pass-by-value-animation.gif\" alt=\"Drawing\" style=\"width: 400px;\"/>\n"
   ]
  },
  {
   "cell_type": "markdown",
   "id": "ae40cc42",
   "metadata": {},
   "source": [
    "\n",
    "- Pass by reference is faster\n",
    "- Pass by reference uses pointers to pass the memory location of the variable\n",
    "- pass by value passes the value of the variable\n",
    "    - i.e. if variable bob is at 0x0023 and stores the int 5, pass by value passes 5 and pass by reference passes 0x0023\n",
    "    - a PBV function adding 1 to bob will return 6, location 0x0023 will still hold 5\n",
    "    - a PBR function adding 1 to bob will update 0x0023 to hold 6\n",
    "- C++ can only return a single value/variable so pass by reference is a way to alter multiple variables within a single function\n"
   ]
  },
  {
   "cell_type": "code",
   "execution_count": 2,
   "id": "9feb384e",
   "metadata": {},
   "outputs": [],
   "source": [
    "int incrementPBV(int num){\n",
    "    cout << \"incrementing by value by 1\" << endl;\n",
    "    num ++;\n",
    "    return num;\n",
    "}"
   ]
  },
  {
   "cell_type": "code",
   "execution_count": 3,
   "id": "f41d092c",
   "metadata": {},
   "outputs": [],
   "source": [
    "void incrementPBR(int &num){\n",
    "    cout << \"incrementing by reference by 1\" << endl;\n",
    "    num ++;\n",
    "}"
   ]
  },
  {
   "cell_type": "code",
   "execution_count": 4,
   "id": "e282e686",
   "metadata": {},
   "outputs": [
    {
     "name": "stdout",
     "output_type": "stream",
     "text": [
      "Starting value:\n",
      "bob = 5\n",
      "incrementing by value by 1\n",
      "bob = 5\n",
      "incrementing by reference by 1\n",
      "bob = 6\n"
     ]
    }
   ],
   "source": [
    "int bob = 5;\n",
    "cout << \"Starting value:\\nbob = \" << bob << endl;\n",
    "incrementPBV(bob);\n",
    "cout << \"bob = \" << bob << endl;\n",
    "incrementPBR(bob);\n",
    "cout << \"bob = \" << bob << endl;"
   ]
  },
  {
   "cell_type": "markdown",
   "id": "a6a967d3",
   "metadata": {},
   "source": [
    "### rvalues and lvalues\n",
    "- the gist\n",
    "    - Generally, it’s an lvalue if you can “take its address”, and an rvalue otherwise. \n",
    "    - e.g. if you’ve declared a variable ```int x;``` \n",
    "         - x is an lvalue\n",
    "         - ```253``` and ```x + 6``` are rvalues. \n",
    "    - If you can assign to it, it’s definitely an lvalue.\n",
    "    - They both act as values when used in an expression\n",
    "    - **Do *NOT* use the original variable once it has been referenced with an rvalue**\n",
    "- rvalues\n",
    "    - right hand values/references\n",
    "    - declared with &&\n",
    "    - r value refers to data value at an address\n",
    "    - references are alternatives to some existing variable\n",
    "        - they use the & operator\n",
    "    - can be faster/more efficient than the regular implementation methods\n",
    "    - \n",
    "    \n",
    "- lvalues\n",
    "    - declared with &\n",
    "    - left hand values\n",
    "    - \n",
    "- why?\n",
    "    - for large data structures, it can be more efficient to directly reference the memory location of the data than to create copies of it for manipulation\n",
    "    \n",
    "    \n",
    "\n",
    "If you have\n",
    "\n",
    "```int x;```\n",
    "\n",
    "then the assignment ```x = 42``` is OK, so x is an lvalue expression.\n",
    "\n",
    "As a counter-example, the assigment ```x + 0 = 42``` is not OK, so ```x + 0``` is an rvalue expression.\n",
    "\n",
    "And so is the expression ```2 + 2```, it's an rvalue expression.\n",
    "\n",
    "further reading:\n",
    "    https://www.internalpointers.com/post/understanding-meaning-lvalues-and-rvalues-c\n",
    "    https://blog.vero.site/post/rvalue-references"
   ]
  },
  {
   "cell_type": "markdown",
   "id": "a462b2f3",
   "metadata": {},
   "source": [
    "```int x = 666;   // ok```\n",
    "\n",
    "Here 666 is an rvalue; a number (technically a literal constant) has no specific memory address, except for some temporary register while the program is running. That number is assigned to x, which is a variable. A variable has a specific memory location, so its an lvalue. C++ states that an assignment requires an lvalue as its left operand: this is perfectly legal.\n",
    "\n",
    "Then with x, which is an lvalue, you can do stuff like that:\n",
    "\n",
    "```int* y = &x;   // ok```\n",
    "\n",
    "Here I'm grabbing the the memory address of x and putting it into y, through the address-of operator &. It takes an lvalue argument and produces an rvalue. This is another perfectly legal operation: on the left side of the assignment we have an lvalue (a variable), on the right side an rvalue produced by the address-of operator.\n",
    "\n",
    "However, I can't do the following:\n",
    "\n",
    "`int y;\n",
    "666 = y; // error!`"
   ]
  },
  {
   "cell_type": "code",
   "execution_count": 1,
   "id": "287da313",
   "metadata": {
    "scrolled": true
   },
   "outputs": [
    {
     "name": "stdout",
     "output_type": "stream",
     "text": [
      "Hello, world \n",
      "Hello, world \n",
      "Hello, world \n"
     ]
    }
   ],
   "source": [
    "// lvalue implementation (vanilla style and slower)\n",
    "for(size_t i = 0; i < 3; ++i){\n",
    "    string str1 = \"Hello, world \";\n",
    "    string str2 = str1;\n",
    "    cout << str2 << endl;\n",
    "}"
   ]
  },
  {
   "cell_type": "code",
   "execution_count": 2,
   "id": "4532b97c",
   "metadata": {},
   "outputs": [
    {
     "name": "stdout",
     "output_type": "stream",
     "text": [
      "Hello, world \n",
      "Hello, world \n",
      "Hello, world \n"
     ]
    }
   ],
   "source": [
    "// rvalue implementation (faster)\n",
    "for(size_t i = 0; i < 3; ++i){\n",
    "    string &&str1 = \"Hello, world \";\n",
    "    string str2 = std::move(str1); // move() is from the namespace std\n",
    "    cout << str2 << endl;\n",
    "}"
   ]
  },
  {
   "cell_type": "markdown",
   "id": "64a1a097",
   "metadata": {},
   "source": [
    "### r/l-value functions\n",
    "- rvalue passed to lvalue parameter is ok\n",
    "- lvalue passed to rvalue parameter won't work"
   ]
  },
  {
   "cell_type": "code",
   "execution_count": null,
   "id": "955a7d70",
   "metadata": {},
   "outputs": [],
   "source": []
  }
 ],
 "metadata": {
  "kernelspec": {
   "display_name": "ROOT C++",
   "language": "c++",
   "name": "root"
  },
  "language_info": {
   "codemirror_mode": "text/x-c++src",
   "file_extension": ".C",
   "mimetype": " text/x-c++src",
   "name": "c++"
  }
 },
 "nbformat": 4,
 "nbformat_minor": 5
}
