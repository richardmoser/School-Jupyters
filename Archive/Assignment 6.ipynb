{
 "cells": [
  {
   "cell_type": "code",
   "execution_count": 12,
   "outputs": [],
   "source": [
    "{-\n",
    "Author: Richard Moser\n",
    "KUID: 2801966\n",
    "Name: Assignment 6\n",
    "Purpose: various haskell functions utilizing list comprehensions and recursion as learned in class\n",
    "input: none, all functions are hard coded but should function with any valid input\n",
    "output: the results of the functions\n",
    "Created: 14Apr2022\n",
    "Updated: 17Apr2022\n",
    "-}"
   ],
   "metadata": {
    "collapsed": false,
    "ExecuteTime": {
     "start_time": "2023-04-17T23:39:02.560353Z",
     "end_time": "2023-04-17T23:42:23.080248Z"
    }
   }
  },
  {
   "cell_type": "code",
   "execution_count": 1,
   "outputs": [],
   "source": [
    "replicate' :: Int -> a -> [a]  -- Int is the type of the first argument, a is the type of the second argument, [a] is the type of the result\n",
    "replicate' n x -- n is the first argument, x is the second argument\n",
    "    | n <= 0 = []  -- if n is less than or equal to 0, return an empty list\n",
    "    | otherwise = x : replicate' (n-1) x  -- otherwise, return a list with x as the first element and the result of calling replicate' with n-1 and x as the arguments"
   ],
   "metadata": {
    "collapsed": false,
    "ExecuteTime": {
     "start_time": "2023-04-17T23:33:47.541355Z",
     "end_time": "2023-04-17T23:33:48.182631Z"
    }
   }
  },
  {
   "cell_type": "code",
   "execution_count": 2,
   "outputs": [
    {
     "data": {
      "text/plain": "[True,True,True]"
     },
     "metadata": {},
     "output_type": "display_data"
    },
    {
     "data": {
      "text/plain": "[\"test code\",\"test code\",\"test code\",\"test code\",\"test code\"]"
     },
     "metadata": {},
     "output_type": "display_data"
    }
   ],
   "source": [
    "replicate' 3 True\n",
    "replicate' 5 \"test code\""
   ],
   "metadata": {
    "collapsed": false,
    "ExecuteTime": {
     "start_time": "2023-04-17T23:33:48.180619Z",
     "end_time": "2023-04-17T23:33:49.240362Z"
    }
   }
  },
  {
   "cell_type": "code",
   "execution_count": 3,
   "outputs": [],
   "source": [
    "perfects :: Int -> [Int] -- Int is the type of the argument, [Int] is the type of the result\n",
    "perfects n = [x | x <- [1..n], isPerfect x]  -- return a list of all numbers between 1 and n for which isPerfect is true\n",
    "    where isPerfect num = sum (init (factors num)) == num  -- return true if the sum of the factors of num is equal to num\n",
    "          factors num = [x | x <- [1..num], num `mod` x == 0]  -- return a list of all factors of num"
   ],
   "metadata": {
    "collapsed": false,
    "ExecuteTime": {
     "start_time": "2023-04-17T23:33:49.238351Z",
     "end_time": "2023-04-17T23:33:49.672234Z"
    }
   }
  },
  {
   "cell_type": "code",
   "execution_count": 4,
   "outputs": [
    {
     "data": {
      "text/plain": "[6,28,496]"
     },
     "metadata": {},
     "output_type": "display_data"
    },
    {
     "data": {
      "text/plain": "[6,28,496,8128]"
     },
     "metadata": {},
     "output_type": "display_data"
    }
   ],
   "source": [
    "perfects 500\n",
    "perfects 9000"
   ],
   "metadata": {
    "collapsed": false,
    "ExecuteTime": {
     "start_time": "2023-04-17T23:33:49.670627Z",
     "end_time": "2023-04-17T23:34:13.668247Z"
    }
   }
  },
  {
   "cell_type": "code",
   "execution_count": 5,
   "outputs": [],
   "source": [
    "find :: Eq a => a -> [(a,b)] -> [b]  -- Eq a => a is the type of the first argument, [(a,b)] is the type of the second argument, [b] is the type of the result\n",
    "find k t = [v | (k',v) <- t, k == k']  -- return a list of all values in t for which the key is equal to k"
   ],
   "metadata": {
    "collapsed": false,
    "ExecuteTime": {
     "start_time": "2023-04-17T23:34:13.669255Z",
     "end_time": "2023-04-17T23:34:13.809204Z"
    }
   }
  },
  {
   "cell_type": "code",
   "execution_count": 6,
   "outputs": [
    {
     "data": {
      "text/plain": "[2,4]"
     },
     "metadata": {},
     "output_type": "display_data"
    },
    {
     "data": {
      "text/plain": "[3,25]"
     },
     "metadata": {},
     "output_type": "display_data"
    }
   ],
   "source": [
    "find 'b' [('a',1),('b',2),('c',3),('b',4)]\n",
    "find 'c' [('a',1),('b',2),('c',3),('b',4), ('c',25)]"
   ],
   "metadata": {
    "collapsed": false,
    "ExecuteTime": {
     "start_time": "2023-04-17T23:34:13.810158Z",
     "end_time": "2023-04-17T23:34:26.897636Z"
    }
   }
  },
  {
   "cell_type": "code",
   "execution_count": 7,
   "outputs": [],
   "source": [
    "positions :: Eq a => a -> [a] -> [Int]  -- Eq a => a is the type of the first argument, [a] is the type of the second argument, [Int] is the type of the result\n",
    "positions x xs = find x (zip xs [0..n])  -- return the result of calling find with x and a list of tuples containing the elements of xs and the corresponding indices\n",
    "    where n = length xs - 1  -- n is the length of xs minus 1"
   ],
   "metadata": {
    "collapsed": false,
    "ExecuteTime": {
     "start_time": "2023-04-17T23:34:26.941331Z",
     "end_time": "2023-04-17T23:34:27.500807Z"
    }
   }
  },
  {
   "cell_type": "code",
   "execution_count": 8,
   "outputs": [
    {
     "data": {
      "text/plain": "[1,2,4,7]"
     },
     "metadata": {},
     "output_type": "display_data"
    },
    {
     "data": {
      "text/plain": "[0,3,5,6]"
     },
     "metadata": {},
     "output_type": "display_data"
    }
   ],
   "source": [
    "positions 0 [1,0,0,1,0,1,1,0]\n",
    "positions 1 [1,0,0,1,0,1,1,0]"
   ],
   "metadata": {
    "collapsed": false,
    "ExecuteTime": {
     "start_time": "2023-04-17T23:34:27.497586Z",
     "end_time": "2023-04-17T23:34:28.461663Z"
    }
   }
  },
  {
   "cell_type": "code",
   "execution_count": 9,
   "outputs": [],
   "source": [
    "scalarproduct :: Num a => [a] -> [a] -> a  -- Num a => a is the type of the result, [a] is the type of the first argument, [a] is the type of the second argument\n",
    "scalarproduct xs ys = sum [x*y | (x,y) <- zip xs ys]  -- return the sum of the products of the corresponding elements of xs and ys"
   ],
   "metadata": {
    "collapsed": false,
    "ExecuteTime": {
     "start_time": "2023-04-17T23:34:28.459582Z",
     "end_time": "2023-04-17T23:34:28.858003Z"
    }
   }
  },
  {
   "cell_type": "code",
   "execution_count": 13,
   "outputs": [
    {
     "data": {
      "text/plain": "32"
     },
     "metadata": {},
     "output_type": "display_data"
    },
    {
     "data": {
      "text/plain": "12"
     },
     "metadata": {},
     "output_type": "display_data"
    }
   ],
   "source": [
    "scalarproduct [1,2,3] [4,5,6]\n",
    "scalarproduct [-1,2,3] [-4,-5,6]"
   ],
   "metadata": {
    "collapsed": false,
    "ExecuteTime": {
     "start_time": "2023-04-17T23:42:23.111786Z",
     "end_time": "2023-04-17T23:42:37.513533Z"
    }
   }
  }
 ],
 "metadata": {
  "kernelspec": {
   "display_name": "Haskell",
   "language": "haskell",
   "name": "haskell"
  },
  "language_info": {
   "codemirror_mode": "ihaskell",
   "file_extension": ".hs",
   "mimetype": "text/x-haskell",
   "name": "haskell",
   "pygments_lexer": "Haskell",
   "version": "9.2.7"
  }
 },
 "nbformat": 4,
 "nbformat_minor": 5
}
