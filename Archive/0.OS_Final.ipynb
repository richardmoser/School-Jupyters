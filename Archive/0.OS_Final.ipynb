{
 "cells": [
  {
   "cell_type": "markdown",
   "id": "f1230f0dbdc8c86",
   "metadata": {
    "collapsed": false,
    "jupyter": {
     "outputs_hidden": false
    }
   },
   "source": [
    "# OS Final"
   ]
  },
  {
   "cell_type": "markdown",
   "id": "f31623c97cdddf5c",
   "metadata": {
    "collapsed": false,
    "jupyter": {
     "outputs_hidden": false
    }
   },
   "source": [
    "- Monday 11Dec23 1330-1600\n",
    "- only covers chapters 8 & 9\n",
    "- 2.5 hours allowed, written for same time as midterm (50 minutes nominal)\n",
    "- review questions available on Canvas\n",
    "    - A/2s posted sunday afternoon/evening  \n",
    "- problems will be similar to quizzes"
   ]
  },
  {
   "cell_type": "markdown",
   "id": "f1339d167b9281c0",
   "metadata": {
    "collapsed": false,
    "jupyter": {
     "outputs_hidden": false
    }
   },
   "source": [
    "### Chapter 8\n",
    "1. Illustrate how to protect processes from one-another using the base and limit registers.\n",
    "    - A/2: `Use the figure from slide 13. Compare each address generated with the base and\n",
    "limit registers`\n",
    "2. Explain compiler time, load time, and execution time address binding. What type of binding is generally used in current OS?\n",
    "3. Discuss the differences between logical and physical addresses and address spaces as they relate to an executing program.\n",
    "4. What is dynamic linking ?\n",
    "5. What is the need for swapping ?\n",
    "6. What are the drawbacks of contiguous memory allocation ?\n",
    "7. Explain, compare, and contrast the following resource allocation policies: (a) First Fit, (b) Best Fit, and (c) Worst Fit.\n",
    "8. Compare and contrast internal and external fragmentation. \n",
    "9. What is paging? How does it overcome the drawbacks of contiguous memory allocation?\n",
    "10. Assuming a page size of 2K and a 32-bit machine, how many bits are used for the page number, and how many are used for the offset within the page? Give the main reason why page sizes are usually powers of two.\n",
    "11. Consider a system with memory mapping done on a page basis, and using a single level page table. Assume that the necessary page table is always in memory.\n",
    "(a) If a memory reference takes 100 nanoseconds, how long does a memory mapped reference take if there is no TLB within the MMU to cache recently used page addresses?\n",
    "        - A/2: 2 memory accesses, 200 nanoseconds\n",
    "            - 1 to get page table entry\n",
    "            - 1 to get data\n",
    "(b) Now we add a MMU that imposes an overhead of 15 nanoseconds on a hit or a miss. If we assume that 90 percent of all memory references hit in the MMU TLB, what is the Effective Memory Access Time?\n",
    "        - A/2: look up EAT equation\n",
    "            - 0.9 * 115 + 0.1 * 200 = 124.5 nanoseconds\n",
    "12. When is a simple page table structure ineffective ? Explain the properties of (a) hierarchical page tables, (b) hashed page table, and (c) inverted page tables.\n",
    "13. How is segmentation different from the paging memory model ? Illustrate the segmentation architecture.\n",
    "14. Given five memory partitions of 100 KB, 500 KB, 200 KB, 300 KB, and 600 KB (in order), how would each of the first-fit, best-fit, and worst-fit algorithms place processes of 212 KB, 417 KB, 112 KB, and 426 KB (in order)? Which algorithm makes the most efficient use of memory?\n",
    "15. Assuming a 1 KB page size, what are the page numbers and offsets for the following address references (provided as decimal numbers): a. 2375, b. 19366, c. 30000, d. 256, e. 16385\n",
    "    - A/2: solution will be posted on Canvas, requires drawing the table\n",
    "16. Consider a computer system with a 32-bit logical address and 4 KB page size. The system\n",
    "supports up to 512 MB of physical memory. How many entries are there in:\n",
    "    - a. A conventional single-level page table?\n",
    "    - b. An inverted page table?\n",
    "17. Consider the following segment table: What are the physical addresses for the following logical addresses?  \n",
    "    <img src=\"images/Freviewq17.png\">\n",
    "    - a. 0,430, \n",
    "    - b. 1,10, \n",
    "    - c. 2,500,     \n",
    "    - d. 3,400, \n",
    "    - e. 4,112"
   ]
  },
  {
   "cell_type": "markdown",
   "id": "d60a0b193cc6d2ea",
   "metadata": {
    "collapsed": false,
    "jupyter": {
     "outputs_hidden": false
    }
   },
   "source": [
    "### Chapter 9\n",
    "1. Explain the need for Virtual Memory.\n",
    "2. Explain demand paging.\n",
    "3. Under what circumstances do page faults occur? Describe the actions taken by the operating system when a page fault occurs.\n",
    "4. When would the OS invoke a page replacement algorithm ? Explain basic page replacement.\n",
    "5. Assume that you have a page-reference string for a process with M frames (initially all empty). The page-reference string has length P; N distinct page numbers occur in it. Answer these questions for any page replacement algorithm:\n",
    "    - (a) What is a lower bound on the number of page faults?\n",
    "    - (b) What is an upper bound on the number of page faults?\n",
    "6. What is the Belady’s anomaly?\n",
    "7. Explain two LRU implementation algorithms (counter and stack implementation).\n",
    "8. Should there be a minimum and/or maximum limit on the number of frames allocated to each process ? Explain.\n",
    "9. Distinguish between: \n",
    "    - (a) Equal and proportional allocation, \n",
    "    - (b) Global and local page replacement algorithms.\n",
    "10. What is thrashing? How can it be caused?\n",
    "11. Consider a demand-paged computer system where the degree of multi-programming is currently fixed at four. The system was recently measured to determine utilization of CPU and\n",
    "the paging disk. The results are one of the following alternatives. For each case, what is happening? Can you increase the degree of multiprogramming to increase the CPU utilization?\n",
    "    - (a) CPU utilization, 13 percent; disk utilization, 97 percent\n",
    "    - (b) CPU utilization, 87 percent; disk utilization, 3 percent\n",
    "    - (c) CPU utilization, 13 percent; disk utilization, 3 percent.\n",
    "12. Explain some issues in deciding the page size to use.\n",
    "13. List costs and benefits of using virtual memory.\n",
    "14. A certain computer provides its users with a virtual-memory space of 232 bytes. The computer has 218 bytes of physical memory. The virtual memory is implemented by paging, and the page size is 4096 bytes. A user process generates the virtual address 0x11123456. Explain how the system establishes the corresponding physical location.\n",
    "15. Table 9.1 is a page table for a system with 12-bit virtual and physical addresses with 256-byte pages. The list of free page frames is D, E, F (that is, D is at the head of the list, E is second, and F is last.)\n",
    "    <img src=\"images/Freviewq15.png\">\n",
    "    - Given the following virtual addresses, convert them to their equivalent physical addresses in hexadecimal. All numbers are given in hexadecimal. (A dash for a page frame indicates the page is not in memory.) \n",
    "        - (a) 9EF, \n",
    "        - (b) 111, \n",
    "        - (c) 700, \n",
    "        - (d) 0FF\n",
    "16. What is the cause of thrashing? How does the system detect thrashing? Once it detects thrashing, what can the system do to eliminate this problem?\n",
    "17. Assume there is an initial 1024 KB segment where memory is allocated using the Buddy system. Draw the tree illustrating how the following consecutive memory requests are serviced:\n",
    "        - (a) request 240 bytes \n",
    "        - (b) request 120 bytes\n",
    "        - (c) request 60 bytes \n",
    "        - (d) request 130 bytes.\n",
    "    - Next, modify the tree for the following releases of memory. Perform coalescing whenever possible: (a) release 240 bytes (b) release 60 bytes (c) release 120 bytes."
   ]
  },
  {
   "cell_type": "markdown",
   "id": "f296bc8cd2e282c8",
   "metadata": {
    "collapsed": false,
    "jupyter": {
     "outputs_hidden": false
    }
   },
   "source": []
  },
  {
   "cell_type": "code",
   "execution_count": 1,
   "id": "78ee5ceaf60014d9",
   "metadata": {
    "ExecuteTime": {
     "end_time": "2023-12-11T17:45:51.626003Z",
     "start_time": "2023-12-11T17:45:51.496010900Z"
    },
    "collapsed": false,
    "jupyter": {
     "outputs_hidden": false
    }
   },
   "outputs": [
    {
     "name": "stdout",
     "output_type": "stream",
     "text": [
      "hello\n"
     ]
    }
   ],
   "source": [
    "print(\"hello\")"
   ]
  }
 ],
 "metadata": {
  "kernelspec": {
   "display_name": "Python 3 (ipykernel)",
   "language": "python",
   "name": "python3"
  },
  "language_info": {
   "codemirror_mode": {
    "name": "ipython",
    "version": 3
   },
   "file_extension": ".py",
   "mimetype": "text/x-python",
   "name": "python",
   "nbconvert_exporter": "python",
   "pygments_lexer": "ipython3",
   "version": "3.10.4"
  }
 },
 "nbformat": 4,
 "nbformat_minor": 5
}
