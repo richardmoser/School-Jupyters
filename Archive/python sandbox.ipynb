{
 "cells": [
  {
   "cell_type": "markdown",
   "metadata": {},
   "source": [
    "# Language: Python via Jupyter Notebook (hence the cells)"
   ]
  },
  {
   "cell_type": "code",
   "execution_count": 5,
   "metadata": {},
   "outputs": [],
   "source": [
    "import random\n",
    "\n",
    "def quiz31rv(m):\n",
    "    # m is the number of samples\n",
    "    # y is the list of samples\n",
    "    y = []\n",
    "    for i in range(m):\n",
    "        # generate a random number between 0 and 1\n",
    "        u = random.uniform(0,1)\n",
    "        # if u is less than 0.25, then y is 4u\n",
    "        if u < 0.25:\n",
    "            y.append(4*u)\n",
    "        # if u is greater than 0.75, then y is 4u-4\n",
    "        elif u > 0.75:\n",
    "            y.append(4*u-4)\n",
    "        # if u is between 0.25 and 0.75, then y is 1\n",
    "        else:\n",
    "            y.append(1)\n",
    "    return y"
   ]
  },
  {
   "cell_type": "code",
   "execution_count": 6,
   "metadata": {},
   "outputs": [
    {
     "name": "stdout",
     "output_type": "stream",
     "text": [
      "[0.20078356747933546, 1, 1, 1, -0.6981917014204271, 1, 0.9644703029636785, 0.6510205377058456, -0.41576047880357736, -0.47651470461186785, 1, 0.6211399416939343, 1, -0.3620728356746916, 0.8910634156798349, -0.8877794099992262, 1, 0.7949884573353572, 1, 1, 1, 0.4599323315639041, 1, -0.1842483033429696, 0.5571863882036041]\n"
     ]
    }
   ],
   "source": [
    "# prints 25 random variables\n",
    "print(quiz31rv(25))"
   ]
  },
  {
   "cell_type": "code",
   "execution_count": 3,
   "metadata": {},
   "outputs": [],
   "source": [
    "def freqcounter(listofsamples):\n",
    "    count = 0\n",
    "    for x in listofsamples:\n",
    "        if x > (1.5/4):\n",
    "            count += 1\n",
    "    return count / len(listofsamples)"
   ]
  },
  {
   "cell_type": "code",
   "execution_count": 4,
   "metadata": {},
   "outputs": [
    {
     "name": "stdout",
     "output_type": "stream",
     "text": [
      "Frequency of Y>1.5 in list1:  0.63\n",
      "Frequency of Y>1.5 in list2:  0.62\n",
      "Frequency of Y>1.5 in list3:  0.66\n",
      "Frequency of Y>1.5 in list4:  0.64\n",
      "Frequency of Y>1.5 in list5:  0.61\n",
      "Average: 0.632\n"
     ]
    }
   ],
   "source": [
    "list1 = quiz31rv(100)\n",
    "freq1 = freqcounter(list1)\n",
    "print(f\"Frequency of Y>1.5 in list1:  {freq1}\")\n",
    "\n",
    "list2 = quiz31rv(100)\n",
    "freq2 = freqcounter(list2)\n",
    "print(f\"Frequency of Y>1.5 in list2:  {freq2}\")\n",
    "\n",
    "list3 = quiz31rv(100)\n",
    "freq3 = freqcounter(list3)\n",
    "print(f\"Frequency of Y>1.5 in list3:  {freq3}\")\n",
    "\n",
    "list4 = quiz31rv(100)\n",
    "freq4 = freqcounter(list4)\n",
    "print(f\"Frequency of Y>1.5 in list4:  {freq4}\")\n",
    "\n",
    "list5 = quiz31rv(100)\n",
    "freq5 = freqcounter(list5)\n",
    "print(f\"Frequency of Y>1.5 in list5:  {freq5}\")\n",
    "\n",
    "ave = (freq1 + freq2 + freq3 + freq4 + freq5) / 5\n",
    "print(f\"Average: {ave}\")"
   ]
  },
  {
   "cell_type": "code",
   "execution_count": 5,
   "metadata": {},
   "outputs": [
    {
     "name": "stdout",
     "output_type": "stream",
     "text": [
      "Average: 0.642\n"
     ]
    }
   ],
   "source": [
    "ave = (freq1 + freq2 + freq3 + freq4 + freq5) / 5\n",
    "print(f\"Average: {ave}\")"
   ]
  },
  {
   "cell_type": "code",
   "execution_count": 6,
   "metadata": {},
   "outputs": [
    {
     "name": "stdout",
     "output_type": "stream",
     "text": [
      "Frequency of Y>1.5 in list1:  0.663\n",
      "Frequency of Y>1.5 in list2:  0.671\n",
      "Frequency of Y>1.5 in list3:  0.66\n",
      "Frequency of Y>1.5 in list4:  0.642\n",
      "Frequency of Y>1.5 in list5:  0.649\n",
      "Average: 0.657\n"
     ]
    }
   ],
   "source": [
    "list1 = quiz31rv(1000)\n",
    "freq1 = freqcounter(list1)\n",
    "print(f\"Frequency of Y>1.5 in list1:  {freq1}\")\n",
    "\n",
    "list2 = quiz31rv(1000)\n",
    "freq2 = freqcounter(list2)\n",
    "print(f\"Frequency of Y>1.5 in list2:  {freq2}\")\n",
    "\n",
    "list3 = quiz31rv(1000)\n",
    "freq3 = freqcounter(list3)\n",
    "print(f\"Frequency of Y>1.5 in list3:  {freq3}\")\n",
    "\n",
    "list4 = quiz31rv(1000)\n",
    "freq4 = freqcounter(list4)\n",
    "print(f\"Frequency of Y>1.5 in list4:  {freq4}\")\n",
    "\n",
    "list5 = quiz31rv(1000)\n",
    "freq5 = freqcounter(list5)\n",
    "print(f\"Frequency of Y>1.5 in list5:  {freq5}\")\n",
    "\n",
    "ave = (freq1 + freq2 + freq3 + freq4 + freq5) / 5\n",
    "print(f\"Average: {ave}\")"
   ]
  },
  {
   "cell_type": "markdown",
   "metadata": {},
   "source": [
    "### The conclusion that I draw from this is that the average frequency of Y>1.5 is either not the 0.625 that I expected, my code is wrong, or the random number generator is not generating appropriately random numbers."
   ]
  },
  {
   "cell_type": "code",
   "execution_count": 23,
   "outputs": [
    {
     "name": "stdout",
     "output_type": "stream",
     "text": [
      "Frequency of Y>1.5 in list1:  0.657\n"
     ]
    }
   ],
   "source": [
    "# I'm going to try to use the numpy random number generator instead of the python random number generator\n",
    "\n",
    "import numpy as np\n",
    "\n",
    "def quiz31rv(m):\n",
    "    # m is the number of samples\n",
    "    # y is the list of samples\n",
    "    y = []\n",
    "    for i in range(m):\n",
    "        # generate a random number between 0 and 1\n",
    "        u = np.random.uniform(0,1)\n",
    "        # if u is less than 0.25, then y is 4u\n",
    "        if u < 0.25:\n",
    "            y.append(4*u)\n",
    "        # if u is greater than 0.75, then y is 4u-4\n",
    "        elif u > 0.75:\n",
    "            y.append(4*u-4)\n",
    "        # if u is between 0.25 and 0.75, then y is 1\n",
    "        else:\n",
    "            y.append(1)\n",
    "    return y\n",
    "\n",
    "list1 = quiz31rv(1000)\n",
    "freq1 = freqcounter(list1)\n",
    "print(f\"Frequency of Y>1.5 in list1:  {freq1}\")\n"
   ],
   "metadata": {
    "collapsed": false,
    "ExecuteTime": {
     "start_time": "2023-04-14T16:25:44.142306Z",
     "end_time": "2023-04-14T16:25:44.142306Z"
    }
   }
  },
  {
   "cell_type": "code",
   "execution_count": 9,
   "outputs": [],
   "source": [],
   "metadata": {
    "collapsed": false,
    "ExecuteTime": {
     "start_time": "2023-04-14T16:25:34.257248Z",
     "end_time": "2023-04-14T16:25:34.298872Z"
    }
   }
  },
  {
   "cell_type": "code",
   "execution_count": 2,
   "outputs": [
    {
     "name": "stdout",
     "output_type": "stream",
     "text": [
      "55\n"
     ]
    }
   ],
   "source": [
    "# fibinacci recursion\n",
    "\n",
    "def fib(n):\n",
    "    if n == 0:\n",
    "        return 0\n",
    "    elif n == 1:\n",
    "        return 1\n",
    "    else:\n",
    "        return fib(n-1) + fib(n-2)\n",
    "\n",
    "print(fib(10))\n"
   ],
   "metadata": {
    "collapsed": false,
    "ExecuteTime": {
     "start_time": "2023-04-14T16:28:53.007442Z",
     "end_time": "2023-04-14T16:28:53.025486Z"
    }
   }
  },
  {
   "cell_type": "code",
   "execution_count": 3,
   "outputs": [
    {
     "name": "stdout",
     "output_type": "stream",
     "text": [
      "6765\n"
     ]
    }
   ],
   "source": [
    "print(fib(20))"
   ],
   "metadata": {
    "collapsed": false,
    "ExecuteTime": {
     "start_time": "2023-04-14T16:28:53.536266Z",
     "end_time": "2023-04-14T16:28:53.547043Z"
    }
   }
  },
  {
   "cell_type": "markdown",
   "source": [
    "### I'm going to try to use the numpy random number generator instead of the python random number generator\n",
    "- I'm going to try to use the numpy random number generator instead of the python random number generator\n",
    "- other words\n",
    "    - this is indented\n"
   ],
   "metadata": {
    "collapsed": false
   }
  },
  {
   "cell_type": "code",
   "execution_count": null,
   "outputs": [],
   "source": [],
   "metadata": {
    "collapsed": false
   }
  }
 ],
 "metadata": {
  "kernelspec": {
   "name": "python3",
   "language": "python",
   "display_name": "Python 3"
  },
  "language_info": {
   "codemirror_mode": {
    "name": "ipython",
    "version": 3
   },
   "file_extension": ".py",
   "mimetype": "text/x-python",
   "name": "python",
   "nbconvert_exporter": "python",
   "pygments_lexer": "ipython3",
   "version": "3.6.9"
  }
 },
 "nbformat": 4,
 "nbformat_minor": 1
}
