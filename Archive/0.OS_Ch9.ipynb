{
 "cells": [
  {
   "cell_type": "markdown",
   "id": "daf5d71a59b1650b",
   "metadata": {
    "collapsed": false,
    "jupyter": {
     "outputs_hidden": false
    }
   },
   "source": []
  },
  {
   "cell_type": "markdown",
   "id": "f946e62f3e65c582",
   "metadata": {
    "collapsed": false,
    "jupyter": {
     "outputs_hidden": false
    }
   },
   "source": [
    "#### Here\n",
    "- 27Nov23 started on Ch9 slide 9 so most notes probably actually belong in the Ch8 notebook"
   ]
  },
  {
   "cell_type": "markdown",
   "id": "a40b54cecec752cd",
   "metadata": {
    "collapsed": false,
    "jupyter": {
     "outputs_hidden": false
    }
   },
   "source": [
    "### Handling a Page Fault\n",
    "<img src=\"images/pagefault.png\">\n",
    "\n",
    "- all the pages required for an instruction must be in memory at the same time for the instruction to execute\n"
   ]
  },
  {
   "cell_type": "markdown",
   "id": "fd0fb7696acf7c31",
   "metadata": {
    "collapsed": false,
    "jupyter": {
     "outputs_hidden": false
    }
   },
   "source": [
    "### Performance of Demand Paging\n",
    "- Page Fault Rate $p$: 0 $\\leq$ p $\\leq$ 1\n",
    "    - if p = 0, no page faults\n",
    "    - if p = 1, every reference is a fault\n",
    "- Effective Access Time (EAT)\n",
    "    - EAT = (1 - p) x memory access + p x page fault time + swap page out time + swap page in time + restart overhead \n",
    "- e.g. Memory access time = 200ns, average page-fault service time = 8ms\n",
    "    - EAT $= (1-p) \\times 200 + p \\times 8,000,000$\n",
    "        - $= 200 + p \\times 7,999,800\\mu$s\n",
    "    - if one access out of 1,000 causes a page fault, then p = 0.001\n",
    "        - EAT $= 200\\mu s + 0.001 \\times 7,999,800\\mu s$\n",
    "        - $= 200\\mu s + 7,999.8\\mu s$\n",
    "        - $= 8,199.8\\mu s$\n",
    "        - $= 8.2 \\mu s $\n",
    "        - 40 times slower than memory access alone"
   ]
  },
  {
   "cell_type": "markdown",
   "id": "7507f72dcb154c73",
   "metadata": {
    "collapsed": false,
    "jupyter": {
     "outputs_hidden": false
    }
   },
   "source": [
    "### Process Creation: Copy-on-Write\n",
    "- fork() duplicates the parent address space for the child\n",
    "- demand paging with copy-on-write allows sharing address spaces\n",
    "- Copy-on-Write\n",
    "    - shared pages marked as copy-on-write\n",
    "    - if either process modifies a shared page, only then is the page copied\n",
    "    - only modified page is copied\n",
    "- CoW allows more efficient process creation as only modified pages are copied\n",
    "- free pages are allocated from a pool of zeroed-out pages\n",
    "    - CoW avoids having to zero out the pages\n",
    "<img src=\"images/CoW.png\">\n"
   ]
  },
  {
   "cell_type": "markdown",
   "id": "cfbec8a92ba1e7eb",
   "metadata": {
    "collapsed": false,
    "jupyter": {
     "outputs_hidden": false
    }
   },
   "source": [
    "### Page Replacement\n",
    "- review of demand paging\n",
    "    - separates logical memory from physical memory\n",
    "    - allows logical address space to be larger than physical address space\n",
    "    - enables greater multiprogramming\n",
    "        - higher CPU utilization and throughput\n",
    "    - allows faster process startup\n",
    "- drawbacks\n",
    "    - may increase later individual process access time\n",
    "        - EAT\n",
    "    - potential for over-allocation of physical memory\n",
    "        - if allocated memory is not used, it is wasted\n",
    "        - currently active process may reference more pages than there is physical memory space\n",
    "        - pages from active processes may need to be replaced\n",
    "            - refer to the image under Page Fault above\n",
    "- page replacement is needed when a page fault occurs and there are no free frames available\n",
    "- how do you choose which page to replace?\n",
    "    - terminate user process?\n",
    "    - swap out an entire process?\n",
    "    - find a page in memory to swap and hope it isn't needed? \n",
    "        - most common approach\n",
    "- the same page may be brought into memory several times\n",
    "    - page-in is expensive\n",
    "    - page-out is expensive\n",
    "    - page replacement is expensive"
   ]
  },
  {
   "cell_type": "markdown",
   "id": "aeb454c162a73983",
   "metadata": {
    "collapsed": false,
    "jupyter": {
     "outputs_hidden": false
    }
   },
   "source": [
    "### Basic Page Replacement\n",
    "1. Find the location of the desired page on disk\n",
    "2. Find a free frame\n",
    "    - if there is a free frame, use it\n",
    "    - if there is no free frame, use a page replacement algorithm to select a *victim* frame\n",
    "3. Bring the desired page into the (newly) free frame; update the page and frame tables\n",
    "4. Restart the process\n",
    "5. If there is no free frame, then block the process\n",
    "    - use a *modify* or *dirty* bit with each frame\n",
    "        - used to reduce overhead of page transfers\n",
    "        - only modified pages are written to disk\n",
    "        - if 0, page has not been modified from the disk copy\n",
    "            - does not need to be written to disk\n",
    "        - if 1, page has been modified and differs from disk copy\n",
    "            - must be written to disk"
   ]
  },
  {
   "cell_type": "markdown",
   "id": "c95fee0d1750bcfd",
   "metadata": {
    "collapsed": false,
    "jupyter": {
     "outputs_hidden": false
    }
   },
   "source": [
    "### Page Replacement Algorithms\n",
    "- Criteria: get the lowest page fault rate\n",
    "- page replacement schemes\n",
    "    - FIFO\n",
    "    - Optimal\n",
    "    - LRU\n",
    "    - counting\n",
    "- evaluation metrics\n",
    "    - simulate on a string of page references\n",
    "    - compute the number of page faults on each page reference string\n",
    "- we will use the string\n",
    "    - 7, 0, 1, 2, 0, 3, 0, 4, 2, 3, 0, 3, 2, 1, 2, 0, 1, 7, 0, 1\n",
    "- expected result:\n",
    "    <img src=\"images/replacementgraph.png\">\n",
    "\n",
    "- more frames (more memory) should reduce page faults\n",
    "    - but not always"
   ]
  },
  {
   "cell_type": "markdown",
   "id": "361037f90a79d898",
   "metadata": {
    "collapsed": false,
    "jupyter": {
     "outputs_hidden": false
    }
   },
   "source": [
    "### FIFO Page Replacement\n",
    "- simplest page replacement algorithm\n",
    "    - each page is assigned a *arrival* time when it is loaded into memory\n",
    "    - replace the oldest page during page replacement\n",
    "    - implemented with a FIFO queue of all pages\n",
    "    - replacement page found at the head of the queue\n",
    "    - new page is added to the tail of the queue\n",
    "    <img src=\"images/fifo_page_alg.png\">\n",
    " \n",
    "    - 7 is allocated 3 frames\n",
    "        - page fault but no replacement\n",
    "        - 7 is the oldest page\n",
    "    - 0 is brought into physical memory\n",
    "        - page fault but no replacement\n",
    "        - 7 is the oldest page\n",
    "    - 1 is brought into physical memory\n",
    "        - page fault but no replacement\n",
    "        - 7 is the oldest page\n",
    "        - all 3 frames are now allocated\n",
    "    - 2 is brought into physical memory\n",
    "        - page fault, replacement needed\n",
    "        - 7 is the oldest page\n",
    "        - 7 is replaced with 2\n",
    "        - 0 is now the oldest page\n",
    "    - **0 is already in physical memory**\n",
    "        - no page fault\n",
    "        - 0 is the oldest page\n",
    "    - 3 is brought into physical memory\n",
    "        - page fault, replacement needed\n",
    "        - 0 is the oldest page\n",
    "        - 0 is replaced with 3\n",
    "        - 1 is now the oldest page\n",
    "    - 0 is brought into physical memory\n",
    "        - page fault, replacement needed\n",
    "        - 1 is the oldest page\n",
    "        - 1 is replaced with 0\n",
    "        - 2 is now the oldest page\n",
    "    - 4 is brought into physical memory\n",
    "        - page fault, replacement needed\n",
    "        - 2 is the oldest page\n",
    "        - 2 is replaced with 4\n",
    "        - 3 is now the oldest page\n",
    "    - and so on..."
   ]
  },
  {
   "cell_type": "markdown",
   "id": "d23dc9dbfbe9c997",
   "metadata": {
    "collapsed": false,
    "jupyter": {
     "outputs_hidden": false
    }
   },
   "source": [
    "### Belady's Anomaly\n",
    "- for some page replacement algorithms, the page fault rate may increase as the number of allocated frames increases\n",
    "    - can occur with FIFO\n",
    "- e.g. string 1, 2, 3, 4, 1, 2, 5, 1, 2, 3, 4, 5\n",
    "    <img src=\"images/beladyfifo.png\">\n",
    "\n",
    "    - overall, more frames should reduce page faults in most cases"
   ]
  },
  {
   "cell_type": "markdown",
   "id": "cde53734a01ee96a",
   "metadata": {
    "collapsed": false,
    "jupyter": {
     "outputs_hidden": false
    }
   },
   "source": [
    "### Optimal Page Replacement Algorithm\n",
    "- an algorithm that produces the lowest page fault rate\n",
    "    - replaces the page that will not be used for the longest period of time\n",
    "    - provably optimal\n",
    "    - does not suffer from Belady's Anomaly\n",
    "    - not implementable in practice\n",
    "    - can only be determined after the fact\n",
    "        - requires future knowledge of the reference string\n",
    "        - used as a benchmark for other algorithms\n",
    "- e.g. for previously shown string from FIFO\n",
    "    <img src=\"images/optimal_page.png\">\n",
    "\n",
    "    - 7 is allocated 3 frames\n",
    "        - page fault but no replacement\n",
    "        - $\\begin{array} {|r|} \\hline 7 \\ \\hline - \\ \\hline - \\ \\hline \\end{array}$\n",
    "    - 0 is brought into physical memory\n",
    "        - page fault but no replacement\n",
    "        - $\\begin{array} {|r|} \\hline 7 \\ \\hline 0 \\ \\hline - \\ \\hline \\end{array}$\n",
    "    - 1 is brought into physical memory\n",
    "        - page fault but no replacement\n",
    "        - 7 is the oldest page\n",
    "        - $\\begin{array} {|r|} \\hline 7 \\ \\hline 0 \\ \\hline 1 \\ \\hline \\end{array}$\n",
    "    - 2 is brought into physical memory\n",
    "        - page fault, replacement needed\n",
    "        - look to future\n",
    "        - 7 is used furthest in the future\n",
    "        - 7 is replaced with 2\n",
    "        - $\\begin{array} {|r|} \\hline 2 \\ \\hline 0 \\ \\hline 1 \\ \\hline \\end{array}$\n",
    "    - 0 is already in physical memory\n",
    "        - no page fault\n",
    "    - 3 is brought into physical memory\n",
    "        - page fault, replacement needed\n",
    "        - look to future\n",
    "        - 1 is used furthest in the future\n",
    "        - 1 is replaced with 3\n",
    "    - 0 is already in physical memory\n",
    "        - no page fault\n",
    "    - 4 is brought into physical memory\n",
    "        - page fault, replacement needed\n",
    "        - look to future\n",
    "        - 0 is used furthest in the future\n",
    "        - 0 is replaced with 4\n",
    "    - 2 is already in physical memory\n",
    "        - no page fault\n",
    "    - 3 is already in physical memory\n",
    "        - no page fault\n",
    "    - 0 is brought into physical memory\n",
    "        - page fault, replacement needed\n",
    "        - look to future\n",
    "        - 4 is used furthest in the future\n",
    "        - 4 is replaced with 0\n",
    "    - 3 is already in physical memory\n",
    "        - no page fault\n",
    "    - 2 is already in physical memory\n",
    "        - no page fault\n",
    "    - 1 is brought into physical memory\n",
    "        - page fault, replacement needed\n",
    "        - look to future\n",
    "        - 3 is used furthest in the future\n",
    "        - 3 is replaced with 1\n",
    "    - 2 is already in physical memory\n",
    "        - no page fault\n",
    "    - 0 is already in physical memory\n",
    "        - no page fault\n",
    "    - 1 is already in physical memory\n",
    "        - no page fault\n",
    "    - 7 is brought into physical memory\n",
    "        - page fault, replacement needed\n",
    "        - look to future\n",
    "        - 2 is not used in the future\n",
    "        - 2 is replaced with 7\n",
    "    - 0 is already in physical memory\n",
    "        - no page fault\n",
    "    - 1 is already in physical memory\n",
    "        - no page fault\n"
   ]
  },
  {
   "cell_type": "markdown",
   "id": "f7520fd731a2e41f",
   "metadata": {
    "collapsed": false,
    "jupyter": {
     "outputs_hidden": false
    }
   },
   "source": [
    "### Least Recently Used (LRU) Page Replacement\n",
    "- approximates optimal page replacement\n",
    "    - detect and store when each page is used\n",
    "    - replace the page that has not been used for the longest period of time\n",
    "    - a very good approximation of optimal\n",
    "    - requires hardware support\n",
    "        - otherwise it has loads of memory overhead as it adds a timestamp to each page\n",
    "    - does not suffer from Belady's Anomaly\n",
    "- used most frequently in practice\n",
    "- must use a counter for each page\n",
    "    - every time a page is referenced through this entry, copy the clock into the counter\n",
    "    - when a page needs to be replaced, look at the counters to determine which are to replace\n",
    "    - requires hardware support\n",
    "- e.g. \n",
    "    <img src=\"images/LRU_page.png\">\n",
    "\n",
    "    - 7 is allocated 3 frames\n",
    "        - page fault but no replacement\n",
    "        - $\\begin{array} {|r|} \\hline 7 \\ \\hline - \\ \\hline - \\ \\hline \\end{array}$\n",
    "        - counter for 7 = 1\n",
    "    - 0 is brought into physical memory\n",
    "        - page fault but no replacement\n",
    "        - $\\begin{array} {|r|} \\hline 7 \\ \\hline 0 \\ \\hline - \\ \\hline \\end{array}$\n",
    "        - counter for 7 = 1\n",
    "        - counter for 0 = 2\n",
    "    - 1 is brought into physical memory\n",
    "        - page fault but no replacement\n",
    "        - $\\begin{array} {|r|} \\hline 7 \\ \\hline 0 \\ \\hline 1 \\ \\hline \\end{array}$\n",
    "        - counter for 7 = 1\n",
    "        - counter for 0 = 2\n",
    "        - counter for 1 = 3\n",
    "    - 2 is brought into physical memory\n",
    "        - page fault, replacement needed\n",
    "        - 7 is has lowest counter value of 1\n",
    "        - 7 is replaced with 2\n",
    "        - $\\begin{array} {|r|} \\hline 2 \\ \\hline 0 \\ \\hline 1 \\ \\hline \\end{array}$\n",
    "        - counter for 2 = 4\n",
    "        - counter for 0 = 2\n",
    "        - counter for 1 = 3\n",
    "    - 0 is already in physical memory\n",
    "        - no page fault\n",
    "        - counter for 2 = 4\n",
    "        - counter for 0 = 5\n",
    "        - counter for 1 = 3\n",
    "    - 3 is brought into physical memory\n",
    "        - page fault, replacement needed\n",
    "        - counter for 3 = 6\n",
    "        - 1 is replaced with 3\n",
    "        - $\\begin{array} {|r|} \\hline 2 \\ \\hline 0 \\ \\hline 3 \\ \\hline \\end{array}$\n",
    "        - counter for 2 = 4\n",
    "        - counter for 0 = 5\n",
    "        - counter for 3 = 6\n",
    "    - 0 is already in physical memory\n",
    "        - no page fault\n",
    "        - counter for 2 = 4\n",
    "        - counter for 0 = 7\n",
    "        - counter for 3 = 6\n",
    "    - 4 is brought into physical memory\n",
    "        - page fault, replacement needed\n",
    "        - 2 is has lowest counter value of 2\n",
    "        - 2 is replaced with 4\n",
    "        - $\\begin{array} {|r|} \\hline 4 \\ \\hline 0 \\ \\hline 3 \\ \\hline \\end{array}$\n",
    "        - counter for 4 = 8\n",
    "        - counter for 0 = 7\n",
    "        - counter for 3 = 6\n",
    "    - 2 is brought into physical memory\n",
    "        - page fault, replacement needed\n",
    "        - 3 is has lowest counter value of 6\n",
    "        - 3 is replaced with 2\n",
    "        - $\\begin{array} {|r|} \\hline 4 \\ \\hline 0 \\ \\hline 2 \\ \\hline \\end{array}$\n",
    "        - counter for 4 = 8\n",
    "        - counter for 0 = 7\n",
    "        - counter for 2 = 9\n",
    "    - 3 is brought into physical memory\n",
    "        - page fault, replacement needed\n",
    "        - 0 is has lowest counter value of 7\n",
    "        - 0 is replaced with 3\n",
    "        - $\\begin{array} {|r|} \\hline 4 \\ \\hline 3 \\ \\hline 2 \\ \\hline \\end{array}$\n",
    "        - counter for 4 = 8\n",
    "        - counter for 3 = 10\n",
    "        - counter for 2 = 9\n",
    "    - 0 is brought into physical memory\n",
    "        - page fault, replacement needed\n",
    "        - 4 is has lowest counter value of 8\n",
    "        - 4 is replaced with 0\n",
    "        - $\\begin{array} {|r|} \\hline 0 \\ \\hline 3 \\ \\hline 2 \\ \\hline \\end{array}$\n",
    "        - counter for 0 = 11\n",
    "        - counter for 3 = 10\n",
    "        - counter for 2 = 9\n",
    "- **fix counters from here down**\n",
    "    - 3 is already in physical memory\n",
    "        - no page fault\n",
    "        - counter for 0 = 14\n",
    "        - counter for 3 = 15\n",
    "        - counter for 2 = 12\n",
    "    - 2 is already in physical memory\n",
    "        - no page fault\n",
    "        - counter for 0 = 14\n",
    "        - counter for 3 = 15\n",
    "        - counter for 2 = 16\n",
    "    - 1 is brought into physical memory\n",
    "        - page fault, replacement needed\n",
    "        - 0 is has lowest counter value of 11\n",
    "        - 0 is replaced with 1\n",
    "        - $\\begin{array} {|r|} \\hline 1 \\ \\hline 3 \\ \\hline 2 \\ \\hline \\end{array}$\n",
    "        - counter for 1 = 17\n",
    "        - counter for 3 = 15\n",
    "        - counter for 2 = 16\n",
    "    - 2 is already in physical memory\n",
    "        - no page fault\n",
    "        - counter for 1 = 17\n",
    "        - counter for 3 = 15\n",
    "        - counter for 2 = 18\n",
    "    - 0 is brought into physical memory\n",
    "        - page fault, replacement needed\n",
    "        - 3 is has lowest counter value of 12\n",
    "        - 3 is replaced with 0\n",
    "        - $\\begin{array} {|r|} \\hline 1 \\ \\hline 0 \\ \\hline 2 \\ \\hline \\end{array}$\n",
    "        - counter for 1 = 17\n",
    "        - counter for 0 = 19\n",
    "        - counter for 2 = 18\n",
    "    - 1 is already in physical memory\n",
    "        - no page fault\n",
    "        - counter for 1 = 17\n",
    "        - counter for 0 = 19\n",
    "        - counter for 2 = 18\n",
    "    - 7 is brought into physical memory\n",
    "        - page fault, replacement needed\n",
    "        - 2 is has lowest counter value of 15\n",
    "        - 2 is replaced with 7\n",
    "        - $\\begin{array} {|r|} \\hline 1 \\ \\hline 0 \\ \\hline 7 \\ \\hline \\end{array}$\n",
    "        - counter for 1 = 17\n",
    "        - counter for 0 = 19\n",
    "        - counter for 7 = 20\n",
    "- **see screenshot from 29Nov23 for LRU page replacement algorithm scratchwork**"
   ]
  },
  {
   "cell_type": "markdown",
   "id": "41291906cded0059",
   "metadata": {
    "collapsed": false,
    "jupyter": {
     "outputs_hidden": false
    }
   },
   "source": [
    "### Counter Implementation of LRU\n",
    "- each page entry contains a counter\n",
    "- copy the clock into the counter on every page access\n",
    "- for replacement, find the page with the smallest counter\n",
    "- requires search of full page table\n",
    "- each memory access requires additional memory access to update the counter\n",
    "- counter overflow?"
   ]
  },
  {
   "cell_type": "markdown",
   "id": "6f825126cb35244",
   "metadata": {
    "collapsed": false,
    "jupyter": {
     "outputs_hidden": false
    }
   },
   "source": [
    "### Stack Implementation of LRU\n",
    "- keep a stack of page numbers in a linked list\n",
    "- move the page to the top of the stack on every page access\n",
    "- for replacement, choose the bottom page in the stack\n",
    "- each update is more expensive due to stack operations\n",
    "- on the other hand, replacement is a constant time operation\n",
    "    - i.e. no search required\n",
    "### LRU Approximation Algorithms\n",
    "- LRU is expensive to implement so we approximate it instead\n",
    "- Reference Bit Algorithm\n",
    "    - keep a reference bit for each page\n",
    "    - set to 1 on every page access\n",
    "    - periodically reset to 0\n",
    "    - when a page needs to be replaced, choose one with reference bit = 0\n",
    "    - downside: cannot store the order of page access in one bit\n",
    "- Record Reference Bit Algorithm\n",
    "    - each page associated with a 8-bit field for recording reference bit\n",
    "    - at regular intervals\n",
    "        - shift the reference bits right by 1 bit\n",
    "        - move reference bit into the highest order bit\n",
    "    - when a page needs to be replaced, choose one with lowest 8-bit value\n",
    "    - downside: requires 8 times more space than the reference bit algorithm\n",
    "- Second Chance Algorithm\n",
    "    - keep a single reference bit for each page\n",
    "    - follow FIFO page replacement\n",
    "    - find replacement page\n",
    "        - if reference bit = 0, replace page\n",
    "        - if reference bit = 1, set reference bit to 0 and move page to the end of the queue"
   ]
  },
  {
   "cell_type": "markdown",
   "id": "61fb3b10ffb7084a",
   "metadata": {
    "collapsed": false,
    "jupyter": {
     "outputs_hidden": false
    }
   },
   "source": [
    "# Missed half an hour, up to slide 32"
   ]
  },
  {
   "cell_type": "markdown",
   "id": "d57baea4c8624e6",
   "metadata": {
    "collapsed": false,
    "jupyter": {
     "outputs_hidden": false
    }
   },
   "source": [
    "### Frame Allocation Algorithms\n",
    "- equal\n",
    "    - not especially useful\n",
    "    - divide m frames among n processes\n",
    "    - each process gets about m/n frames\n",
    "    - may give processes more frames than they need\n",
    "- proportional\n",
    "    - allocate according to the size of the process\n",
    "        - but how do you define size?\n",
    "            - definable in theory but not very easilly in practice\n",
    "    - allocate m frames\n",
    "    - e.g.\n",
    "        - total frame m = 64\n",
    "        - size of $p_i$ is $s_i = 10$\n",
    "        - S = $\\sum s_i$\n",
    "        - $s_2$ = 127\n",
    "        - $a_1$ = $\\frac{10}{137} \\times 64 = 4.67 \\approx 5$\n",
    "        - $a_2$ = $\\frac{127}{137} \\times 64 = 59.33 \\approx 59$\n",
    "    - downside: small processes may not get the minimum number of frames they need\n",
    "### Other Frame Allocation Issues\n",
    "- global vs local replacement\n",
    "    - global\n",
    "        - process selects a replacement frame from the set of all frames\n",
    "        - one process can take a frame from another\n",
    "        - page cannot control its own page-fault rate\n",
    "    - local\n",
    "        - each process selects from only its own set of allocated frames\n",
    "        - each process can control its own page-fault rate\n",
    "        - may hinder progress by not allowing a high priority process to take a frame from a low priority process\n",
    "        - benefit is scalability\n",
    "            - reduces pressure on the global frame pool\n",
    "            - less effect on other processes\n",
    "        - less commonly used"
   ]
  },
  {
   "cell_type": "code",
   "execution_count": null,
   "id": "9fa44e8de724ff99",
   "metadata": {
    "collapsed": false,
    "jupyter": {
     "outputs_hidden": false
    }
   },
   "outputs": [],
   "source": []
  },
  {
   "cell_type": "markdown",
   "id": "7c120067df92a120",
   "metadata": {
    "collapsed": false,
    "jupyter": {
     "outputs_hidden": false
    }
   },
   "source": [
    "### Thrashing\n",
    "- the process spends more time paging than executing\n",
    "    - process keeps swapping pages in and out\n",
    "        - the pages are in active use so those swapped out are immediately needed again\n",
    "    - leads to a very high page fault rate\n",
    "- causes\n",
    "    - too many processes\n",
    "    - process does not have enough frames allocated to it  \n",
    "- vicious cycle\n",
    "    - a problem in early operating systems\n",
    "    - flow:\n",
    "        - not enough frames -> more page faults\n",
    "        - lowers CPU utilization\n",
    "        - OS thinks it needs to increase the degree of multiprogramming\n",
    "            - i.e it doesn't have enough processes running\n",
    "        - adds more processes to the system\n",
    "        - even less frames per process are available per process\n",
    "        - cycle repeats\n",
    "    - not as much of a problem today\n",
    "        - more memory\n",
    "        - better algorithms\n",
    "        - better hardware support\n",
    "- becomes more likely as the degree of multiprogramming increases\n",
    "- <img src=\"images/thrashing.png\">\n",
    "\n",
    "    - adding more processes increases CPU utilization... until it doesn't\n",
    "- solution\n",
    "    - user: increase physical RAM\n",
    "        - generally not practical in the short term\n",
    "    - OS: reduce degree of multiprogramming\n",
    "        - suspend some processes\n",
    "        - swap some processes out to disk\n",
    "        - terminate some processes"
   ]
  },
  {
   "cell_type": "markdown",
   "id": "ad269002728d85b6",
   "metadata": {
    "collapsed": false,
    "jupyter": {
     "outputs_hidden": false
    }
   },
   "source": [
    "### Preventing Thrashing\n",
    "- add RAM to increase the number of frames\n",
    "    - a long term hardware solution \n",
    "- give the process more frames\n",
    "    - more on demand solution which the OS can (attempt to) do\n",
    "- local replacement\n",
    "    - other processes are not affected by thrashing\n",
    "        - i.e. the thrashing process is not stealing frames from functional processes\n",
    "    - but the thrashing process is still thrashing\n",
    "        - i.e. it is still not getting enough frames\n",
    "    - may be a good solution if the thrashing process is not important\n",
    "    - mitigates thrashing but does not prevent it particularly well\n",
    "- Working-Set model\n",
    "    - based on the locality model of process execution\n",
    "        - each process phase uses a small set of memory frames\n",
    "            - 3 phases\n",
    "                - decompression of relevant files\n",
    "                - execution of the program\n",
    "                - compression of relevant files\n",
    "        - execution moves from one process phase to another\n",
    "    - the number of frames required for each phase is called the working set\n",
    "        - the set of pages that are referenced in the near future by the process\n",
    "    - <img src=\"images/pagefault_working_set.png\">\n",
    " \n",
    "        - page fault rate rises on program load and falls until the next program phase begins\n",
    "        - each large tooth represents the loading of a new phase\n",
    "    - implementation\n",
    "        - assume a particular working-set window $\\Delta$\n",
    "            - $\\Delta$ is some interval of time or number of page references\n",
    "        - WSS$_i$ = working set of process $P_i$\n",
    "        - D = $\\sum$ WSS$_i$ = total demand for frames\n",
    "        - m = total number of frames, i.e. memory size\n",
    "        - if D > m, then thrashing is likely and some process should be suspended\n",
    "        - with a well defined $\\Delta$, this solution functions well - per Kulkarni\n",
    "- Page-Fault frequency scheme\n",
    "    - working set model is based on several assumptions and is complicated\n",
    "    - instead, measure page fault rate routinely\n",
    "    - establich acceptable page-fault rate\n",
    "        - if actual rate too low, process loses frame or increase processes\n",
    "        - if actual rate too high, process gains frame or suspends processes\n",
    "    - <img src=\"images/page_fault_frequency.png\">"
   ]
  },
  {
   "cell_type": "markdown",
   "id": "8bf38e6a06af40ea",
   "metadata": {
    "collapsed": false,
    "jupyter": {
     "outputs_hidden": false
    }
   },
   "source": [
    "### Memory-Mapped Files\n",
    "- memory-mapped file I/O allows file I/O to be treated as routine memory access by mapping a disk block to a page in memory\n",
    "    - removes the need for read() and write() system calls\n",
    "    - converts disk access to memory access\n",
    "        - i.e. the file is in RAM now \n",
    "    - simplifies disk access for the user\n",
    "- mechanism\n",
    "    - file is read using demand paging\n",
    "    - a page-sized portion of the file is read from the file system into a physical page\n",
    "    - subsequent reads/writes to/from the file are treated as ordinary memory (RAM) accesses\n",
    "- memory mapping is a powerful technique\n",
    "    - allows file I/O to be treated as routine memory access\n",
    "    - allows file I/O to be cached\n",
    "    - allows memory sharing between processes\n",
    "    - allows for faster file I/O in most cases\n",
    "    - allows for faster file copying\n",
    "        - e.g. the extra credit lab\n",
    "- <img src=\"images/MMIO.png\">\n",
    "\n",
    "    - allows several processes to map the same file and share data\n",
    "- special I/O instructions may be available to transfer and control messages to the I/O controller\n",
    "- MMIO\n",
    "    - I/O device registers are mapped to logical address space\n",
    "    - convenient and fast\n",
    "    - this is what we did in EECS 388\n",
    "        - device monitors the address bus addresses that are in its range\n",
    "            - e.g. maybe the last 4 bits on a bus belong to the device\n",
    "        - if the address is in its range, the device responds to the request\n",
    "    - there may be a control bit to indicate whether the access is to memory or to an I/O device\n",
    "        - programmed I/O\n",
    "            - CPU sets the bit to indicate the type of access\n",
    "        - interrupt driven I/O\n",
    "            - sends an interrupt to the CPU to indicate availability\n"
   ]
  },
  {
   "cell_type": "markdown",
   "id": "a64452898c1f2b82",
   "metadata": {
    "collapsed": false,
    "jupyter": {
     "outputs_hidden": false
    }
   },
   "source": [
    "### Allocating Kernel Memory\n",
    "- kernel memory often allocated from a free memory pool\n",
    "    - kernel memory does not use demand paging\n",
    "    - kernel memory is not swapped\n",
    "    - kernel memory is not allocated to user processes\n",
    "- reasons for treating kernel memory differently\n",
    "    - some kernel memory must be contiguous\n",
    "        - e.g. page tables\n",
    "    - attempts to minimize waste due to internal fragmentation\n",
    "        - kernel requsts memory for structures of varying sizes\n",
    "        - does not use paging\n",
    "- strategies\n",
    "    - buddy system\n",
    "        - power of 2 allocation\n",
    "            - satisfies requests in units sized as powers of 2\n",
    "            - request rounded up to the next power of 2\n",
    "            - when smaller allocation needed that is available, split the current chunk into two buddies\n",
    "                - continue splitting until the desired size is reached \n",
    "        - <img src=\"images/buddy_system.png\">\n",
    "\n",
    "            - some memory is lost to internal fragmentation\n",
    "    - slab allocator\n",
    "        - not on the Final"
   ]
  },
  {
   "cell_type": "markdown",
   "id": "773f860e858f0eba",
   "metadata": {
    "collapsed": false,
    "jupyter": {
     "outputs_hidden": false
    }
   },
   "source": [
    "### Other Virtual Memory Issues\n",
    "- ~~prepaging~~ **not on the Final**\n",
    "    - ~~reduces the number of page faults that occur on process startup~~\n",
    "    - ~~prepage all or some of the pages a process will need before they are referenced~~\n",
    "        - ~~can save startup time for a process~~\n",
    "        - ~~I/O and memory wasted if the pages are not used~~\n",
    "- issues deciding page size\n",
    "    - internal fragmentation\n",
    "        - wasted space within a page\n",
    "        - smaller pages have less internal fragmentation~~\n",
    "    - page table size\n",
    "        - small page size reduces the size of the page table\n",
    "            - more bits left over for the page number in the logical address\n",
    "            - more pages can be allocated\n",
    "            - not true for inverted page tables\n",
    "    - I/O overhead\n",
    "        - larger pages reduce disk latency and seek time\n",
    "            - i.e. n requests suffer n seek times\n",
    "                - e.g. 1 4kb request only suffers 1 seek time but 2 2kb requests suffer 2 seek times\n",
    "\n",
    "    - page faults\n",
    "        - larger page size reduces the number of page faults"
   ]
  },
  {
   "cell_type": "markdown",
   "id": "7c86f34949bc5ca9",
   "metadata": {
    "collapsed": false,
    "jupyter": {
     "outputs_hidden": false
    }
   },
   "source": []
  },
  {
   "cell_type": "markdown",
   "id": "50e84e828929a6fd",
   "metadata": {
    "collapsed": false,
    "jupyter": {
     "outputs_hidden": false
    }
   },
   "source": []
  },
  {
   "cell_type": "markdown",
   "id": "21ad8485efb2d40e",
   "metadata": {
    "collapsed": false,
    "jupyter": {
     "outputs_hidden": false
    }
   },
   "source": [
    "- drop 2 quizzes, add 1 100% quiz, and all quizzes are out of 10"
   ]
  },
  {
   "cell_type": "code",
   "execution_count": null,
   "id": "ba111429433b2e43",
   "metadata": {
    "collapsed": false,
    "jupyter": {
     "outputs_hidden": false
    }
   },
   "outputs": [],
   "source": []
  }
 ],
 "metadata": {
  "kernelspec": {
   "display_name": "Python 3 (ipykernel)",
   "language": "python",
   "name": "python3"
  },
  "language_info": {
   "codemirror_mode": {
    "name": "ipython",
    "version": 3
   },
   "file_extension": ".py",
   "mimetype": "text/x-python",
   "name": "python",
   "nbconvert_exporter": "python",
   "pygments_lexer": "ipython3",
   "version": "3.10.4"
  }
 },
 "nbformat": 4,
 "nbformat_minor": 5
}
