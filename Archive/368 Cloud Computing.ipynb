{
 "cells": [
  {
   "cell_type": "markdown",
   "id": "52aad032",
   "metadata": {},
   "source": [
    "### Cloud Architecture Patterns\n",
    "- Nick Smith(?)\n",
    "- Shopify Lead Engineer for Order Risk & Fraud\n",
    "    - Largest Ruby on Rails that exists\n",
    "    - https://shopify.engineering/\n",
    "    - fully remote\n",
    "    \n",
    "### The Cloud\n",
    "- SaaS\n",
    "    - vendor manages software and data on customer's behalf\n",
    "    - customer uses thing client or mobile apps\n",
    "    - price by usage or subscription\n",
    "    - like a utility company\n",
    "- SaaS administration is hard\n",
    "    - lots of moving parts\n",
    "    - host & secure physical servers\n",
    "    - connect to internet\n",
    "    - bandwitdth management\n",
    "    - lots more\n",
    "- You also have to make and manage the software!\n",
    "    - the cloud handles \"undifferentiated heavy lifting\"\n",
    "- The Cloud Benefits\n",
    "    - provides data and computing resources\n",
    "    - typically cheaper than running your own local servers\n",
    "    - scales up & down\n",
    "- Disadvantages\n",
    "    - DHH \"Why we are leaving the cloud\"\n",
    "    - can become costly\n",
    "    - good for startups and large companies with irregular loads (flash sales upping bandwidth rapidly, etc)\n",
    "- Managed hosting services\n",
    "    - you buy hardware\n",
    "    - provider does setup, hardware management, etc\n",
    "    - like boarding a dog\n",
    "    \n",
    "### Cloud/Web Architecture Patterns\n",
    "- simplified view: Phone/browser/CLI <---> HTML <---> product\n",
    "- 3 tier architecture\n",
    "    - presentation tier\n",
    "        - web app\n",
    "    - logic tier\n",
    "        - service API\n",
    "        - system to system comms\n",
    "        - publicly exposed\n",
    "        - encapsulates product functions\n",
    "    - data\n",
    "        - data storage\n",
    "        \n",
    "### Implementation\n",
    "- Monolith method\n",
    "    - everything is in one giant server\n",
    "    - all the code in one place\n",
    "    - ADVs\n",
    "        - simple to develop, test, deploy, and scale\n",
    "        - good for small companies/startups\n",
    "        - even Shopify has a few monoliths\n",
    "            - e.g. core public API\n",
    "        - scaling\n",
    "            - vertical\n",
    "                - increase size of instance (RAM, CPU, etc)\n",
    "            - horizontal\n",
    "                - make more instances\n",
    "        - Load Balancer\n",
    "            - distributes traffic to the servers to manage bandwidth & availability\n",
    "        - Elastic computing / autoscaling\n",
    "            - can also decrease computing resources used when you have low traffic\n",
    "            - right-sizing resources\n",
    "            - avoid idle resources & therefore costs/waste\n",
    "    - DAs\n",
    "        - intimidating\n",
    "        - large files, long compile and start time\n",
    "        - testing is slow\n",
    "        - difficult load scaling\n",
    "        - difficult to scale development organization\n",
    "            - you might fix something that breaks someone else's thing\n",
    "        - technology lock in\n",
    "            - you're kindof stuck with whatever language/architecture/system you've written the whole thing in so far\n",
    "    - you can overcome these with lots of time, care, and investment"
   ]
  },
  {
   "cell_type": "markdown",
   "id": "587f2f12",
   "metadata": {},
   "source": [
    "### Microservices\n",
    "- breaks monolith into smaller domains\n",
    "- pieces are cohesive but loosely coupled\n",
    "    - cohesion: they belong together\n",
    "    - coupling: they are dependant\n",
    "    - allows for distributed development and deployment across large organizations\n",
    "- Characteristics\n",
    "    - highly maintainable\n",
    "    - loosely coupled\n",
    "    - independantly deployable\n",
    "    - organized around business capabilities\n",
    "    - owned by a small team (2 pizza team)\n",
    "- Challenges\n",
    "    - complexity\n",
    "    - dev & testing\n",
    "    - latency from inter-service comms\n",
    "    - data consistency\n",
    "        - what if one service fails mid transaction?\n",
    "            - harder to roll back data in midst of high level of interconnection\n",
    "    - increased computing and storage resources\n",
    "    - increased dependency and security update burden\n",
    "        - more things to test when a new version of a dependency comes out\n",
    "- API Gateway\n",
    "    - centralized front door for clients\n",
    "        - like \"facade\" pattern in OOP design\n",
    "    - API should look like a black box to anyone outside\n",
    "        - implementation details aren't relevant to them, it just works no matter what they're using\n"
   ]
  },
  {
   "cell_type": "markdown",
   "id": "7fa9326c",
   "metadata": {},
   "source": [
    "### Choosing one\n",
    "- just depends on what works for you\n",
    "\n",
    "- container\n",
    "    - virtualization that packages server code\n",
    "    - throws it in an image that can run on basically any server with basically any OS\n",
    "    - e.g. docker\n",
    "    - like shipping containers\n",
    "        - everything is designed to fit in standard shipping containers now\n",
    "    - don't have to worry about hardware/OS specific development as much anymore\n",
    "- flow path\n",
    "    - User <---> balancer <---> containers <---> balancer <---> SQL/other server stuff"
   ]
  },
  {
   "cell_type": "markdown",
   "id": "df938769",
   "metadata": {},
   "source": [
    "### Doing it\n",
    "- \"serverless technology\"\n",
    "```\n",
    " computer -> API gateway -> orders (cloud functions) -> cloud SQL\n",
    "                         -> products (cloud run)     -> cloud SQL\n",
    "```\n",
    "     - usually pay per invocation\n",
    "         - no calls of function mean no or very low cost\n",
    "     - e.g. Google Cloud Platform\n",
    "         - you give it a container and it runs it\n",
    "         \n",
    "- Calling the API with Postman\n",
    "    - Postman lets you make REST API calls\n",
    "    - downside is if API is not in use, you have to cold start it on a request so it can take a few seconds\n",
    "    - next call will take **way** less time because now it is awake\n",
    "        - in class e.g. was 16 seconds to a few hundred ms\n",
    "~~~ ruby\n",
    "FunctionsFramework.http \"index\" do |_request|\n",
    "orders = Order.all.to_json\n",
    "Rack::Response.new(orders, something_else)\n",
    "return\n",
    "~~~\n",
    "- functions are pretty small amount of code\n",
    "\n",
    "### Deployment\n",
    "- "
   ]
  },
  {
   "cell_type": "markdown",
   "id": "85ac4109",
   "metadata": {},
   "source": []
  },
  {
   "cell_type": "markdown",
   "id": "027497a4",
   "metadata": {},
   "source": []
  },
  {
   "cell_type": "markdown",
   "id": "5e67d8ee",
   "metadata": {},
   "source": []
  },
  {
   "cell_type": "markdown",
   "id": "b84f9524",
   "metadata": {},
   "source": []
  },
  {
   "cell_type": "markdown",
   "id": "db8fd41c",
   "metadata": {},
   "source": []
  },
  {
   "cell_type": "markdown",
   "id": "dfd72500",
   "metadata": {},
   "source": []
  },
  {
   "cell_type": "markdown",
   "id": "eb3a3657",
   "metadata": {},
   "source": []
  },
  {
   "cell_type": "markdown",
   "id": "15ca0ff2",
   "metadata": {},
   "source": []
  },
  {
   "cell_type": "markdown",
   "id": "aec7a0a4",
   "metadata": {},
   "source": []
  },
  {
   "cell_type": "code",
   "execution_count": null,
   "id": "e27ce67e",
   "metadata": {},
   "outputs": [],
   "source": []
  },
  {
   "cell_type": "code",
   "execution_count": null,
   "id": "6cd1de68",
   "metadata": {},
   "outputs": [],
   "source": []
  },
  {
   "cell_type": "code",
   "execution_count": null,
   "id": "f19f011f",
   "metadata": {},
   "outputs": [],
   "source": []
  },
  {
   "cell_type": "code",
   "execution_count": null,
   "id": "0f421c50",
   "metadata": {},
   "outputs": [],
   "source": []
  },
  {
   "cell_type": "code",
   "execution_count": null,
   "id": "7934d327",
   "metadata": {},
   "outputs": [],
   "source": []
  }
 ],
 "metadata": {
  "kernelspec": {
   "display_name": "Python 3",
   "language": "python",
   "name": "python3"
  },
  "language_info": {
   "codemirror_mode": {
    "name": "ipython",
    "version": 3
   },
   "file_extension": ".py",
   "mimetype": "text/x-python",
   "name": "python",
   "nbconvert_exporter": "python",
   "pygments_lexer": "ipython3",
   "version": "3.6.9"
  }
 },
 "nbformat": 4,
 "nbformat_minor": 5
}
