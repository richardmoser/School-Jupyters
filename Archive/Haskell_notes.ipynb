{
 "cells": [
  {
   "cell_type": "markdown",
   "id": "cf849692",
   "metadata": {},
   "source": [
    "### Haskell\n",
    "- http://www.learnyouahaskell.com/\n",
    "    - a good book for learning Haskell\n",
    "- Functional Language\n",
    "    - supports and encourages function oriented design\n",
    "    - many languages support FOD, but Haskell is pure functional language\n",
    "- testbed for new programming ideas\n",
    "    - lots of features of other languages came from Haskell\n",
    "        - e.g. Python list comprehension\n",
    "\n",
    "### Features\n",
    "- concise programs\n",
    "    - see the sum example above\n",
    "    - syntax is designed with concise programs in mind\n",
    "        - few keywords\n",
    "        - indentation based\n",
    "        - often 2-10 times fewer lines than other languages\n",
    "- powerful type system\n",
    "    - strong ability to infer types and detect errors before execution\n",
    "    - can create new types\n",
    "- list comprehension\n",
    "    - inherited a lot of ideas from LISP\n",
    "- higher order functions\n",
    "    - can pass a function to a function as a parameter\n",
    "- lazy evaluation\n",
    "    - don't compute anything until the result is required\n",
    "    - allows you to work on infinite structures\n",
    "        - e.g. list of all prime numbers where other languages would overflow or tell you no\n",
    "- equational reasoning\n",
    "    - you can use induction to reason about functions\n",
    "### Side Effects\n",
    "- can't read from keyboard or write to screen\n",
    "- well you can, now that someone made monads\n",
    "    - more on this later\n"
   ]
  },
  {
   "cell_type": "markdown",
   "id": "d8a5a913",
   "metadata": {},
   "source": [
    "### Syntax\n",
    "- space is for function application, * is for multiplication\n",
    "    - $f(a,b) + c \\cdot d$ becomes `f a b + c * d`\n",
    "- to sum ints from 1 to 10\n",
    "    - `sum [1..10]`\n",
    "        - [1..10] is a list\n",
    "- ``` haskell\n",
    "  double x = x + x\n",
    "  quadruple x = double (double x)\n",
    "  ```\n",
    "  > `quadruple 10` returns 40\n",
    "\n",
    "### In Class 3-29\n",
    "``` haskell\n",
    "take (double 2) [1,2,3,4,5,6]\n",
    "take (quadruple 2) [1,2,3,4,5,6]\n",
    "take (1+2) [1,2,3,4,5,6]\n",
    "```\n",
    "\n",
    "> `take (double 2) [1,2,3,4,5,6]` returns `[1,2]`\n",
    "> `take (quadruple 2) [1,2,3,4,5,6]` returns `[1,2,3,4,5,6]`\n",
    "> `take (1+2) [1,2,3,4,5,6]` returns `[1,2,3]`\n",
    "\n",
    "- `take` takes the first n elements of a list\n",
    "- `double` is a function that takes an int and returns an int\n",
    "- `quadruple` is a function that takes an int and returns an int\n",
    "- the code outputs\n"
   ]
  },
  {
   "cell_type": "code",
   "execution_count": 1,
   "id": "cac9775c",
   "metadata": {
    "ExecuteTime": {
     "end_time": "2023-04-05T12:08:21.443687Z",
     "start_time": "2023-04-05T12:08:17.127041Z"
    }
   },
   "outputs": [
    {
     "data": {
      "text/plain": [
       "[1,2,3,4]"
      ]
     },
     "metadata": {},
     "output_type": "display_data"
    }
   ],
   "source": [
    "double x = x + x\n",
    "\n",
    "take (double 2) [1,2,3,4,5,6]"
   ]
  },
  {
   "cell_type": "code",
   "execution_count": 2,
   "id": "458adfc7",
   "metadata": {
    "ExecuteTime": {
     "end_time": "2023-04-05T12:08:32.154119Z",
     "start_time": "2023-04-05T12:08:21.378714Z"
    }
   },
   "outputs": [
    {
     "data": {
      "text/plain": [
       "5050"
      ]
     },
     "metadata": {},
     "output_type": "display_data"
    }
   ],
   "source": [
    "sum [1..100]"
   ]
  },
  {
   "cell_type": "markdown",
   "id": "56e884ff",
   "metadata": {},
   "source": [
    "### The Standard Prelude\n",
    "- booleans as with CPP\n",
    "- `div` is modulo division\n",
    "    - must be surrounded by backticks (\\`) not single quotes (')\n",
    "### GHCi\n",
    "- using `$ ghc test.hs` will run the test.hs script\n",
    "    - haskell doesn't actually care about extension, but adding hs lets you know what the file type is\n",
    "\n",
    "``` haskell\n",
    "average xs = sum xs / length xs\n",
    "```\n",
    "- will error out because of '/'\n",
    "    - fromintegral converts int to float\n",
    "\n",
    "``` haskell\n",
    "average xs = fromIntegral (sum xs) / fromIntegral (length xs) \n",
    "```\n",
    "\n",
    "### Naming\n",
    "- Function and argument names must begin with a lower-case letter\n",
    "and may be followed by one or more letters (both lower- and uppercase), digits, underscores, or single quotes (')\n",
    "- put an s at the end of list variable names\n",
    "    - a convention, but not required\n",
    "    - lets you know that the variable is a list\n",
    "- definitions mush be in the same column (as in python)\n",
    "- indentation based, not semicolon or curly brace based\n",
    "- `where` binds local variables\n",
    "    - similar to `let` and `var` in JavaScript\n",
    "- comments\n",
    "    - ordinary\n",
    "        - begin with `--`\n",
    "    nested\n",
    "        - bracketed by `{-` and `-}`"
   ]
  },
  {
   "cell_type": "markdown",
   "id": "6eb5056c",
   "metadata": {},
   "source": [
    "### In Class 3-31\n",
    "Find the 3 errors in the following code:"
   ]
  },
  {
   "cell_type": "code",
   "execution_count": null,
   "id": "bcf52a7c",
   "metadata": {
    "scrolled": true
   },
   "outputs": [],
   "source": [
    "N = a 'div' length xs\n",
    "    where\n",
    "        a = 10\n",
    "    xs = [1,2,3,4,5]"
   ]
  },
  {
   "cell_type": "code",
   "execution_count": null,
   "id": "636e7ccf",
   "metadata": {},
   "outputs": [],
   "source": [
    "n = a `div` length xs -- integer n = a integer divided by the (length of xs) \n",
    "    where -- establishes local variables used in the function\n",
    "        a = 10 -- variable a = 10\n",
    "        xs = [1,2,3,4,5] --variable xs is a list of integers from 1 to 5\n",
    "print n\n",
    "\n",
    "-- comment\n",
    "{-also a comment-}"
   ]
  },
  {
   "cell_type": "markdown",
   "id": "5acd3f05",
   "metadata": {},
   "source": [
    "Errors:\n",
    "\n",
    "1)\n",
    "    1: N should be lower case\n",
    "    2: div should be surrounded by backticks (\\`) not single quotation marks (')\n",
    "    3: xs should have two tabs tab in front, not a space, i.e. it should be in the same column as a\n",
    "    \n",
    "2) \n",
    "```haskell\n",
    "n = a `div` length xs\n",
    "    where\n",
    "        a = 10\n",
    "        xs = [1,2,3,4,5]\n",
    "```\n",
    "3) sets the value of n to the rounded a/(length of xs) integer value. In this case 10/5 = 2\n",
    "\n",
    "4) \n",
    "```haskell\n",
    "n = a `div` length xs -- integer n = a integer divided by the (length of xs) \n",
    "    where -- establishes local variables used in the function\n",
    "        a = 10 -- variable a = 10\n",
    "        xs = [1,2,3,4,5] --variable xs is a list of integers from 1 to 5\n",
    "```"
   ]
  },
  {
   "cell_type": "markdown",
   "id": "5949fd4b",
   "metadata": {},
   "source": [
    "### Types\n",
    "- haskell is a strongly typed language\n",
    "- types use capital letters\n",
    "    - e.g. `Bool` which contains `True` and `False`\n",
    "- unlike JavaScript, type errors happen\n",
    "    - e.g. `True + 1` will error out\n",
    "- `e :: t` signifies that `e` has type `t`\n",
    "- Types of Types\n",
    "    - Bool\n",
    "    - Int\n",
    "    - Float\n",
    "    - ...\n",
    "- functions also have types\n",
    "    - `not :: Bool -> Bool`\n",
    "    - `even :: Int -> Bool`\n",
    "    - convention is to preced the definition by the type\n",
    "    \n",
    "    \n",
    "~~~haskell\n",
    "add :: (Int, Int) -> Int -- explains the types in the function\n",
    "add (x,y) = x+y -- defines the function\n",
    "\n",
    "zeroto :: Int -> [Int]\n",
    "zeroto n = [0..n]\n",
    "~~~"
   ]
  },
  {
   "cell_type": "code",
   "execution_count": null,
   "id": "60ee3795",
   "metadata": {},
   "outputs": [],
   "source": [
    "-- ['a', 'b', 'c'] :: [char]\n",
    "[True,False,True,True] :: [Bool]\n"
   ]
  },
  {
   "cell_type": "markdown",
   "id": "68fe3c2c",
   "metadata": {},
   "source": [
    "- tuples\n",
    "    - type of a tuple is encoded in its size\n",
    "    - type of components is unrestricted\n",
    "- tuple of functions\n",
    "\n",
    "### Currying\n",
    "- **spicy**\n",
    "- `f:: a -> (b -> c)` is equivalent to `f :: a -> b -> c`\n",
    "    - \"f takes `a` and `b` and returns `c`\n",
    "- all Haskell functions are actually considered curried\n",
    "    - mostly hidden in notation\n",
    "    \n",
    "~~~ haskell\n",
    "add' :: Int -> (Int -> Int)\n",
    "add' x y = x+y\n",
    "~~~\n",
    "- add' takes Int x and returns a function add' x\n",
    "- this function takes Int y and returns result x+y\n",
    "- the `'` character has no special significance and is a valid naming character\n",
    "- add and add' produce the same final result\n",
    "    - add takes its two arguments at the same time\n",
    "    - add' takes them one at a time\n",
    "    \n",
    "### Why curry?\n",
    "- formal proofs are easier with uniform functions\n",
    "- you can generally ignore it"
   ]
  },
  {
   "cell_type": "markdown",
   "id": "b9cddfd5",
   "metadata": {},
   "source": [
    "### Polymorphism & Overloading\n",
    "- Parametric polymorphic\n",
    "    - contains one or more type variables\n",
    "        - e.g. `length :: [a] -> Int`\n",
    "            - for any type a, length takes a list of values of type a and returns an Int\n",
    "            - `length [False, True]`\n",
    "            - `> length [False,True]\n",
    "            2`                \n",
    "    - function ignores the type\n",
    "    - behaves identically regardless of the type\n",
    "- Adhoc (overloaded) polymorphic\n",
    "    - function behaves differently for different types\n",
    "    - e.g. `sort :: Ord a => [a] -> [a]`\n",
    "### Class constraints\n",
    "- when the type is restricted to one type\n",
    "- `C a =>`\n",
    "    - `C` is the name of the class\n",
    "    - `a` is the type of variable\n",
    "    e.g. `(+) :: Num a => a -> a -> a`\n",
    "        - For any numeric type a, (+) takes two values of type a and returns a value of type a\n",
    "- Type Classes\n",
    "    - Num - numerical\n",
    "    - Eq - equality\n",
    "    - Ord - ordered\n",
    "    \n",
    "```haskell\n",
    "(+) :: Num a => a -> a -> a\n",
    "(==) :: Eq a => a -> a -> Bool\n",
    "(<) :: Ord a => a -> a -> Bool\n",
    "```"
   ]
  },
  {
   "cell_type": "markdown",
   "id": "17b5e2d3",
   "metadata": {},
   "source": [
    "### In Class 4-3\n",
    "1.  what are the types of the values?\n",
    "\n",
    "```\n",
    "(True,['a','b']) :: (Bool,[Char])\n",
    "\n",
    "['a','b','c'] :: [Char]\n",
    "    - the list has type Char\n",
    "\n",
    "('a','b','c') :: (Char, Char, Char)\n",
    "```\n",
    "    - the tuple is full of Chars (in this case)\n",
    "\n",
    "```\n",
    "[(False,'O'),(True,'1')] :: [(Bool, Char)]\n",
    "\n",
    "([False,True],['0','1']) :: ([Bool],[Int])\n",
    "\n",
    "[tail, init, reverse] :: [[a] -> [a]]\n",
    "```\n",
    "\n",
    "2.  What are the types of the functions?\n",
    "\n",
    "```\n",
    "second :: [a] -> a\n",
    "second xs = head (tail xs)\n",
    "```\n",
    "\n",
    "```\n",
    "swap :: (a, b) -> (b, a)\n",
    "swap (x, y) = (y, x)\n",
    "```\n",
    "\n",
    "```\n",
    "pair :: a -> b -> (a, b)\n",
    "pair x y = (x, y)\n",
    "```\n",
    "\n",
    "```\n",
    "double :: Num a => a -> a\n",
    "double x = x * 2\n",
    "```\n",
    "\n",
    "```\n",
    "palindrome :: [a] -> [a] -> Eq [a] => [a] -> [a] -> Bool\n",
    "palindrome xs = reverse xs == xs\n",
    "```\n",
    "\n",
    "```\n",
    "twice :: (a -> a) -> a -> a\n",
    "twice f x = f (f x)\n",
    "```"
   ]
  },
  {
   "cell_type": "markdown",
   "id": "b173a5b9",
   "metadata": {},
   "source": [
    "### Writing functions\n",
    "```haskell\n",
    "isDigit :: Char -> Bool\n",
    "isDigit c = c >= '0' && c <= '9'\n",
    "```\n",
    "- conditional expressions\n",
    "    ```haskell\n",
    "    abs :: Int -> Int\n",
    "    abs n = if n ≥ 0 then n else -n\n",
    "    ```\n",
    "    - abs takes an integer n and returns n if it is non-negative and -n otherwise\n",
    "- guarded equations\n",
    "    - like switch case in C++\n",
    "    ```haskell\n",
    "    abs :: Int -> Int\n",
    "    abs n | n ≥ 0 = n\n",
    "    | otherwise = -n\n",
    "    \n",
    "    signum n | n < 0 = -1\n",
    "    | n == 0 = 0\n",
    "    | otherwise = 1\n",
    "    ```\n",
    "    \n",
    "        - otherwise is a catch all\n",
    "            defined by otherwise = True\n",
    "    - shouldn't use nested conditionals, use this instead\n",
    "- pattern matching\n",
    "    ```haskell\n",
    "    signum n | n < 0 = -1\n",
    "    | n == 0 = 0\n",
    "    | otherwise = 1\n",
    "    ```\n",
    "    - put every possibility, it returns the case that it sees\n",
    "    ``` haskell\n",
    "        (&&) :: Bool -> Bool -> Bool\n",
    "    True && True = True\n",
    "    True && False = False\n",
    "    False && True = False\n",
    "    False && False = False\n",
    "    \n",
    "--     can be written as \n",
    "    True && True = True\n",
    "    _ && _ = False\n",
    "    ```\n",
    "   \n",
    "   - pattern matching numbers\n",
    "    ``` haskell\n",
    "    fib :: Int -> Int\n",
    "    fib 0 = 1\n",
    "    fib 1 = 1\n",
    "    fib n = fib (n-1) + fib (n-2)\n",
    "    ```\n",
    "    \n",
    "- list patterns\n",
    "    - can use `(:)` \"cons\" operator that ads element to the start of a list\n",
    "        - `1:(2:(3:(4:[])))` creates the list `[1,2,3,4]`\n",
    "    ```haskell\n",
    "    head :: [a] -> a\n",
    "    head (x:_) = x\n",
    "    tail :: [a] -> [a]\n",
    "    tail (_:xs) = xs\n",
    "    ```\n",
    "    - head and tail map any non-empty list to first and remaining elements"
   ]
  },
  {
   "cell_type": "markdown",
   "id": "f7e9ef46",
   "metadata": {},
   "source": [
    "- Lambda Functions\n",
    "    - similar to JavaScript arrow functions\n",
    "    - use the backslash key `\\` (because it's kindof like a lambda)\n",
    "    - `\\x -> x + x`\n",
    "        - nameless function that takes x and returns x + x \n",
    "    - good when you are currying\n",
    "    ``` haskell\n",
    "    odds n = map f [0..n-1]\n",
    "        where\n",
    "            f x = x*2 + 1\n",
    "    ```\n",
    "    - becomes\n",
    "    ``` haskell\n",
    "    odds n = map (\\x -> x*2 + 1) [0..n-1]\n",
    "    ```\n",
    "    \n",
    "- operator sections\n",
    "    - allow an operator to be included in parentheses\n",
    "        - `(1+)` successor\n",
    "        - `(1/)` reciprocating\n",
    "        - `(*2)` double\n",
    "        - `(/2)` halfving"
   ]
  },
  {
   "cell_type": "markdown",
   "id": "ffdb3f1c",
   "metadata": {},
   "source": [
    "### IC 4-5\n",
    "Consider a function safetail that behaves in the same way as tail, except that safetail maps the empty list to the empty list, whereas tail gives an error in this case.\n",
    "\n",
    "Define safetail using:\n",
    "1. A conditional expression\n",
    "2. Guarded equations\n",
    "3. Pattern matching\n",
    "\n",
    "Hint: the library function null :: [a] -> Bool can be used to test if a list is empty."
   ]
  },
  {
   "cell_type": "code",
   "execution_count": 3,
   "id": "50eb3b11",
   "metadata": {},
   "outputs": [],
   "source": [
    "-- tail accepts a list and returns the list without the first element\n",
    "-- safetail accepts a list and returns the list without the first element if the list is not empty and returns an empty list if the list is empty\n",
    "\n",
    "-- 1. conditional expression\n",
    "safetail :: [a] -> [a]\n",
    "safetail xs = if null xs then [] else tail xs\n",
    "\n",
    "-- 2. guarded equations\n",
    "safetail :: [a] -> [a]\n",
    "safetail xs | null xs = []\n",
    "            | otherwise = tail xs\n",
    "\n",
    "-- 3. pattern matching\n",
    "safetail :: [a] -> [a]\n",
    "safetail [] = []\n",
    "safetail (_:xs) = xs"
   ]
  },
  {
   "cell_type": "code",
   "execution_count": 5,
   "id": "317bf2bf",
   "metadata": {
    "ExecuteTime": {
     "end_time": "2023-04-05T12:13:10.456724Z",
     "start_time": "2023-04-05T12:13:01.992144Z"
    }
   },
   "outputs": [
    {
     "data": {
      "text/plain": [
       "[2,3]"
      ]
     },
     "metadata": {},
     "output_type": "display_data"
    },
    {
     "data": {
      "text/plain": [
       "[]"
      ]
     },
     "metadata": {},
     "output_type": "display_data"
    }
   ],
   "source": [
    "safetail :: [a] -> [a]\n",
    "safetail xs = if null xs then [] else tail xs\n",
    "\n",
    "-- example usage\n",
    "safetail [1,2,3]\n",
    "safetail []"
   ]
  },
  {
   "cell_type": "code",
   "execution_count": 6,
   "id": "6c8f7704",
   "metadata": {},
   "outputs": [
    {
     "data": {
      "text/plain": [
       "[2,3]"
      ]
     },
     "metadata": {},
     "output_type": "display_data"
    },
    {
     "data": {
      "text/plain": [
       "[]"
      ]
     },
     "metadata": {},
     "output_type": "display_data"
    }
   ],
   "source": [
    "safeTail :: [a] -> [a]\n",
    "safeTail xs | null xs = []\n",
    "            | otherwise = tail xs\n",
    "\n",
    "-- example usage\n",
    "safeTail [1,2,3]\n",
    "safeTail []"
   ]
  },
  {
   "cell_type": "code",
   "execution_count": 7,
   "id": "a1a71c6a",
   "metadata": {
    "ExecuteTime": {
     "end_time": "2023-04-05T12:13:11.462462Z",
     "start_time": "2023-04-05T12:13:02.035504Z"
    }
   },
   "outputs": [
    {
     "data": {
      "text/plain": [
       "[2,3]"
      ]
     },
     "metadata": {},
     "output_type": "display_data"
    },
    {
     "data": {
      "text/plain": [
       "[]"
      ]
     },
     "metadata": {},
     "output_type": "display_data"
    }
   ],
   "source": [
    "safeTail :: [a] -> [a]\n",
    "safeTail [] = []\n",
    "safeTail (_:xs) = xs\n",
    "\n",
    "-- example usage\n",
    "safeTail [1,2,3]\n",
    "safeTail []"
   ]
  },
  {
   "cell_type": "markdown",
   "id": "e6881e6d",
   "metadata": {},
   "source": [
    "### Haskell List Comprehension\n",
    "- `[x^2 | x <- [1..5]]` creates a list `[1,4,9,16,25]`, the squares of list `[1...5]`\n",
    "- Multiple Generators\n",
    "    - order matters\n",
    "        - `> [(x,y) | x <- [1,2,3], y <- [4,5]]`\n",
    "        - outputs `[(1,4),(1,5),(2,4),(2,5),(3,4),(3,5)]` \n",
    "        - `> [(x,y) | y <- [4,5], x <- [1,2,3]]`\n",
    "        - outputs `[(1,4),(2,4),(3,4),(1,5),(2,5),(3,5)] `\n",
    "- Dependent Generators\n",
    "    - variables depend on each other\n",
    "        - `[(x,y) | x <- [1..3], y <- [x..3]]`\n",
    "        ```haskell \n",
    "        concat :: [[a]] -> [a]\n",
    "    concat xss = [x | xs <- xss, x <- xs]\n",
    "    ```\n",
    "    -e.g. \n",
    "    ```haskell\n",
    "    > concat [[1,2,3],[4,5],[6]]\n",
    "    ```\n",
    "        - outputs `[1,2,3,4,5,6]`\n",
    "        \n",
    "- Guards\n",
    "    - restrict values used by earlier generators\n",
    "    ```haskell\n",
    "    factors :: Int -> [Int]\n",
    "    factors n =\n",
    "    [x | x <- [1..n], n `mod` x == 0]\n",
    "    ```\n",
    "    - e.g.\n",
    "\n",
    "    ```haskell\n",
    "    > factors 15\n",
    "    ```\n",
    "        - outputs `[1,3,5,15]`\n",
    "- Zip Function\n",
    "    - library function which maps two lists to a list of pairs of corresponding elements\n",
    "        ```haskell\n",
    "        zip :: [a] -> [b] -> [(a,b)]\n",
    "        ```\n",
    "    - e.g.\n",
    "    ```haskell\n",
    "    > zip ['a','b','c'] [1,2,3,4]\n",
    "    ```\n",
    "        - outputs `[('a',1),('b',2),('c',3)]`\n",
    "\n",
    "    ```haskell\n",
    "    sorted :: Ord a => [a] -> Bool\n",
    "    sorted xs = and [x ≤ y | (x,y) <- pairs xs]\n",
    "    ```\n",
    "    ```haskell\n",
    "    > sorted [1,2,3,4]\n",
    "    True\n",
    "    > sorted [1,3,2,4]\n",
    "    False\n",
    "    ```\n",
    "\n"
   ]
  },
  {
   "cell_type": "markdown",
   "id": "8bb49938",
   "metadata": {},
   "source": [
    "- String Manipulation via Lists\n",
    "    - strings are just lists of chars\n",
    "    - `\"abc\" :: String` is the same as `'a':'b':'c':[]` which is the same as `['a','b','c'] :: [Char]`"
   ]
  },
  {
   "cell_type": "code",
   "execution_count": 2,
   "id": "792317f9",
   "metadata": {
    "ExecuteTime": {
     "end_time": "2023-04-07T11:26:06.820889Z",
     "start_time": "2023-04-07T11:25:46.350704Z"
    }
   },
   "outputs": [
    {
     "data": {
      "text/plain": [
       "5"
      ]
     },
     "metadata": {},
     "output_type": "display_data"
    },
    {
     "data": {
      "text/plain": [
       "\"abc\""
      ]
     },
     "metadata": {},
     "output_type": "display_data"
    },
    {
     "data": {
      "text/plain": [
       "[('a',1),('b',2),('c',3)]"
      ]
     },
     "metadata": {},
     "output_type": "display_data"
    }
   ],
   "source": [
    "length \"abcde\"\n",
    "\n",
    "take 3 \"abcde\"\n",
    "zip \"abc\" [1,2,3,4]"
   ]
  },
  {
   "cell_type": "code",
   "execution_count": null,
   "id": "9abc8f9b",
   "metadata": {
    "ExecuteTime": {
     "end_time": "2023-04-07T11:40:10.429704Z",
     "start_time": "2023-04-07T11:40:10.429704Z"
    }
   },
   "outputs": [
    {
     "data": {
      "text/plain": [
       "338350"
      ]
     },
     "metadata": {},
     "output_type": "display_data"
    },
    {
     "data": {
      "text/plain": [
       "[(3,4,5),(4,3,5)]"
      ]
     },
     "metadata": {},
     "output_type": "display_data"
    },
    {
     "data": {
      "text/plain": [
       "[(3,4,5),(4,3,5),(5,12,13),(6,8,10),(8,6,10),(12,5,13)]"
      ]
     },
     "metadata": {},
     "output_type": "display_data"
    }
   ],
   "source": [
    "-- using a list comprehension give an expression that calculate the sum of the squares of the first 100 integers\n",
    "sum [x^2 | x <- [1..100]]\n",
    "\n",
    "-- a triple (x,y,z) of positive integers is such that x^2 + y^2 = z^2 use a list comprehension to define\n",
    "-- pyths:: Int -> [(Int,Int,Int)]\n",
    "\n",
    "pyths :: Int -> [(Int,Int,Int)]\n",
    "pyths n = [(x,y,z) | x <- [1..n], y <- [1..n], z <- [1..n], x^2 + y^2 == z^2]\n",
    "\n",
    "pyths 5\n",
    "pyths 13\n"
   ]
  },
  {
   "cell_type": "markdown",
   "id": "8089d53d",
   "metadata": {},
   "source": [
    "### Recursive functions\n"
   ]
  },
  {
   "cell_type": "code",
   "execution_count": 4,
   "id": "7e18f665",
   "metadata": {
    "ExecuteTime": {
     "end_time": "2023-04-10T11:09:59.726971Z",
     "start_time": "2023-04-10T11:08:50.337110Z"
    }
   },
   "outputs": [
    {
     "data": {
      "text/html": [
       "<style>/* Styles used for the Hoogle display in the pager */\n",
       ".hoogle-doc {\n",
       "display: block;\n",
       "padding-bottom: 1.3em;\n",
       "padding-left: 0.4em;\n",
       "}\n",
       ".hoogle-code {\n",
       "display: block;\n",
       "font-family: monospace;\n",
       "white-space: pre;\n",
       "}\n",
       ".hoogle-text {\n",
       "display: block;\n",
       "}\n",
       ".hoogle-name {\n",
       "color: green;\n",
       "font-weight: bold;\n",
       "}\n",
       ".hoogle-head {\n",
       "font-weight: bold;\n",
       "}\n",
       ".hoogle-sub {\n",
       "display: block;\n",
       "margin-left: 0.4em;\n",
       "}\n",
       ".hoogle-package {\n",
       "font-weight: bold;\n",
       "font-style: italic;\n",
       "}\n",
       ".hoogle-module {\n",
       "font-weight: bold;\n",
       "}\n",
       ".hoogle-class {\n",
       "font-weight: bold;\n",
       "}\n",
       ".get-type {\n",
       "color: green;\n",
       "font-weight: bold;\n",
       "font-family: monospace;\n",
       "display: block;\n",
       "white-space: pre-wrap;\n",
       "}\n",
       ".show-type {\n",
       "color: green;\n",
       "font-weight: bold;\n",
       "font-family: monospace;\n",
       "margin-left: 1em;\n",
       "}\n",
       ".mono {\n",
       "font-family: monospace;\n",
       "display: block;\n",
       "}\n",
       ".err-msg {\n",
       "color: red;\n",
       "font-style: italic;\n",
       "font-family: monospace;\n",
       "white-space: pre;\n",
       "display: block;\n",
       "}\n",
       "#unshowable {\n",
       "color: red;\n",
       "font-weight: bold;\n",
       "}\n",
       ".err-msg.in.collapse {\n",
       "padding-top: 0.7em;\n",
       "}\n",
       ".highlight-code {\n",
       "white-space: pre;\n",
       "font-family: monospace;\n",
       "}\n",
       ".suggestion-warning { \n",
       "font-weight: bold;\n",
       "color: rgb(200, 130, 0);\n",
       "}\n",
       ".suggestion-error { \n",
       "font-weight: bold;\n",
       "color: red;\n",
       "}\n",
       ".suggestion-name {\n",
       "font-weight: bold;\n",
       "}\n",
       "</style><div class=\"suggestion-name\" style=\"clear:both;\">Use foldr</div><div class=\"suggestion-row\" style=\"float: left;\"><div class=\"suggestion-warning\">Found:</div><div class=\"highlight-code\" id=\"haskell\">product [] = 1\n",
       "product (n : ns) = n * product ns</div></div><div class=\"suggestion-row\" style=\"float: left;\"><div class=\"suggestion-warning\">Why Not:</div><div class=\"highlight-code\" id=\"haskell\">product ns = foldr (*) 1 ns</div></div>"
      ],
      "text/plain": [
       "Line 7: Use foldr\n",
       "Found:\n",
       "product [] = 1\n",
       "product (n : ns) = n * product ns\n",
       "Why not:\n",
       "product ns = foldr (*) 1 ns"
      ]
     },
     "metadata": {},
     "output_type": "display_data"
    },
    {
     "data": {
      "text/plain": [
       "6"
      ]
     },
     "metadata": {},
     "output_type": "display_data"
    },
    {
     "data": {
      "text/plain": [
       "120"
      ]
     },
     "metadata": {},
     "output_type": "display_data"
    },
    {
     "data": {
      "text/plain": [
       "[5,4,3,2,1]"
      ]
     },
     "metadata": {},
     "output_type": "display_data"
    }
   ],
   "source": [
    "fac 0 = 1\n",
    "fac n= n * fac (n-1)\n",
    "\n",
    "fac 3\n",
    "\n",
    "product :: Num a => [a] -> a\n",
    "product [] = 1\n",
    "product (n:ns) = n * product ns\n",
    "\n",
    "product [1,2,3,4,5]\n",
    "\n",
    "reverse :: [a] -> [a]\n",
    "reverse [] = []\n",
    "reverse (x:xs) = reverse xs ++ [x]\n",
    "\n",
    "reverse [1,2,3,4,5]"
   ]
  },
  {
   "cell_type": "markdown",
   "id": "99997647",
   "metadata": {},
   "source": [
    "'''haskell\n",
    "product :: Num a => [a] -> a\n",
    "product [] = 1\n",
    "product (n:ns) = n * product ns\n",
    "'''\n",
    "- maps the empty list to 1 and any non-empty list to the product of its elements\n",
    "  - i.e. the product of all the numbers in the list\n",
    "### Multiple Arguments\n",
    "- functions can have multiple arguments\n",
    "    - e.g. `zip` takes two lists and returns a list of corresponding pairs\n",
    "    - e.g. `drop` takes a number and a list and drops the number of elements from the front of the list\n",
    "    - e.g. `elem` takes an element and a list and returns True if the element is in the list and False otherwise\n",
    "-\n"
   ]
  },
  {
   "cell_type": "code",
   "execution_count": null,
   "id": "37579f91",
   "metadata": {},
   "outputs": [
    {
     "data": {
      "text/plain": [
       "[(1,4),(2,5),(3,6)]"
      ]
     },
     "metadata": {},
     "output_type": "display_data"
    }
   ],
   "source": [
    "zip :: [a] -> [b] -> [(a,b)]\n",
    "zip [] _ = []\n",
    "zip _ [] = []\n",
    "zip (x:xs) (y:ys) = (x,y) : zip xs ys\n",
    "\n",
    "zip [1,2,3] [4,5,6]"
   ]
  },
  {
   "cell_type": "markdown",
   "id": "b533e4b1",
   "metadata": {},
   "source": [
    "- zip:\n",
    "    - works by taking the first element of each list and pairing them together\n",
    "    - then it takes the second element of each list and pairs them together\n",
    "    - and so on"
   ]
  },
  {
   "cell_type": "markdown",
   "id": "712d597e",
   "metadata": {},
   "source": [
    "### Quicksort\n",
    "- the empty list is already sorted\n",
    "- any non-empty list can be sorted by\n",
    "    - sorting the elements smaller than the head of the list\n",
    "        - `smaller = [a | a <- xs, a <= x]`\n",
    "    -  sorting the elements larger than the head of the list\n",
    "        - `larger = [a | a <- xs, a > x]`\n",
    "    - then concatenating the sorted smaller elements, the head of the list and the sorted larger elements\n",
    "        - `quicksort smaller ++ [x] ++ quicksort larger`\n",
    "``` haskell\n",
    "qsort :: Ord a => [a] -> [a]\n",
    "qsort [] = []\n",
    "qsort (x:xs) =\n",
    "qsort smaller ++ [x] ++ qsort larger\n",
    "where\n",
    "smaller = [a | a <- xs, a ≤ x]\n",
    "larger = [b | b <- xs, b > x]\n",
    "```"
   ]
  },
  {
   "attachments": {
    "quicksort.png": {
     "image/png": "[encoded data removed]"
    }
   },
   "cell_type": "markdown",
   "id": "997ec0f1",
   "metadata": {},
   "source": [
    "![quicksort.png](attachment:quicksort.png)"
   ]
  },
  {
   "cell_type": "markdown",
   "id": "9faf2036",
   "metadata": {},
   "source": [
    "### writing recursive functions\n",
    "- Step 1: Define the type\n",
    "    - e.g. `product :: [Int] -> Int`\n",
    "- Step 2: Enumerate the cases\n",
    "    - e.g. `product :: [Int] -> Int`\n",
    "    - e.g. `product []`\n",
    "    - e.g. `product (n:ns)`\n",
    "- Step 3: Define the simple cases\n",
    "    - e.g. `product :: [Int] -> Int`\n",
    "    - e.g. `product [] = 1`\n",
    "    - e.g. `product (n:ns) =`\n",
    "- Step 4: Define the other cases\n",
    "    - e.g. `product :: [Int] -> Int`\n",
    "    - e.g. `product [] = 1`\n",
    "    - e.g. `product (n:ns) = n * product ns`\n",
    "- Step 5: Generalize and simplify\n",
    "    - e.g. `product :: Num a => [a] -> a`\n",
    "    - e.g. `product [] = 1`\n",
    "    - e.g. `product (n:ns) = n * product ns`"
   ]
  },
  {
   "cell_type": "markdown",
   "id": "9218e424",
   "metadata": {},
   "source": [
    "- another example\n",
    "    - Step 1: Define the type\n",
    "        - e.g. `drop :: Int -> [a] -> [a]`\n",
    "    - Step 2: Enumerate the cases\n",
    "        - e.g. `drop :: Int -> [a] -> [a]`\n",
    "        - e.g. `drop 0 [] =`\n",
    "        - e.g. `drop 0 (x:xs) = `\n",
    "        - e.g. `drop n [] =`\n",
    "        - e.g. `drop n (x:xs) =`\n",
    "    - Step 3: Define the simple cases\n",
    "        - e.g. `drop :: Int -> [a] -> [a]`\n",
    "        - e.g. `drop 0 [] = []`\n",
    "        - e.g. `drop 0 (x:xs) = x:xs`\n",
    "        - e.g. `drop n [] = []`\n",
    "        - e.g. `drop n (x:xs) =`\n",
    "    - Step 4: Define the other cases\n",
    "        - e.g. `drop :: Int -> [a] -> [a]`\n",
    "        - e.g. `drop 0 [] = []`\n",
    "        - e.g. `drop 0 (x:xs) = x:xs`\n",
    "        - e.g. `drop n [] = []`\n",
    "        - e.g. `drop n (x:xs) = drop (n-1) xs`\n",
    "    - Step 5: Generalize and simplify\n",
    "        - e.g. `drop :: Int -> [a] -> [a]`\n",
    "        - e.g. ~~~`drop 0 [] = []`~~~\n",
    "        - e.g. ~~~`drop 0 (x:xs) = x:xs`~~~\n",
    "            - these can be simplified out\n",
    "        - e.g. `drop n [] = []`\n",
    "        - e.g. `drop n (x:xs) = drop (n-1) xs`\n",
    "    - Step 6: Define the function using guards\n",
    "        - e.g. `drop :: Int -> [a] -> [a]`\n",
    "        - e.g. `drop n xs | n <= 0 = xs`\n",
    "        - e.g. `drop _ [] = []`\n",
    "        - e.g. `drop n (_:xs) = drop (n-1) xs`\n",
    "                - the n in line 3 and x in line 4 can be replaced with an underscore\n",
    "                        - the underscore is a wildcard pattern that matches anything"
   ]
  },
  {
   "cell_type": "markdown",
   "id": "bfbbe9a9",
   "metadata": {},
   "source": [
    "### In Class 4-10\n",
    "1 - listsum function\n",
    "- Step 1: Define the type\n",
    "`listsum :: [Int] -> Int`\n",
    "- Step 2: Enumerate the cases\n",
    "`listsum :: [Int] -> Int`\n",
    "`listsum []`\n",
    "`listsum (n:ns)`\n",
    "- Step 3: Define the simple cases\n",
    "`listsum :: [Int] -> Int`\n",
    "`listsum (n:ns) =`\n",
    "- Step 4: Define the other cases\n",
    "`listsum :: [Int] -> Int`\n",
    "`listsum (n:ns) = n + listsum ns`\n",
    "- Step 5: Generalize and simplify\n",
    "`listsum :: Num a => [a] -> a`\n",
    "`listsum (n:ns) | null ns = n`\n",
    "`listsum (n:ns) = n + listsum ns`\n",
    "\n",
    "2 - `sumdown :: Int -> Int`\n",
    "- Step 1: Define the type\n",
    "`sumdown :: [Int] -> Int`\n",
    "- Step 2: Enumerate the cases\n",
    "`sumdown :: [Int] -> Int`\n",
    "`sumdown 0`\n",
    "- Step 3: Define the simple cases\n",
    "`sumdown :: [Int] -> Int`\n",
    "`sumdown 0 = 0`\n",
    "`sumdown n =`\n",
    "- Step 4: Define the other cases\n",
    "`sumdown :: [Int] -> Int`\n",
    "`sumdown 0 = 0`\n",
    "`sumdown n = n + sumdown (n-1)`\n",
    "- Step 5: Generalize and simplify\n",
    "`sumdown :: Int -> Int`\n",
    "`sumdown 0 = 0`\n",
    "`sumdown n = n + sumdown (n-1)`\n"
   ]
  },
  {
   "cell_type": "code",
   "execution_count": 5,
   "id": "69b0f834",
   "metadata": {
    "ExecuteTime": {
     "end_time": "2023-04-12T11:10:13.633966Z",
     "start_time": "2023-04-12T11:04:07.015556Z"
    }
   },
   "outputs": [
    {
     "data": {
      "text/plain": [
       "15"
      ]
     },
     "metadata": {},
     "output_type": "display_data"
    },
    {
     "data": {
      "text/plain": [
       "6"
      ]
     },
     "metadata": {},
     "output_type": "display_data"
    }
   ],
   "source": [
    "listsum :: Num a => [a] -> a\n",
    "listsum (n:ns) | null ns = n\n",
    "listsum (n:ns) = n + listsum ns\n",
    "\n",
    "listsum [1,2,3,4,5]\n",
    "\n",
    "sumdown :: Int -> Int\n",
    "sumdown 0 = 0\n",
    "sumdown n = n + sumdown (n-1)\n",
    "\n",
    "sumdown 3"
   ]
  },
  {
   "cell_type": "markdown",
   "id": "543a13b3",
   "metadata": {},
   "source": [
    "### Higher Order Functions\n",
    "- functions that take functions as arguments or return functions as results\n",
    "- e.g.\n",
    "    - `map :: (a -> b) -> [a] -> [b]`\n",
    "    - `map f [] = []`\n",
    "    - `map f (x:xs) = f x : map f xs`\n",
    "        - this is a recursive function that applies the function f to each element of the list and returns a new list\n",
    "- useful for\n",
    "    - encoding idioms\n",
    "        - idioms are common patterns of code represented by natural language\n",
    "    - abstracting common patterns\n",
    "        - e.g. `map` and `filter`\n",
    "    - algebraic functions\n",
    "        - e.g. `foldr`\n",
    "- filter function\n",
    "\n",
    "```haskell\n",
    "-- recursive function definition\n",
    "filter p [] = []\n",
    "filter p (x:xs)\n",
    "    | p x = x : filter p xs\n",
    "    | otherwise = filter p xs\n",
    "```\n",
    "\n",
    "```haskell\n",
    "-- list comprehension function definition\n",
    "filter p xs = [x | x <- xs, p x]\n",
    "```\n",
    "    - this is a recursive function that applies the function p to each element of the list and returns a new list with only the elements that satisfy the predicate p"
   ]
  },
  {
   "attachments": {
    "foldr.png": {
     "image/png": "[encoded data removed]"
    }
   },
   "cell_type": "markdown",
   "id": "5fc6dc72",
   "metadata": {},
   "source": [
    "- Foldr function\n",
    "    - `f [] = v`\n",
    "    - `f (x:xs) = x # f xs`\n",
    "        - this is a recursive function that applies the function f to each element of the list and returns a new list\n",
    "        - fill in the blanks\n",
    "            - `#` is the function\n",
    "            - `v` is the value\n",
    "            - `x` is the element\n",
    "            - `xs` is the list\n",
    "    - e.g.\n",
    "        ```haskell\n",
    "      sum [] = 0\n",
    "sum (x:xs) = x + sum xs\n",
    "```\n",
    "    - same as `sum = foldr (+) 0`\n",
    "    - e.g.\n",
    "        ```haskell\n",
    "      product [] = 1\n",
    "product (x:xs) = x * product xs\n",
    "```\n",
    "    - same as `product = foldr (*) 1`\n",
    "    - e.g.\n",
    "        ```haskell\n",
    "      and [] = True\n",
    "and (x:xs) = x && and xs\n",
    "```\n",
    "    - same as `and = foldr (&&) True`\n",
    "- how it works\n",
    "    - foldr simultaneously replaces each `:` in a list with the function `#` and replaces the `[]` with the value `v`\n",
    "    - e.g.\n",
    "        - `sum [1,2,3,4,5]`\n",
    "            - =\n",
    "        - `foldr (+) 0 [1,2,3,4,5]`\n",
    "            - =\n",
    "        - `foldr (+) 0 (1:(2:(3:(4:(5:[])))))`\n",
    "            - =\n",
    "        - `1+(2+(3+(4+(5+0))))`\n",
    "            - =\n",
    "        - `15`\n",
    "\n",
    "![foldr.png](attachment:foldr.png)"
   ]
  },
  {
   "cell_type": "markdown",
   "id": "c9c4b81d",
   "metadata": {},
   "source": [
    "### Other Library Functions\n",
    "- `.` returns the composition of two functions\n",
    "    -definition\n",
    "    ```haskell\n",
    "    (.) :: (b -> c) -> (a -> b) -> (a -> c)\n",
    "    f . g = \\x -> f (g x)\n",
    "    ```\n",
    "    - not as ugly in practice as the definition makes it seem\n",
    "    - e.g.\n",
    "    ```haskell\n",
    "    odd :: Int -> Bool\n",
    "    odd = not . even\n",
    "    ```\n",
    "    - e.g.\n",
    "    ```haskell\n",
    "    sumsqreven = sum . map (^2) . filter even\n",
    "    ```\n",
    "        - this function takes a list of integers and returns the sum of the squares of the even numbers in the list\n",
    "- `all` returns true if all elements of a list satisfy a predicate\n",
    "    - definition\n",
    "    ```haskell\n",
    "    all :: (a -> Bool) -> [a] -> Bool\n",
    "    all p = and . map p\n",
    "    ```\n",
    "    - e.g.\n",
    "    ```haskell\n",
    "    all even [2,4,6,8]\n",
    "    ```\n",
    "- `any` returns true if any element of a list satisfies a predicate\n",
    "- `takeWhile` selects elements from a list while a predicate holds for all elements\n",
    "    - i.e. it returns until it hits the first element that doesn't satisfy the predicate\n",
    "    - definition\n",
    "    ```haskell\n",
    "    takeWhile :: (a -> Bool) -> [a] -> [a]\n",
    "    takeWhile p [] = []\n",
    "    takeWhile p (x:xs)\n",
    "        | p x = x : takeWhile p xs\n",
    "        | otherwise = []\n",
    "    ```\n",
    "    - e.g.\n",
    "    ```haskell\n",
    "    takeWhile even [2,4,6,7,8,10]\n",
    "    ```\n",
    "- `dropWhile` removes elements from a list while a predicate holds for all elements\n",
    "    - i.e. it returns the list after the first element that doesn't satisfy the predicate"
   ]
  },
  {
   "cell_type": "code",
   "execution_count": 8,
   "id": "d645630a",
   "metadata": {
    "ExecuteTime": {
     "end_time": "2023-04-12T11:32:24.407434Z",
     "start_time": "2023-04-12T11:32:23.906359Z"
    }
   },
   "outputs": [
    {
     "data": {
      "text/plain": [
       "True"
      ]
     },
     "metadata": {},
     "output_type": "display_data"
    },
    {
     "data": {
      "text/plain": [
       "False"
      ]
     },
     "metadata": {},
     "output_type": "display_data"
    },
    {
     "data": {
      "text/plain": [
       "220"
      ]
     },
     "metadata": {},
     "output_type": "display_data"
    },
    {
     "data": {
      "text/plain": [
       "[2,4,6]"
      ]
     },
     "metadata": {},
     "output_type": "display_data"
    },
    {
     "data": {
      "text/plain": [
       "[7,8,10]"
      ]
     },
     "metadata": {},
     "output_type": "display_data"
    }
   ],
   "source": [
    "odd :: Int -> Bool\n",
    "odd = not . even\n",
    "\n",
    "odd 3\n",
    "odd 10456\n",
    "\n",
    "sumsqreven = sum . map (^2) . filter even\n",
    "\n",
    "sumsqreven [1,2,3,4,5,6,7,8,9,10]\n",
    "\n",
    "takewhile :: (a -> Bool) -> [a] -> [a]\n",
    "takewhile p [] = []\n",
    "takewhile p (x:xs)\n",
    "    | p x = x : takewhile p xs\n",
    "    | otherwise = []\n",
    "\n",
    "takewhile even [2,4,6,7,8,10]\n",
    "\n",
    "dropwhile :: (a -> Bool) -> [a] -> [a]\n",
    "dropwhile p [] = []\n",
    "dropwhile p (x:xs)\n",
    "    | p x = dropwhile p xs\n",
    "    | otherwise = x:xs\n",
    "\n",
    "dropwhile even [2,4,6,7,8,10]"
   ]
  },
  {
   "cell_type": "markdown",
   "id": "5bb48bfa",
   "metadata": {},
   "source": [
    "### In Class 4-12\n",
    "\n",
    "1. `[fx | x <- xs, p x]`\n",
    "using map and filter functions\n",
    "\n",
    "```haskell\n",
    "map f (filter p xs)\n",
    "```\n",
    "\n",
    "2. define map f using foldr\n",
    "\n",
    "```haskell\n",
    "map f = foldr (\\x xs -> f x : xs) []\n",
    "```\n",
    "3. define filter p using foldr\n",
    "\n",
    "```haskell\n",
    "filter p = foldr (\\x xs -> if p x then x:xs else xs) []\n",
    "```\n"
   ]
  },
  {
   "cell_type": "code",
   "execution_count": null,
   "id": "d95963d6",
   "metadata": {},
   "outputs": [
    {
     "ename": "",
     "evalue": "",
     "output_type": "error",
     "traceback": [
      "<interactive>:1:5: error: Variable not in scope: f :: a0 -> b\n<interactive>:1:15: error: Variable not in scope: p :: a0 -> Bool\n<interactive>:1:17: error: Variable not in scope: xs :: [a0]"
     ]
    }
   ],
   "source": [
    "map f (filter p xs)\n",
    "\n",
    "map (^2) (filter even [1,2,3,4,5,6,7,8,9,10])"
   ]
  },
  {
   "cell_type": "code",
   "execution_count": null,
   "id": "8a2efd5c",
   "metadata": {},
   "outputs": [
    {
     "data": {
      "text/plain": [
       "[4,16,36,64,100]"
      ]
     },
     "metadata": {},
     "output_type": "display_data"
    }
   ],
   "source": [
    "map f = foldr (\\x xs -> f x : xs) []\n",
    "\n",
    "map (^2) (filter even [1,2,3,4,5,6,7,8,9,10])"
   ]
  },
  {
   "cell_type": "code",
   "execution_count": null,
   "id": "e6c71751",
   "metadata": {},
   "outputs": [
    {
     "data": {
      "text/plain": [
       "[2,4,6,8,10]"
      ]
     },
     "metadata": {},
     "output_type": "display_data"
    }
   ],
   "source": [
    "filter p = foldr (\\x xs -> if p x then x:xs else xs) []\n",
    "\n",
    "filter even [1,2,3,4,5,6,7,8,9,10]"
   ]
  },
  {
   "cell_type": "markdown",
   "id": "29ef1986",
   "metadata": {},
   "source": [
    "### Type Declarations\n",
    "- use the `type` declaration to give a name to a type\n",
    "```haskell\n",
    "type Position = (Int, Int) -- defines an x and y position\n",
    "\n",
    "origin :: Position\n",
    "origin = (0,0)\n",
    "left :: Position -> Position\n",
    "left (x,y) = (x-1,y)\n",
    "```\n",
    "\n",
    "- can be nested but not recursive\n",
    "```haskell\n",
    "type Pos = (Int,Int)\n",
    "type Trans = Pos -> Pos\n",
    "```\n",
    "\n",
    "### Data Declarations\n",
    "- use the `data` declaration to define a new type\n",
    "```haskell\n",
    "data Answer = Yes | No | Unknown\n",
    "```\n",
    "- the values of this type are `Yes`, `No`, and `Unknown`\n",
    "    - these are called the constructors of the type\n",
    "    - they must begin with a capital letter\n",
    "```haskell\n",
    "answers :: [Answer]\n",
    "answers = [Yes,No,Unknown]\n",
    "\n",
    "flip :: Answer -> Answer\n",
    "flip Yes = No\n",
    "flip No = Yes\n",
    "flip Unknown = Unknown\n",
    "```\n",
    "- constructors can take arguments\n",
    "```haskell\n",
    "data Shape = Circle Float -- circle takes one argument of type float, the radius\n",
    "            | Rect Float Float -- rect takes two arguments of type float, the width and height\n",
    "```\n",
    "- Shape is a type with two constructors\n",
    "    - Circle takes one argument of type Float\n",
    "    - Rect takes two arguments of type Float\n",
    "```haskell\n",
    "area :: Shape -> Float -- takes a shape and returns a float\n",
    "area (Circle r) = pi * r^2\n",
    "area (Rect x y) = x * y\n",
    "```"
   ]
  },
  {
   "cell_type": "markdown",
   "id": "24aa13e7",
   "metadata": {},
   "source": [
    "### Data Declaration Parameters\n",
    "- can use type parameters in data declarations\n",
    "```haskell\n",
    "data Maybe a = Nothing | Just a\n",
    "```\n",
    "- Maybe is a built-in type\n",
    "    - Maybe a is a type with two constructors\n",
    "        - Nothing takes no arguments\n",
    "        - Just takes one argument of type a\n",
    "```haskell\n",
    "safeDiv :: Int -> Int -> Maybe Int\n",
    "safeDiv _ 0 = Nothing\n",
    "safeDiv m n = Just (m `div` n)\n",
    "```\n"
   ]
  },
  {
   "cell_type": "code",
   "execution_count": null,
   "id": "8decb1ac",
   "metadata": {},
   "outputs": [
    {
     "ename": "",
     "evalue": "",
     "output_type": "error",
     "traceback": [
      "<interactive>:1:1: error:\n    • No instance for (Show (Ghci2.Maybe Int)) arising from a use of ‘print’\n      There are instances for similar types: instance Show a => Show (IHaskellPrelude.Maybe a) -- Defined in ‘GHC.Show’\n    • In a stmt of an interactive GHCi command: print it"
     ]
    }
   ],
   "source": [
    "data Maybe a = Nothing | Just a\n",
    "\n",
    "safediv :: Int -> Int -> Maybe Int\n",
    "safediv _ 0 = Nothing\n",
    "safediv m n = Just (m `div` n)\n",
    "\n",
    "\n",
    "safeDiv 10 2\n",
    "safeDiv 10 0\n",
    "-- debug later"
   ]
  },
  {
   "cell_type": "markdown",
   "id": "78e4eac2",
   "metadata": {},
   "source": [
    "### Recursive Data Declarations\n",
    "- new types can be declared in terms of themselves\n",
    "```haskell\n",
    "data List a = Empty | Cons a (List a)\n",
    "```\n",
    "- List is a type with two constructors\n",
    "    - Empty takes no arguments\n",
    "    - Cons takes one argument of type a and one argument of type List a\n",
    "```haskell\n",
    "len :: List a -> Int\n",
    "len Empty = 0\n",
    "len (Cons _ xs) = 1 + len xs\n",
    "```\n",
    "- can also be used to define trees\n",
    "```haskell\n",
    "data Tree a = Leaf a | Node (Tree a) (Tree a)\n",
    "```\n",
    "- Tree is a type with two constructors\n",
    "    - Leaf takes one argument of type a\n",
    "    - Node takes two arguments of type Tree a\n",
    "```haskell\n",
    "size :: Tree a -> Int\n",
    "size (Leaf a) = 1\n",
    "size (Node lhs _ rhs) = size lhs + 1 + size rhs\n",
    "flatten :: Tree a -> [a]\n",
    "flatten (Leaf a) = [a]\n",
    "flatten (Node lhs a rhs) = flatten lhs ++ [a] ++ flatten rhs\n",
    "```\n"
   ]
  },
  {
   "cell_type": "code",
   "execution_count": 6,
   "id": "3e8df998",
   "metadata": {
    "ExecuteTime": {
     "end_time": "2023-04-17T11:01:23.039405Z",
     "start_time": "2023-04-17T11:01:03.795747Z"
    }
   },
   "outputs": [
    {
     "data": {
      "text/plain": [
       "[1,3,4,5,6,7,9]"
      ]
     },
     "metadata": {},
     "output_type": "display_data"
    }
   ],
   "source": [
    "data Tree a = Leaf a | Node (Tree a) a (Tree a)\n",
    "\n",
    "size :: Tree a -> Int\n",
    "size (Leaf a) = 1\n",
    "size (Node lhs _ rhs) = size lhs + 1 + size rhs\n",
    "flatten :: Tree a -> [a]\n",
    "flatten (Leaf a) = [a]\n",
    "flatten (Node lhs a rhs) = flatten lhs ++ [a] ++ flatten rhs\n",
    "\n",
    "t :: Tree Int\n",
    "t = Node (Node (Leaf 1) 3 (Leaf 4)) 5 (Node (Leaf 6) 7 (Leaf 9))\n",
    "\n",
    "flatten t"
   ]
  },
  {
   "cell_type": "markdown",
   "id": "1f8f2bbe",
   "metadata": {},
   "source": []
  },
  {
   "cell_type": "markdown",
   "id": "aeb04b9a",
   "metadata": {},
   "source": [
    "### In Class 4-14\n",
    "Consider the following type of binary trees:\n",
    "data Tree a = Leaf a | Node (Tree a) (Tree a)\n",
    "• Let us say that such a tree is balanced if the number of leaves in the\n",
    "left and right subtree of every node differs by at most one.\n",
    "\n",
    "1. Define a function that returns the number leaves\n",
    "in a tree:\n",
    "leaves :: Tree a -> Int\n",
    "\n",
    "2. Use the leaves function, to define a function:\n",
    "balanced :: Tree a -> Bool\n",
    "That decides if a binary tree is balanced or not."
   ]
  },
  {
   "cell_type": "code",
   "execution_count": 1,
   "id": "3f4f9b93",
   "metadata": {
    "ExecuteTime": {
     "end_time": "2023-04-19T11:03:11.433670Z",
     "start_time": "2023-04-19T11:03:11.009368Z"
    }
   },
   "outputs": [],
   "source": [
    "data Tree a = Leaf a | Node (Tree a) a (Tree a)\n",
    "\n",
    "leaves :: Tree a -> Int\n",
    "leaves (Leaf a) = 1 -- base case, leaf has one leaf\n",
    "leaves (Node lhs _ rhs) = leaves lhs + leaves rhs -- recursive case, add the leaves of the left and right subtrees\n",
    "\n",
    "balanced :: Tree a -> Bool -- base case, balanced if the number of leaves in the left and right subtree of every node differs by at most one\n",
    "balanced (Leaf a) = True -- base case, balanced if the number of leaves in the left and right subtree of every node differs by at most one\n",
    "balanced (Node lhs _ rhs) = abs (leaves lhs - leaves rhs) <= 1 && balanced lhs && balanced rhs -- recursive case, balanced if the number of leaves in the left and right subtree of every node differs by at most one"
   ]
  },
  {
   "cell_type": "code",
   "execution_count": 2,
   "id": "5aa9bdc2",
   "metadata": {
    "ExecuteTime": {
     "end_time": "2023-04-19T11:11:22.751693Z",
     "start_time": "2023-04-19T11:03:11.430659Z"
    }
   },
   "outputs": [
    {
     "data": {
      "text/plain": [
       "4"
      ]
     },
     "metadata": {},
     "output_type": "display_data"
    },
    {
     "data": {
      "text/plain": [
       "True"
      ]
     },
     "metadata": {},
     "output_type": "display_data"
    }
   ],
   "source": [
    "t :: Tree Int -- \n",
    "t = Node (Node (Leaf 1) 3 (Leaf 4)) 5 (Node (Leaf 6) 7 (Leaf 9))\n",
    "\n",
    "leaves t\n",
    "balanced t"
   ]
  },
  {
   "cell_type": "markdown",
   "id": "506ddc53",
   "metadata": {},
   "source": [
    "### Countdown Problem\n",
    "- quiz program on British television based on a French version \"Des Chiffres et Des Lettres\"\n",
    "- Assignment 7 will be an inefficient solution to the countdown problem and two stages of optimization\n",
    "- e.g. given the numbers `1, 3, 7, 10, 25, 50` and `+` `-` `*` `/` `(` `)` and the target number `765`, find an expression that evaluates to `765`\n",
    "    - all numbers are positive integers\n",
    "    - the expression must use each number exactly once\n",
    "    - there are 780 possible solutions to this example\n",
    "  - e.g. target `831` using the above numbers\n",
    "    - there are no solutions to this example with the numbers provided\n",
    "\n",
    "1. Define a type to represent the operators\n",
    "    ```haskell\n",
    "    data Op = Add | Sub | Mul | Div | Pow\n",
    "    instance Show Op where\n",
    "        show Add = \"+\"\n",
    "        show Sub = \"-\"\n",
    "        show Mul = \"*\"\n",
    "        show Div = \"/\"\n",
    "        show Pow = \"^\"\n",
    "    ```\n",
    "    - `Op` is a type with five constructors\n",
    "        - `Add`, `Sub`, `Mul`, `Div`, and `Pow`\n",
    "        - `Add`, `Sub`, `Mul`, and `Div` take no arguments\n",
    "        - `Pow` takes one argument of type `Int`\n",
    "    ```haskell\n",
    "    apply :: Op -> Int -> Int -> Int\n",
    "    apply Add x y = x + y\n",
    "    apply Sub x y = x - y\n",
    "    apply Mul x y = x * y\n",
    "    apply Div x y = x `div` y\n",
    "    ```\n",
    "    - `apply` takes an operator and two numbers and applies the operator to the numbers\n",
    "    ```haskell\n",
    "    valid :: Op -> Int -> Int -> Bool\n",
    "    valid Add _ _ = True\n",
    "    valid Sub x y = x > y\n",
    "    valid Mul _ _ = True\n",
    "    valid Div x y = y /= 0 && x `mod` y == 0\n",
    "    ```\n",
    "    - `valid` takes an operator and two numbers and returns `True` if the operator can be applied to the numbers\n",
    "        - `Sub 2 3` is not valid because 2 is not greater than 3\n",
    "        - `Div 2 3` is not valid because 3 does not divide 2 evenly\n",
    "    ```haskell\n",
    "    data Expr = Val Int | App Op Expr Expr\n",
    "    instance Show Expr where\n",
    "        show (Val n) = show n\n",
    "        show (App o l r) = brak l ++ show o ++ brak r\n",
    "            where\n",
    "                brak (Val n) = show n\n",
    "                brak e = \"(\" ++ show e ++ \")\"\n",
    "\n",
    "    eval :: Expr -> [Int]\n",
    "    eval (Val n) = [n | n > 0]\n",
    "    eval (App o l r) = [apply o x y | x <- eval l\n",
    "    , y <- eval r\n",
    "    , valid o x y]\n",
    "    ```\n",
    "    - `Expr` is a type with two constructors\n",
    "        - `Val` takes one argument of type `Int`\n",
    "        - `App` takes one argument of type `Op` and two arguments of type `Expr`\n",
    "    - eval evaluates the expression and returns the result of the operations\n",
    "    - e.g.\n",
    "    ```\n",
    "    Main> eval (App Add (Val 2)(Val 3))\n",
    "    [5]\n",
    "    Main> eval (App Sub (Val 2)(Val 3))\n",
    "    []\n",
    "    ```\n",
    "    ```haskell\n",
    "    subs :: [a] -> [[a]]\n",
    "    subs [] = [[]]\n",
    "    subs (x:xs) = yss ++ map (x:) yss\n",
    "                        where yss = subs xs\n",
    "    interleave :: a -> [a] -> [[a]]\n",
    "    interleave x [] = [[x]]\n",
    "    interleave x (y:ys) = (x:y:ys) : map (y:) (interleave x ys)\n",
    "    perms :: [a] -> [[a]]\n",
    "    perms [] = [[]]\n",
    "    perms (x:xs) = concat (map (interleave x) (perms xs))\n",
    "    choices :: [a] -> [[a]]\n",
    "    choices = concat . map perms . subs\n",
    "    ```\n",
    "    - `subs` takes a list and returns a list of all possible subsequences\n",
    "    - `interleave` takes an element and a list and returns a list of all possible lists with the element inserted between each element of the list\n",
    "    - `perms` takes a list and returns a list of all possible permutations of the list\n",
    "    - `choices` takes a list and returns a list of all possible choices of the list\n",
    "        - a choice is a permutation of a subsequence\n",
    "    - e.g.\n",
    "    ```\n",
    "    Main> choices [1,2] -- all possible choices of [1,2]\n",
    "    [[],[1],[2],[1,2],[2,1]]\n",
    "\n",
    "    Main> perms [1,2] -- all possible permutations of [1,2]\n",
    "    [[1,2],[2,1]]\n",
    "\n",
    "    Main> map perms (subs [1,2])  -- all possible permutations of all possible subsequences of [1,2]\n",
    "    [[[]],[[2]],[[1]],[[1,2],[2,1]]]\n",
    "\n",
    "    Main> concat (map perms (subs [1,2]))  -- all possible permutations of all possible subsequences of [1,2] concatenated in order\n",
    "    [[],[2],[1],[1,2],[2,1]]\n",
    "    ```\n",
    "    ```haskell\n",
    "    solution :: Expr -> [Int] -> Int -> Bool\n",
    "    solution e ns n = elem (values e) (choices ns)\n",
    "                        && eval e == [n]\n",
    "    ```\n",
    "    - `solution` takes an expression, a list of numbers, and a target number and returns `True` if the expression can be evaluated to the target number using the numbers\n",
    "    - e.g.\n",
    "    ```\n",
    "    Main> solution e [1,3,7,10,25,50] 765\n",
    "    True\n",
    "    ```\n",
    "    ```haskell\n",
    "    split :: [a] -> [([a],[a])]\n",
    "    split [] = []\n",
    "    split [_] = []\n",
    "    split (x:xs) = ([x],xs) : [(x:ls,rs)\n",
    "                                    | (ls,rs) <- split xs]\n",
    "    ```\n",
    "2.  Brute Force solution\n",
    "    - `split` takes a list and returns a list of all possible splits of the list\n",
    "        - a split is a pair of lists\n",
    "        - the first list contains the first element of the original list\n",
    "        - the second list contains the rest of the original list\n",
    "            - the second list can be empty\n",
    "    - e.g.\n",
    "    ```\n",
    "    Main> split [1,2,3,4]\n",
    "    [((1,[]),(2,3,4)),((1,2),(3,4)),((1,2,3),(4,))]\n",
    "    ```\n",
    "    ```haskell\n",
    "    combine :: Expr -> Expr -> [Expr]\n",
    "    combine l r =\n",
    "            [App o l r | o <- [Add,Sub,Mul,Div]]\n",
    "    ```\n",
    "    - `combine` takes two expressions and returns a list of all possible expressions that combine the two expressions\n",
    "        - the expressions are combined using the four operators\n",
    "    ```haskell\n",
    "    exprs :: [Int] -> [Expr]\n",
    "    exprs [] = []\n",
    "    exprs [n] = [Val n]\n",
    "    exprs ns = [e | (ls,rs) <- split ns\n",
    "    , l <- exprs ls\n",
    "    , r <- exprs rs\n",
    "    , e <- combine l r]\n",
    "    ```\n",
    "    - `exprs` takes a list of numbers and returns a list of all possible expressions that can be formed using the numbers\n",
    "        - the expressions are formed by combining the numbers using the four operators\n",
    "    - e.g.\n",
    "    ```haskell\n",
    "    solutions :: [Int] -> Int -> [Expr]\n",
    "    solutions ns n = [e | ns' <- choices ns\n",
    "                                , e <- exprs ns'\n",
    "                                , eval e == [n]]\n",
    "    ```\n",
    "    - `solutions` takes a list of numbers and a target number and returns a list of all possible expressions that can be formed using the numbers and evaluated to the target number\n",
    "        - the expressions are formed by combining the numbers using the four operators\n",
    "                - the numbers can be used in any order\n",
    "    - e.g.\n",
    "    ```\n",
    "    main :: IO ()\n",
    "    main = print (solutions [1,3,7,10,25,50] 765)\n",
    "    ```\n",
    "    - `main` prints all possible solutions to the problem\n",
    "        - the solutions are printed in a list\n"
   ]
  },
  {
   "cell_type": "markdown",
   "id": "65152f1a",
   "metadata": {},
   "source": []
  },
  {
   "cell_type": "markdown",
   "id": "107b78de",
   "metadata": {},
   "source": [
    "compiling and performance testing\n",
    "```bash\n",
    "ghc countdown.hs\n",
    "[1 of 1] Compiling Main\n",
    "Linking countdown ...\n",
    "```"
   ]
  },
  {
   "cell_type": "markdown",
   "id": "2b4d4235",
   "metadata": {},
   "source": [
    "compiling and performance testing\n",
    "```bash\n",
    "$ time ./countdown\n",
    "[[1,3,7,10,25,50], ...]\n",
    "```"
   ]
  },
  {
   "cell_type": "markdown",
   "id": "58500db7",
   "metadata": {},
   "source": [
    "### In Class 4-17\n",
    "redefine choices to use a list comprehension rather than concat and map\n",
    "```haskell\n",
    "choices :: [a] -> [[a]]\n",
    "choices xs = [zs | ys <- subs xs, zs <- perms ys]\n",
    "```"
   ]
  },
  {
   "cell_type": "code",
   "execution_count": 1,
   "id": "632238a7",
   "metadata": {},
   "outputs": [
    {
     "ename": "",
     "evalue": "",
     "output_type": "error",
     "traceback": [
      "<interactive>:2:26: error: Variable not in scope: subs :: [a] -> [t0]\n<interactive>:2:41: error: Variable not in scope: perms :: t0 -> [[a]]"
     ]
    }
   ],
   "source": [
    "choices :: [a] -> [[a]]\n",
    "choices xs = [zs | ys <- subs xs, zs <- perms ys]"
   ]
  },
  {
   "cell_type": "code",
   "execution_count": 2,
   "id": "0740d518",
   "metadata": {
    "scrolled": true
   },
   "outputs": [
    {
     "data": {
      "text/html": [
       "<style>/* Styles used for the Hoogle display in the pager */\n",
       ".hoogle-doc {\n",
       "display: block;\n",
       "padding-bottom: 1.3em;\n",
       "padding-left: 0.4em;\n",
       "}\n",
       ".hoogle-code {\n",
       "display: block;\n",
       "font-family: monospace;\n",
       "white-space: pre;\n",
       "}\n",
       ".hoogle-text {\n",
       "display: block;\n",
       "}\n",
       ".hoogle-name {\n",
       "color: green;\n",
       "font-weight: bold;\n",
       "}\n",
       ".hoogle-head {\n",
       "font-weight: bold;\n",
       "}\n",
       ".hoogle-sub {\n",
       "display: block;\n",
       "margin-left: 0.4em;\n",
       "}\n",
       ".hoogle-package {\n",
       "font-weight: bold;\n",
       "font-style: italic;\n",
       "}\n",
       ".hoogle-module {\n",
       "font-weight: bold;\n",
       "}\n",
       ".hoogle-class {\n",
       "font-weight: bold;\n",
       "}\n",
       ".get-type {\n",
       "color: green;\n",
       "font-weight: bold;\n",
       "font-family: monospace;\n",
       "display: block;\n",
       "white-space: pre-wrap;\n",
       "}\n",
       ".show-type {\n",
       "color: green;\n",
       "font-weight: bold;\n",
       "font-family: monospace;\n",
       "margin-left: 1em;\n",
       "}\n",
       ".mono {\n",
       "font-family: monospace;\n",
       "display: block;\n",
       "}\n",
       ".err-msg {\n",
       "color: red;\n",
       "font-style: italic;\n",
       "font-family: monospace;\n",
       "white-space: pre;\n",
       "display: block;\n",
       "}\n",
       "#unshowable {\n",
       "color: red;\n",
       "font-weight: bold;\n",
       "}\n",
       ".err-msg.in.collapse {\n",
       "padding-top: 0.7em;\n",
       "}\n",
       ".highlight-code {\n",
       "white-space: pre;\n",
       "font-family: monospace;\n",
       "}\n",
       ".suggestion-warning { \n",
       "font-weight: bold;\n",
       "color: rgb(200, 130, 0);\n",
       "}\n",
       ".suggestion-error { \n",
       "font-weight: bold;\n",
       "color: red;\n",
       "}\n",
       ".suggestion-name {\n",
       "font-weight: bold;\n",
       "}\n",
       "</style><div class=\"suggestion-name\" style=\"clear:both;\">Use concatMap</div><div class=\"suggestion-row\" style=\"float: left;\"><div class=\"suggestion-warning\">Found:</div><div class=\"highlight-code\" id=\"haskell\">concat (map (interleave x) (perms xs))</div></div><div class=\"suggestion-row\" style=\"float: left;\"><div class=\"suggestion-warning\">Why Not:</div><div class=\"highlight-code\" id=\"haskell\">concatMap (interleave x) (perms xs)</div></div>"
      ],
      "text/plain": [
       "Line 38: Use concatMap\n",
       "Found:\n",
       "concat (map (interleave x) (perms xs))\n",
       "Why not:\n",
       "concatMap (interleave x) (perms xs)"
      ]
     },
     "metadata": {},
     "output_type": "display_data"
    }
   ],
   "source": [
    "data Op = Add | Sub | Mul | Div | Pow\n",
    "instance Show Op where\n",
    "    show Add = \"+\"\n",
    "    show Sub = \"-\"\n",
    "    show Mul = \"*\"\n",
    "    show Div = \"/\"\n",
    "    show Pow = \"^\"\n",
    "\n",
    "apply :: Op -> Int -> Int -> Int\n",
    "apply Add x y = x + y\n",
    "apply Sub x y = x - y\n",
    "apply Mul x y = x * y\n",
    "apply Div x y = x `div` y\n",
    "\n",
    "valid :: Op -> Int -> Int -> Bool\n",
    "valid Add _ _ = True\n",
    "valid Sub x y = x > y\n",
    "valid Mul _ _ = True\n",
    "valid Div x y = y /= 0 && x `mod` y == 0\n",
    "\n",
    "data Expr = Val Int | App Op Expr Expr\n",
    "instance Show Expr where\n",
    "    show (Val n) = show n\n",
    "    show (App o l r) = brak l ++ show o ++ brak r\n",
    "                        where\n",
    "                            brak (Val n) = show n\n",
    "                            brak e = \"(\" ++ show e ++ \")\"\n",
    "\n",
    "subs :: [a] -> [[a]]\n",
    "subs [] = [[]]\n",
    "subs (x:xs) = yss ++ map (x:) yss\n",
    "                  where yss = subs xs\n",
    "interleave :: a -> [a] -> [[a]]\n",
    "interleave x [] = [[x]]\n",
    "interleave x (y:ys) = (x:y:ys) : map (y:) (interleave x ys)\n",
    "perms :: [a] -> [[a]]\n",
    "perms [] = [[]]\n",
    "perms (x:xs) = concat (map (interleave x) (perms xs))\n",
    "\n",
    "choices :: [a] -> [[a]]\n",
    "choices xs = [zs | ys <- subs xs, zs <- perms ys] -- list comprehension\n",
    "-- explain the function choices\n",
    "-- choices takes a list and returns a list of all possible choices of the list -- a choice is a permutation of a subsequence"
   ]
  },
  {
   "cell_type": "markdown",
   "id": "d8534e9b",
   "metadata": {},
   "source": [
    "No I don't know \"Use concatMap\" means"
   ]
  },
  {
   "cell_type": "code",
   "execution_count": 3,
   "id": "ba922cd3",
   "metadata": {
    "ExecuteTime": {
     "end_time": "2023-04-19T11:02:45.515795Z",
     "start_time": "2023-04-19T11:01:05.426957Z"
    }
   },
   "outputs": [
    {
     "data": {
      "text/plain": [
       "[[],[3],[5],[5,3],[3,5],[1],[1,3],[3,1],[1,5],[5,1],[1,5,3],[5,1,3],[5,3,1],[1,3,5],[3,1,5],[3,5,1]]"
      ]
     },
     "metadata": {},
     "output_type": "display_data"
    }
   ],
   "source": [
    "-- proof of functionality\n",
    "choices [1,5,3]"
   ]
  },
  {
   "cell_type": "markdown",
   "id": "6805b79d",
   "metadata": {},
   "source": [
    "### Haskell Sodoku\n",
    "- in C++ this is > 200 lines of code\n",
    "- in Haskell this is <50 lines of code\n",
    "- rules:\n",
    "    - each row must contain the numbers 1-9\n",
    "    - each column must contain the numbers 1-9\n",
    "    - each 3x3 box must contain the numbers 1-9\n",
    "    - no box/row/column can contain the same number twice\n",
    "- example:\n",
    "  ![sudoku](https://upload.wikimedia.org/wikipedia/commons/thumb/f/ff/Sudoku-by-L2G-20050714.svg/250px-Sudoku-by-L2G-20050714.svg.png)\n",
    "- example solution:\n",
    "- ![sudoku solution](https://upload.wikimedia.org/wikipedia/commons/thumb/3/31/Sudoku-by-L2G-20050714_solution.svg/250px-Sudoku-by-L2G-20050714_solution.svg.png)"
   ]
  },
  {
   "cell_type": "markdown",
   "id": "3f2e5441",
   "metadata": {},
   "source": []
  },
  {
   "cell_type": "markdown",
   "id": "359a191c",
   "metadata": {},
   "source": [
    "### types and functions\n",
    "- types\n",
    "```haskell\n",
    "type Grid = Matrix Char -- a grid is a matrix of characters\n",
    "type Matrix a = [Row a] -- a matrix is a list of rows\n",
    "type Row a = [a] -- a row is a list of elements\n",
    "```\n",
    "- basic definitions\n",
    "```haskell\n",
    "boxsize :: Int -- the size of a box\n",
    "boxsize = 3 -- a box is 3x3\n",
    "values :: [Char] -- the possible values in a cell\n",
    "values = ['1'..'9'] -- the values are 1-9\n",
    "empty :: Char -> Bool -- is a cell empty?\n",
    "empty = (== ' ') -- a cell is empty if it contains a space\n",
    "single :: [a] -> Bool  -- is a list a single element?\n",
    "single [_] = True  -- a list is a single element if it contains a single element\n",
    "single _ = False  -- a list is not a single element if it contains more than one element\n",
    "```\n",
    "- functions\n",
    "```haskell\n",
    "import Data.List  -- import the Data.List module\n",
    "rows :: Matrix a -> [Row a]  -- get the rows of a matrix\n",
    "rows m = m  -- the rows of a matrix are the matrix itself\n",
    "\n",
    "cols :: Matrix a -> [Row a] -- get the columns of a matrix\n",
    "cols = transpose  -- the columns of a matrix are the transpose of the matrix\n",
    "\n",
    "boxs :: Matrix a -> [Row a]  -- get the boxes of a matrix\n",
    "boxs = unpack . map cols . pack  -- the boxes of a matrix are the columns of the boxes of the matrix\n",
    "    where\n",
    "        pack = split . map split  -- pack a matrix into boxes\n",
    "        split = chop boxsize  -- split a list into sublists of length boxsize\n",
    "        unpack = map concat . concat  -- unpack a matrix of boxes into a matrix\n",
    "chop :: Int -> [a] -> [[a]]  -- chop a list into sublists of length n\n",
    "chop n [] = []  -- chop an empty list into an empty list\n",
    "chop n xs = take n xs : chop n (drop n xs)  -- chop a list into a list of sublists of length n\n",
    "```\n",
    "- checking if a grid is valid\n",
    "```haskell\n",
    "valid :: Grid -> Bool  -- is a grid valid?\n",
    "valid g = all nodups (rows g) &&  -- a grid is valid if all rows, columns, and boxes are valid\n",
    "            all nodups (cols g) &&  -- a grid is invalid if any rows, columns, or boxes are invalid\n",
    "            all nodups (boxs g)  -- a grid is invalid if any rows, columns, or boxes are invalid\n",
    "nodups :: Eq a => [a] -> Bool  -- are all elements of a list unique?\n",
    "nodups [] = True  -- a list is unique if it is empty\n",
    "nodups (x:xs) = not (elem x xs) && nodups xs  -- a list is unique if its head is not in its tail and its tail is unique\n",
    "```\n",
    "- making choices\n",
    "    - replace each blank square with a list of possible values\n",
    "```haskell\n",
    "values :: [Char]   -- the possible values in a cell\n",
    "values = ['1'..'9’]  -- the values are 1-9\n",
    "choices :: Grid -> Matrix [Char]  -- make choices for a grid\n",
    "choices = map (map choice)  -- make choices for each cell in a grid\n",
    "    where  -- a cell is a choice if it is empty or a singleton\n",
    "        choice v = if empty v then values else [v]  -- a cell is a choice if it is empty or a singleton\n",
    "```\n",
    "- collapsing the choices\n",
    "    - uses the cartesian product function to find all possible ways to fill in the blanks\n",
    "        - cp creates a list of all possible combinations of the elements of a list of lists\n",
    "        - e.g. cp [[1,2],[3,4]] = [[1,3],[1,4],[2,3],[2,4]]\n",
    "```haskell\n",
    "cp :: [[a]] -> [[a]]  -- cartesian product of a list of lists\n",
    "cp [] = [[]]    -- the cartesian product of an empty list is the empty list\n",
    "cp (xs:xss) = [y:ys | y <- xs, ys <- cp xss]  -- the cartesian product of a list of lists is the list of all possible combinations of the elements of the list of lists\n",
    "\n",
    "collapse :: Matrix [Char] -> [Grid]  -- collapse a matrix of choices into a list of grids\n",
    "collapse = cp . map cp  -- collapse a matrix of choices into a list of grids\n",
    "```"
   ]
  },
  {
   "attachments": {
    "soduko_ic.png": {
     "image/png": "[encoded data removed]"
    }
   },
   "cell_type": "markdown",
   "id": "a545348e",
   "metadata": {},
   "source": [
    "### In Class 4-19\n",
    "- using this grid:\n",
    "- ![soduko_ic.png](attachment:soduko_ic.png)\n",
    "1. (5,3)\n",
    "2. "
   ]
  },
  {
   "cell_type": "code",
   "execution_count": 4,
   "id": "38519874",
   "metadata": {
    "ExecuteTime": {
     "end_time": "2023-04-19T11:37:26.161963Z",
     "start_time": "2023-04-19T11:37:26.161963Z"
    }
   },
   "outputs": [],
   "source": [
    "type Grid = Matrix Char -- a grid is a matrix of characters\n",
    "type Matrix a = [Row a] -- a matrix is a list of rows\n",
    "type Row a = [a] -- a row is a list of elements\n",
    "\n",
    "boxsize :: Int -- the size of a box\n",
    "boxsize = 3 -- a box is 3x3\n",
    "values :: [Char] -- the possible values in a cell\n",
    "values = ['1'..'9'] -- the values are 1-9\n",
    "empty :: Char -> Bool -- is a cell empty?\n",
    "empty = (== ' ') -- a cell is empty if it contains a space\n",
    "single :: [a] -> Bool  -- is a list a single element?\n",
    "single [_] = True  -- a list is a single element if it contains a single element\n",
    "single _ = False  -- a list is not a single element if it contains more than one element\n",
    "\n",
    "import Data.List  -- import the Data.List module\n",
    "rows :: Matrix a -> [Row a]  -- get the rows of a matrix\n",
    "rows m = m  -- the rows of a matrix are the matrix itself\n",
    "\n",
    "cols :: Matrix a -> [Row a] -- get the columns of a matrix\n",
    "cols = transpose  -- the columns of a matrix are the transpose of the matrix\n",
    "\n",
    "boxs :: Matrix a -> [Row a]  -- get the boxes of a matrix\n",
    "boxs = unpack . map cols . pack  -- the boxes of a matrix are the columns of the boxes of the matrix\n",
    "    where\n",
    "        pack = split . map split  -- pack a matrix into boxes\n",
    "        split = chop boxsize  -- split a list into sublists of length boxsize\n",
    "        unpack = map concat . concat  -- unpack a matrix of boxes into a matrix\n",
    "chop :: Int -> [a] -> [[a]]  -- chop a list into sublists of length n\n",
    "chop n [] = []  -- chop an empty list into an empty list\n",
    "chop n xs = take n xs : chop n (drop n xs)  -- chop a list into a list of sublists of length n\n",
    "\n",
    "valid :: Grid -> Bool  -- is a grid valid?\n",
    "valid g = all nodups (rows g) &&  -- a grid is valid if all rows, columns, and boxes are valid\n",
    "            all nodups (cols g) &&  -- a grid is invalid if any rows, columns, or boxes are invalid\n",
    "            all nodups (boxs g)  -- a grid is invalid if any rows, columns, or boxes are invalid\n",
    "nodups :: Eq a => [a] -> Bool  -- are all elements of a list unique?\n",
    "nodups [] = True  -- a list is unique if it is empty\n",
    "nodups (x:xs) = not (elem x xs) && nodups xs  -- a list is unique if its head is not in its tail and its tail is unique\n",
    "\n",
    "values :: [Char]   -- the possible values in a cell\n",
    "values = ['1'..'9']  -- the values are 1-9\n",
    "choices :: Grid -> Matrix [Char]  -- make choices for a grid\n",
    "choices = map (map choice)  -- make choices for each cell in a grid\n",
    "    where  -- a cell is a choice if it is empty or a singleton\n",
    "        choice v = if empty v then values else [v]  -- a cell is a choice if it is empty or a singleton\n",
    "        \n",
    "cp :: [[a]] -> [[a]]  -- cartesian product of a list of lists\n",
    "cp [] = [[]]    -- the cartesian product of an empty list is the empty list\n",
    "cp (xs:xss) = [y:ys | y <- xs, ys <- cp xss]  -- the cartesian product of a list of lists is the list of all possible combinations of the elements of the list of lists\n",
    "\n",
    "collapse :: Matrix [a] -> [Matrix a] -- collapse a matrix of choices into a list of matrices\n",
    "collapse = cp . map cp  -- collapse a matrix of choices into a list of matrices"
   ]
  },
  {
   "cell_type": "code",
   "execution_count": 5,
   "id": "677defda",
   "metadata": {
    "ExecuteTime": {
     "end_time": "2023-04-19T11:37:34.409658Z",
     "start_time": "2023-04-19T11:37:34.409658Z"
    }
   },
   "outputs": [
    {
     "data": {
      "text/plain": [
       "[[1,2,3,4],[5,6,7,8],[9,10,11,12],[13,14,15,16]]"
      ]
     },
     "metadata": {},
     "output_type": "display_data"
    },
    {
     "data": {
      "text/plain": [
       "[[1,5,9,13],[2,6,10,14],[3,7,11,15],[4,8,12,16]]"
      ]
     },
     "metadata": {},
     "output_type": "display_data"
    },
    {
     "data": {
      "text/plain": [
       "[[1,2,3,5,6,7,9,10,11],[4,8,12],[13,14,15],[16]]"
      ]
     },
     "metadata": {},
     "output_type": "display_data"
    },
    {
     "data": {
      "text/plain": [
       "[[\"123456789\",\"3\"],[\"5\",\"123456789\"]]"
      ]
     },
     "metadata": {},
     "output_type": "display_data"
    },
    {
     "data": {
      "text/plain": [
       "[[[1,3],[4,1]],[[1,3],[4,2]],[[2,3],[4,1]],[[2,3],[4,2]]]"
      ]
     },
     "metadata": {},
     "output_type": "display_data"
    }
   ],
   "source": [
    "rows [[1,2,3,4],[5,6,7,8],[9,10,11,12],[13,14,15,16]]\n",
    "cols [[1,2,3,4],[5,6,7,8],[9,10,11,12],[13,14,15,16]]\n",
    "boxs [[1,2,3,4],[5,6,7,8],[9,10,11,12],[13,14,15,16]]\n",
    "choices [ [' ','3'], ['5',' '] ]\n",
    "collapse [ [[1,2],[3]], [[4],[1,2]] ]"
   ]
  }
 ],
 "metadata": {
  "kernelspec": {
   "display_name": "Haskell",
   "language": "haskell",
   "name": "haskell"
  },
  "language_info": {
   "codemirror_mode": "ihaskell",
   "file_extension": ".hs",
   "mimetype": "text/x-haskell",
   "name": "haskell",
   "pygments_lexer": "Haskell",
   "version": "9.2.7"
  }
 },
 "nbformat": 4,
 "nbformat_minor": 5
}
