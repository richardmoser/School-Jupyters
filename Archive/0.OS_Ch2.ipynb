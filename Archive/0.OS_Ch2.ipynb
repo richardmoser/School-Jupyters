{
 "cells": [
  {
   "cell_type": "code",
   "execution_count": 2,
   "id": "a25ea7e81563205",
   "metadata": {
    "ExecuteTime": {
     "end_time": "2023-10-03T17:57:32.636234900Z",
     "start_time": "2023-10-03T17:57:32.618087400Z"
    },
    "collapsed": false,
    "jupyter": {
     "outputs_hidden": false
    }
   },
   "outputs": [
    {
     "name": "stdout",
     "output_type": "stream",
     "text": []
    }
   ],
   "source": [
    "print(\"\")"
   ]
  },
  {
   "cell_type": "markdown",
   "id": "c374574a76790728",
   "metadata": {
    "collapsed": false,
    "jupyter": {
     "outputs_hidden": false
    }
   },
   "source": [
    "### OS services at user level\n",
    "- UI\n",
    "    - CLI\n",
    "    - GUI\n",
    "    - touch (if applicable) \n",
    "- Program execution\n",
    "    - load program into memory\n",
    "    - run program\n",
    "- I/O operations\n",
    "    - read/write file\n",
    "    - read/write device\n",
    "- File system manipulation\n",
    "    - create/delete file\n",
    "    - create/delete directory\n",
    "- inter-process communication\n",
    "    - shared memory\n",
    "    - message passing\n",
    "- error detection\n",
    "    - hardware errors\n",
    "    - IO errors\n",
    "    - program errors"
   ]
  },
  {
   "cell_type": "markdown",
   "id": "fc23f6a63b66a360",
   "metadata": {
    "collapsed": false,
    "jupyter": {
     "outputs_hidden": false
    }
   },
   "source": [
    "### OS services at system level\n",
    "- resource allocation\n",
    "    - CPU\n",
    "    - memory\n",
    "    - I/O devices\n",
    "- accounting\n",
    "    - track usage\n",
    "    - resource utilization\n",
    "- protection and security\n",
    "    - ensure access control to resources\n",
    "    - protect system from malicious users\n",
    "    - user authentication, file access control, address space protection, etc."
   ]
  },
  {
   "cell_type": "markdown",
   "id": "bf1151cc15011a09",
   "metadata": {
    "collapsed": false,
    "jupyter": {
     "outputs_hidden": false
    }
   },
   "source": []
  },
  {
   "cell_type": "markdown",
   "id": "af096b1c4b0c8c40",
   "metadata": {
    "collapsed": false,
    "jupyter": {
     "outputs_hidden": false
    }
   },
   "source": [
    "### System Calls\n",
    "- request privileged operations from OS\n",
    "- usually written in high-level language (C/C++)\n",
    "- usually accessed via application programming interface (API)\n",
    "    - provides simpler interface to system calls\n",
    "    - reduces coupling between application and kernel\n",
    "- common APIs\n",
    "    - Win32/Win64 API (Windows)\n",
    "    - POSIX API (Unix/Linux/Mac OS X)\n",
    "- implementation\n",
    "    - software trap\n",
    "        - trap instruction (e.g., int 0x80 on x86 machines)\n",
    "    - syscall instruction\n",
    "        - syscall instruction (e.g., syscall)\n",
    "        - fast control transfer to kernel\n",
    "    - both of these are assembly language instructions\n",
    "    - most other calls are via an API\n",
    "        - e.g. cout to print to screen\n",
    "- mundane tasks such as copying a file will require multiple system calls\n",
    "    - open file\n",
    "    - read file\n",
    "    - write file\n",
    "    - close file\n",
    "    - etc. (many more actually)\n",
    "- passing parameters to the OS\n",
    "    - pass in registers\n",
    "        - simplest and fastest approach\n",
    "        - but what if more parameters than registers?\n",
    "    - store arguments in a block on stack\n",
    "        - pass stack location in a register\n",
    "    - parameters are pushed to stack by program\n",
    "        - popped off stack by OS\n",
    "        - pure register is rarely used\n"
   ]
  },
  {
   "cell_type": "markdown",
   "id": "f4a5ab31b5b40c15",
   "metadata": {
    "collapsed": false,
    "jupyter": {
     "outputs_hidden": false
    }
   },
   "source": [
    "### Unrelated aside on debugging\n",
    "- compilation\n",
    "    - `gcc -g -o hello hello.c`\n",
    "    - `-g` flag is for debugging\n",
    "        - adds debugging information to the executable\n",
    "    - `-o` flag is for output\n",
    "        - specifies the name of the output file\n",
    "        - if not specified, the default is `a.out` \n",
    "- debugging\n",
    "    - `gdb hello`\n",
    "        - `gdb` is the GNU debugger\n",
    "        - `hello` is the executable to debug\n",
    "- gdb\n",
    "    - shows the assembly code for the program"
   ]
  },
  {
   "cell_type": "markdown",
   "id": "2e3e92cf4ac58b27",
   "metadata": {
    "collapsed": false,
    "jupyter": {
     "outputs_hidden": false
    }
   },
   "source": [
    "### System Programs\n",
    "- user level utility programs shipped with OS\n",
    "    - not part of kernel\n",
    "- e.g.\n",
    "    - file management\n",
    "    - status information, file modification, file copying, etc.\n",
    "    - file modification\n",
    "    - language specific software\n",
    "        - compilers, interpreters, etc.\n",
    "    - loading and execution\n",
    "        - absolute loaders, relocatable loaders, linkers, etc.\n",
    "    - communication\n",
    "        - e.g., ssh, telnet, ftp, etc."
   ]
  },
  {
   "cell_type": "markdown",
   "id": "ef21ba720ca7665c",
   "metadata": {
    "collapsed": false,
    "jupyter": {
     "outputs_hidden": false
    }
   },
   "source": [
    "### Quiz\n",
    "- OS manages \n",
    "    - Printer, hard disk, memory, cpu\n",
    "    - not registers or processor cache\n",
    "- OS supports user with\n",
    "    - file read and write\n",
    "- T/F multiprogramming\n",
    "    - two + jobs can run at the same time (T)\n",
    "    - two jobs can run on the same core at the same time (F)\n",
    "    - the os can keep cpu and io busy at the same time (T)\n",
    "    - os can involuntarily remove a job from the cpu (F)\n",
    "    - os can provide more efficient operation compared to multitasking (T)\n",
    "        - less frequent job switching\n",
    "    - suitable for interactive systems (F)\n",
    "        - one job may hog the cpu\n",
    "- OS uses address space to stop programs from crashing each other but not into the OS\n",
    "    - is mapped into the address space of each process\n",
    "- memory address of IVT is known to CPU\n",
    "- at startup, OS is idle until interrupted"
   ]
  },
  {
   "cell_type": "markdown",
   "id": "bf44603417f325cc",
   "metadata": {
    "collapsed": false,
    "jupyter": {
     "outputs_hidden": false
    }
   },
   "source": [
    "### break in chapter 2 6Sep23\n",
    "- up to slide 16\n",
    "- will return to this chapter later"
   ]
  }
 ],
 "metadata": {
  "kernelspec": {
   "display_name": "Python 3 (ipykernel)",
   "language": "python",
   "name": "python3"
  },
  "language_info": {
   "codemirror_mode": {
    "name": "ipython",
    "version": 3
   },
   "file_extension": ".py",
   "mimetype": "text/x-python",
   "name": "python",
   "nbconvert_exporter": "python",
   "pygments_lexer": "ipython3",
   "version": "3.10.4"
  }
 },
 "nbformat": 4,
 "nbformat_minor": 5
}
