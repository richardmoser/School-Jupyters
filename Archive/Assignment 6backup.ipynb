{
 "cells": [
  {
   "cell_type": "code",
   "execution_count": 1,
   "outputs": [],
   "source": [
    "-- write a function replicate' similar to the length function whcih produces a list of n copies of a value"
   ],
   "metadata": {
    "collapsed": false,
    "ExecuteTime": {
     "start_time": "2023-04-17T23:34:14.971062Z",
     "end_time": "2023-04-17T23:34:19.250054Z"
    }
   }
  },
  {
   "cell_type": "code",
   "execution_count": 2,
   "id": "f1d412fd",
   "metadata": {
    "ExecuteTime": {
     "start_time": "2023-04-17T23:24:39.004569Z",
     "end_time": "2023-04-17T23:25:49.908889Z"
    }
   },
   "outputs": [],
   "source": [
    "replicate' :: Int -> a -> [a]\n",
    "replicate' n x\n",
    "    | n <= 0 = []\n",
    "    | otherwise = x : replicate' (n-1) x"
   ]
  },
  {
   "cell_type": "code",
   "execution_count": 4,
   "id": "b0a943ba",
   "metadata": {
    "ExecuteTime": {
     "start_time": "2023-04-17T23:26:11.607332Z",
     "end_time": "2023-04-17T23:26:27.277244Z"
    }
   },
   "outputs": [
    {
     "data": {
      "text/plain": "[True,True,True]"
     },
     "metadata": {},
     "output_type": "display_data"
    },
    {
     "data": {
      "text/plain": "[\"test code\",\"test code\",\"test code\",\"test code\",\"test code\"]"
     },
     "metadata": {},
     "output_type": "display_data"
    }
   ],
   "source": [
    "replicate' 3 True\n",
    "replicate' 5 \"test code\""
   ]
  },
  {
   "cell_type": "code",
   "execution_count": 5,
   "outputs": [],
   "source": [
    "-- write a function perfects which returns a list of all perfect numbers up to a given limit"
   ],
   "metadata": {
    "collapsed": false,
    "ExecuteTime": {
     "start_time": "2023-04-17T23:25:49.898828Z",
     "end_time": "2023-04-17T23:26:34.479589Z"
    }
   }
  },
  {
   "cell_type": "code",
   "execution_count": 10,
   "outputs": [],
   "source": [
    "perfects :: Int -> [Int]\n",
    "perfects n = [x | x <- [1..n], isPerfect x]\n",
    "    where isPerfect num = sum (init (factors num)) == num\n",
    "          factors num = [x | x <- [1..num], num `mod` x == 0]"
   ],
   "metadata": {
    "collapsed": false,
    "ExecuteTime": {
     "start_time": "2023-04-17T23:27:38.673446Z",
     "end_time": "2023-04-17T23:27:53.109718Z"
    }
   }
  },
  {
   "cell_type": "code",
   "execution_count": null,
   "outputs": [
    {
     "data": {
      "text/plain": "[6,28,496]"
     },
     "metadata": {},
     "output_type": "display_data"
    }
   ],
   "source": [
    "perfects 500\n",
    "perfects 9000"
   ],
   "metadata": {
    "collapsed": false
   }
  },
  {
   "cell_type": "code",
   "execution_count": null,
   "outputs": [],
   "source": [
    "-- write a function find"
   ],
   "metadata": {
    "collapsed": false,
    "ExecuteTime": {
     "start_time": "2023-04-17T23:26:11.641249Z",
     "end_time": "2023-04-17T23:27:23.520853Z"
    }
   }
  },
  {
   "cell_type": "code",
   "execution_count": 2,
   "outputs": [],
   "source": [
    "find :: Eq a => a -> [(a,b)] -> [b]\n",
    "find k t = [v | (k',v) <- t, k == k']"
   ],
   "metadata": {
    "collapsed": false,
    "ExecuteTime": {
     "start_time": "2023-04-17T23:34:19.247057Z",
     "end_time": "2023-04-17T23:34:20.023840Z"
    }
   }
  },
  {
   "cell_type": "code",
   "execution_count": null,
   "outputs": [
    {
     "data": {
      "text/plain": "[2,4]"
     },
     "metadata": {},
     "output_type": "display_data"
    },
    {
     "data": {
      "text/plain": "[3,25]"
     },
     "metadata": {},
     "output_type": "display_data"
    }
   ],
   "source": [
    "find 'b' [('a',1),('b',2),('c',3),('b',4)]\n",
    "find 'c' [('a',1),('b',2),('c',3),('b',4), ('c',25)]"
   ],
   "metadata": {
    "collapsed": false,
    "ExecuteTime": {
     "start_time": "2023-04-17T23:28:11.029728Z",
     "end_time": "2023-04-17T23:28:44.437631Z"
    },
    "pycharm": {
     "is_executing": true
    }
   }
  },
  {
   "cell_type": "code",
   "execution_count": 5,
   "outputs": [],
   "source": [
    "-- write a function positions which returns a list of positions at which a value occurs in a list using the find function"
   ],
   "metadata": {
    "collapsed": false,
    "ExecuteTime": {
     "start_time": "2023-04-17T23:29:16.419846Z",
     "end_time": "2023-04-17T23:29:58.148150Z"
    }
   }
  },
  {
   "cell_type": "code",
   "execution_count": 7,
   "outputs": [],
   "source": [
    "positions :: Eq a => a -> [a] -> [Int]\n",
    "positions x xs = find x (zip xs [0..n])\n",
    "    where n = length xs - 1"
   ],
   "metadata": {
    "collapsed": false
   }
  },
  {
   "cell_type": "code",
   "execution_count": 8,
   "outputs": [
    {
     "data": {
      "text/plain": "[1,2,4,7]"
     },
     "metadata": {},
     "output_type": "display_data"
    },
    {
     "data": {
      "text/plain": "[0,3,5,6]"
     },
     "metadata": {},
     "output_type": "display_data"
    }
   ],
   "source": [
    "positions 0 [1,0,0,1,0,1,1,0]\n",
    "positions 1 [1,0,0,1,0,1,1,0]"
   ],
   "metadata": {
    "collapsed": false,
    "ExecuteTime": {
     "start_time": "2023-04-17T23:30:05.504944Z",
     "end_time": "2023-04-17T23:30:55.943755Z"
    }
   }
  },
  {
   "cell_type": "code",
   "execution_count": 9,
   "outputs": [],
   "source": [
    "-- write a function scalarproduct which returns the scalar product of two lists"
   ],
   "metadata": {
    "collapsed": false,
    "ExecuteTime": {
     "start_time": "2023-04-17T23:30:55.962129Z",
     "end_time": "2023-04-17T23:31:09.837243Z"
    }
   }
  },
  {
   "cell_type": "code",
   "execution_count": null,
   "outputs": [],
   "source": [
    "scalarproduct :: Num a => [a] -> [a] -> a\n",
    "scalarproduct xs ys = sum [x*y | (x,y) <- zip xs ys]"
   ],
   "metadata": {
    "collapsed": false,
    "pycharm": {
     "is_executing": true
    }
   }
  },
  {
   "cell_type": "code",
   "execution_count": null,
   "outputs": [],
   "source": [
    "scalarproduct [1,2,3] [4,5,6]\n",
    "scalarproduct [-1,2,3] [-4,-5,6]"
   ],
   "metadata": {
    "collapsed": false
   }
  }
 ],
 "metadata": {
  "kernelspec": {
   "display_name": "Haskell",
   "language": "haskell",
   "name": "haskell"
  },
  "language_info": {
   "codemirror_mode": "ihaskell",
   "file_extension": ".hs",
   "mimetype": "text/x-haskell",
   "name": "haskell",
   "pygments_lexer": "Haskell",
   "version": "9.2.7"
  }
 },
 "nbformat": 4,
 "nbformat_minor": 5
}
