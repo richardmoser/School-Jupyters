{
 "cells": [
  {
   "cell_type": "code",
   "execution_count": null,
   "id": "initial_id",
   "metadata": {
    "collapsed": true
   },
   "outputs": [],
   "source": [
    ""
   ]
  },
  {
   "metadata": {
    "ExecuteTime": {
     "end_time": "2024-05-05T17:30:37.247096Z",
     "start_time": "2024-05-05T17:30:37.233716Z"
    }
   },
   "cell_type": "code",
   "source": [
    "from math import log2\n",
    "\n",
    "def entropy(p):\n",
    "    if p == 0 or p == 1:\n",
    "        return 0\n",
    "    return -p * log2(p) - (1 - p) * log2(1 - p)\n",
    "\n",
    "# Entropy calculations\n",
    "entropy_eyes_more_than_10 = entropy(1/3)\n",
    "entropy_eyes_less_than_5 = entropy(1)  # Only 'yes' outcomes, p = 1, entropy = 0\n",
    "entropy_green = entropy(1/2)\n",
    "entropy_black = entropy(1/3)\n",
    "\n",
    "print(\"Entropy (Alive | Eyes > 10):\", entropy_eyes_more_than_10)\n",
    "print(\"Entropy (Alive | Eyes < 5):\", entropy_eyes_less_than_5)\n",
    "print(\"Entropy (Alive | Green):\", entropy_green)\n",
    "print(\"Entropy (Alive | Black):\", entropy_black)\n"
   ],
   "id": "abacab04b6f08551",
   "outputs": [
    {
     "name": "stdout",
     "output_type": "stream",
     "text": [
      "Entropy (Alive | Eyes > 10): 0.9182958340544896\n",
      "Entropy (Alive | Eyes < 5): 0\n",
      "Entropy (Alive | Green): 1.0\n",
      "Entropy (Alive | Black): 0.9182958340544896\n"
     ]
    }
   ],
   "execution_count": 2
  },
  {
   "metadata": {},
   "cell_type": "code",
   "outputs": [],
   "execution_count": null,
   "source": "",
   "id": "c072ed19505d3e6f"
  }
 ],
 "metadata": {
  "kernelspec": {
   "display_name": "Python 3",
   "language": "python",
   "name": "python3"
  },
  "language_info": {
   "codemirror_mode": {
    "name": "ipython",
    "version": 2
   },
   "file_extension": ".py",
   "mimetype": "text/x-python",
   "name": "python",
   "nbconvert_exporter": "python",
   "pygments_lexer": "ipython2",
   "version": "2.7.6"
  }
 },
 "nbformat": 4,
 "nbformat_minor": 5
}
