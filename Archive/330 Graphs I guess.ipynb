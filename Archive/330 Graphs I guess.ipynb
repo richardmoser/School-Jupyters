{
 "cells": [
  {
   "cell_type": "markdown",
   "id": "73b845b2",
   "metadata": {},
   "source": [
    "### "
   ]
  },
  {
   "cell_type": "markdown",
   "id": "e3e64c7a",
   "metadata": {},
   "source": [
    "### poss question\n",
    "given a digraph, find all the strongly connected components\n",
    "\n",
    "- O(|v|+|e|) + O(|v|+|e|) + O(|v|) = O(|v|+|e|)"
   ]
  },
  {
   "cell_type": "code",
   "execution_count": null,
   "id": "cae91232",
   "metadata": {},
   "outputs": [],
   "source": []
  }
 ],
 "metadata": {
  "kernelspec": {
   "display_name": "ROOT C++",
   "language": "c++",
   "name": "root"
  },
  "language_info": {
   "codemirror_mode": "text/x-c++src",
   "file_extension": ".C",
   "mimetype": " text/x-c++src",
   "name": "c++"
  }
 },
 "nbformat": 4,
 "nbformat_minor": 5
}
