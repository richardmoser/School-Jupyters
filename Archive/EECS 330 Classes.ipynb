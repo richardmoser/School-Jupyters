{
 "cells": [
  {
   "cell_type": "markdown",
   "id": "aabe3c0b",
   "metadata": {},
   "source": [
    "### Classes\n",
    "- .h files basically get tacked on to the beginning of main.cc by the compiler\n",
    "    - in case of multiple headers, use\n",
    "    \n",
    "\n",
    "```c++\n",
    "#ifndef myheader_H\n",
    "#define myheader_H\n",
    "```\n",
    "    - tells the compiler to disregard anything that is already defined\n",
    "        - e.g. if myheader1.h has a function bob() and myheader2.h includes mhyeader1.h, on compilation, the compiler pastes myheader1.h to the top of main.cc and then myheader2.cc but when it hits the include myheader1.h line in myheader2.h, it doesn't paste myheader1.h again"
   ]
  },
  {
   "cell_type": "code",
   "execution_count": null,
   "id": "bb15271c",
   "metadata": {},
   "outputs": [],
   "source": [
    "class Num1\n",
    "{\n",
    "    public:\n",
    "    // constructor: like __init__\n",
    "    // must be named the same thing as the class\n",
    "    Num1(const int value){ // can have arguments but shouldn't return anything\n",
    "        data = new int;\n",
    "        *data = value;\n",
    "        std::cout << \"hello, constructor\" << std::endl;\n",
    "    }\n",
    "    \n",
    "    \n",
    "    // destructor: last function called before destruction of object\n",
    "    ~Num1(){ // collect the memory which has been allocated for any variables created\n",
    "        delete data;\n",
    "        std::cout << \"goodbye, destructor\" << std::endl;\n",
    "\n",
    "    }\n",
    "    Num(const Num1& x){\n",
    "        //data = x.data;\n",
    "        *data = *x.data;\n",
    "        std::cout << \"hello, copy constructor\" << std::endl;\n",
    "    }\n",
    "    \n",
    "    void print(void){\n",
    "        std::cout << *data << std::endl;\n",
    "    }\n",
    "    \n",
    "    \n",
    "    private:\n",
    "        int *data = nullptr; // using a pointer forces the data to be stored in heap\n",
    "        \n",
    "}"
   ]
  },
  {
   "cell_type": "code",
   "execution_count": null,
   "id": "90ebd689",
   "metadata": {},
   "outputs": [],
   "source": [
    "Num bob(4564);\n",
    "// Num b(a);\n",
    "bob.print();\n",
    "\n",
    "Num steve(3.14159265358979)\n"
   ]
  },
  {
   "cell_type": "markdown",
   "id": "706b5120",
   "metadata": {},
   "source": [
    "- num cannot handle floats as written"
   ]
  },
  {
   "cell_type": "code",
   "execution_count": 4,
   "id": "dfd23955",
   "metadata": {},
   "outputs": [],
   "source": [
    "class Num2\n",
    "{\n",
    "    public:\n",
    "    // constructor: like __init__\n",
    "    // must be named the same thing as the class\n",
    "    Num2(const float value){ // can have arguments but shouldn't return anything\n",
    "        data = new float;\n",
    "        *data = value;\n",
    "        std::cout << \"hello, constructor\" << std::endl;\n",
    "    }\n",
    "    \n",
    "    \n",
    "    // destructor: last function called before destruction of object\n",
    "    ~Num2(){ // collect the memory which has been allocated for any variables created\n",
    "        delete data;\n",
    "        std::cout << \"goodbye, destructor\" << std::endl;\n",
    "\n",
    "    }\n",
    "    Num2(const Num2& x){\n",
    "        //data = x.data;\n",
    "        *data = *x.data;\n",
    "        std::cout << \"hello, copy constructor\" << std::endl;\n",
    "    }\n",
    "    \n",
    "    void print(void){\n",
    "        std::cout << *data << std::endl;\n",
    "    }\n",
    "    \n",
    "    \n",
    "    private:\n",
    "        float *data = nullptr; // using a pointer forces the data to be stored in heap\n",
    "        \n",
    "}"
   ]
  },
  {
   "cell_type": "code",
   "execution_count": 5,
   "id": "66aa453c",
   "metadata": {
    "scrolled": true
   },
   "outputs": [
    {
     "name": "stdout",
     "output_type": "stream",
     "text": [
      "hello, constructor\n",
      "4564\n",
      "hello, constructor\n",
      "3.14159\n"
     ]
    }
   ],
   "source": [
    "Num2 bob(4564);\n",
    "// Num b(a);\n",
    "bob.print();\n",
    "\n",
    "Num2 steve(3.14159265358979);\n",
    "steve.print();\n"
   ]
  },
  {
   "cell_type": "markdown",
   "id": "d22579f4",
   "metadata": {},
   "source": [
    "- now Num2 can use ints or floats but it is converting the ints to floats \n",
    "- lets make one below that accepts both\n",
    "    - you have to specify in the object declaration (in main.cc or whereever)\n",
    "    \n",
    "    `ClassName<datatype> variable(initialvalue);`"
   ]
  },
  {
   "cell_type": "code",
   "execution_count": 5,
   "id": "33a6762c",
   "metadata": {
    "scrolled": true
   },
   "outputs": [
    {
     "name": "stderr",
     "output_type": "stream",
     "text": [
      "\u001B[1minput_line_51:38:5: \u001B[0m\u001B[0;1;31merror: \u001B[0m\u001B[1mexpected member name or ';' after declaration specifiers\u001B[0m\n",
      "    {\n",
      "\u001B[0;1;32m    ^\n",
      "\u001B[0m\u001B[1minput_line_51:9:9: \u001B[0m\u001B[0;1;31merror: \u001B[0m\u001B[1mmember initializer 'data' does not name a non-static data member or base class\u001B[0m\n",
      "        data{value} //comment out either this or the block below\n",
      "\u001B[0;1;32m        ^~~~~~~~~~~\n",
      "\u001B[0m\u001B[1minput_line_51:21:16: \u001B[0m\u001B[0;1;31merror: \u001B[0m\u001B[1muse of undeclared identifier 'data'\u001B[0m\n",
      "        delete data;\n",
      "\u001B[0;1;32m               ^\n",
      "\u001B[0m\u001B[1minput_line_51:27:10: \u001B[0m\u001B[0;1;31merror: \u001B[0m\u001B[1muse of undeclared identifier 'data'\u001B[0m\n",
      "        *data = *x.data;\n",
      "\u001B[0;1;32m         ^\n",
      "\u001B[0m\u001B[1minput_line_51:32:23: \u001B[0m\u001B[0;1;31merror: \u001B[0m\u001B[1muse of undeclared identifier 'data'\u001B[0m\n",
      "        std::cout << *data << std::endl;\n",
      "\u001B[0;1;32m                      ^\n",
      "\u001B[0m"
     ]
    }
   ],
   "source": [
    "template <typename NumType>\n",
    "\n",
    "class Num\n",
    "{\n",
    "    public:\n",
    "    // constructor: like __init__\n",
    "    // must be named the same thing as the class\n",
    "    Num(const NumType value = 0) :// can have arguments but shouldn't return anything\n",
    "        data{value} //comment out either this or the block below\n",
    "//         pi{3.14159}\n",
    "        \n",
    "    { \n",
    "//         data = new NumType;\n",
    "//         *data = value;\n",
    "        std::cout << \"hello, constructor\" << std::endl;\n",
    "    }\n",
    "    \n",
    "    \n",
    "    // destructor: last function called before destruction of object\n",
    "    ~Num(){ // collect the memory which has been allocated for any variables created\n",
    "        delete data;\n",
    "        std::cout << \"goodbye, destructor\" << std::endl;\n",
    "\n",
    "    }\n",
    "    Num(const Num& x){\n",
    "        //data = x.data;\n",
    "        *data = *x.data;\n",
    "        std::cout << \"hello, copy constructor\" << std::endl;\n",
    "    }\n",
    "    \n",
    "    void print(void){\n",
    "        std::cout << *data << std::endl;\n",
    "    }\n",
    "\n",
    "    //move\n",
    "    Num operator = (Num && rhs);// :\n",
    "       // data{rhs.data}\n",
    "    {\n",
    "        rhs.data = nullptr;\n",
    "        return *this;\n",
    "    }\n",
    "    \n",
    "    private:\n",
    "        float *data = nullptr; // using a pointer forces the data to be stored in heap\n",
    "//         NumType *data = nullptr; // using a pointer forces the data to be stored in heap\n",
    "        bool isntegative;\n",
    "        const float pi;\n",
    "        \n",
    "};"
   ]
  },
  {
   "cell_type": "markdown",
   "id": "ee6f37b8",
   "metadata": {},
   "source": [
    "debug the above"
   ]
  },
  {
   "cell_type": "code",
   "execution_count": null,
   "id": "25cafa6a",
   "metadata": {},
   "outputs": [],
   "source": [
    "Num3<int> bob(4564);\n",
    "// Num b(a);\n",
    "bob.print();\n",
    "\n",
    "Num3<float> steve(3.14159265358979);\n",
    "steve.print();\n",
    "\n",
    "Num3<char> sarah(\"k\");\n",
    "sarah.print();\n"
   ]
  },
  {
   "cell_type": "code",
   "execution_count": 3,
   "id": "ceb016bd",
   "metadata": {
    "scrolled": false
   },
   "outputs": [
    {
     "name": "stderr",
     "output_type": "stream",
     "text": [
      "\u001B[1minput_line_49:35:5: \u001B[0m\u001B[0;1;31merror: \u001B[0m\u001B[1mexpected member name or ';' after declaration specifiers\u001B[0m\n",
      "    {\n",
      "\u001B[0;1;32m    ^\n",
      "\u001B[0m\u001B[1minput_line_49:14:9: \u001B[0m\u001B[0;1;31merror: \u001B[0m\u001B[1muse of undeclared identifier 'data'\u001B[0m\n",
      "        data = new DataType [init_capacity]; // makes an array\n",
      "\u001B[0;1;32m        ^\n",
      "\u001B[0m\u001B[1minput_line_49:20:19: \u001B[0m\u001B[0;1;31merror: \u001B[0m\u001B[1muse of undeclared identifier 'data'\u001B[0m\n",
      "        delete [] data; // square brackets tell delete that it is an array. \n",
      "\u001B[0;1;32m                  ^\n",
      "\u001B[0m"
     ]
    }
   ],
   "source": [
    "#ifndef _MY_VECTOR_\n",
    "#define _MY_VECTOR_\n",
    "#include <iostream>\n",
    "\n",
    "template <typename DataType>\n",
    "class MyVector\n",
    "{\n",
    "    public:\n",
    "    //constructor\n",
    "    MyVector(const int init_capacity = 16) :\n",
    "        theCapacity{init_capacity},\n",
    "        theSize{0}\n",
    "    {\n",
    "        data = new DataType [init_capacity]; // makes an array\n",
    "    }\n",
    "        \n",
    "    \n",
    "    ~MyVector()\n",
    "    {\n",
    "        delete [] data; // square brackets tell delete that it is an array. \n",
    "        //Without [], only the 0th index is deleted (memory leak)\n",
    "    }\n",
    "    \n",
    "    int size(void)\n",
    "    {\n",
    "        return theSize;\n",
    "    }\n",
    "    \n",
    "    int capacity(void)\n",
    "    {\n",
    "        return theCapacity;\n",
    "    }\n",
    "    \n",
    "    void print(void);\n",
    "    {\n",
    "        for(int i=0; i < theSize; ++i)\n",
    "        {\n",
    "            cout << data[i] << endl; // prints data of ith element\n",
    "            cout << *(data + i) << << endl; // prints pointer locatoin of~ ith element \n",
    "        }\n",
    "    }\n",
    "        \n",
    "    void insert(const DataType &value, const int index)\n",
    "    {\n",
    "        if(index < thesize && theSize < the Capacity)\n",
    "        {\n",
    "            for(i = theSize - 1; i >= index; --i)\n",
    "            {\n",
    "                data[i + 1] = move(data[i]);\n",
    "            }\n",
    "            data[index] = value;\n",
    "        }\n",
    "        return;\n",
    "    }\n",
    "    \n",
    "    private:\n",
    "        DataType *data = nullptr; // initializes data as a pointer to nothing\n",
    "        int theSize; // number of elements we have\n",
    "        int theCapacity; // number of elements possible\n",
    "\n",
    "\n",
    "};\n",
    "\n",
    "#endif"
   ]
  },
  {
   "cell_type": "code",
   "execution_count": 2,
   "id": "13da4cae",
   "metadata": {},
   "outputs": [
    {
     "name": "stderr",
     "output_type": "stream",
     "text": [
      "\u001B[1minput_line_48:119:20: \u001B[0m\u001B[0;1;31merror: \u001B[0m\u001B[1mclass member cannot be redeclared\u001B[0m\n",
      "    const_iterator begin()\n",
      "\u001B[0;1;32m                   ^\n",
      "\u001B[0m\u001B[1minput_line_48:109:14: \u001B[0m\u001B[0;1;30mnote: \u001B[0mprevious definition is here\u001B[0m\n",
      "    iterator begin()\n",
      "\u001B[0;1;32m             ^\n",
      "\u001B[0m"
     ]
    }
   ],
   "source": [
    "#ifndef _MY_VECTOR_H_\n",
    "#define _MY_VECTOR_H_\n",
    "#include <iostream>\n",
    "template <typename DataType>\n",
    "class MyVector\n",
    "{\n",
    "    public:\n",
    "        MyVector(const int init_capacity = 16) :\n",
    "            theCapacity{init_capacity},\n",
    "            theSize{0}\n",
    "            {\n",
    "                data = new DataType [init_capacity]; \n",
    "            }\n",
    "  \n",
    "        ~MyVector() \n",
    "        {\n",
    "            delete [] data;\n",
    "        }\n",
    "        int size(void)\n",
    "        {\n",
    "            return theSize;\n",
    "        }\n",
    "        int capacity(void)\n",
    "        {\n",
    "            return theCapacity;\n",
    "        }\n",
    "        void print(void)\n",
    "        {\n",
    "            std::cout << \"Printing the vector\" << std::endl;\n",
    "            for(int i = 0; i < theSize; ++ i)\n",
    "            {\n",
    "                std::cout << data[i] << std::endl;\n",
    "                //std::cout << *(data + i) << std::endl;\n",
    "            } \n",
    "        }\n",
    "    \n",
    "        void insert(const DataType &value, const int index)\n",
    "        {\n",
    "            if(index <= theSize)\n",
    "            {\n",
    "                if(theSize >= theCapacity)\n",
    "                {\n",
    "                    resize(theSize + 1);\n",
    "                } \n",
    "                else\n",
    "                {\n",
    "                    ++ theSize;\n",
    "                }\n",
    "      \n",
    "                for(int i = theSize - 2; i >= index; -- i)\n",
    "                {\n",
    "                    data[i + 1] = std::move(data[i]);\n",
    "                }\n",
    "                data[index] = value;\n",
    "            }  \n",
    "        return;\n",
    "        }\n",
    "    \n",
    "    void push_back(const DataType &value)\n",
    "    {\n",
    "        insert(value, theSize);\n",
    "    }\n",
    "    \n",
    "    void reserve(const int newCapacity)\n",
    "    {\n",
    "            if(newCapacity > theCapacity)\n",
    "            {\n",
    "            theCapacity = newCapacity;\n",
    "            DataType *tmp = new DataType [newCapacity];\n",
    "            for(int i = 0; i < theSize; ++ i)\n",
    "            {\n",
    "                tmp[i] = std::move(data[i]);\n",
    "            }\n",
    "            std::swap(data, tmp);\n",
    "            delete [] tmp;\n",
    "            }\n",
    "        return;  \n",
    "    }\n",
    "    \n",
    "    void resize(const int newSize) \n",
    "    {\n",
    "        theSize = newSize;\n",
    "        reserve(2 * newSize);\n",
    "        return;\n",
    "    }\n",
    "    \n",
    "    void remove(const int index)\n",
    "    {\n",
    "        if(index >= 0 && index <= theSize - 1)\n",
    "        {\n",
    "            for(int i = index; i < theSize - 1; ++ i)\n",
    "            {\n",
    "                data[i] = std::move(data[i + 1]);\n",
    "            }\n",
    "        -- theSize;\n",
    "        }\n",
    "    return;\n",
    "    }\n",
    "    \n",
    "    void pop_back(void)\n",
    "    {\n",
    "        remove(theSize - 1);\n",
    "        return;\n",
    "    }\n",
    "    \n",
    "    typedef DataType* iterator;\n",
    "    typedef DataType* const_iterator;\n",
    "\n",
    "    iterator begin()\n",
    "    {\n",
    "        return &data[0];\n",
    "    }\n",
    "\n",
    "    iterator end()\n",
    "    {\n",
    "        return data[size()];\n",
    "    }\n",
    "    \n",
    "    const_iterator begin()\n",
    "    {\n",
    "        \n",
    "    }\n",
    "    \n",
    "    private:\n",
    "        DataType *data = nullptr;\n",
    "        int theSize; // the num of elements we have\n",
    "        int theCapacity; // the num of elements we can hold\n",
    "};\n",
    "#endif"
   ]
  },
  {
   "cell_type": "code",
   "execution_count": 4,
   "id": "1de84fa9",
   "metadata": {
    "scrolled": false
   },
   "outputs": [
    {
     "name": "stderr",
     "output_type": "stream",
     "text": [
      "\u001B[1minput_line_50:2:2: \u001B[0m\u001B[0;1;31merror: \u001B[0m\u001B[1m'MyVector' does not name a template but is followed by template arguments\u001B[0m\n",
      " MyVector<int> a;\n",
      "\u001B[0;1;32m ^       ~~~~~\n",
      "\u001B[0m\u001B[1minput_line_50:2:2: \u001B[0m\u001B[0;1;30mnote: \u001B[0mnon-template declaration found by name lookup\u001B[0m\n",
      "\u001B[1minput_line_50:3:9: \u001B[0m\u001B[0;1;31merror: \u001B[0m\u001B[1muse of undeclared identifier 'a'\u001B[0m\n",
      "cout << a.size() << endl;\n",
      "\u001B[0;1;32m        ^\n",
      "\u001B[0m\u001B[1minput_line_50:4:9: \u001B[0m\u001B[0;1;31merror: \u001B[0m\u001B[1muse of undeclared identifier 'a'\u001B[0m\n",
      "cout << a.capacity() << endl;\n",
      "\u001B[0;1;32m        ^\n",
      "\u001B[0m\u001B[1minput_line_50:5:1: \u001B[0m\u001B[0;1;31merror: \u001B[0m\u001B[1muse of undeclared identifier 'a'\u001B[0m\n",
      "a.print();\n",
      "\u001B[0;1;32m^\n",
      "\u001B[0m\u001B[1minput_line_50:7:1: \u001B[0m\u001B[0;1;31merror: \u001B[0m\u001B[1mno template named 'MyVector'\u001B[0m\n",
      "MyVector<int> v;\n",
      "\u001B[0;1;32m^\n",
      "\u001B[0m\u001B[1minput_line_50:13:5: \u001B[0m\u001B[0;1;31merror: \u001B[0m\u001B[1mno template named 'MyVector'\u001B[0m\n",
      "for(MyVector<int>::const_iterator itr = v.begin(); itr != v.end(); ++itr)\n",
      "\u001B[0;1;32m    ^\n",
      "\u001B[0m"
     ]
    }
   ],
   "source": [
    "MyVector<int> a;\n",
    "cout << a.size() << endl;\n",
    "cout << a.capacity() << endl;\n",
    "a.print();\n",
    "\n",
    "MyVector<int> v;\n",
    "for(int i = 0; i < 16; ++ i)\n",
    "{\n",
    "    v.push_back(i);\n",
    "}\n",
    "\n",
    "for(MyVector<int>::const_iterator itr = v.begin(); itr != v.end(); ++itr)\n",
    "{\n",
    "    cout << *itr << endl;\n",
    "}\n"
   ]
  },
  {
   "cell_type": "markdown",
   "id": "917d1379",
   "metadata": {},
   "source": [
    "### Overflow\n",
    "- happens when # of data elements exceeds size of array/vector\n",
    "- need to realocate data when more space is needed"
   ]
  },
  {
   "cell_type": "markdown",
   "id": "3dd755c2",
   "metadata": {},
   "source": []
  },
  {
   "cell_type": "markdown",
   "id": "a14981a2",
   "metadata": {},
   "source": []
  },
  {
   "attachments": {
    "image-2.png": {
     "image/png": "[encoded data removed]"
    }
   },
   "cell_type": "markdown",
   "id": "dd51e101",
   "metadata": {},
   "source": [
    "### Why vectors\n",
    "- handles the memory stuff for you\n",
    "    - unlike lists\n",
    "\n",
    "#### <p style=\"text-align: center;\">Vector vs (Linked) List memory blocks</p>\n",
    "![image-2.png](attachment:image-2.png)\n",
    " \n"
   ]
  },
  {
   "cell_type": "markdown",
   "id": "7a3983fd",
   "metadata": {},
   "source": [
    "### Linked Lists\n",
    "- as in 268 basically\n",
    "- built off of the attributes previous and next which point to adjacent nodes\n",
    "    - insertions and deleitons can be accomplished by adjusting the next value of the one to the left and the previous value of the one to the right\n",
    "    - i.e. make the left one's next be the new one and the right one's previous be the new one\n",
    "    - also have to make the new one's previous and next match left and right\n",
    "\n",
    "```c++\n",
    "// insert\n",
    "z->prev = x;\n",
    "z->next = z;\n",
    "z->next = x->next;\n",
    "z->next->prev = z;\n",
    "```\n",
    "\n",
    "```cpp\n",
    "// delete\n",
    "// why switch to . over -> ? who knows.\n",
    "z.prev.next = z.next;\n",
    "z.next.prev = z.prev;\n",
    "z.next = nullptr;\n",
    "z.prev = nullptr;\n",
    "z\n",
    "```"
   ]
  },
  {
   "cell_type": "code",
   "execution_count": 1,
   "id": "39c81b02",
   "metadata": {},
   "outputs": [
    {
     "name": "stderr",
     "output_type": "stream",
     "text": [
      "\u001B[1minput_line_42:2:5: \u001B[0m\u001B[0;1;31merror: \u001B[0m\u001B[1munknown type name 'DataType'\u001B[0m\n",
      "    DataType data;\n",
      "\u001B[0;1;32m    ^\n",
      "\u001B[0m"
     ]
    }
   ],
   "source": [
    "\n"
   ]
  },
  {
   "cell_type": "markdown",
   "id": "88589763",
   "metadata": {},
   "source": []
  },
  {
   "cell_type": "markdown",
   "id": "a0a9eb8d",
   "metadata": {},
   "source": []
  },
  {
   "cell_type": "markdown",
   "id": "072d0dbf",
   "metadata": {},
   "source": []
  },
  {
   "cell_type": "markdown",
   "id": "288b9f1c",
   "metadata": {},
   "source": []
  },
  {
   "cell_type": "markdown",
   "id": "e9874793",
   "metadata": {},
   "source": [
    "eval:\n",
    "- Example lecture code is often wrong. Once this is realized, it is changed without an explanation of the error or the fix implemented.\n",
    "- Almost exclusively uses single letter variable names in functions which makes things . If an actual IDE was used, errors would be easy to identify and actual descriptive variable names could be used. \n",
    "    - Notepad/nano/etc are usefull for teaching simple stuff like EECS 168 and maybe 268. I think it is irresponsible not to teach in the environment that we will be utilizing in the \"real world\". No one is going to go work for Google or IBM and use Notepad. Teaching students to use \"x\", \"p\", and \"d\" as variable names and assuming that those students won't go out into the world thinking that that is an acceptable practice is a wild assumption. Practice does not make perfect, it makes permanent; "
   ]
  },
  {
   "cell_type": "markdown",
   "id": "4edcc06d",
   "metadata": {},
   "source": [
    "### Iterator\n",
    "- common interface used in many data structures\n",
    "    - linear and iterative ones\n",
    "- a helper subclass \n",
    "- \n",
    "\n"
   ]
  },
  {
   "cell_type": "code",
   "execution_count": null,
   "id": "717daf82",
   "metadata": {},
   "outputs": [],
   "source": [
    "\n",
    "\n",
    "for(i=iterator.begin; i < iterator.end; i++)\n",
    "{\n",
    "    \n",
    "}"
   ]
  },
  {
   "cell_type": "code",
   "execution_count": null,
   "id": "7fa79abb",
   "metadata": {},
   "outputs": [],
   "source": []
  },
  {
   "cell_type": "code",
   "execution_count": null,
   "id": "436709f6",
   "metadata": {},
   "outputs": [],
   "source": []
  },
  {
   "cell_type": "code",
   "execution_count": null,
   "id": "c80bddea",
   "metadata": {},
   "outputs": [],
   "source": []
  }
 ],
 "metadata": {
  "kernelspec": {
   "display_name": "ROOT C++",
   "language": "c++",
   "name": "root"
  },
  "language_info": {
   "codemirror_mode": "text/x-c++src",
   "file_extension": ".C",
   "mimetype": " text/x-c++src",
   "name": "c++"
  }
 },
 "nbformat": 4,
 "nbformat_minor": 5
}
