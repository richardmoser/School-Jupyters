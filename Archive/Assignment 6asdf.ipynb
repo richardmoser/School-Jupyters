{
 "cells": [
  {
   "cell_type": "code",
   "execution_count": 2,
   "outputs": [
    {
     "data": {
      "text/plain": "[True,True,True]"
     },
     "metadata": {},
     "output_type": "display_data"
    },
    {
     "data": {
      "text/plain": "[\"test code\",\"test code\",\"test code\",\"test code\",\"test code\"]"
     },
     "metadata": {},
     "output_type": "display_data"
    }
   ],
   "source": [
    "replicate' 3 True\n",
    "replicate' 5 \"test code\""
   ],
   "metadata": {
    "collapsed": false
   }
  },
  {
   "cell_type": "code",
   "execution_count": 4,
   "outputs": [
    {
     "data": {
      "text/plain": "[6,28,496]"
     },
     "metadata": {},
     "output_type": "display_data"
    },
    {
     "data": {
      "text/plain": "[6,28,496,8128]"
     },
     "metadata": {},
     "output_type": "display_data"
    }
   ],
   "source": [
    "perfects 500\n",
    "perfects 9000"
   ],
   "metadata": {
    "collapsed": false
   }
  },
  {
   "cell_type": "code",
   "execution_count": 6,
   "outputs": [
    {
     "data": {
      "text/plain": "[2,4]"
     },
     "metadata": {},
     "output_type": "display_data"
    },
    {
     "data": {
      "text/plain": "[3,25]"
     },
     "metadata": {},
     "output_type": "display_data"
    }
   ],
   "source": [
    "find 'b' [('a',1),('b',2),('c',3),('b',4)]\n",
    "find 'c' [('a',1),('b',2),('c',3),('b',4), ('c',25)]"
   ],
   "metadata": {
    "collapsed": false
   }
  },
  {
   "cell_type": "code",
   "execution_count": 8,
   "outputs": [
    {
     "data": {
      "text/plain": "[1,2,4,7]"
     },
     "metadata": {},
     "output_type": "display_data"
    },
    {
     "data": {
      "text/plain": "[0,3,5,6]"
     },
     "metadata": {},
     "output_type": "display_data"
    }
   ],
   "source": [
    "positions 0 [1,0,0,1,0,1,1,0]\n",
    "positions 1 [1,0,0,1,0,1,1,0]"
   ],
   "metadata": {
    "collapsed": false
   }
  },
  {
   "cell_type": "code",
   "execution_count": 13,
   "outputs": [
    {
     "data": {
      "text/plain": "32"
     },
     "metadata": {},
     "output_type": "display_data"
    },
    {
     "data": {
      "text/plain": "12"
     },
     "metadata": {},
     "output_type": "display_data"
    }
   ],
   "source": [
    "scalarproduct [1,2,3] [4,5,6]\n",
    "scalarproduct [-1,2,3] [-4,-5,6]"
   ],
   "metadata": {
    "collapsed": false
   }
  }
 ],
 "metadata": {
  "kernelspec": {
   "display_name": "Haskell",
   "language": "haskell",
   "name": "haskell"
  },
  "language_info": {
   "codemirror_mode": "ihaskell",
   "file_extension": ".hs",
   "mimetype": "text/x-haskell",
   "name": "haskell",
   "pygments_lexer": "Haskell",
   "version": "9.2.7"
  }
 },
 "nbformat": 4,
 "nbformat_minor": 5
}
