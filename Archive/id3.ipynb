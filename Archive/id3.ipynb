{
 "cells": [
  {
   "cell_type": "code",
   "id": "initial_id",
   "metadata": {
    "collapsed": true,
    "ExecuteTime": {
     "end_time": "2024-05-05T18:21:34.466147Z",
     "start_time": "2024-05-05T18:21:34.440172Z"
    }
   },
   "source": [
    "\"\"\"\n",
    "performs the id3 algorithm on the dataset\n",
    "\n",
    "Attributes:\n",
    "Attend;Hear;Coverage;Uncomfortable;TakeNotes\n",
    "\n",
    "values:\n",
    "no;no;no;yes;no\n",
    "yes;no;no;no;no\n",
    "yes;yes;yes;yes;yes\n",
    "yes;yes;no;yes;yes\n",
    "yes;no;yes;no;yes\n",
    "no;no;yes;no;yes\n",
    "no;yes;no;yes;no\n",
    "yes;yes;yes;no;yes\n",
    "\"\"\""
   ],
   "outputs": [
    {
     "data": {
      "text/plain": [
       "'\\nperforms the id3 algorithm on the dataset\\n\\nAttributes:\\nAttend;Hear;Coverage;Uncomfortable;TakeNotes\\n\\nvalues:\\nno;no;no;yes;no\\nyes;no;no;no;no\\nyes;yes;yes;yes;yes\\nyes;yes;no;yes;yes\\nyes;no;yes;no;yes\\nno;no;yes;no;yes\\nno;yes;no;yes;no\\nyes;yes;yes;no;yes\\n'"
      ]
     },
     "execution_count": 1,
     "metadata": {},
     "output_type": "execute_result"
    }
   ],
   "execution_count": 1
  },
  {
   "metadata": {
    "ExecuteTime": {
     "end_time": "2024-05-05T18:21:34.497640Z",
     "start_time": "2024-05-05T18:21:34.469466Z"
    }
   },
   "cell_type": "code",
   "source": [
    "from math import log2\n",
    "from collections import defaultdict\n",
    "\n",
    "def B(q):\n",
    "    if q==0 or q==1:\n",
    "        return 0\n",
    "    else:\n",
    "        return -(q*log2(q)+(1-q)*log2(1-q))\n",
    "\n",
    "def entropy(examples, target_attr):\n",
    "    value_freq = {}\n",
    "    data_entropy = 0.0\n",
    "\n",
    "    # Calculate the frequency of each value in the target attribute\n",
    "    for record in examples:\n",
    "        if record[target_attr] in value_freq:\n",
    "            value_freq[record[target_attr]] += 1.0\n",
    "        else:\n",
    "            value_freq[record[target_attr]] = 1.0\n",
    "\n",
    "    # Calculate the entropy of the data for the target attribute\n",
    "    for freq in value_freq.values():\n",
    "        data_entropy += (-freq/len(examples)) * log2(freq/len(examples))\n",
    "\n",
    "    return data_entropy\n",
    "\n",
    "def information_gain(examples, attr, target_attr):\n",
    "    val_freq = {}\n",
    "    subset_entropy = 0.0\n",
    "\n",
    "    # Calculate the frequency of each value in the attribute\n",
    "    for record in examples:\n",
    "        if record[attr] in val_freq:\n",
    "            val_freq[record[attr]] += 1.0\n",
    "        else:\n",
    "            val_freq[record[attr]] = 1.0\n",
    "\n",
    "    # Calculate the sum of the entropy for each subset of records weighted by their probability\n",
    "    for value in val_freq.keys():\n",
    "        val_prob = val_freq[value] / sum(val_freq.values())\n",
    "        data_subset = [record for record in examples if record[attr] == value]\n",
    "        subset_entropy += val_prob * entropy(data_subset, target_attr)\n",
    "\n",
    "    # Subtract the entropy of the chosen attribute from the entropy of the whole data set\n",
    "    return (entropy(examples, target_attr) - subset_entropy)\n",
    "\n",
    "\n",
    "def id3(examples, attributes, target_attr, default_class=None):\n",
    "    # Check if the dataset is empty or attributes are exhausted\n",
    "    if not examples:\n",
    "        return default_class\n",
    "    elif len(attributes) == 0:\n",
    "        return majority_value(examples, target_attr)\n",
    "    else:\n",
    "        # Find the attribute that maximizes the information gain\n",
    "        gains = [(information_gain(examples, attr, target_attr), attr) for attr in attributes]\n",
    "        max_gain, best_attr = max(gains, key=lambda x: x[0])\n",
    "\n",
    "        # Create a new decision tree/node with the best attribute\n",
    "        if max_gain == 0:\n",
    "            return majority_value(examples, target_attr)\n",
    "        \n",
    "        tree = {best_attr: {}}\n",
    "        # Remove the best attribute from the list of attributes\n",
    "        new_attrs = [attr for attr in attributes if attr != best_attr]\n",
    "        \n",
    "        # Grow the tree\n",
    "        for attr_val, subset in split_data(examples, best_attr):\n",
    "            subtree = id3(subset, new_attrs, target_attr, default_class)\n",
    "            tree[best_attr][attr_val] = subtree\n",
    "\n",
    "        return tree\n",
    "    \n",
    "    \n",
    "def majority_value(examples, target_attr):\n",
    "    # Return the most common output value among a set of examples, mostly used as a tie-breaker\n",
    "    values = [record[target_attr] for record in examples]\n",
    "    return max(set(values), key=values.count)\n",
    "\n",
    "def split_data(examples, attr):\n",
    "    # Splits a dataset into subsets based on all values of an attribute\n",
    "    subsets = defaultdict(list)\n",
    "    for record in examples:\n",
    "        subsets[record[attr]].append(record)\n",
    "    return subsets.items()\n",
    "\n"
   ],
   "id": "39a393d4a6c9b6d6",
   "outputs": [],
   "execution_count": 2
  },
  {
   "metadata": {
    "ExecuteTime": {
     "end_time": "2024-05-05T18:21:34.529016Z",
     "start_time": "2024-05-05T18:21:34.499758Z"
    }
   },
   "cell_type": "code",
   "source": [
    "\"\"\"Attributes:\n",
    "Attend;Hear;Coverage;Uncomfortable;TakeNotes\n",
    "\n",
    "values:\n",
    "no;no;no;yes;no\n",
    "yes;no;no;no;no\n",
    "yes;yes;yes;yes;yes\n",
    "yes;yes;no;yes;yes\n",
    "yes;no;yes;no;yes\n",
    "no;no;yes;no;yes\n",
    "no;yes;no;yes;no\n",
    "yes;yes;yes;no;yes\"\"\"\n",
    "\n",
    "data = [\n",
    "    {'Attend': 'no', 'Hear': 'no', 'Coverage': 'no', 'Uncomfortable': 'yes', 'TakeNotes': 'no'},\n",
    "    {'Attend': 'yes', 'Hear': 'no', 'Coverage': 'no', 'Uncomfortable': 'no', 'TakeNotes': 'no'},\n",
    "    {'Attend': 'yes', 'Hear': 'yes', 'Coverage': 'yes', 'Uncomfortable': 'yes', 'TakeNotes': 'yes'},\n",
    "    {'Attend': 'yes', 'Hear': 'yes', 'Coverage': 'no', 'Uncomfortable': 'yes', 'TakeNotes': 'yes'},\n",
    "    {'Attend': 'yes', 'Hear': 'no', 'Coverage': 'yes', 'Uncomfortable': 'no', 'TakeNotes': 'yes'},\n",
    "    {'Attend': 'no', 'Hear': 'no', 'Coverage': 'yes', 'Uncomfortable': 'no', 'TakeNotes': 'yes'},\n",
    "    {'Attend': 'no', 'Hear': 'yes', 'Coverage': 'no', 'Uncomfortable': 'yes', 'TakeNotes': 'no'},\n",
    "    {'Attend': 'yes', 'Hear': 'yes', 'Coverage': 'yes', 'Uncomfortable': 'no', 'TakeNotes': 'yes'},\n",
    "]\n",
    "\n",
    "attributes = ['Attend', 'Hear', 'Coverage', 'Uncomfortable']\n",
    "target_attr = 'TakeNotes'\n",
    "\n",
    "# Build the tree\n",
    "decision_tree = id3(data, attributes, target_attr)\n",
    "\n",
    "print(decision_tree)"
   ],
   "id": "5859e4dedece8384",
   "outputs": [
    {
     "name": "stdout",
     "output_type": "stream",
     "text": [
      "{'Coverage': {'no': {'Attend': {'no': 'no', 'yes': {'Hear': {'no': 'no', 'yes': 'yes'}}}}, 'yes': 'yes'}}\n"
     ]
    }
   ],
   "execution_count": 3
  },
  {
   "metadata": {
    "ExecuteTime": {
     "end_time": "2024-05-05T18:21:34.544748Z",
     "start_time": "2024-05-05T18:21:34.531377Z"
    }
   },
   "cell_type": "code",
   "source": [
    "def draw_tree(tree, indent=''):\n",
    "    for node in tree:\n",
    "        print(indent + node)\n",
    "        if isinstance(tree[node], dict):\n",
    "            draw_tree(tree[node], indent + '  ')\n",
    "        else:\n",
    "            print(indent + '  ' + tree[node])\n",
    "            \n",
    "draw_tree(decision_tree)"
   ],
   "id": "fb071f855a35dbdd",
   "outputs": [
    {
     "name": "stdout",
     "output_type": "stream",
     "text": [
      "Coverage\n",
      "  no\n",
      "    Attend\n",
      "      no\n",
      "        no\n",
      "      yes\n",
      "        Hear\n",
      "          no\n",
      "            no\n",
      "          yes\n",
      "            yes\n",
      "  yes\n",
      "    yes\n"
     ]
    }
   ],
   "execution_count": 4
  },
  {
   "metadata": {
    "ExecuteTime": {
     "end_time": "2024-05-05T18:24:07.717459Z",
     "start_time": "2024-05-05T18:24:07.704115Z"
    }
   },
   "cell_type": "code",
   "source": [
    "\"\"\" \n",
    "data:\n",
    "0,0,0,0,0\n",
    "0,1,1,1,0\n",
    "0,0,1,0,0\n",
    "1,0,1,1,1\n",
    "1,1,1,0,1\n",
    "0,0,1,0,0\n",
    "1,1,1,1,1\n",
    "0,0,0,0,0\n",
    "0,0,1,0,0\n",
    "1,0,0,0,0\n",
    "\"\"\"\n",
    "\n",
    "data = [\n",
    "    {'Class': 'no',  'Food': 'no',  'Busy': 'no',  'Motivated': 'no',  'Go to Gym': 'no'},\n",
    "    {'Class': 'no',  'Food': 'yes', 'Busy': 'no',  'Motivated': 'no',  'Go to Gym': 'no'},\n",
    "    {'Class': 'no',  'Food': 'no',  'Busy': 'yes', 'Motivated': 'no',  'Go to Gym': 'no'},\n",
    "    {'Class': 'yes', 'Food': 'no',  'Busy': 'yes', 'Motivated': 'yes', 'Go to Gym': 'yes'},\n",
    "    {'Class': 'yes', 'Food': 'yes', 'Busy': 'yes', 'Motivated': 'no',  'Go to Gym': 'yes'},\n",
    "    {'Class': 'no',  'Food': 'no',  'Busy': 'yes', 'Motivated': 'no',  'Go to Gym': 'no'},\n",
    "    {'Class': 'yes', 'Food': 'yes', 'Busy': 'yes', 'Motivated': 'yes', 'Go to Gym': 'yes'},\n",
    "    {'Class': 'no',  'Food': 'no',  'Busy': 'no',  'Motivated': 'no',  'Go to Gym': 'no'},\n",
    "    {'Class': 'no',  'Food': 'no',  'Busy': 'yes', 'Motivated': 'no',  'Go to Gym': 'no'},\n",
    "    {'Class': 'yes', 'Food': 'no',  'Busy': 'no',  'Motivated': 'no',  'Go to Gym': 'no'},\n",
    "]\n",
    "\n",
    "attributes = ['Class', 'Food', 'Busy', 'Motivated']\n",
    "target_attr = 'Go to Gym'\n",
    "\n",
    "# Build the tree\n",
    "decision_tree = id3(data, attributes, target_attr)\n",
    "\n",
    "print(decision_tree)\n",
    "\n",
    "draw_tree(decision_tree)"
   ],
   "id": "53e2c9ba133eabed",
   "outputs": [
    {
     "name": "stdout",
     "output_type": "stream",
     "text": [
      "{'Class': {'no': 'no', 'yes': {'Busy': {'yes': 'yes', 'no': 'no'}}}}\n",
      "Class\n",
      "  no\n",
      "    no\n",
      "  yes\n",
      "    Busy\n",
      "      yes\n",
      "        yes\n",
      "      no\n",
      "        no\n"
     ]
    }
   ],
   "execution_count": 9
  },
  {
   "metadata": {},
   "cell_type": "code",
   "source": "",
   "id": "fd8495afe42e7865",
   "outputs": [],
   "execution_count": null
  },
  {
   "metadata": {},
   "cell_type": "code",
   "outputs": [],
   "execution_count": null,
   "source": "",
   "id": "4d4e037caf1efd4b"
  }
 ],
 "metadata": {
  "kernelspec": {
   "display_name": "Python 3",
   "language": "python",
   "name": "python3"
  },
  "language_info": {
   "codemirror_mode": {
    "name": "ipython",
    "version": 2
   },
   "file_extension": ".py",
   "mimetype": "text/x-python",
   "name": "python",
   "nbconvert_exporter": "python",
   "pygments_lexer": "ipython2",
   "version": "2.7.6"
  }
 },
 "nbformat": 4,
 "nbformat_minor": 5
}
