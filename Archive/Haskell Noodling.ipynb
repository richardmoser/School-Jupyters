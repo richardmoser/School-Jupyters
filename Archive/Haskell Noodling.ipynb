{
 "cells": [
  {
   "cell_type": "markdown",
   "id": "cf74fb5b",
   "metadata": {
    "collapsed": false
   },
   "source": [
    "### Assignment 8\n",
    "implement the game of nim in haskell using the following rules:\n",
    "- the game starts with a number of piles of stones\n",
    "- each player takes turns removing stones from a single pile\n",
    "- the player who removes the last stone wins\n",
    "\n",
    "the piles output as\n",
    "1: * * * * *\n",
    "2: * * * *\n",
    "3: * * *\n",
    "4: * *\n",
    "5: *\n",
    "\n",
    "the main game loop should look like this:\n",
    "`play :: Board -> IO ()`\n",
    "- first display the board\n",
    "- then check if the game is over\n",
    "- if the game is over, display the other player as the winner\n",
    "- if the game is not over, ask the current player for a move\n",
    "    - use the prompts \"Player X\", \"Enter a row number:\", and \"Stars to remove:\"\n",
    "- if the move is valid, apply it and continue the game\n",
    "- if the move is invalid, display an error message, display the board, and ask for another move\n",
    "- each board display should be followed by a newline"
   ]
  },
  {
   "cell_type": "code",
   "execution_count": 3,
   "id": "fba815d2",
   "metadata": {
    "ExecuteTime": {
     "end_time": "2023-05-02T20:02:38.524026Z",
     "start_time": "2023-05-02T20:02:38.524026Z"
    },
    "collapsed": false
   },
   "outputs": [],
   "source": [
    "{-\n",
    "    Nim.hs\n",
    "    Author: Richard Moser\n",
    "    Date: 02May22\n",
    "    Description: Nim game in Haskell, run using the nim function with the initial board and the starting player, e.g. nim initial 1\n",
    "    Inputs: Board, Int\n",
    "    Outputs: prints game to the console\n",
    "-}\n",
    "\n",
    "type Board = [Int] -- a list of integers representing the number of stars in each row\n",
    "initial :: Board -- the initial board\n",
    "initial = [5,4,3,2,1] -- 5 rows with 5, 4, 3, 2, and 1 stars respectively\n",
    "\n",
    "display :: Board -> IO () -- displays the board\n",
    "display b = do\n",
    "    putStrLn \"\" -- newline before the board is printed\n",
    "    let rows = zip [1..] b -- zip the row numbers with the number of stars in each row\n",
    "    mapM_ (\\(i, r) -> putStrLn $ show i ++ \": \" ++ replicate r '*') rows -- print each row with the row number and the number of stars\n",
    "    putStrLn \"\" -- newline after the board is printed\n",
    "\n",
    "\n",
    "valid :: Board -> Int -> Int -> Bool -- checks if a move is valid\n",
    "valid b row num = b !! (row - 1) >= num -- check if the number of stars in the row is greater than or equal to the number of stars to remove\n",
    "\n",
    "move :: Board -> Int -> Int -> Board -- applies a move to the board\n",
    "move b row num = [update r i | (i, r) <- zip [1..] b] -- update the board by subtracting the number of stars to remove from the row\n",
    "    where update r i = if i == row then r - num else r -- subtract the number of stars to remove from the row if it is the row to remove from, otherwise return the row unchanged\n",
    "\n",
    "\n",
    "getInt :: String -> IO Int -- gets an integer from the user\n",
    "getInt prompt = do -- prompt the user for an integer\n",
    "    putStr prompt -- print the prompt\n",
    "    input <- getLine -- get the input\n",
    "    case reads input of -- try to read the input as an integer\n",
    "        [(n, \"\")] -> return n -- if the input is an integer, return it\n",
    "        _ -> do\n",
    "            putStrLn \"Invalid input! Try again.\" -- if the input is not an integer, print an error message\n",
    "            getInt prompt -- and try again\n",
    "\n",
    "\n",
    "other :: Int -> Int -- returns the player who is not currently playing\n",
    "other 1 = 2  -- the player that is not player 1 is player 2\n",
    "other 2 = 1  -- the player that is not player 2 is player 1\n",
    "other _ = error \"Invalid player number\" -- error if the player number is not 1 or 2\n",
    "\n",
    "\n",
    "finished :: Board -> Bool -- checks if the game is finished\n",
    "finished = all (== 0) -- check if all rows have 0 stars\n",
    "\n",
    "\n",
    "nim :: Board -> Int -> IO () -- main game loop\n",
    "nim b p = do\n",
    "    display b -- display the board\n",
    "    if finished b then -- check if the game is finished\n",
    "        putStrLn $ \"Player \" ++ show (other p) ++ \" wins!\" -- if the game is finished, print the other player as the winner\n",
    "    else do -- if the game is not finished\n",
    "        putStrLn $ \"Player \" ++ show p -- print the current player\n",
    "        row <- getInt \"Enter a row number: \" -- get the row to remove from\n",
    "        num <- getInt \"Stars to remove: \" -- get the number of stars to remove\n",
    "        if valid b row num then -- check if the move is valid\n",
    "            nim (move b row num) (other p) -- if the move is valid, apply it and continue the game\n",
    "        else do -- if the move is invalid\n",
    "            putStrLn \"\\n---------- Invalid move! Try again. ----------\" -- print an error message\n",
    "            nim b p -- and try again\n",
    "\n",
    "\n"
   ]
  },
  {
   "cell_type": "code",
   "execution_count": null,
   "id": "953b5396",
   "metadata": {
    "collapsed": false,
    "pycharm": {
     "is_executing": true
    }
   },
   "outputs": [
    {
     "ename": "",
     "evalue": "",
     "output_type": "error",
     "traceback": [
      "<stdin>: hGetLine: end of file"
     ]
    }
   ],
   "source": []
  },
  {
   "cell_type": "code",
   "execution_count": null,
   "id": "304c46da",
   "metadata": {
    "collapsed": false
   },
   "outputs": [],
   "source": []
  }
 ],
 "metadata": {
  "kernelspec": {
   "display_name": "Haskell",
   "language": "haskell",
   "name": "haskell"
  },
  "language_info": {
   "codemirror_mode": "ihaskell",
   "file_extension": ".hs",
   "mimetype": "text/x-haskell",
   "name": "haskell",
   "pygments_lexer": "Haskell",
   "version": "9.2.7"
  }
 },
 "nbformat": 4,
 "nbformat_minor": 5
}
