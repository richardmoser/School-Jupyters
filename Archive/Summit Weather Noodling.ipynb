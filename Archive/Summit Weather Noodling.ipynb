{
 "cells": [
  {
   "cell_type": "code",
   "execution_count": 1,
   "id": "cf7c67d9",
   "metadata": {},
   "outputs": [
    {
     "name": "stdout",
     "output_type": "stream",
     "text": [
      "Defaulting to user installation because normal site-packages is not writeable\n",
      "Collecting git+https://github.com/GEUS-PROMICE/pyNEAD.git\n",
      "  Cloning https://github.com/GEUS-PROMICE/pyNEAD.git to /tmp/pip-req-build-x0rur0av\n",
      "  Running command git clone --filter=blob:none -q https://github.com/GEUS-PROMICE/pyNEAD.git /tmp/pip-req-build-x0rur0av\n",
      "  Resolved https://github.com/GEUS-PROMICE/pyNEAD.git to commit d811220c2d048d84d4612b045880d6ca914c39a4\n",
      "  Preparing metadata (setup.py) ... \u001B[?25ldone\n",
      "\u001B[?25hRequirement already satisfied: numpy in /home/rj/.local/lib/python3.6/site-packages (from nead==0.0.0) (1.19.5)\n",
      "Requirement already satisfied: pandas in /home/rj/.local/lib/python3.6/site-packages (from nead==0.0.0) (1.1.5)\n",
      "Requirement already satisfied: xarray in /home/rj/.local/lib/python3.6/site-packages (from nead==0.0.0) (0.16.2)\n",
      "Requirement already satisfied: pytz>=2017.2 in /home/rj/.local/lib/python3.6/site-packages (from pandas->nead==0.0.0) (2022.7.1)\n",
      "Requirement already satisfied: python-dateutil>=2.7.3 in /home/rj/.local/lib/python3.6/site-packages (from pandas->nead==0.0.0) (2.8.2)\n",
      "Requirement already satisfied: setuptools>=38.4 in /usr/lib/python3/dist-packages (from xarray->nead==0.0.0) (39.0.1)\n",
      "Requirement already satisfied: six>=1.5 in /usr/lib/python3/dist-packages (from python-dateutil>=2.7.3->pandas->nead==0.0.0) (1.11.0)\n",
      "Note: you may need to restart the kernel to use updated packages.\n"
     ]
    }
   ],
   "source": [
    "pip install git+https://github.com/GEUS-PROMICE/pyNEAD.git\n"
   ]
  },
  {
   "cell_type": "code",
   "execution_count": 10,
   "id": "de944364",
   "metadata": {
    "scrolled": false
   },
   "outputs": [
    {
     "name": "stdout",
     "output_type": "stream",
     "text": [
      "<xarray.Dataset>\n",
      "Dimensions:        (timestamp: 77135)\n",
      "Coordinates:\n",
      "  * timestamp      (timestamp) datetime64[ns] 1996-05-13T11:00:00 ... 2005-03...\n",
      "Data variables:\n",
      "    ISWR           (timestamp) float64 356.6 489.3 337.0 684.2 ... 0.0 0.0 0.0\n",
      "    OSWR           (timestamp) float64 288.3 453.0 298.4 569.1 ... 0.0 0.0 0.0\n",
      "    NR             (timestamp) float64 138.6 26.88 128.0 1.87 ... 1.42 0.31 0.0\n",
      "    TA1            (timestamp) float64 -20.68 -19.32 -22.26 ... -18.79 -19.03\n",
      "    TA2            (timestamp) float64 -20.55 -19.22 -22.02 ... -18.79 -18.91\n",
      "    TA3            (timestamp) float64 -19.92 -18.45 -15.74 ... -18.47 -18.73\n",
      "    TA4            (timestamp) float64 -19.98 -18.54 -15.8 ... -18.38 -18.6\n",
      "    RH1            (timestamp) float64 66.85 77.43 53.66 ... 81.46 82.08 81.89\n",
      "    RH2            (timestamp) float64 66.03 76.62 52.81 ... 82.44 82.11 82.09\n",
      "    VW1            (timestamp) float64 3.84 4.1 2.04 5.36 ... 5.39 4.75 5.19\n",
      "    VW2            (timestamp) float64 4.19 4.49 2.26 5.6 ... 6.82 6.2 5.46 5.94\n",
      "    DW1            (timestamp) float64 nan nan nan nan ... 227.3 221.1 220.0\n",
      "    DW2            (timestamp) float64 186.5 205.5 145.1 ... 233.4 224.6 221.3\n",
      "    P              (timestamp) float64 691.7 691.8 nan ... 681.6 681.2 680.4\n",
      "    HW1            (timestamp) float64 2.09 2.09 2.09 2.1 ... 0.46 0.46 0.46\n",
      "    HW2            (timestamp) float64 3.48 3.48 3.48 3.49 ... 1.61 1.61 1.61\n",
      "    V              (timestamp) float64 nan nan nan 12.69 ... 12.8 12.81 12.81\n",
      "    TA5            (timestamp) float64 nan nan nan nan nan ... nan nan nan nan\n",
      "    TS1            (timestamp) float64 nan nan nan nan ... -30.87 -30.86 -30.85\n",
      "    TS2            (timestamp) float64 nan nan nan nan ... -30.73 -30.71 -30.7\n",
      "    TS3            (timestamp) float64 nan nan nan nan ... -30.59 -30.57 -30.57\n",
      "    TS4            (timestamp) float64 nan nan nan nan ... -30.45 -30.43 -30.43\n",
      "    TS5            (timestamp) float64 nan nan nan nan ... -30.31 -30.29 -30.28\n",
      "    TS6            (timestamp) float64 nan nan nan nan ... -30.27 -30.26 -30.25\n",
      "    TS7            (timestamp) float64 nan nan nan nan ... -30.37 -30.36 -30.35\n",
      "    TS8            (timestamp) float64 nan nan nan nan ... -30.65 -30.64 -30.63\n",
      "    TS9            (timestamp) float64 nan nan nan nan ... -31.01 -31.0 -30.99\n",
      "    TS10           (timestamp) float64 nan nan nan nan ... -31.78 -31.77 -31.76\n",
      "    HW1_adj_flag   (timestamp) float64 0.0 0.0 0.0 0.0 0.0 ... 1.0 1.0 1.0 1.0\n",
      "    HW2_adj_flag   (timestamp) float64 0.0 0.0 0.0 0.0 0.0 ... 1.0 1.0 1.0 1.0\n",
      "    OSWR_adj_flag  (timestamp) float64 0.0 0.0 0.0 0.0 0.0 ... 0.0 0.0 0.0 0.0\n",
      "    P_adj_flag     (timestamp) float64 0.0 0.0 0.0 0.0 0.0 ... 0.0 0.0 0.0 0.0\n",
      "    HS1            (timestamp) float64 0.0 0.0 0.0 -0.01 ... 4.87 4.87 4.87 4.87\n",
      "    HS2            (timestamp) float64 0.0 0.0 0.0 -0.01 ... 5.17 5.17 5.17 5.17\n",
      "    HS1_adj_flag   (timestamp) float64 0.0 0.0 0.0 0.0 0.0 ... 1.0 1.0 1.0 1.0\n",
      "    HS2_adj_flag   (timestamp) float64 0.0 0.0 0.0 0.0 0.0 ... 1.0 1.0 1.0 1.0\n",
      "    HS_combined    (timestamp) float64 0.0 0.0 0.0 -0.01 ... 5.02 5.02 5.02 5.02\n",
      "    SHF            (timestamp) float64 -7.58 -1.26 nan ... -37.3 -3.31 -9.24\n",
      "    LHF            (timestamp) float64 2.88 4.57 nan -6.5 ... -7.45 -0.6 -1.85\n",
      "    TA2m           (timestamp) float64 -20.69 -19.33 -22.28 ... nan -18.87\n",
      "    RH2m           (timestamp) float64 66.9 77.48 53.71 ... 82.78 82.12 82.16\n",
      "    VW10m          (timestamp) float64 5.83 6.32 3.29 6.72 ... nan nan nan nan\n",
      "    SZA            (timestamp) float64 61.49 57.95 55.33 ... 104.3 99.96 95.47\n",
      "    SAA            (timestamp) float64 126.5 141.5 156.5 ... 66.5 81.5 96.5\n",
      "    Alb            (timestamp) float64 0.81 0.93 0.89 0.83 ... nan nan nan nan\n",
      "    RH1_cor        (timestamp) float64 81.78 93.47 66.66 ... 98.24 98.57 98.57\n",
      "    RH2_cor        (timestamp) float64 80.67 92.4 65.45 ... 98.72 98.61 98.0\n",
      "    Q1             (timestamp) float64 0.71 0.93 nan 1.09 ... 0.94 1.0 1.04 nan\n",
      "    Q2             (timestamp) float64 0.71 0.92 nan 1.13 ... 0.97 1.07 1.04 nan\n",
      "    DTS1           (timestamp) float64 0.1 0.1 0.1 0.09 ... 11.73 11.73 nan\n",
      "    DTS2           (timestamp) float64 1.1 1.1 1.1 1.09 ... 10.73 10.73 nan\n",
      "    DTS3           (timestamp) float64 2.1 2.1 2.1 2.09 ... 9.73 9.73 9.73 nan\n",
      "    DTS4           (timestamp) float64 3.1 3.1 3.1 3.09 ... 8.73 8.73 8.73 nan\n",
      "    DTS5           (timestamp) float64 4.1 4.1 4.1 4.09 ... 7.73 7.73 7.73 nan\n",
      "    DTS6           (timestamp) float64 5.1 5.1 5.1 5.09 ... 6.73 6.73 6.73 nan\n",
      "    DTS7           (timestamp) float64 6.1 6.1 6.1 6.09 ... 5.73 5.73 5.73 nan\n",
      "    DTS8           (timestamp) float64 7.1 7.1 7.1 7.09 ... 4.73 4.73 4.73 nan\n",
      "    DTS9           (timestamp) float64 8.1 8.1 8.1 8.09 ... 3.73 3.73 3.73 nan\n",
      "    DTS10          (timestamp) float64 9.1 9.1 9.1 9.09 ... 2.73 2.73 2.73 nan\n",
      "    TS_10m         (timestamp) float64 nan nan nan nan ... -30.63 -30.61 nan\n",
      "Attributes:\n",
      "    doi:                https://doi.org/10.16904/envidat.1\n",
      "    reference:          \"Steffen, K. (2020). Greenland Climate Network (GC-Ne...\n",
      "    station_id:         6\n",
      "    station_name:       GC-NET station Summit\n",
      "    srid:               EPSG:4326\n",
      "    geometry:           POINTZ (-38.50454 72.57972 3254)\n",
      "    nodata:             \n",
      "    timestamp_meaning:  end\n",
      "    timezone:           0\n",
      "    field_delimiter:    ,\n"
     ]
    }
   ],
   "source": [
    "import nead\n",
    "ds = nead.read(\"06-Summit.csv\", MKS=True, index_col=0)\n",
    "# print(ds.attrs)\n",
    "print(ds)\n"
   ]
  },
  {
   "cell_type": "code",
   "execution_count": null,
   "id": "c6f0cb21",
   "metadata": {},
   "outputs": [],
   "source": []
  }
 ],
 "metadata": {
  "kernelspec": {
   "display_name": "Python 3",
   "language": "python",
   "name": "python3"
  },
  "language_info": {
   "codemirror_mode": {
    "name": "ipython",
    "version": 3
   },
   "file_extension": ".py",
   "mimetype": "text/x-python",
   "name": "python",
   "nbconvert_exporter": "python",
   "pygments_lexer": "ipython3",
   "version": "3.6.9"
  }
 },
 "nbformat": 4,
 "nbformat_minor": 5
}
