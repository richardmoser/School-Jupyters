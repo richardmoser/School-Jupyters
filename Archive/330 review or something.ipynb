{
 "cells": [
  {
   "cell_type": "markdown",
   "id": "773146d2",
   "metadata": {},
   "source": [
    "### 330 review or something\n",
    "- enque\n",
    "    - O(n) for sorted list and vector\n",
    "    - O(1) for hash, unsorted list, unsorted vector\n",
    "    - O(log(n)) for BST\n",
    "- findmax\n",
    "    - O(1) for sorted list, unsorted vector and hash table\n",
    "    - O(n) for unsorted list\n",
    "    - O(1) for BST\n",
    "- delete min\n",
    "    - O(1) for vector and sort/unsort list\n",
    "    - O(n) for hash, unsorted vector\n",
    "    - O(log(n)) for BST\n",
    "- construct\n",
    "    - O(nlog(n)) for sorted vector, sorted list, BST, unsorted vector\n",
    "    - O(n) for unsorted list, hash table\n",
    "- **append image from Zhong's notes**"
   ]
  }
 ],
 "metadata": {
  "kernelspec": {
   "display_name": "ROOT C++",
   "language": "c++",
   "name": "root"
  },
  "language_info": {
   "codemirror_mode": "text/x-c++src",
   "file_extension": ".C",
   "mimetype": " text/x-c++src",
   "name": "c++"
  }
 },
 "nbformat": 4,
 "nbformat_minor": 5
}
