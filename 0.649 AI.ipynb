{
 "cells": [
  {
   "cell_type": "markdown",
   "source": [
    "### Day 0 Stuff"
   ],
   "metadata": {
    "collapsed": false
   },
   "id": "4bfa2e05fd4f16c8"
  },
  {
   "cell_type": "code",
   "outputs": [],
   "source": [],
   "metadata": {
    "collapsed": false
   },
   "id": "d10aeb9a95f63aa3"
  },
  {
   "cell_type": "markdown",
   "source": [
    "- zoom is available & recorded\n",
    "- AI/ stack overflow is allowed but must be cited"
   ],
   "metadata": {
    "collapsed": false
   },
   "id": "a832c79c1c7a2989"
  },
  {
   "cell_type": "markdown",
   "source": [
    "Artificial Intelligence (AI) is a field that attempts to imbue intelligence into engineered artifacts\n",
    "\n",
    "Intelligence is the ability to\n",
    "1. learn and understand from experience\n",
    "2. acquire and retain knowledge\n",
    "3. respond quickly and successfully to new situations\n",
    "4. use the faculty of reasoning in efficiently solving problems\n",
    "\n",
    "considerations for design\n",
    "- feedback/perception\n",
    "    - failure recognition\n",
    "- memory\n",
    "- pattern recognition and classification\n",
    "- NLP (natural language processing)\n",
    "- deduction/applied logic/inferences\n",
    "- ability to search\n",
    "- interactivity\n",
    "- ethical considerations\n",
    "- self awareness"
   ],
   "metadata": {
    "collapsed": false
   },
   "id": "754ef5c3120a8e7e"
  },
  {
   "cell_type": "markdown",
   "source": [
    "approaches to AI\n",
    "<img src=\"images/AI4.png\">\n",
    "- thinking like humans (cognitive science approach)\n",
    "    - consider limitations of humans\n",
    "        - perception limitations like framerates\n",
    "        - filling in gaps in information\n",
    "    - would have to make mistakes and have the limitations of humans\n",
    "- thinking Ideally/Rationally (Mathematical Laws of Thinking)\n",
    "    - Boole\n",
    "    - Logic\n",
    "    - Theorem provers\n",
    "    - expert systems\n",
    "        - encode knowledge of experts in a field into a system\n",
    "    - \"GOFAI\" (Good Old Fashioned AI)\n",
    "- acting like humans (Turing Test)\n",
    "    - operationalize the definition of intelligence\n",
    "    - replaces philosophical \"can machines think\" with an objective test\n",
    "    - considerations\n",
    "        - NLM\n",
    "        - long term memory for context & learning\n",
    "        - emotional awareness and expression\n",
    "            - empathy\n",
    "        - limitations/masking\n",
    "            - can't be too quick/smart\n",
    "        - opinions/point of view\n",
    "        - resistance to prompt injection\n",
    "            - \"pretend you are a...\"\n",
    "        - KR (knowledge representation)\n",
    "        - an identity\n",
    "    - LLMs, LMMs, GPTs, Alexa, Siri, etc\n",
    "        - RAGs (retrieval augmented generators)\n",
    "            - LLMs + retrieval\n",
    "            - front end adds extra context from a knowledge base (google, company specific database, etc)\n",
    "- acting ideally/rationally (Rational Agent Approach)\n",
    "    - main approach now\n",
    "    - acting ideally, not like a human\n",
    "        - process doesn't matter, only the result\n",
    "    -  e.g. chess engines over time\n",
    "        - shifted from expert systems to black box NNs\n",
    "    -  process could be human like, logical interference, hard coded rules, etc"
   ],
   "metadata": {
    "collapsed": false
   },
   "id": "f6aff652deff4470"
  },
  {
   "cell_type": "markdown",
   "source": [
    "**Book:**\n",
    "Stuart Russell & Peter Norvig. Artificial Intelligence: A Modern Approach. 4th US ed., 2021. ISBN: 978-0134610993"
   ],
   "metadata": {
    "collapsed": false
   },
   "id": "940f4c87006f8aa"
  },
  {
   "cell_type": "markdown",
   "source": [
    "### 25Jan24"
   ],
   "metadata": {
    "collapsed": false
   },
   "id": "70a1c0be59284739"
  },
  {
   "cell_type": "markdown",
   "source": [
    "- Turing Test\n",
    "    - some variations may even require physical interaction\n",
    "        - e.g. tie a shoe, play a game of chess, etc.\n",
    "- Rational Agent Architecture\n",
    "    - agent\n",
    "        - anything that can be viewed as perceiving its environment through sensors and acting upon that environment through actuators\n",
    "        - the agent can be considered holistically to include both the physical body and mind\n",
    "        - e.g. humans, robots, software agents, etc\n",
    "    - percepts ($i_t$)\n",
    "        - agent's perceptual inputs at any given instant\n",
    "    - actions ($a_t$)\n",
    "        - agent's actions at any given instant\n",
    "    - <img src=\"images/Rational-agent-design.png\" width=\"500\">\n",
    "\n",
    "    - e.g. the \"Photovore\" robot\n",
    "        - the robot likes light\n",
    "        - it is a condition/action agent and a stimulus/response agent\n",
    "            - if it receives light, it stays still\n",
    "            - if it doesn't receive light, it moves around\n",
    "        - it follows the agent function $a_t = F(i_t)$\n",
    "            - a hierarchy of if/else statements define the function\n",
    "            - IF $COND_1$ THEN $a^{1}$\n",
    "            - IF $COND_2$ THEN $a^{2}$\n",
    "            - ...\n",
    "            - some conditions may be layered or effect variables\n",
    "                - e.g. IF $COND_1$ THEN @\n",
    "                - (later) IF @, THEN $a^{1}$\n",
    "        - \"[Rule based systems] are just another way of programming in C\" - J. Doyle\n",
    "            - sure, but not necessarily a bad thing\n",
    "    - percept space and percept history\n",
    "        - percept space\n",
    "            - the set of all possible percepts\n",
    "        - percept history\n",
    "            - the sequence of percepts up to the current time\n",
    "            - $I_t = [i_1, i_2, ..., i_t]$\n",
    "            - the agent function may depend on all previous percepts\n",
    "                - $a_t = F(I_t)$\n",
    "    - agent function\n",
    "        - could be random\n",
    "        - could be stimulus/response\n",
    "        - could depend on last $n$ percepts\n",
    "        - could depend on internal states of the agent\n",
    "            - e.g. hunger, fatigue, etc"
   ],
   "metadata": {
    "collapsed": false
   },
   "id": "f4700b8b1f603b78"
  },
  {
   "cell_type": "markdown",
   "source": [
    "- Rational Agent\n",
    "    - rational (correct agent function) depends on\n",
    "        1. performance measure\n",
    "            - what is the goal?\n",
    "            - what is the objective?\n",
    "            - e.g. win the game, maximize profit, etc\n",
    "        2. prior knowledge\n",
    "            - what do we know about the environment?\n",
    "            - e.g. rules of the game, etc\n",
    "        3. actions available\n",
    "            - what can the agent do?\n",
    "            - e.g. move left, move right, etc\n",
    "      4. percept sequence to date\n",
    "            - what has the agent seen so far?\n",
    "            - e.g. what is the current state of the game?\n",
    "      5. memory and physical limitations\n",
    "            - how much memory does the agent have?\n",
    "            - how fast can it process information?\n",
    "            - e.g. how many moves can it consider in a given time?\n",
    "    - a rational agent maximizes its performance measure (1), subject to (2) through (5) \n",
    "### Append book Figure 2.5\n",
    "- the \"spectrum of agents\"\n",
    "    - a graph of response time vs information\n",
    "        - a strategic system is slow but utilizes a lot of information\n",
    "    - a tactical system is fast but utilizes little information\n",
    "    - a SR agent may take less time and have less information\n",
    "        - with internal states, it may be slower and use more information\n",
    "        - a \"Model Driven\" agent may be slower and use more information still\n",
    "    - a goal driven agent may be much slower and use much more information\n",
    "        - a utility based agent may be even slower and use even more information\n",
    "            - e.g. a taxi driver system may maximize comfort and safety of the passenger\n",
    "- analogous in many ways to Maslow's hierarchy of needs\n",
    "    - as you go up the pyramid and strive for higher level goals, you need more information and more time and information to make decisions"
   ],
   "metadata": {
    "collapsed": false
   },
   "id": "c6e5995a460e15c"
  },
  {
   "cell_type": "code",
   "outputs": [
    {
     "data": {
      "text/plain": "(0.0, 10.0)"
     },
     "execution_count": 8,
     "metadata": {},
     "output_type": "execute_result"
    },
    {
     "data": {
      "text/plain": "<Figure size 1000x1000 with 1 Axes>",
      "image/png": "[encoded data removed]"
     },
     "metadata": {},
     "output_type": "display_data"
    }
   ],
   "source": [
    "import matplotlib.pyplot as plt\n",
    "import numpy as np\n",
    "\n",
    "fig, ax = plt.subplots(figsize=(10, 10))\n",
    "\n",
    "# plot \"Model Driven Agent\" at 4,5\n",
    "ax.plot(4, 5, marker=\"o\", color=\"red\", label=\"Model Driven Agent\")\n",
    "ax.set_xlim(0, 10)"
   ],
   "metadata": {
    "collapsed": false,
    "ExecuteTime": {
     "end_time": "2024-01-30T20:33:41.349260800Z",
     "start_time": "2024-01-30T20:33:41.213707300Z"
    }
   },
   "id": "4f2684ab6325f88f",
   "execution_count": 8
  },
  {
   "cell_type": "markdown",
   "source": [
    "- Stimergy\n",
    "    - complex designs/group behavior can emerge from simple rules for individuals\n",
    "    - \"work from the products of work\" - the entomology definition of Stimergy\n",
    "- Configuration Space of agents\n",
    "    - could include x-y position, rotation, etc\n",
    "    - e.g. a robot may have"
   ],
   "metadata": {
    "collapsed": false
   },
   "id": "82be0578a4ac3edc"
  },
  {
   "cell_type": "markdown",
   "source": [
    "### Rational Agents"
   ],
   "metadata": {
    "collapsed": false
   },
   "id": "4b16e6661b57d400"
  },
  {
   "cell_type": "markdown",
   "source": [
    "### Braitenberg's Vehicles\n",
    "- suggests a model that can be used as a framework to program complicated behaviors  \n",
    "- dislike\n",
    "    - response is positive and proprtional to stimulus\n",
    "        - e.g. a car will move faster as a light gets brighter in it's sensor\n",
    "        - when coupled to a motor, this will cause the car to move towards or away from the light (Depending on the configuration)\n",
    "            - either run away from the light (crossed connection) or run it over (uncrossed connection)\n",
    "- like\n",
    "    - response is negative and proportional to stimulus\n",
    "        - e.g. a car will move slower as a light gets brighter in it's sensor\n",
    "        - stays near the light but doesn't run it over (uncrossed connection) or lingers in light areas but still explores (crossed connection)\n",
    "- multisensor vehicle\n",
    "    - combines multiple like and dislike inputs\n",
    "        - e.g. light ++, temperature ++ (crossed), food --, oxygen -- (crossed)\n",
    "            - afraid of light\n",
    "            - hates hot spots\n",
    "            - loves food\n",
    "            - lingers in $O_2$ rich areas\n",
    "- more complex stimulus response curves\n",
    "    - curve can be manipulated to create more complex behaviors\n",
    "        - e.g. a bell curve response to light may lead a vehicle to linger in a certain ring of light intensity\n",
    "- learning\n",
    "    - associative\n",
    "        - things that occur together are associated\n",
    "        - classical conditioning\n",
    "    - simple neural mechanism\n",
    "        - Hebbian Learning\n",
    "            - $\\frac{dW_{ij}}{dt} = r \\cdot net_i \\cdot net_j$ \n",
    "    - Lettvin's \"Grandmother Cell\"\n",
    "        - there is at least one neuron that fires when you see your grandmother\n",
    "        - is it a number of neurons firing or the number of firing patterns?\n",
    "            - n neurons can fire in $2^n$ patterns"
   ],
   "metadata": {
    "collapsed": false
   },
   "id": "863f9d36c03e5e9a"
  },
  {
   "cell_type": "markdown",
   "source": [
    "- logic\n",
    "    - a model neuron has inputs $s$ , a threshold $T$, and an output $y$\n",
    "        - inputs can be excitatory or inhibitory\n",
    "            - excitatory inputs increase the output\n",
    "            - inhibitory inputs decrease the output\n",
    "        - the threshold is the minimum input required to fire\n",
    "        - $y_{t+1} = [(\\sum_i_{exc} s_{i,t} - \\sum_i_{inh} s_{i,t}) \\geq T]$\n",
    "- AND, OR, NOT via neurons\n",
    "    - AND can be made of two excitatory inputs and a threshold of 2\n",
    "        - $y_{t+1} = [s_{1,t} + s_{2,t} \\geq 2]$\n",
    "        - T can be reduced a bit to make sure it fires if the signals are weak\n",
    "    - OR can be made of two excitatory inputs and a threshold of 1\n",
    "        - $y_{t+1} = [s_{1,t} + s_{2,t} \\geq 1]$\n",
    "    - NOT can be made of one inhibitory input and a threshold of 0\n",
    "        - $y_{t+1} = [- s_{1,t} \\geq 0]$\n",
    "- logic circuits\n",
    "    - combinations of neurons following this model can be used to create logic circuits"
   ],
   "metadata": {
    "collapsed": false
   },
   "id": "109cb2fd12ff92a6"
  },
  {
   "cell_type": "markdown",
   "source": [],
   "metadata": {
    "collapsed": false
   },
   "id": "9c16b23c20d40a93"
  },
  {
   "cell_type": "markdown",
   "source": [],
   "metadata": {
    "collapsed": false
   },
   "id": "7d0d24f02de0a0be"
  }
 ],
 "metadata": {
  "kernelspec": {
   "display_name": "Python 3",
   "language": "python",
   "name": "python3"
  },
  "language_info": {
   "codemirror_mode": {
    "name": "ipython",
    "version": 2
   },
   "file_extension": ".py",
   "mimetype": "text/x-python",
   "name": "python",
   "nbconvert_exporter": "python",
   "pygments_lexer": "ipython2",
   "version": "2.7.6"
  }
 },
 "nbformat": 4,
 "nbformat_minor": 5
}
