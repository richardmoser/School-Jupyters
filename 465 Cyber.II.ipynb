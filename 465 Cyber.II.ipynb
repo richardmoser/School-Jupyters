{
 "cells": [
  {
   "metadata": {},
   "cell_type": "markdown",
   "source": [
    "## Quiz & Report\n",
    "- Quiz\n",
    "    - same format as quiz 1\n",
    "    - 30 min\n",
    "    - multiple choice\n",
    "    - covers course materials up to this point\n",
    "- Report\n",
    "    - available on the website\n",
    "    - at least 3 pages long\n",
    "    - primarily a technical paper on how a tool works\n",
    "        - i.e. what happens under the hood\n",
    "    - must include a demonstration of the tool\n",
    "    - **use a tool that is not covered in the course**\n",
    "        - i.e. not nmap, zenmap, nessus, metasploit, etc.\n",
    "    - include diagrams, screenshots, etc.\n",
    "    - include citations\n",
    "    - suggested LaTex template\n",
    "        - https://www.acm.org/publications/proceedings-template\n",
    "``` Report Grading Schema\n",
    "Maximum number of points: 25 pts\n",
    "\n",
    "Report:\n",
    "1. (out of 4 pts) Organized and structured:\n",
    "   a.(out of 2 pts) Appropriate length and structured using sections (and subsections): Introduction, Motivation, …, Conclusions, References\n",
    "   b.(out of 2 pts) Pictures/diagrams and tables are numbered and have a title (may also have a brief description)\n",
    "\n",
    "2. (out of 17 pts) Content:\n",
    "   a.(out of 2 pts) Was the report focused on the given main topics/questions? \n",
    "   b.(out of 3 pts) Did the report have a logical order? Was it informative and clear? Were all the technical terms defined (e.g., spell-out acronyms and define them)?\n",
    "   c.(out of 7 pts) What was the \"demo component\" and how was it covered? \n",
    "   d.(out of 5 pts) Was the report well-researched and without major errors?\n",
    "\n",
    "3. (out of 4 pts) Language and Readability:\n",
    "   a.(out of 2 pt) Academic/formal language\n",
    "   b.(out of 2 pt) Easy to read and follow\n",
    "```"
   ],
   "id": "5be411293caf8b70"
  },
  {
   "metadata": {},
   "cell_type": "markdown",
   "source": [
    "## Password Cracking\n",
    "- passwords can be cracked or guessed\n",
    "    - weak passwords are easy to remember but also easy to guess\n",
    "- guessing\n",
    "    - automated trial of default and well known passwords\n",
    "    - advantage: no special access or effort required\n",
    "    - disadvantage: likely to be detected or logged\n",
    "    - Tools\n",
    "        - THC-Hydra & Medusa\n",
    "            - *The Hacker's Choice*\n",
    "            - fast network logon crackers\n",
    "            - guess passwords on many network services\n",
    "            - THC and Medusa work different ways but complement each other\n",
    "        - Forking vs. Threading\n",
    "            - forking: creates a new process as a copy of the current process\n",
    "                - crashing a forked process does not affect the parent process\n",
    "                - each process has its own memory space\n",
    "            - threading: creates a new thread within the current process\n",
    "                - crashing a threaded process crashes the parent process\n",
    "                - threads share memory space\n",
    "            - both achieve parallelism\n",
    "            - hydra uses forking\n",
    "                - more stable\n",
    "            - medusa uses threading\n",
    "                - more efficient\n",
    "        - Hydra\n",
    "            - `hydra -s 21 -L userlist.txt -P passwordlist.txt -vV 172.16.30.101 -f ftp`\n",
    "                - `-s`: port number\n",
    "                - `-L`: user list\n",
    "                - `-P`: password list\n",
    "                - `-vV`: verbose\n",
    "                - `-f`: stop after first valid password found\n",
    "        - Medusa\n",
    "            - `medusa -h 172.16.30.101 -U userlist.txt -P passwordlist.txt -M ftp`\n",
    "                - `-h`: host\n",
    "                - `-U`: user list\n",
    "                - `-P`: password list\n",
    "                - `-M`: module\n",
    "- cracking\n",
    "    - more sophisticated than guessing\n",
    "    - start with a copy of the authentication database\n",
    "        - either a hashed copy or an encrypted copy\n",
    "    - run a tool that attempts to crack the hash or encryption\n",
    "    - advantage: can be done offline and without detection\n",
    "    - disadvantage: requires access to the database which may involve detection\n",
    "    - hashes\n",
    "        - a hash is a one-way function\n",
    "        - also called a digest\n",
    "        - reveals whether two inputs are the same without revealing the inputs\n",
    "        - hash size is fixed\n",
    "        - collision: two different inputs produce the same hash\n",
    "            - if the hash is large enough, collisions are extremely unlikely\n",
    "    - encryption\n",
    "        - reversible\n",
    "        - reveals the inputs if the key is known\n",
    "        - usually, ciphertext size = plaintext size + padding\n",
    "    - hashes are good for integrity checks\n",
    "        - if the hash of a file is the same as the hash of the original file, the file has not been altered\n",
    "            - web hosted downloads should have the hash hosted on a different site\n",
    "                - if the download site is compromised, the hash site is likely not\n",
    "                - if hosted on the same site, a fake hash can be hosted if the download is compromised\n",
    "        - if the hash of an entered password is the same as the hash in the database, the password is correct"
   ],
   "id": "26bc2a8ae8ace1c4"
  },
  {
   "metadata": {},
   "cell_type": "markdown",
   "source": "# 08Oct24",
   "id": "ac2a2fee62850d0c"
  },
  {
   "metadata": {},
   "cell_type": "markdown",
   "source": [
    "## Report 1\n",
    "- what a tool does vs how it works\n",
    "    - may want a diagram for what it does\n",
    "    - almost certainly need a diagram for how it works\n",
    "        - inner workings\n",
    "        - outputs\n",
    "        - performance metrics\n",
    "    - what it does\n",
    "        - diagram describes behavior\n",
    "    - how it works\n",
    "        - diagram describes structure\n",
    "        - describe components\n",
    "- short paper can still be good"
   ],
   "id": "6bcb39abeeaec4e6"
  },
  {
   "metadata": {},
   "cell_type": "markdown",
   "source": "### ",
   "id": "b67ba92d5957e703"
  },
  {
   "metadata": {},
   "cell_type": "markdown",
   "source": "",
   "id": "70d9d8f3804cc1f5"
  },
  {
   "metadata": {},
   "cell_type": "markdown",
   "source": "",
   "id": "6e3efc741da6f8ef"
  },
  {
   "metadata": {},
   "cell_type": "markdown",
   "source": "",
   "id": "a52f137b3b26ef6e"
  },
  {
   "metadata": {},
   "cell_type": "markdown",
   "source": "",
   "id": "9becd341614015c2"
  },
  {
   "metadata": {},
   "cell_type": "markdown",
   "source": "",
   "id": "563dc77a0553732f"
  }
 ],
 "metadata": {
  "kernelspec": {
   "display_name": "Python 3",
   "language": "python",
   "name": "python3"
  },
  "language_info": {
   "codemirror_mode": {
    "name": "ipython",
    "version": 2
   },
   "file_extension": ".py",
   "mimetype": "text/x-python",
   "name": "python",
   "nbconvert_exporter": "python",
   "pygments_lexer": "ipython2",
   "version": "2.7.6"
  }
 },
 "nbformat": 4,
 "nbformat_minor": 5
}
