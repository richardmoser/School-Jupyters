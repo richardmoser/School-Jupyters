{
 "cells": [
  {
   "cell_type": "code",
   "id": "fc2fb8c2ad8163ac",
   "metadata": {
    "ExecuteTime": {
     "end_time": "2025-02-07T19:03:41.731139Z",
     "start_time": "2025-02-07T19:03:41.717398Z"
    }
   },
   "source": [],
   "outputs": [],
   "execution_count": null
  },
  {
   "cell_type": "markdown",
   "id": "a1a0fda4f9246ef4",
   "metadata": {},
   "source": [
    "## Unit 1, Section 2: Science and Health "
   ]
  },
  {
   "cell_type": "markdown",
   "id": "9446ae9f87116cbe",
   "metadata": {},
   "source": [
    "## Photo Essay Assignment\n",
    "### General Notes\n",
    "- https://canvas.ku.edu/courses/150954/assignments/985612?module_item_id=3321706\n",
    "- Take or find **4 pictures** capturing privilege in your world\n",
    "- the 200 to 250 words counts for both the description and the analysis\n",
    "    - **the analysis should be the bulk of that word count**\n",
    "- at least one of the images must relate to you specifically\n",
    "    - it is fine if more than one do, but at least one must\n",
    "- it is highly encouraged that the description and analysis are explicitly separate\n",
    "    - e.g. have a `Description: ...` section/paragraph and an `Analysis: ...` section/paragraph\n",
    "    - see the example below/in the rubric document\n",
    "\n",
    "\n",
    "### Full Rubric from Canvas: \n",
    "\n",
    "#### Instructions\n",
    "This assignment is designed to make you look at the world that surrounds you from a slightly different perspective: one that is particularly focused upon the ways that privilege and oppression are communicated to us all the time. The course materials should give you a clear idea of the many ways in which privilege and oppression operate in our own individual lives, our local communities, our country, and the world at large. Now is your chance to go out in the world and really find examples of the ways in which these socially constructed concepts shape our lived environment and interactions.\n",
    "\n",
    "This project asks you to upload 4 pictures (of your own taking or found on the internet with permission to use it) that capture privilege or oppression in your world. One of these 4 pictures should relate to your own positionality (privileges or oppressions). Provide a source for all photos. Add your photos to a Word document. For each photo, write 200-250 words that briefly describe EACH image AND explain how the photo reflects a privilege or oppression in the world around us. \n",
    "\n",
    "#### \\*Additional Assessment for Core 34*\n",
    "This assignment will also be submitted anonymously to KU's repository of student work for assessment of the general education curriculum. It will be reviewed using the KU Core 34 rubric for the following US Culture learning outcomes: \n",
    "    - Identify own cultural rules and biases \n",
    "    - Reflect on how own attitudes and beliefs are different from those of other cultures and communities\n",
    "    - Identify and explain multiple perspectives \n",
    "    - Explain or connect multiple cultures historically or in contemporary contexts acknowledging power structures and demonstrating respectful interaction with cultures \n",
    "\n",
    "You will not be graded on whether you meet these outcomes for this class, and you do not need to do anything special to meet these particular outcomes. This information is just available to you so that you know other ways your work may be reviewed by the university. \n",
    "\n",
    "#### Writing: 40%\n",
    "- Writing should be clear, concise, and constructive. Provide a short, direct description of what the picture captures and where you got it (when and where you took it or the date and website from which it came). Then dive into meaningful analysis that links to course concepts. \n",
    "\n",
    "#### Analysis: 50%\n",
    "- This is where you explain why this picture meets the criteria for this assignment. Using clear and argument driven language, explain how each image captures privilege or oppression. This should show your understanding of privilege or oppression and demonstrate your ability to identify it in the world around you. Show me what you know! Analysis of intersectional oppressions welcome and encouraged!\n",
    "\n",
    "#### Citations: 10%\n",
    "- Provide a source for your photograph in the following formats:\n",
    "Title of image, taken by (NAME OF PERSON WHO TOOK IT), date taken **OR** Website link, date accessed.\n",
    "    - doesn't need to be MLA/APA/other format, just needs to have the information above\n",
    "\n",
    "### Example Citation, Description, and Analysis]\n",
    "<img src=\"images/photo_essay.jpg\">\n",
    "\n",
    "~~~\n",
    "Source: https://dralegal.org/wp-content/uploads/2019/03/Exhibit_A_Pickett_Part1.jpg, accessed April 24, 2019.\n",
    "\n",
    "Description: A crumbling sidewalk leading to a subway stairwell in a lower-income neighborhood in New York City illustrates both the existence of curb cutouts for wheelchairs and the disrepair of low-income neighborhoods that make them useless to people in wheelchairs. \n",
    "\n",
    "Analysis: This image captures the intersection of oppressions faced by people experiencing poverty and whose bodies require a wheelchair. Clearly the city landscape requires mobility, evidenced by the sidewalk, subway, and traffic, yet wheelchair access is impossible here due to disrepair and inaccessible planning of the subway. People whose mobility does not rely on a wheelchair would be able to traverse this landscape with ease. People using wheelchairs would also find better maintained sidewalks in higher-income areas of the city. This literal roadblock impedes the ability of low-income people with wheelchairs to move about the city for work, social support, and medical care in ways that are unique to them. \n",
    "~~~\n",
    "\n"
   ]
  },
  {
   "cell_type": "markdown",
   "id": "f006d184a4ac1116",
   "metadata": {},
   "source": [
    "# 06Feb25 Readings\n",
    "### Scientific Racism and the Emergence of the Homosexual Body\n",
    "- homosexuality and thus heterosexuality as concepts are relatively new\n",
    "    - specific sex acts may have been criminalized but they were not placed in terms of sexuality\n",
    "- the emergence of this concept coincides with the emergence of \"scientific\" racism\n",
    "- *Sexual Inversion* aimed to explain the existence of homosexuality\n",
    "    - intended to \"defend\" homosexuals by explaining their existence as a congenital, involuntary condition\n",
    "- \"racial science\" attempted to link physically measurable traits to intelligence, morality, and other characteristics\n",
    "    - \"Every peculiarity of the body has probably some corresponding significance in the mind, and the causes of the former are the remoter causes of the latter\" - Edward Drinker Cope\n",
    "- racial science helped to develop and enforce white eurocentric norms of beauty through comparative study of non-white and white bodies\n",
    "    - Flower and Murie specifically cite \"the protuberance of the buttocks so peculiar to the Bushman race\" and \"the remarkable development of the labia minora... sufficiently well marked to distinguish these parts from those of any of the ordinary variety of the human species.\"\n",
    "        - ~~implicitly~~ all but explicitly defining the \"ordinary variety\" as white\n",
    "- sexology made similarly crude attempts through scientific sounding language to use physical traits to define sexual orientation\n",
    "    - one oddly consistent example cited was the assertion that lesbians consistently had larger clitorises than other women\n",
    "        - some authors added that this was more pronounced in women of color\n",
    "        - this was linked to the \"free\" (read: promiscuous) clitoris of the African American and the \"imprisoned\" (read: chaste) clitoris of the white woman\n"
   ]
  },
  {
   "cell_type": "markdown",
   "id": "1007f5a2b8d8671d",
   "metadata": {},
   "source": [
    "### 07Feb25 Class\n",
    "- models for pathologizing nonwhite and non heterosexual bodies\n",
    "    - visible differences (Sexology and comparative anatomy)\n",
    "        - scientific ***sounding*** mumbo jumbo \n",
    "    - the \"mixed body\"\n",
    "    - sexual perversion and radicalized desire\n",
    "        - assigns moral judgements to the \"objective\" \"scientific\" differences \n",
    "- these models legitimize hierarchies of power around race and sexuality\n",
    "- video: the racism of fatphobia\n",
    "    - dates back to colonial times\n",
    "    - fatness was linked with blackness\n",
    "    - thinness was linked to whiteness and godliness\n",
    "        - protestant values emphasized going without and self restriction\n",
    "    - contrast this with the renaissance when larger bodies were seen as a sign of beauty and wealth\n",
    "        - it's almost like suddenly these traits were going to lend power to rising non-white populations\n",
    "            - no longer benefited the hierarchy $\\implies$ had to change\n",
    "    - hegemony, here meaning the way we internalize social norms\n",
    "    - diet culture is bad and diets can be extremely unhealthy both physically and mentally"
   ]
  },
  {
   "metadata": {},
   "cell_type": "markdown",
   "source": [
    "### 09Feb25 Readings\n",
    "#### The Five Sexes (1993)\n",
    "- **note: this article is written semi-humorously as a critique of the gender binary and uses some outdated language**\n",
    "    - the author is not arguing for a pentinary system, but rather for a more nuanced understanding that biological sex is also a spectrum\n",
    "- western culture is built around the notion that there are exactly two distinct sexes\n",
    "    - this affects everything from language to law to medicine\n",
    "    - this is not representative of the biological reality\n",
    "- intersex is a catchall term for people who do not fit the binary\n",
    "    - there are many different ways this can manifest\n",
    "    - this piece specifically discusses \n",
    "        - \"true\" hermaphrodites - people with both ovarian and testicular tissue\n",
    "            - the author refers to them as herms\n",
    "        - male pseudohermaphrodites - people with testicular tissue and some degree of feminization\n",
    "            - the author refers to them as merms\n",
    "        - female pseudohermaphrodites - people with ovarian tissue and some degree of masculinization\n",
    "            - the author refers to them as ferms\n",
    "    - The author suggests as a minimum of five biologically distinct sexes at a minimum\n",
    "    - estimates suggest as many as 4% of the population may be intersex\n",
    "        - most of these cases are not visible or are medically treated at birth such that many people may not know they are intersex\n",
    "    - herms may have one or both of their gonads functioning and producing hormones\n",
    "    - merms may have testicular tissue but otherwise develop as female with breasts, clitoris, and vagina\n",
    "    - ferms may have ovarian tissue but otherwise develop as male with beards, deep voices, and adult-size penises\n",
    "- intersexuality has been represented in historical and religious texts for centuries (and likely longer)\n",
    "    - biblical interpretations of Adam as hermaphrodite prior to falling from grace\n",
    "    - Jewish books of law listing regulations for intersex people\n",
    "    - Plato suggesting a third sex, hermaphrodite, which was lost to time\n",
    "- by the 1960s, the focus had become medical intervention\n",
    "    - on one hand this reduces the potential for harm due to being othered\n",
    "    - on the other, it perpetuates the norm, hence validating the harm to those who are openly gender binary nonconforming\n",
    "    - prior to this shift, there were innumerable accounts and scholarly studies showing highly functional and well adjusted intersex adults living fulfilling lives\n",
    "- Fausto-Sterling posits that a better world is possible through a de-emphasis of medical intervention in favor of expanding our definitions and understanding of the sexes\n",
    "    - i.e. allow nature to take its course as it has for millenia while society itself evolves\n",
    "    - pursue research into understanding intersexuality, its implications, and possible health side effects"
   ],
   "id": "df120c90c5f7ac9"
  },
  {
   "metadata": {},
   "cell_type": "markdown",
   "source": [
    "#### The Five Sexes Revisited (2000)\n",
    "- follow up piece to the above\n",
    "- by 2000, already there were doctors discussing the importance of patient-centered care focusing on psychological counseling and support rather than radical intervention for children\n",
    "    - largely due to the efforts of intersex activists\n",
    "- revised estimates of intersex prevalence suggest as many as 1.7% of the population may be intersex at the time of this piece\n",
    "    - this includes a wide range of conditions which may or may not be visible or medically treated at birth\n",
    "    - the rate of intersexuals potentially subject to radical intervention is likely around 1 in 1 or 2 thousand births\n",
    "    - these rates are likely to be higher in some populations and lower in others\n",
    "- many reassigned intersex individuals have reported dissatisfaction with the results of their surgeries\n",
    "    - many have rejected the changes and sought to reverse them\n",
    "        - this can be a difficult and painful process\n",
    "- the increased visibility of comfortable, happy intersex individuals and the damage caused by radical intervention led to a shift in mindset among some medical professionals\n",
    "    - \"The treatment mantra, in other words, should be therapy, not surgery.\"\n",
    "- society is moving beyond the binary\n",
    "    - gender variation is normal and should be expected and accepted\n",
    "#### Muddying the Waters (2009)\n",
    "- other regions of the world have different understandings of sex and gender\n",
    "    - Indonesian cultures recognize five genders (different than those proposed by Anne Fausto-Sterling)\n",
    "        - men\n",
    "        - women\n",
    "        - androgynous priests\n",
    "        - transgender men\n",
    "        - transgender women\n",
    "    - the Indonesian interpretation of transgender is different from the western one and overlaps with bisexuality\n",
    "        - one example cited was Yulia\n",
    "            - a male bodies wedding planner\n",
    "            - conventionally feminine behaviors and dress\n",
    "            - has sexual relations with men\n",
    "            - does not aspire to be a woman"
   ],
   "id": "8ae8b03b5640f6c"
  },
  {
   "metadata": {},
   "cell_type": "markdown",
   "source": [
    "\n",
    "### 10Feb25 Class\n",
    "- important points in history\n",
    "    - 1937: Dr. Hugh Young publishes *Genital Abnormalities, Hermaphroditism, and Related Adrenal Diseases*\n",
    "        - a relatively humane discussion of intersexuality itself but still suggests radical intervention\n",
    "        - set the stage for much less humane treatment by those that followed\n",
    "    - 1966: the New York Academy of Medicine argued that surgical alterations do not change chromosomal sex\n",
    "        - argued that \"concealing\" one's original sex constituted fraud\n",
    "    - 1969: Dewhurst and Gordan publish *Intersexual Disorders* and suggest a \"rigid uniformity\" in the use of medical and surgical approaches\n",
    "        - i.e. the doctor knows best\n",
    "        - doctors as authority figures could present a diagnosis and course of action\n",
    "            - normalized radical action as not radical and not optional\n",
    "- \"I don't think that this terminology is particularly illuminating here - human desire always exceeds the categories that we generate to describe it.\"\n",
    "    - -- Yescavage and Alexander 2009, p. 26 \n",
    "    - language is only useful in context and can never fully encapsulate the human experience\n",
    "    - it is also only useful when the definition and context are fully understood and agreed upon by all parties\n",
    "        - e.g. checkboxes for male or female on a form \n",
    "            - can be asking about your genitalia\n",
    "            - can be asking about how you dress/present\n",
    "            - can be asking about your chromosomes\n",
    "- Documentary: Intersexion\n",
    "    - available on YouTube\n",
    "    - the term intersex encompasses more than 30 different conditions\n",
    "    - 1 in 1500-2000 births are observed to be visibly intersex\n",
    "    - many doctors prescribed not just medical treatment but also secrecy and shame\n",
    "        - parents were told to move and destroy any evidence of their child's intersexuality or past gender expression\n",
    "    - Dr. John Money believed that gender was predominantly a socially learned behavior and could be changed simply by raising them a certain way\n",
    "        - while gender is now generally considered a social construct, Money's theory was used to justify radical intervention to enforce gender norms\n",
    "            - i.e. the boxes on the forms are valid and real and must be enforced \n",
    "            - literally mutilating people's bodies to fit them into the societal boxes \n",
    "\n",
    "\n"
   ],
   "id": "417c66b776a74d7b"
  },
  {
   "metadata": {},
   "cell_type": "markdown",
   "source": "",
   "id": "b0724bd52d37426f"
  },
  {
   "metadata": {},
   "cell_type": "markdown",
   "source": "",
   "id": "615616be8dadf176"
  },
  {
   "metadata": {},
   "cell_type": "markdown",
   "source": "",
   "id": "6e68a673afb05359"
  },
  {
   "metadata": {},
   "cell_type": "markdown",
   "source": "",
   "id": "115e3ad68f0f099c"
  },
  {
   "metadata": {},
   "cell_type": "markdown",
   "source": "",
   "id": "b11a014dcfbe7f39"
  },
  {
   "metadata": {},
   "cell_type": "markdown",
   "source": "",
   "id": "bbd533dc88ee9533"
  },
  {
   "metadata": {},
   "cell_type": "markdown",
   "source": "",
   "id": "884b1597960c38e4"
  },
  {
   "metadata": {},
   "cell_type": "markdown",
   "source": "",
   "id": "c98b2d6b06f83184"
  }
 ],
 "metadata": {
  "kernelspec": {
   "display_name": "Python 3 (ipykernel)",
   "language": "python",
   "name": "python3"
  },
  "language_info": {
   "codemirror_mode": {
    "name": "ipython",
    "version": 3
   },
   "file_extension": ".py",
   "mimetype": "text/x-python",
   "name": "python",
   "nbconvert_exporter": "python",
   "pygments_lexer": "ipython3",
   "version": "3.10.12"
  }
 },
 "nbformat": 4,
 "nbformat_minor": 5
}
