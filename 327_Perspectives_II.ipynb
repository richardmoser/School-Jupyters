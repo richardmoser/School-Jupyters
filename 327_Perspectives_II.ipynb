{
 "cells": [
  {
   "cell_type": "code",
   "id": "fc2fb8c2ad8163ac",
   "metadata": {
    "ExecuteTime": {
     "end_time": "2025-02-07T19:03:41.731139Z",
     "start_time": "2025-02-07T19:03:41.717398Z"
    }
   },
   "source": [],
   "outputs": [],
   "execution_count": null
  },
  {
   "cell_type": "markdown",
   "id": "a1a0fda4f9246ef4",
   "metadata": {},
   "source": [
    "## Unit 1, Section 2: Science and Health "
   ]
  },
  {
   "cell_type": "markdown",
   "id": "9446ae9f87116cbe",
   "metadata": {},
   "source": [
    "## Photo Essay Assignment\n",
    "### General Notes\n",
    "- https://canvas.ku.edu/courses/150954/assignments/985612?module_item_id=3321706\n",
    "- Take or find **4 pictures** capturing privilege in your world\n",
    "- the 200 to 250 words counts for both the description and the analysis\n",
    "    - **the analysis should be the bulk of that word count**\n",
    "- at least one of the images must relate to you specifically\n",
    "    - it is fine if more than one do, but at least one must\n",
    "- it is highly encouraged that the description and analysis are explicitly separate\n",
    "    - e.g. have a `Description: ...` section/paragraph and an `Analysis: ...` section/paragraph\n",
    "    - see the example below/in the rubric document\n",
    "\n",
    "\n",
    "### Full Rubric from Canvas: \n",
    "\n",
    "#### Instructions\n",
    "This assignment is designed to make you look at the world that surrounds you from a slightly different perspective: one that is particularly focused upon the ways that privilege and oppression are communicated to us all the time. The course materials should give you a clear idea of the many ways in which privilege and oppression operate in our own individual lives, our local communities, our country, and the world at large. Now is your chance to go out in the world and really find examples of the ways in which these socially constructed concepts shape our lived environment and interactions.\n",
    "\n",
    "This project asks you to upload 4 pictures (of your own taking or found on the internet with permission to use it) that capture privilege or oppression in your world. One of these 4 pictures should relate to your own positionality (privileges or oppressions). Provide a source for all photos. Add your photos to a Word document. For each photo, write 200-250 words that briefly describe EACH image AND explain how the photo reflects a privilege or oppression in the world around us. \n",
    "\n",
    "#### \\*Additional Assessment for Core 34*\n",
    "This assignment will also be submitted anonymously to KU's repository of student work for assessment of the general education curriculum. It will be reviewed using the KU Core 34 rubric for the following US Culture learning outcomes: \n",
    "    - Identify own cultural rules and biases \n",
    "    - Reflect on how own attitudes and beliefs are different from those of other cultures and communities\n",
    "    - Identify and explain multiple perspectives \n",
    "    - Explain or connect multiple cultures historically or in contemporary contexts acknowledging power structures and demonstrating respectful interaction with cultures \n",
    "\n",
    "You will not be graded on whether you meet these outcomes for this class, and you do not need to do anything special to meet these particular outcomes. This information is just available to you so that you know other ways your work may be reviewed by the university. \n",
    "\n",
    "#### Writing: 40%\n",
    "- Writing should be clear, concise, and constructive. Provide a short, direct description of what the picture captures and where you got it (when and where you took it or the date and website from which it came). Then dive into meaningful analysis that links to course concepts. \n",
    "\n",
    "#### Analysis: 50%\n",
    "- This is where you explain why this picture meets the criteria for this assignment. Using clear and argument driven language, explain how each image captures privilege or oppression. This should show your understanding of privilege or oppression and demonstrate your ability to identify it in the world around you. Show me what you know! Analysis of intersectional oppressions welcome and encouraged!\n",
    "\n",
    "#### Citations: 10%\n",
    "- Provide a source for your photograph in the following formats:\n",
    "Title of image, taken by (NAME OF PERSON WHO TOOK IT), date taken **OR** Website link, date accessed.\n",
    "    - doesn't need to be MLA/APA/other format, just needs to have the information above\n",
    "\n",
    "### Example Citation, Description, and Analysis]\n",
    "<img src=\"images/photo_essay.jpg\">\n",
    "\n",
    "~~~\n",
    "Source: https://dralegal.org/wp-content/uploads/2019/03/Exhibit_A_Pickett_Part1.jpg, accessed April 24, 2019.\n",
    "\n",
    "Description: A crumbling sidewalk leading to a subway stairwell in a lower-income neighborhood in New York City illustrates both the existence of curb cutouts for wheelchairs and the disrepair of low-income neighborhoods that make them useless to people in wheelchairs. \n",
    "\n",
    "Analysis: This image captures the intersection of oppressions faced by people experiencing poverty and whose bodies require a wheelchair. Clearly the city landscape requires mobility, evidenced by the sidewalk, subway, and traffic, yet wheelchair access is impossible here due to disrepair and inaccessible planning of the subway. People whose mobility does not rely on a wheelchair would be able to traverse this landscape with ease. People using wheelchairs would also find better maintained sidewalks in higher-income areas of the city. This literal roadblock impedes the ability of low-income people with wheelchairs to move about the city for work, social support, and medical care in ways that are unique to them. \n",
    "~~~\n",
    "\n"
   ]
  },
  {
   "cell_type": "markdown",
   "id": "f006d184a4ac1116",
   "metadata": {},
   "source": [
    "# 06Feb25 Readings\n",
    "### Scientific Racism and the Emergence of the Homosexual Body\n",
    "- homosexuality and thus heterosexuality as concepts are relatively new\n",
    "    - specific sex acts may have been criminalized but they were not placed in terms of sexuality\n",
    "- the emergence of this concept coincides with the emergence of \"scientific\" racism\n",
    "- *Sexual Inversion* aimed to explain the existence of homosexuality\n",
    "    - intended to \"defend\" homosexuals by explaining their existence as a congenital, involuntary condition\n",
    "- \"racial science\" attempted to link physically measurable traits to intelligence, morality, and other characteristics\n",
    "    - \"Every peculiarity of the body has probably some corresponding significance in the mind, and the causes of the former are the remoter causes of the latter\" - Edward Drinker Cope\n",
    "- racial science helped to develop and enforce white eurocentric norms of beauty through comparative study of non-white and white bodies\n",
    "    - Flower and Murie specifically cite \"the protuberance of the buttocks so peculiar to the Bushman race\" and \"the remarkable development of the labia minora... sufficiently well marked to distinguish these parts from those of any of the ordinary variety of the human species.\"\n",
    "        - ~~implicitly~~ all but explicitly defining the \"ordinary variety\" as white\n",
    "- sexology made similarly crude attempts through scientific sounding language to use physical traits to define sexual orientation\n",
    "    - one oddly consistent example cited was the assertion that lesbians consistently had larger clitorises than other women\n",
    "        - some authors added that this was more pronounced in women of color\n",
    "        - this was linked to the \"free\" (read: promiscuous) clitoris of the African American and the \"imprisoned\" (read: chaste) clitoris of the white woman\n"
   ]
  },
  {
   "cell_type": "markdown",
   "id": "1007f5a2b8d8671d",
   "metadata": {},
   "source": [
    "### 07Feb25 Class\n",
    "- models for pathologizing nonwhite and non heterosexual bodies\n",
    "    - visible differences (Sexology and comparative anatomy)\n",
    "        - scientific ***sounding*** mumbo jumbo \n",
    "    - the \"mixed body\"\n",
    "    - sexual perversion and radicalized desire\n",
    "        - assigns moral judgements to the \"objective\" \"scientific\" differences \n",
    "- these models legitimize hierarchies of power around race and sexuality\n",
    "- video: the racism of fatphobia\n",
    "    - dates back to colonial times\n",
    "    - fatness was linked with blackness\n",
    "    - thinness was linked to whiteness and godliness\n",
    "        - protestant values emphasized going without and self restriction\n",
    "    - contrast this with the renaissance when larger bodies were seen as a sign of beauty and wealth\n",
    "        - it's almost like suddenly these traits were going to lend power to rising non-white populations\n",
    "            - no longer benefited the hierarchy $\\implies$ had to change\n",
    "    - hegemony, here meaning the way we internalize social norms\n",
    "    - diet culture is bad and diets can be extremely unhealthy both physically and mentally"
   ]
  }
 ],
 "metadata": {
  "kernelspec": {
   "display_name": "Python 3 (ipykernel)",
   "language": "python",
   "name": "python3"
  },
  "language_info": {
   "codemirror_mode": {
    "name": "ipython",
    "version": 3
   },
   "file_extension": ".py",
   "mimetype": "text/x-python",
   "name": "python",
   "nbconvert_exporter": "python",
   "pygments_lexer": "ipython3",
   "version": "3.10.12"
  }
 },
 "nbformat": 4,
 "nbformat_minor": 5
}
