{
 "cells": [
  {
   "metadata": {},
   "cell_type": "markdown",
   "source": "### Day 0 Stuff",
   "id": "aa9860004c866eec"
  },
  {
   "metadata": {},
   "cell_type": "markdown",
   "source": [
    "- term project\n",
    "    - description on Canvas is incomplete\n",
    "        - on purpose\n",
    "            - (of course)\n",
    "    - basically, we are creating a library\n",
    "        - team decides what features are involved"
   ],
   "id": "59e2037ecf633cf2"
  },
  {
   "metadata": {},
   "cell_type": "markdown",
   "source": [
    "### Grading\n",
    "- breakdown\n",
    "    - 10% assignments\n",
    "    - 40% team term project\n",
    "    - 50% exams\n",
    "- not dropping anything this time, just trying to fudge via extra credit\n",
    "- final exam will not be cumulative unless overall class performance sucks\n",
    "- **3 unexcused absences will drop one letter grade**\n",
    "    - measured via iClicker"
   ],
   "id": "d101704461723e83"
  },
  {
   "metadata": {},
   "cell_type": "markdown",
   "source": "",
   "id": "4fea41b85f8246cc"
  },
  {
   "metadata": {},
   "cell_type": "markdown",
   "source": "",
   "id": "a3913e0cee27a66"
  },
  {
   "metadata": {},
   "cell_type": "markdown",
   "source": "",
   "id": "b2b267681eadb095"
  },
  {
   "metadata": {},
   "cell_type": "markdown",
   "source": "",
   "id": "dd858b6441f915b7"
  },
  {
   "metadata": {},
   "cell_type": "markdown",
   "source": "",
   "id": "d23dfec17b2aab9e"
  },
  {
   "metadata": {},
   "cell_type": "markdown",
   "source": "",
   "id": "e299adfa6bc05bf8"
  },
  {
   "metadata": {},
   "cell_type": "markdown",
   "source": "",
   "id": "10226da05e83de79"
  },
  {
   "metadata": {},
   "cell_type": "markdown",
   "source": "",
   "id": "7b0379326eec0a4d"
  }
 ],
 "metadata": {
  "kernelspec": {
   "display_name": "Python 3",
   "language": "python",
   "name": "python3"
  },
  "language_info": {
   "codemirror_mode": {
    "name": "ipython",
    "version": 2
   },
   "file_extension": ".py",
   "mimetype": "text/x-python",
   "name": "python",
   "nbconvert_exporter": "python",
   "pygments_lexer": "ipython2",
   "version": "2.7.6"
  }
 },
 "nbformat": 4,
 "nbformat_minor": 5
}
