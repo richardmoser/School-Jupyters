{
 "cells": [
  {
   "cell_type": "code",
   "execution_count": 1,
   "id": "12f4b601d8f456e2",
   "metadata": {
    "ExecuteTime": {
     "end_time": "2025-01-23T19:22:37.105521Z",
     "start_time": "2025-01-23T19:22:37.100267Z"
    }
   },
   "outputs": [
    {
     "name": "stdout",
     "output_type": "stream",
     "text": [
      "hello world\n"
     ]
    }
   ],
   "source": [
    "print(\"hello world\")"
   ]
  },
  {
   "cell_type": "markdown",
   "id": "880ce9a7-b44e-47c6-9d47-5565058b8668",
   "metadata": {},
   "source": [
    "### Day 0 Stuff"
   ]
  },
  {
   "cell_type": "markdown",
   "id": "59e2037ecf633cf2",
   "metadata": {},
   "source": [
    "- term project\n",
    "    - description on Canvas is incomplete\n",
    "        - on purpose\n",
    "            - (of course)\n",
    "    - basically, we are creating a database for a library\n",
    "        - library as in book repository\n",
    "        - team decides what features are involved"
   ]
  },
  {
   "cell_type": "markdown",
   "id": "d101704461723e83",
   "metadata": {},
   "source": [
    "### Grading\n",
    "- breakdown\n",
    "    - 10% assignments\n",
    "    - 40% team term project\n",
    "        - 25% of that (10% of the final course grade) is based on peer evaluations\n",
    "    - 50% exams\n",
    "- not dropping anything this time, just trying to fudge via extra credit\n",
    "- final exam will not be cumulative unless overall class performance sucks\n",
    "- **3 unexcused absences will drop one letter grade**\n",
    "    - measured via iClicker"
   ]
  },
  {
   "cell_type": "markdown",
   "id": "4fea41b85f8246cc",
   "metadata": {},
   "source": [
    "### Term Project\n",
    "- designing a database for a library\n",
    "    - track and manage collection of loanable items\n",
    "        - memberships\n",
    "        - borrowing rules\n",
    "        - reports\n",
    "- milestones\n",
    "    - vision statement & project plan\n",
    "        - vision statement: a few sentences describing the intent\n",
    "        - project plan: delineating team roles and responsibilities\n",
    "    - domain modeling & requirements engineering\n",
    "        - domain and requirements are largely in the rubric information\n",
    "            - mostly about us figuring out what we want to do in addition to these \n",
    "    - conceptual design\n",
    "    - logical design\n",
    "    - physical design & data population\n",
    "    - project demo\n",
    "- weekly meetings\n",
    "    - minutes should include\n",
    "        - date\n",
    "        - time\n",
    "        - location \n",
    "            - can be physical or virtual\n",
    "        - objective of the meeting\n",
    "        - team members present\n",
    "        - tasks assigned \n",
    "            - should include the deadlines assigned to each task\n",
    "        - prior task completion status\n",
    "    - create a google form for this? \n",
    "- 25% of project grade is based on peer evaluations"
   ]
  },
  {
   "cell_type": "markdown",
   "id": "a3913e0cee27a66",
   "metadata": {},
   "source": [
    "### 23Jan25 Introduction to Databases\n",
    "- terminology   \n",
    "    - data: known facts with implicit meaning; raw\n",
    "    - database: a highly organized, interrelated, and structured set of data about entities\n",
    "        - controlled by a database management system (DBMS)\n",
    "    - database management system (DBMS): \n",
    "        - a set of programs that manage databases\n",
    "        - used for high value, high volume, and/or high access rate data\n",
    "        - support multiple types of roles and user types\n",
    "            - different users may have access to different parts of the database\n",
    "        - SQL -> Relational Algebra -> Compiled Code\n",
    "        - defines the database's structures, data types, constraints, etc\n",
    "        - allows for retrieval, insertion, deletion, and modification of data\n",
    "    - transaction: a single logical operation on the database\n",
    "        - e.g. a single SQL statement to update a record\n",
    "    - atomicity: a transaction is either fully completed or fully aborted\n",
    "        - no partial transactions\n",
    "        - important for maintaining data integrity in the event of power loss or other failures\n",
    "    - DDL: Data Definition Language\n",
    "        - used to create a table\n",
    "        - e.g. CREATE TABLE, ALTER TABLE, DROP TABLE\n",
    "    - DML: Data Manipulation Language\n",
    "        - used to manipulate the data\n",
    "        - e.g. SELECT, INSERT, UPDATE, DELETE\n",
    "        <img src=\"images/DBMS.jpg\" width=500>\n",
    "    - SDL: Storage Definition Language\n",
    "        - used to define the physical storage structure of the database\n",
    "        - e.g. CREATE INDEX, DROP INDEX\n",
    "    - Relational Algebra\n",
    "        - a procedural query language\n",
    "        - all about set manipulation\n",
    "        - DDL, DML, and SDL are all based on relational algebra"
   ]
  },
  {
   "cell_type": "markdown",
   "id": "b2b267681eadb095",
   "metadata": {},
   "source": [
    "- example \"mini-world\" database\n",
    "    - environment: UNIVERSITY\n",
    "    - entities: STUDENTs, COURSEs, SECTIONs (of COURSEs), DEPARTMENTs, INSTRUCTORs\n",
    "    - relationships: SECTIONs are of COURSEs, STUDENTs enroll in SECTIONs, COURSEs have prerequisite COURSEs, INSTRUCTORs teach SECTIONs, COURSEs are offered by DEPARTMENTs, STUDENTs have majors in DEPARTMENTs, etc\n",
    "        - typically expressed in a conceptual data model                \n",
    "- anatomy of a table\n",
    "    - table name\n",
    "    - attribute names\n",
    "    - data types\n",
    "    - rows or columns of data\n",
    "- Why DBMS approach?\n",
    "    - self describing\n",
    "        - the DBMS catalog stores the description (metadata) of the database\n",
    "        - allows the DBMS software to work with different database applications\n",
    "    - program-data independence\n",
    "        - allows for changes in the data structure without changing the applications\n",
    "            - i.e. the program needs to know less about the database to work with it \n",
    "\n"
   ]
  },
  {
   "cell_type": "markdown",
   "id": "dd858b6441f915b7",
   "metadata": {},
   "source": [
    "- schema: a description of a particular collection of data\n",
    "        - includes the data structures, operations on the data\n",
    "        - for a relational database, the schema is usually described as a set of tables\n",
    "            - format: `student(SID: string, name: string, age: integer)`\n",
    "            - the table name is `student`\n",
    "            - the attributes or keys are `SID`, `name`, and `age`\n",
    "- **three-schema architecture** (will be an exam Q)\n",
    "    - goal of the three-schema architecture is to separate the user applications from the physical database\n",
    "    - levels\n",
    "        - external schema\n",
    "            - user views\n",
    "            - describes the part of the database that a particular user group is interested in\n",
    "            - hides irrelevant details\n",
    "        - conceptual schema\n",
    "            - community view\n",
    "            - describes the entire database for the community\n",
    "            - hides details not relevant to the entire community\n",
    "        - internal schema\n",
    "            - physical view\n",
    "            - describes the physical storage of the database\n",
    "            - hides the details of the storage structure\n",
    "            - can be indexed, hashed, etc\n",
    "    <img src=\"images/three-schema.jpg\">"
   ]
  },
  {
   "cell_type": "markdown",
   "id": "d23dfec17b2aab9e",
   "metadata": {},
   "source": [
    "- data abstraction\n",
    "    - hides the storage details from the user and allows the user to focus on the data\n",
    "- sharing of data and multiuser transaction processing\n",
    "    - allows concurrent access to the data\n",
    "    - the DBMS ensures that each transaction is either correctly executed or aborted\n",
    "- user types\n",
    "    - end user\n",
    "        - run queries, reports, and sometimes update the database\n",
    "    - database designers\n",
    "        - define the structure of the database\n",
    "    - database administrators\n",
    "        - responsible for the physical database design and for dealing with issues such as security, performance, and backup and recovery\n",
    "- data model\n",
    "    - a set of concepts to describe \n",
    "        - the structure of a database        \n",
    "        - the operations for manipulating the structures\n",
    "        - constraints on the database\n",
    "    - schema, operations, constraint, integrity, etc.\n",
    "        - \n"
   ]
  },
  {
   "cell_type": "markdown",
   "id": "e299adfa6bc05bf8",
   "metadata": {},
   "source": []
  },
  {
   "cell_type": "markdown",
   "id": "10226da05e83de79",
   "metadata": {},
   "source": []
  },
  {
   "cell_type": "markdown",
   "id": "7b0379326eec0a4d",
   "metadata": {},
   "source": []
  }
 ],
 "metadata": {
  "kernelspec": {
   "display_name": "Python 3 (ipykernel)",
   "language": "python",
   "name": "python3"
  },
  "language_info": {
   "codemirror_mode": {
    "name": "ipython",
    "version": 3
   },
   "file_extension": ".py",
   "mimetype": "text/x-python",
   "name": "python",
   "nbconvert_exporter": "python",
   "pygments_lexer": "ipython3",
   "version": "3.10.12"
  }
 },
 "nbformat": 4,
 "nbformat_minor": 5
}
