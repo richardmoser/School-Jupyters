{
 "cells": [
  {
   "cell_type": "code",
   "execution_count": 1,
   "id": "12f4b601d8f456e2",
   "metadata": {
    "ExecuteTime": {
     "end_time": "2025-01-23T19:22:37.105521Z",
     "start_time": "2025-01-23T19:22:37.100267Z"
    }
   },
   "outputs": [
    {
     "name": "stdout",
     "output_type": "stream",
     "text": [
      "hello world\n"
     ]
    }
   ],
   "source": [
    "print(\"hello world\")"
   ]
  },
  {
   "cell_type": "markdown",
   "id": "880ce9a7-b44e-47c6-9d47-5565058b8668",
   "metadata": {},
   "source": [
    "### Day 0 Stuff"
   ]
  },
  {
   "cell_type": "markdown",
   "id": "59e2037ecf633cf2",
   "metadata": {},
   "source": [
    "- term project\n",
    "    - description on Canvas is incomplete\n",
    "        - on purpose\n",
    "            - (of course)\n",
    "    - basically, we are creating a database for a library\n",
    "        - library as in book repository\n",
    "        - team decides what features are involved"
   ]
  },
  {
   "cell_type": "markdown",
   "id": "d101704461723e83",
   "metadata": {},
   "source": [
    "### Grading\n",
    "- breakdown\n",
    "    - 10% assignments\n",
    "    - 40% team term project\n",
    "        - 25% of that (10% of the final course grade) is based on peer evaluations\n",
    "    - 50% exams\n",
    "- not dropping anything this time, just trying to fudge via extra credit\n",
    "- final exam will not be cumulative unless overall class performance sucks\n",
    "- **3 unexcused absences will drop one letter grade**\n",
    "    - measured via iClicker"
   ]
  },
  {
   "cell_type": "markdown",
   "id": "4fea41b85f8246cc",
   "metadata": {},
   "source": [
    "### Term Project\n",
    "- designing a database for a library\n",
    "    - track and manage collection of loanable items\n",
    "        - memberships\n",
    "        - borrowing rules\n",
    "        - reports\n",
    "- milestones\n",
    "    - vision statement & project plan\n",
    "        - vision statement: a few sentences describing the intent\n",
    "        - project plan: delineating team roles and responsibilities\n",
    "    - domain modeling & requirements engineering\n",
    "        - domain and requirements are largely in the rubric information\n",
    "            - mostly about us figuring out what we want to do in addition to these \n",
    "    - conceptual design\n",
    "    - logical design\n",
    "    - physical design & data population\n",
    "    - project demo\n",
    "- weekly meetings\n",
    "    - minutes should include\n",
    "        - date\n",
    "        - time\n",
    "        - location \n",
    "            - can be physical or virtual\n",
    "        - objective of the meeting\n",
    "        - team members present\n",
    "        - tasks assigned \n",
    "            - should include the deadlines assigned to each task\n",
    "        - prior task completion status\n",
    "    - create a google form for this? \n",
    "- 25% of project grade is based on peer evaluations"
   ]
  },
  {
   "cell_type": "markdown",
   "id": "a3913e0cee27a66",
   "metadata": {},
   "source": [
    "### 23Jan Introduction to Databases\n",
    "- terminology   \n",
    "    - data: known facts with implicit meaning; raw\n",
    "    - database: a highly organized, interrelated, and structured set of data about entities\n",
    "        - controlled by a database management system (DBMS)\n",
    "    - database management system (DBMS): \n",
    "        - a set of programs that manage databases\n",
    "        - used for high value, high volume, and/or high access rate data\n",
    "        - support multiple types of roles and user types\n",
    "            - different users may have access to different parts of the database\n",
    "        - SQL -> Relational Algebra -> Compiled Code\n",
    "        - defines the database's structures, data types, constraints, etc\n",
    "        - allows for retrieval, insertion, deletion, and modification of data\n",
    "    - transaction: a single logical operation on the database\n",
    "        - e.g. a single SQL statement to update a record\n",
    "    - atomicity: a transaction is either fully completed or fully aborted\n",
    "        - no partial transactions\n",
    "        - important for maintaining data integrity in the event of power loss or other failures\n",
    "    - DDL: Data Definition Language\n",
    "        - used to create a table\n",
    "        - e.g. CREATE TABLE, ALTER TABLE, DROP TABLE\n",
    "    - DML: Data Manipulation Language\n",
    "        - used to manipulate the data\n",
    "        - e.g. SELECT, INSERT, UPDATE, DELETE\n",
    "                \n",
    "        <img src=\"images/DBMS.JPEG\" width=500>\n",
    "    - SDL: Storage Definition Language\n",
    "        - used to define the physical storage structure of the database\n",
    "        - e.g. CREATE INDEX, DROP INDEX\n",
    "    - Relational Algebra\n",
    "        - a procedural query language\n",
    "        - all about set manipulation\n",
    "        - DDL, DML, and SDL are all based on relational algebra"
   ]
  },
  {
   "cell_type": "markdown",
   "id": "b2b267681eadb095",
   "metadata": {},
   "source": [
    "- example \"mini-world\" database\n",
    "    - environment: UNIVERSITY\n",
    "    - entities: STUDENTs, COURSEs, SECTIONs (of COURSEs), DEPARTMENTs, INSTRUCTORs\n",
    "    - relationships: SECTIONs are of COURSEs, STUDENTs enroll in SECTIONs, COURSEs have prerequisite COURSEs, INSTRUCTORs teach SECTIONs, COURSEs are offered by DEPARTMENTs, STUDENTs have majors in DEPARTMENTs, etc\n",
    "        - typically expressed in a conceptual data model                \n",
    "- anatomy of a table\n",
    "    - table name\n",
    "    - attribute names\n",
    "    - data types\n",
    "    - rows or columns of data\n",
    "- Why DBMS approach?\n",
    "    - self describing\n",
    "        - the DBMS catalog stores the description (metadata) of the database\n",
    "        - allows the DBMS software to work with different database applications\n",
    "    - program-data independence\n",
    "        - allows for changes in the data structure without changing the applications\n",
    "            - i.e. the program needs to know less about the database to work with it \n",
    "\n"
   ]
  },
  {
   "cell_type": "markdown",
   "id": "dd858b6441f915b7",
   "metadata": {},
   "source": [
    "- schema: a description of a particular collection of data\n",
    "        - includes the data structures, operations on the data\n",
    "        - for a relational database, the schema is usually described as a set of tables\n",
    "            - format: `student(SID: string, name: string, age: integer)`\n",
    "            - the table name is `student`\n",
    "            - the attributes or keys are `SID`, `name`, and `age`\n",
    "- **three-schema architecture** (will be an exam Q)\n",
    "    - goal of the three-schema architecture is to separate the user applications from the physical database\n",
    "    - levels\n",
    "        - external schema\n",
    "            - user views\n",
    "            - describes the part of the database that a particular user group is interested in\n",
    "            - hides irrelevant details\n",
    "        - conceptual schema\n",
    "            - community view\n",
    "            - describes the entire database for the community\n",
    "            - hides details not relevant to the entire community\n",
    "        - internal schema\n",
    "            - physical view\n",
    "            - describes the physical storage of the database\n",
    "            - hides the details of the storage structure\n",
    "            - can be indexed, hashed, etc\n",
    "    <img src=\"images/three-schema.jpg\">"
   ]
  },
  {
   "cell_type": "markdown",
   "id": "d23dfec17b2aab9e",
   "metadata": {},
   "source": [
    "- data abstraction\n",
    "    - hides the storage details from the user and allows the user to focus on the data\n",
    "- sharing of data and multiuser transaction processing\n",
    "    - allows concurrent access to the data\n",
    "    - the DBMS ensures that each transaction is either correctly executed or aborted\n",
    "- user types\n",
    "    - end user\n",
    "        - run queries, reports, and sometimes update the database\n",
    "    - database designers\n",
    "        - define the structure of the database\n",
    "    - database administrators\n",
    "        - responsible for the physical database design and for dealing with issues such as security, performance, and backup and recovery\n",
    "- data model\n",
    "    - a set of concepts to describe \n",
    "        - the structure of a database        \n",
    "        - the operations for manipulating the structures\n",
    "        - constraints on the database\n",
    "    - schema, operations, constraint, integrity, etc.\n"
   ]
  },
  {
   "cell_type": "markdown",
   "id": "e299adfa6bc05bf8",
   "metadata": {},
   "source": [
    "### 28Jan\n",
    "- domain modeling\n",
    "    - captures the concepts in a problem domain and establishes their relationships\n",
    "        - establishes vocabulary of the problem domain\n",
    "    - problem domain: the area of interest for the system\n",
    "        - e.g. a library system, a student information system, etc\n",
    "    - team members should communicate their understanding of the domain\n",
    "        - facilitates communication\n",
    "        - builds a common understanding of the problem domain \n",
    "    - abstraction\n",
    "        - simplifying the complexity of the system by modeling the essential aspects \n",
    "    - documentation\n",
    "        - ensures that the model, system, and requirements are understood by all stakeholders\n",
    "            - both now and in the future\n",
    "        - Entity Relationship (ER) diagram: a graphical representation of the model\n",
    "            - entities, attributes, relationships\n",
    "            - can be used to generate a database schema\n",
    "- structuring a domain model\n",
    "    - can start with a list of phrases describing aspects of the domain\n",
    "        - e.g. a person can work for one or several companies\n",
    "        - identifies entities and relationships which should be included in the model\n",
    "    - can also be mathematically or graphically described\n",
    "        - we will use ER diagrams in this course\n",
    "- conceptual model development\n",
    "    - use ER or UML to illustrate entities, attributes, and relationships\n",
    "    - independent from the database data model\n",
    "    - maps to the logical design\n",
    "        - once the conceptual model is complete, the logical design can be developed based on the model\n",
    "        - there are existing algorithms/processes for translating ER diagrams to database schemas and code"
   ]
  },
  {
   "cell_type": "markdown",
   "id": "10226da05e83de79",
   "metadata": {},
   "source": [
    "- requirements engineering for databases\n",
    "    - start with the people it affects\n",
    "        - identify stakeholders\n",
    "        - conduct interviews\n",
    "        - define objectives and scope\n",
    "    - define requirements\n",
    "        - document functional requirements\n",
    "            - what should it do\n",
    "            - what entry, retrieval, and reporting capabilities are needed\n",
    "        - capture non-functional requirements\n",
    "            - performance, security scalability, backups, etc\n",
    "        - identify data requirements\n",
    "            - where does the data come from and what is the data flow\n",
    "    - review and validate\n",
    "        - circle back with stakeholders\n",
    "        - validate with feeback and iteration\n"
   ]
  },
  {
   "cell_type": "markdown",
   "id": "7b0379326eec0a4d",
   "metadata": {},
   "source": [
    "- designing a database\n",
    "    - domain modeling $\\implies$ requirements engineering\n",
    "    - $\\implies$ \n",
    "    - conceptual model\n",
    "    - $\\implies$ \n",
    "    - technology independent schema $\\implies$ normalization $\\implies$ technology dependent schema\n",
    "        - normalization: a process of organizing the data in the database\n",
    "            - reduces redundancy and dependency by organizing fields and table of a database\n",
    "            - ensures data integrity\n",
    "    - $\\implies$\n",
    "    - logical design $\\implies$ physical design\n",
    "- why conceptual modeling?\n",
    "    - abstraction and simplification\n",
    "    - improved understanding and communication\n",
    "- **ER Modeling for the project**\n",
    "    - <img src=\"images/447project_ER.JPEG\" width=500>\n",
    "    - entity sets and attributes can be modeled either as a UML style box with a name and attributes inside or as a box with a name and attribute bubbles attached\n",
    "    - can use singular or plural names for entities\n",
    "    - just be consistent with model and naming conventions\n",
    "    - **there are python libraries for turning tables into UML/ER diagrams**\n",
    "- entity sets\n",
    "    - an entity is a thing or object in the real world that is distinguishable from other objects\n",
    "        - e.g. a student, a course, a department\n",
    "    - entities have attributes which characterize them\n",
    "        - e.g. a student has a name, an ID, a major\n",
    "        - types\n",
    "            - composite: an attribute that can be divided into smaller subparts\n",
    "                - e.g. a name can be divided into first and last names\n",
    "            - multivalued: an attribute that can have multiple values \n",
    "                - **these should be double outlined in the ER diagram**\n",
    "                    - i.e. if using bubbles, bubble twice\n",
    "                - e.g. a student can have multiple phone numbers\n",
    "            - key: an attribute that uniquely identifies an entity \n",
    "                - **these should be underlined in the ER diagram**\n",
    "                - e.g. a student ID\n",
    "    - an entity set is a collection of similar entities\n",
    "        - e.g. the set of all students\n",
    "    - entities can be strong or weak\n",
    "        - a strong entity is one that can be uniquely identified by its attributes\n",
    "            - e.g. an employee\n",
    "        - a weak entity is one that cannot be uniquely identified by its attributes alone\n",
    "            - cannot exist without a strong entity\n",
    "            - e.g. dependent family members of an employee\n",
    "        - e.g. employment databse\n",
    "            - an employee would be a strong entity\n",
    "                - they have a unique employee ID and can exist without any other entities\n",
    "            - a dependent would be a weak entity \n",
    "                - they cannot exist without an employee entity"
   ]
  },
  {
   "metadata": {},
   "cell_type": "markdown",
   "source": [
    "### 30Jan\n",
    "#### ER Diagrams continued\n",
    "- relationships\n",
    "    - **relationship sets are shown as diamonds or labels directly on the connecting lines**\n",
    "    - two entities may be related by a relationship\n",
    "    - relationships can have attributes\n",
    "    - e.g. a `student` entity and a `course` entity are linked by the `takes` relationship\n",
    "        - `takes` may have attributes such as `grade` and `semester`\n",
    "    - **multiplicity constraints are drawn on or near the connecting lines**\n",
    "        - use parenthesized intervals to represent the number of entities that can be involved in a relationship\n",
    "        - often represented as `(min, max)`, `(min, N)`, `(min, *)`, min...max`, `min...N`, etc\n",
    "        - (*) represents 0 or more\n",
    "\n",
    "    <img src=\"images/relationship_example.JPEG\" width=1000>\n",
    "    \n",
    "    - M (1,5) between `student` and `takes` represents that the student can take a minimum of 1 and a maximum of 5 courses\n",
    "    - N (10, 300) between `takes` and `course` represents that a course can have a minimum of 10 and a maximum of 300 students\n",
    "    - relationships can be unary, binary, ternary, etc\n",
    "        - unary: a relationship between an entity and itself\n",
    "            - **draw a line to the relationship diamond and back to the entity**\n",
    "            - e.g. a `employee` entity may have a `manages` relationship with itself\n",
    "                - i.e. specific employees may act as managers for some number of other employees\n",
    "                - `employees` $\\rightarrow$ `manages` $\\rightarrow$ `employees`\n",
    "                - **RL does not have arrows so you have to find other ways to indicate directionality**\n",
    "                    - *allegedly*\n",
    "                    - how do you know if it is `(1, 1)` manager per `(10, 20)` employees or `(10, 20)` managers per `(1, 1)` employee?\n",
    "                    - can also specify with a text label by the interval\n",
    "                        - e.g. `(1,1) managers` and `(10, 20) employees`\n",
    "        - binary: a relationship between two entities\n",
    "        - ternary: a relationship between three entities\n",
    "    - **a double line connecting represents a mandatory relationship**\n",
    "        - e.g. it is mandatory that a `student` `takes` the minimum number of `course`s"
   ],
   "id": "39aae42e5db0bc4e"
  },
  {
   "metadata": {},
   "cell_type": "markdown",
   "source": [
    "### 04Feb\n",
    "- **mini exam Tuesday Feb 11th**\n",
    "    - laptop with full screen brightness\n",
    "    - use only a browser with a single tab open\n",
    "        - no other files/apps\n",
    "    - alternatively a paper version will be available\n",
    "    - format:\n",
    "        - on Canvas\n",
    "        - mostly MC and T/F\n",
    "        - one or two short answer questions"
   ],
   "id": "a891ee0cc8bb25e1"
  },
  {
   "metadata": {},
   "cell_type": "markdown",
   "source": [
    "#### ER Diagrams continued continued\n",
    "- recall:\n",
    "    - each entity and relationship can/will be equated to a table in the database\n",
    "    - **anything ER can do, UML can do**\n",
    "        - UML is more general\n",
    "        - ER is more specific to databases\n",
    "    - other notations\n",
    "        - if no multiplicity is specified, assume `N`\n",
    "            - i.e. 0 or more\n",
    "        - if no multiplicity but an arrow is present, assume `1`\n",
    "            - i.e. 1 or more\n",
    "- ternary relationships\n",
    "    - 3+ entities are involved\n",
    "    - avoid when possible\n",
    "    - can often be broken down into multiple binary relationships\n",
    "\n",
    "<img src=\"images/ER_Ternary.png\" width=800>\n",
    "\n",
    "<img src=\"images/ER_Ternary2.png\" width=800>\n"
   ],
   "id": "ede729a4246e0530"
  },
  {
   "metadata": {},
   "cell_type": "markdown",
   "source": [
    "#### Extended ER\n",
    "- several extensions to ER exist\n",
    "- specialization and generalization is the most notable\n",
    "    - a triangle is used to indicate specialization\n",
    "    - delineates a subclass of an entity\n",
    "        - e.g. `student` `is a` `person`\n",
    "### Summary of conceptual modeling\n",
    "- good conceptual modeling, especially ER reduces the amount of normalization needed\n",
    "    - things should just slot into place\n",
    "- **likely exam question**\n",
    "<img src=\"images/3_Schema_Mini_Exam_Q.png\" width=800>"
   ],
   "id": "ca44d8d4cc1c6df8"
  },
  {
   "metadata": {},
   "cell_type": "markdown",
   "source": [
    "### SQL\n",
    "- languages\n",
    "    - high level: C++, Java, Python\n",
    "    - low level: assembly, machine code \n",
    "    - compiled: C++, Java\n",
    "    - interpreted: Python, R\n",
    "    - declarative: SQL\n",
    "        - you tell the DBMS what you want and it figures out how to get it\n",
    "    - procedural: Python, C++\n",
    "        - you tell the computer how to get it\n",
    "- SQL\n",
    "    - a high level, interpreted, declarative language\n",
    "    - e.g. syntax `SELECT name age FROM student WHERE age > 21`\n",
    "        - returns the names and ages of students older than 21\n",
    "\n"
   ],
   "id": "dc65d52db4f58223"
  },
  {
   "metadata": {},
   "cell_type": "markdown",
   "source": "",
   "id": "6ee10902e3afeed1"
  },
  {
   "metadata": {},
   "cell_type": "markdown",
   "source": "",
   "id": "ce5fdd102271aec7"
  },
  {
   "metadata": {},
   "cell_type": "markdown",
   "source": "",
   "id": "111eeef1077d16a5"
  },
  {
   "metadata": {},
   "cell_type": "markdown",
   "source": "",
   "id": "c925219883a0ac37"
  },
  {
   "metadata": {},
   "cell_type": "markdown",
   "source": "",
   "id": "ca02952996237e08"
  },
  {
   "metadata": {},
   "cell_type": "markdown",
   "source": "",
   "id": "a2ea07b078cf4a9c"
  },
  {
   "metadata": {},
   "cell_type": "markdown",
   "source": "",
   "id": "4c8a147417f6ad86"
  }
 ],
 "metadata": {
  "kernelspec": {
   "display_name": "Python 3 (ipykernel)",
   "language": "python",
   "name": "python3"
  },
  "language_info": {
   "codemirror_mode": {
    "name": "ipython",
    "version": 3
   },
   "file_extension": ".py",
   "mimetype": "text/x-python",
   "name": "python",
   "nbconvert_exporter": "python",
   "pygments_lexer": "ipython3",
   "version": "3.10.12"
  }
 },
 "nbformat": 4,
 "nbformat_minor": 5
}
