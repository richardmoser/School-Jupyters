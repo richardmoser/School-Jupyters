{
 "cells": [
  {
   "metadata": {},
   "cell_type": "markdown",
   "source": "# Astrophysics Part 2 (Exam 2 material)",
   "id": "e2506c5284ee224f"
  },
  {
   "metadata": {},
   "cell_type": "markdown",
   "source": [
    "# 07Oct\n",
    "## Stellar Interiors\n",
    "- Goal: connect observations with a physical model\n",
    "- key quantities of the interior:\n",
    "    - metallicity/chemical composition\n",
    "    - temperature\n",
    "        - fusion rate\n",
    "    - size\n",
    "        - mass\n",
    "        - density\n",
    "            - mass density\n",
    "            - number density\n",
    "    - pressure\n",
    "## tools for evaluating the interior:\n",
    "- ideal gas law\n",
    "    - $P = nk_{b}T$ (astro version)\n",
    "        - $P$ = pressure\n",
    "        - $n$ = number density\n",
    "        - $k_{b}$ = boltzmann constant\n",
    "        - $T$ = temperature\n",
    "        - $PV = nRT$ is the general form\n",
    "            - astronomers usually don't know the volume of the star\n",
    "            "
   ],
   "id": "2ee9ec3a4bb3438"
  },
  {
   "metadata": {},
   "cell_type": "markdown",
   "source": "",
   "id": "6ebd5a619a80fde0"
  },
  {
   "metadata": {},
   "cell_type": "markdown",
   "source": [
    "- enclosed mass\n",
    "    - links size, density, and mass in stars\n",
    "        - *profile* refers to how a quantity changes with radius\n",
    "            - e.g. density profile\n",
    "                - $<\\rho> = \\frac{M}{V}$\n",
    "                    - $<\\rho>$ = average density which isn't very useful\n",
    "                - $dm = \\rho dV$,\n",
    "                    - $dm$ = mass of a shell\n",
    "                    - $\\rho$ = density\n",
    "                    - $dV$ = volume of a spherical shell\n",
    "                        - $dV = 4\\pi r^{2}dr$\n",
    "                    - **$dm = 4\\pi r^{2}\\rho dr$**\n",
    "    - $M_{enc}(<r) = \\int_{0}^{r}dm = \\int_{0}^{r}4\\pi r^{2}\\rho dr$\n",
    "        - $M_{enc}(<r)$ = mass enclosed within a radius r\n",
    "        - $dm = 4\\pi r^{2}\\rho dr$\n",
    "        - $M_{enc}(<r) = \\int_{0}^{r}dm = \\int_{0}^{r}4\\pi r^{2}\\rho dr$\n",
    "    - e.g. $p(r) = p_{0}$, the density is constant\n",
    "        - very unrealistic but easy to work with\n",
    "        - $M_{enc}(<r) = \\int_{0}^{r}4\\pi r^{2}\\rho dr = 4\\pi \\rho \\int_{0}^{r}r^{2}dr = 4\\pi \\rho \\frac{r^{3}}{3} = \\frac{4}{3}\\pi \\rho r^{3}$\n",
    "        - $M(R_*) = \\frac{4}{3}\\pi \\rho_{0} R_{*}^{3}$"
   ],
   "id": "7452c08ae724ce3c"
  },
  {
   "metadata": {},
   "cell_type": "markdown",
   "source": "",
   "id": "1c31d702a6bf5def"
  },
  {
   "metadata": {},
   "cell_type": "markdown",
   "source": [
    "- local gravity\n",
    "    - $g = \\frac{F_{g}}{m}$ general equation for gravity\n",
    "        - $g$ = acceleration due to gravity\n",
    "        - $F_{g}$ = force of gravity\n",
    "        - $m$ = mass\n",
    "    - $g_{internal}(r) = \\frac{G M_{enc}(r)}{r^{2}}$ internal gravity\n",
    "        - $G$ = gravitational constant\n",
    "            - $6.67 \\times 10^{-11} \\frac{m^{3}}{kg s^{2}}$\n",
    "        - $M_{enc}(r)$ = mass enclosed within a radius r\n",
    "        - $r$ = radius from the center of the star\n",
    "    - $g_{external} = \\frac{G M_{*}}{r^{2}}$ external gravity\n",
    "        - $M_{*}$ = total mass of the star\n",
    "        - $r$ = radius from the center of the star to some object\n",
    "    - if $p = p_{0}$, $g(r) = \\frac{4}{3}\\pi G \\rho_{0} r$\n",
    "        - $g(r) = \\frac{4}{3}\\pi G \\rho_{0} r$\n",
    "- $p(r)$, $m_{enc}$, and $g(r)$ are related and you can move between them"
   ],
   "id": "24a4a4118c21bc3c"
  },
  {
   "metadata": {
    "ExecuteTime": {
     "end_time": "2024-10-07T15:49:20.167110Z",
     "start_time": "2024-10-07T15:49:19.140581Z"
    }
   },
   "cell_type": "code",
   "source": [
    "# plot p(r), m_enc, and g(r) for p = p0 on [0, R_*]\n",
    "import numpy as np\n",
    "    \n",
    "def p0(r):\n",
    "    return 1\n",
    "\n",
    "def m_enc(r):\n",
    "    return 4/3*np.pi*p0(r)*r**3\n",
    "\n",
    "def g(r):\n",
    "    return 4/3*np.pi*6.67e-11*p0(r)*r\n",
    "\n",
    "r = np.linspace(0, 10, 100)\n",
    "p = p0(r)\n",
    "m = m_enc(r)\n",
    "g = g(r)\n",
    "\n",
    "import matplotlib.pyplot as plt\n",
    "# 3 subplots\n",
    "fig, axs = plt.subplots(3)\n",
    "fig.suptitle('p(r), m_enc, and g(r) for p = p0 on [0, R_*]')\n",
    "axs[0].plot(r, p)\n",
    "axs[0].set_title('p(r)')\n",
    "\n",
    "axs[1].plot(r, m)\n",
    "axs[1].set_title('m_enc')\n",
    "\n",
    "axs[2].plot(r, g)\n",
    "axs[2].set_title('g(r)')\n",
    "plt.show()\n"
   ],
   "id": "96f5e2634203118e",
   "outputs": [
    {
     "ename": "ValueError",
     "evalue": "x and y must have same first dimension, but have shapes (100,) and (1,)",
     "output_type": "error",
     "traceback": [
      "\u001B[0;31m---------------------------------------------------------------------------\u001B[0m",
      "\u001B[0;31mValueError\u001B[0m                                Traceback (most recent call last)",
      "Cell \u001B[0;32mIn[9], line 22\u001B[0m\n\u001B[1;32m     20\u001B[0m fig, axs \u001B[38;5;241m=\u001B[39m plt\u001B[38;5;241m.\u001B[39msubplots(\u001B[38;5;241m3\u001B[39m)\n\u001B[1;32m     21\u001B[0m fig\u001B[38;5;241m.\u001B[39msuptitle(\u001B[38;5;124m'\u001B[39m\u001B[38;5;124mp(r), m_enc, and g(r) for p = p0 on [0, R_*]\u001B[39m\u001B[38;5;124m'\u001B[39m)\n\u001B[0;32m---> 22\u001B[0m \u001B[43maxs\u001B[49m\u001B[43m[\u001B[49m\u001B[38;5;241;43m0\u001B[39;49m\u001B[43m]\u001B[49m\u001B[38;5;241;43m.\u001B[39;49m\u001B[43mplot\u001B[49m\u001B[43m(\u001B[49m\u001B[43mr\u001B[49m\u001B[43m,\u001B[49m\u001B[43m \u001B[49m\u001B[43mp\u001B[49m\u001B[43m)\u001B[49m\n\u001B[1;32m     23\u001B[0m axs[\u001B[38;5;241m0\u001B[39m]\u001B[38;5;241m.\u001B[39mset_title(\u001B[38;5;124m'\u001B[39m\u001B[38;5;124mp(r)\u001B[39m\u001B[38;5;124m'\u001B[39m)\n\u001B[1;32m     24\u001B[0m axs[\u001B[38;5;241m1\u001B[39m]\u001B[38;5;241m.\u001B[39mplot(r, m)\n",
      "File \u001B[0;32m~/.local/lib/python3.10/site-packages/matplotlib/axes/_axes.py:1779\u001B[0m, in \u001B[0;36mAxes.plot\u001B[0;34m(self, scalex, scaley, data, *args, **kwargs)\u001B[0m\n\u001B[1;32m   1536\u001B[0m \u001B[38;5;250m\u001B[39m\u001B[38;5;124;03m\"\"\"\u001B[39;00m\n\u001B[1;32m   1537\u001B[0m \u001B[38;5;124;03mPlot y versus x as lines and/or markers.\u001B[39;00m\n\u001B[1;32m   1538\u001B[0m \n\u001B[0;32m   (...)\u001B[0m\n\u001B[1;32m   1776\u001B[0m \u001B[38;5;124;03m(``'green'``) or hex strings (``'#008000'``).\u001B[39;00m\n\u001B[1;32m   1777\u001B[0m \u001B[38;5;124;03m\"\"\"\u001B[39;00m\n\u001B[1;32m   1778\u001B[0m kwargs \u001B[38;5;241m=\u001B[39m cbook\u001B[38;5;241m.\u001B[39mnormalize_kwargs(kwargs, mlines\u001B[38;5;241m.\u001B[39mLine2D)\n\u001B[0;32m-> 1779\u001B[0m lines \u001B[38;5;241m=\u001B[39m [\u001B[38;5;241m*\u001B[39m\u001B[38;5;28mself\u001B[39m\u001B[38;5;241m.\u001B[39m_get_lines(\u001B[38;5;28mself\u001B[39m, \u001B[38;5;241m*\u001B[39margs, data\u001B[38;5;241m=\u001B[39mdata, \u001B[38;5;241m*\u001B[39m\u001B[38;5;241m*\u001B[39mkwargs)]\n\u001B[1;32m   1780\u001B[0m \u001B[38;5;28;01mfor\u001B[39;00m line \u001B[38;5;129;01min\u001B[39;00m lines:\n\u001B[1;32m   1781\u001B[0m     \u001B[38;5;28mself\u001B[39m\u001B[38;5;241m.\u001B[39madd_line(line)\n",
      "File \u001B[0;32m~/.local/lib/python3.10/site-packages/matplotlib/axes/_base.py:296\u001B[0m, in \u001B[0;36m_process_plot_var_args.__call__\u001B[0;34m(self, axes, data, *args, **kwargs)\u001B[0m\n\u001B[1;32m    294\u001B[0m     this \u001B[38;5;241m+\u001B[39m\u001B[38;5;241m=\u001B[39m args[\u001B[38;5;241m0\u001B[39m],\n\u001B[1;32m    295\u001B[0m     args \u001B[38;5;241m=\u001B[39m args[\u001B[38;5;241m1\u001B[39m:]\n\u001B[0;32m--> 296\u001B[0m \u001B[38;5;28;01myield from\u001B[39;00m \u001B[38;5;28;43mself\u001B[39;49m\u001B[38;5;241;43m.\u001B[39;49m\u001B[43m_plot_args\u001B[49m\u001B[43m(\u001B[49m\n\u001B[1;32m    297\u001B[0m \u001B[43m    \u001B[49m\u001B[43maxes\u001B[49m\u001B[43m,\u001B[49m\u001B[43m \u001B[49m\u001B[43mthis\u001B[49m\u001B[43m,\u001B[49m\u001B[43m \u001B[49m\u001B[43mkwargs\u001B[49m\u001B[43m,\u001B[49m\u001B[43m \u001B[49m\u001B[43mambiguous_fmt_datakey\u001B[49m\u001B[38;5;241;43m=\u001B[39;49m\u001B[43mambiguous_fmt_datakey\u001B[49m\u001B[43m)\u001B[49m\n",
      "File \u001B[0;32m~/.local/lib/python3.10/site-packages/matplotlib/axes/_base.py:486\u001B[0m, in \u001B[0;36m_process_plot_var_args._plot_args\u001B[0;34m(self, axes, tup, kwargs, return_kwargs, ambiguous_fmt_datakey)\u001B[0m\n\u001B[1;32m    483\u001B[0m     axes\u001B[38;5;241m.\u001B[39myaxis\u001B[38;5;241m.\u001B[39mupdate_units(y)\n\u001B[1;32m    485\u001B[0m \u001B[38;5;28;01mif\u001B[39;00m x\u001B[38;5;241m.\u001B[39mshape[\u001B[38;5;241m0\u001B[39m] \u001B[38;5;241m!=\u001B[39m y\u001B[38;5;241m.\u001B[39mshape[\u001B[38;5;241m0\u001B[39m]:\n\u001B[0;32m--> 486\u001B[0m     \u001B[38;5;28;01mraise\u001B[39;00m \u001B[38;5;167;01mValueError\u001B[39;00m(\u001B[38;5;124mf\u001B[39m\u001B[38;5;124m\"\u001B[39m\u001B[38;5;124mx and y must have same first dimension, but \u001B[39m\u001B[38;5;124m\"\u001B[39m\n\u001B[1;32m    487\u001B[0m                      \u001B[38;5;124mf\u001B[39m\u001B[38;5;124m\"\u001B[39m\u001B[38;5;124mhave shapes \u001B[39m\u001B[38;5;132;01m{\u001B[39;00mx\u001B[38;5;241m.\u001B[39mshape\u001B[38;5;132;01m}\u001B[39;00m\u001B[38;5;124m and \u001B[39m\u001B[38;5;132;01m{\u001B[39;00my\u001B[38;5;241m.\u001B[39mshape\u001B[38;5;132;01m}\u001B[39;00m\u001B[38;5;124m\"\u001B[39m)\n\u001B[1;32m    488\u001B[0m \u001B[38;5;28;01mif\u001B[39;00m x\u001B[38;5;241m.\u001B[39mndim \u001B[38;5;241m>\u001B[39m \u001B[38;5;241m2\u001B[39m \u001B[38;5;129;01mor\u001B[39;00m y\u001B[38;5;241m.\u001B[39mndim \u001B[38;5;241m>\u001B[39m \u001B[38;5;241m2\u001B[39m:\n\u001B[1;32m    489\u001B[0m     \u001B[38;5;28;01mraise\u001B[39;00m \u001B[38;5;167;01mValueError\u001B[39;00m(\u001B[38;5;124mf\u001B[39m\u001B[38;5;124m\"\u001B[39m\u001B[38;5;124mx and y can be no greater than 2D, but have \u001B[39m\u001B[38;5;124m\"\u001B[39m\n\u001B[1;32m    490\u001B[0m                      \u001B[38;5;124mf\u001B[39m\u001B[38;5;124m\"\u001B[39m\u001B[38;5;124mshapes \u001B[39m\u001B[38;5;132;01m{\u001B[39;00mx\u001B[38;5;241m.\u001B[39mshape\u001B[38;5;132;01m}\u001B[39;00m\u001B[38;5;124m and \u001B[39m\u001B[38;5;132;01m{\u001B[39;00my\u001B[38;5;241m.\u001B[39mshape\u001B[38;5;132;01m}\u001B[39;00m\u001B[38;5;124m\"\u001B[39m)\n",
      "\u001B[0;31mValueError\u001B[0m: x and y must have same first dimension, but have shapes (100,) and (1,)"
     ]
    },
    {
     "data": {
      "text/plain": [
       "<Figure size 640x480 with 3 Axes>"
      ],
      "image/png": "[encoded data removed]"
     },
     "metadata": {},
     "output_type": "display_data"
    }
   ],
   "execution_count": 9
  },
  {
   "metadata": {},
   "cell_type": "markdown",
   "source": "",
   "id": "fd2e4c68024af7fa"
  },
  {
   "metadata": {},
   "cell_type": "markdown",
   "source": "",
   "id": "6cbf815ea6823965"
  },
  {
   "metadata": {},
   "cell_type": "markdown",
   "source": "",
   "id": "142bd5c4441ce250"
  },
  {
   "metadata": {},
   "cell_type": "markdown",
   "source": "",
   "id": "aed569ad296175c9"
  },
  {
   "metadata": {},
   "cell_type": "markdown",
   "source": "",
   "id": "201d166fc15925c7"
  },
  {
   "metadata": {},
   "cell_type": "markdown",
   "source": "",
   "id": "775503aa7410688c"
  },
  {
   "metadata": {},
   "cell_type": "markdown",
   "source": "",
   "id": "3ea1cae057a32d5c"
  },
  {
   "metadata": {},
   "cell_type": "markdown",
   "source": "",
   "id": "d1a2ec77703d8e61"
  },
  {
   "metadata": {},
   "cell_type": "markdown",
   "source": "",
   "id": "514836a225d55ef9"
  },
  {
   "metadata": {},
   "cell_type": "markdown",
   "source": "",
   "id": "43280892fa99c36d"
  }
 ],
 "metadata": {
  "kernelspec": {
   "display_name": "Python 3",
   "language": "python",
   "name": "python3"
  },
  "language_info": {
   "codemirror_mode": {
    "name": "ipython",
    "version": 2
   },
   "file_extension": ".py",
   "mimetype": "text/x-python",
   "name": "python",
   "nbconvert_exporter": "python",
   "pygments_lexer": "ipython2",
   "version": "2.7.6"
  }
 },
 "nbformat": 4,
 "nbformat_minor": 5
}
