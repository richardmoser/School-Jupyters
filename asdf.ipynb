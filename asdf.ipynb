{
 "cells": [
  {
   "metadata": {},
   "cell_type": "markdown",
   "source": "",
   "id": "8eb3c7b1943db261"
  },
  {
   "metadata": {},
   "cell_type": "markdown",
   "source": [
    "IP: patents\n",
    "Forms\n",
    "- TM\n",
    "- copyright\n",
    "- Trade secret\n",
    "- patent"
   ],
   "id": "a1a3df890ab9a7c2"
  },
  {
   "metadata": {},
   "cell_type": "markdown",
   "source": [
    "Date of Event\n",
    "Time of Event\n",
    "Name of Event\n",
    "Name of Presenter(s)\n",
    "Summary of event (150-500 words)\n",
    "What did you learn from the event (50-150 words)?\n",
    "What will you do different because of this event (75-250 words)?"
   ],
   "id": "85187587eb0a2846"
  },
  {
   "metadata": {},
   "cell_type": "markdown",
   "source": [
    "Date of Event: 2024-12-09\n",
    "Time of Event: 16:00\n",
    "Name of Event: Intellectural Property: Patents\n",
    "Name of Presenter(s):\n",
    "Summary of event (150-500 words):\n",
    "\n",
    "Intellectual property is a legal concept that refers to creations of the mind. This includes inventions, literary and artistic works, designs, symbols, names, and images used in commerce. Trade secrets include things such as the formula for different food items, solvents, etc. Copyrights protect the rights of authors of original works. Trademarks protect the rights of companies to use their logos, slogans, etc. Patents originated over 500 years ago in the legal system of Italy and were enacted in one of the first statutes passed by the US federal government. Things are considered patentable when they are useful process, devices, or improvements which may provide a competetive advantage and which are not previously known. This is subject to certain legal requirements.A patent is an exclusionary right granted by the government to the owner or inventor for a limited period of time. This right excludes others from making, using, selling, and importing the invention, generally for 20 years. After the expiration of a patent, the full rights to the invention are published in the public domain for anyone to use. In theory, this rewards ingenuity without unduly impeding overall societal progress and creating insurmountable monopolies. Continuations are sometimes granted. As negative rights, patents allow you to sue others for using your invention without your permission. Hence, patent rights are enforced through litigation, not a governmental enforcement mechanism. To obtain a patent, the invention must be novel, useful and non-obvious. The invention must be described adequately such that a qualified person could make and use the invention.\n",
    "Certain things cannot be patented. Naturally occuring plants, atomic weapons, scientific formulas, abstract ideas, natural laws, inventions for illegal purposes, or unuseful inventions are all excluded from eligibility. Provisional patents are granted as a placeholder to reserve the \"first date\" of the invention pending a non-provisional patent application's submission. This is useful in the event that you beat someone else to the punch but want to take your time to perfect the invention before submitting the full application. Provisional patents are not published and are not examined. These generally cost $300-500 to file and may require attorney fees to properly fill out the paperwork. A non-provisional application must be filed within 12 months to be granted the earlier filing date. Signees of the International Patent Cooperation Treaty (PCT) host offices in which they can file a single application that is recognized in all signee countries.\n",
    "non-provisional patents in the united states can be granted for utilities, plants, and designs. utilities cover the inventions and their use. Plants cover newly invented asexual strains of plants excluding wild uncultivated plants, and tubers. Design patents cover the visual appearance of an invention and expire after 15 years.\n",
    "Patent claims define the legal basis for patent protection. If infringement is alleged, the claims section of the patent is what is examined to determine the scope of the patent and the existence and/or extent of any infringement. The claims section gets written into some of the most obtuse legalese imaginable.\n",
    "Prior to 2012, only the inventor could file a patent. After 2012, the inventor, an assignee, an obligated assignee, or someone with \"sufficient proprietary interest\" may file a patent. The obligated assignee definition is the basis for employer's ability to patent and \"own\" employee inventions in certain cases.\n",
    "Generally, the workflow starts with a patent search, followed by a provisional patent application, followed by a non-provisional patent application. The provisional patent application is not examined and is not published. The non-provisional patent application is filed and examined. At 18 months from filing, the patent is published regardless the results of the examination. Examination may take 2-3 years and may not even have started by the time the patent is published. If granted after the examination, the patent is maintained by paying maintenance fees. If the invention was already patented, described in print, available for purchase or otherwise to the public a one year grace period is granted to file a patent, or else it is ineligible for patenting. This is based on full disclosure and not just mentions of general capabilities. Public disclosure can include publications in open journals or online, posters, presentations, or even personal communications without a confidentiality agreement. Clear attempts to maintain secrecy may be accepted as mitigating factors in the event of a dispute.\n",
    "Non provisional applications have a cost of between $500 and $900 and fees increase depending on the number of claims in the application. For example, the paperclip would cost about $5000 to patent. The average cost of a patent in the US was $56,000 in 2020. After the patent is granted, the patent holder must pay periodic maintenance fees to keep the patent in force. At 3.5 years, $2000 is due, at 7.5 years, $4000 is due, and at 11.5 years, $8000 is due. If the fees are not paid within 6 months of the due date, the patents are terminated. These fees are reduced for small and very small companies.\n",
    "\n",
    "What did you learn from the event (50-150 words)?\n",
    "- I hadn't heard of the PCT before. I had wondered how that sort of IP was handled internationally. I also didn't know about non-provisional patents but their use makes sense, particularly in cases where\n",
    "\n",
    "What will you do different because of this event (75-250 words)?\n",
    "- I don't anticipate producing something particularly original that I would want to keep to myself, but it is good to have a basic understanding of the process and considerations should the need arise. This will also help me to understand news stories and other information that may be relevant to my work or personal life.\n",
    "-"
   ],
   "id": "6eb67f6dc915f234"
  }
 ],
 "metadata": {
  "kernelspec": {
   "display_name": "Python 3",
   "language": "python",
   "name": "python3"
  },
  "language_info": {
   "codemirror_mode": {
    "name": "ipython",
    "version": 2
   },
   "file_extension": ".py",
   "mimetype": "text/x-python",
   "name": "python",
   "nbconvert_exporter": "python",
   "pygments_lexer": "ipython2",
   "version": "2.7.6"
  }
 },
 "nbformat": 4,
 "nbformat_minor": 5
}
