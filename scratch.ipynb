{
 "cells": [
  {
   "metadata": {},
   "cell_type": "code",
   "outputs": [],
   "execution_count": null,
   "source": "",
   "id": "c3a788368e91ddd6"
  },
  {
   "metadata": {},
   "cell_type": "markdown",
   "source": "",
   "id": "fa843047fe6a597b"
  }
 ],
 "metadata": {},
 "nbformat": 5,
 "nbformat_minor": 9
}
